{
 "cells": [
  {
   "cell_type": "markdown",
   "metadata": {},
   "source": [
    "## 0. Import all the libraries"
   ]
  },
  {
   "cell_type": "code",
   "execution_count": 13,
   "metadata": {},
   "outputs": [
    {
     "name": "stderr",
     "output_type": "stream",
     "text": [
      "[nltk_data] Downloading package stopwords to /home/leonid/nltk_data...\n",
      "[nltk_data]   Package stopwords is already up-to-date!\n",
      "[nltk_data] Downloading package wordnet to /home/leonid/nltk_data...\n",
      "[nltk_data]   Package wordnet is already up-to-date!\n",
      "[nltk_data] Downloading package omw-1.4 to /home/leonid/nltk_data...\n",
      "[nltk_data]   Package omw-1.4 is already up-to-date!\n"
     ]
    },
    {
     "data": {
      "text/plain": [
       "True"
      ]
     },
     "execution_count": 13,
     "metadata": {},
     "output_type": "execute_result"
    }
   ],
   "source": [
    "import numpy as np\n",
    "import numpy.linalg as la\n",
    "import nltk\n",
    "from nltk.corpus import stopwords\n",
    "from nltk.corpus import wordnet\n",
    "from nltk.stem import WordNetLemmatizer\n",
    "import string\n",
    "import tqdm\n",
    "import numba\n",
    "import matplotlib.pyplot as plt\n",
    "import scipy.spatial.distance as dist\n",
    "import spacy\n",
    "\n",
    "nltk.download('stopwords')\n",
    "nltk.download('wordnet')\n",
    "nltk.download('omw-1.4')"
   ]
  },
  {
   "cell_type": "markdown",
   "metadata": {},
   "source": [
    "## 1. Print all the sentences"
   ]
  },
  {
   "cell_type": "code",
   "execution_count": 4,
   "metadata": {},
   "outputs": [
    {
     "name": "stdout",
     "output_type": "stream",
     "text": [
      "['A person is on a baseball team.\\tA person is playing basketball on a team.', 'Our current vehicles will be in museums when everyone has their own aircraft.\\tThe car needs to some work', 'A woman supervisor is instructing the male workers.\\tA woman is working as a nurse.', 'A bike is next to a couple women.\\tA child next to a bike.', 'The group is eating while taking in a breathtaking view.\\tA group of people take a look at an unusual tree.', 'The boy is raising his hand.\\tThe man is raising his hand.', 'A man with a gray beard is being shaved in front of a lecture hall\\tA man with a beard is sitting in the grass.', 'The sky has very little to no clouds.\\tThis Lady might be ready for Rock Climbing, or just watching the Clouds, above.', 'The young boy jumps barefoot outside in the front yard.\\tThe teen rode his bike around the people walking in the courtyard.', 'There are dogs in the forest.\\tThe dogs are alone in the forest.', 'Some cyclists stop near a sign.\\tTwo men stop to talk near a sign outside.', 'These cooks in the white are busy in the kitchen making dinner for their customers.\\tThe women are preparing dinner in their kitchen.', 'A young person  deep in thought.\\tA young man deep in thought.', 'A man is carrying a canoe with a dog.\\tA dog is carrying a man in a canoe.', 'A man is performing labor.\\tA man is performing today.', 'Two men wearing traditional clothing is standing outside.\\tThree women wearing black vests and gray shirts are talking outside of a building.', 'a woman watches a rap group live\\tAn audience watches a girl dance.', 'A girl dancing on a sandy beach.\\tA girl is on a sandy beach.', 'a man wearing a gray hat fishing out of a fishing boat.\\tA man wearing a straw hat and fishing vest in a stream.', 'A little girl in an orange striped outfit is airborne whilst bouncing on a bed.\\tA dog in a red shirt is chasing a squirrel through the glass.', 'A person is watching people ski down the hill.\\tThe woman is jumping a long distance while people watch.', 'The yard has a dog.\\tThe dog is running after another dog.', 'The woman is drinking lemonade and watching T.V.\\tThe man is sitting drinking coffee.', 'Three women cook.\\tTwo women cooking.', 'The woman is kneeling next to a cat.\\tA girl is standing next to a man.', 'The young adult are cold\\tAsian children are playing with a dog.', 'Three guys playing a pro game of basketball.\\ttwo guys playing a game of baseball.', 'A sad man is jumping over a small stream to meet his companion on the other side.\\tA man is jumping over a stream to meet his companion on the other side.', 'The boys are earning their next belt in karate.\\tFive girls and one boy are in their swimsuits all in the middle of jumping into the pool.', 'A woman is digging in the sand.\\tA man is buried in the sand.', 'A woman drives a golf cart.\\tA man riding a cart.', 'A woman is bungee jumping.\\tA girl is bungee jumping.', 'A clown performs for brother and sister as the rest of the party watches.\\tA blond-haired child performing on the trumpet in front of a house while his younger brother watches.', 'A person filming the outdoors.\\tThere is a couple outdoors.', 'A human riding a skateboard.\\tA child is riding a skateboard.', 'A woman in a plaid outfit is looking through a bag of produce.\\tThis is the picture of a woman in a flowered dress, toting something in a bucket.', 'Four girls happily walk down a sidewalk.\\tThree young girls walk down a sidewalk.', 'The tennis player hit the ball into outer space and broke the death star.\\tA female tennis player is leaping into the air to hit the ball.', 'A boy climbs a forest hill.\\tA boy is climbing a hill.', 'a group of navy seals are singing\\tA group of military personnel are playing in a brass quintet.', 'Blond boy jumping onto deck.\\tA boy jumping down a wet inflatable slide.', 'A man uses a chainsaw to sculpt a phallic ice sculpture.\\tA man is using a chainsaw to carve a wooden sculpture.', 'A group of male construction workers repair railroad tracks on a cloudy day\\tA crew of workers working on a railroad track.', 'A man playing the violin in the rain.\\tA man playing the guitar in the rain.', 'The people are leaving the airplane.\\tThe people are entering the plane.', 'The dogs are chasing a cat.\\tThe dogs are chasing a black cat.', 'The girl has something on her head.\\tThe woman has something with her.', 'the tan dog is playing with the red dog out in the snow\\tA yellow dog is playing in the snow.', 'People making a structure out of cards.\\tTwo people are together and one is using a piece of clothing in a different way than intended.', 'a girl with vases in the background inside her house\\tThe girl is standing as the other girl with glasses works on her hand painting.', 'There are four people outside.\\tFive people are outside.', 'A person sitting in an office takes a picture.\\tA woman is sitting in an office.', 'Girls are holding hands in blue clothes\\tThe young people are wearing jeans with their red and green shirts.', 'People rock jumping into water while people fish in the background.\\tTwo people watching the water.', 'A man is demonstrating how to work with clay while at least two people observe.\\tAt least one of the three women is talking to the others.', 'A dog has a sweater on.\\tA man in a suit jacket is sitting on a red couch with a cat.', 'A blonde woman looks for medical supplies for work in a suitcase.\\tThe blond woman is searching for medical supplies in a suitcase.', 'A boy is at school taking a test.\\tThe boy is taking a test at school.', 'An old man wearing a hat stands outside a shop door.\\ta man in an oversized shirt sits at a shop', 'Sculptor applying concrete to large statue of human figure standing with no head.\\tA person is standing in front of a building holding aloft some plywood', 'A boy with dark hair is in water and is looking up.\\tThe man is short hair.', 'A pole is behind a person that is playing peekaboo with a child.\\tThere is a child with a ball', 'A woman is about to paint.\\tA boy is about to take a picture.', 'The carriage is drawn by a horse.\\tA man riding on a bicycle by side of building.', 'a man working at the steel mill\\tA man working in a foundry.', 'The young woman is flirting with the young boy.\\tThe girl is young and cheery.', 'A woman looks at a duck as she walks behind it.\\tA woman is going on a walk with her dog.', 'the men are about to score in a water polo tournament\\tThe two men are about to compete in a match.', 'Man sitting on a bench drink from a mug surrounded by rugs.\\tA man is sitting on one of two red benches and staring into a kiosk.', 'A man eats popcorn while watching cartoons late one night.\\tA man and a girl are watching cartoons at home', 'Three men sit on a bench.\\ttwo men sit on a bench.', 'The road is long.\\tThere is nothing on the side of the road.', 'A small blond boy slides head first down a blue playground slide toward another blond youth.\\tA young boy with his hair standing up, is sliding down a blue slide', 'The four women are practicing for a upcoming match.\\tThe women are in a play', 'a young man wearing a white t-shirt and green and black shorts standing on a stump.\\tA man wearing a white shirt and red and black shorts is running on the sidewalk.', 'man on steps\\tA man sits on steps.', 'A dog under the stairs\\tA dog is resting on the stairs.', 'There is a young girl.\\tThere is a young boy with the woman.', 'Two women give a demonstration at a Renaissance Fair.\\tTwo people are doing a demonstration at a renaissance fair.', 'A woman paints a picture of a large building which can be seen in the background.\\tA person paints a picture of a large building which can be seen in the background.', 'Some guy sitting on a couch watching television.\\tA guy is sitting on the couch watching TV', 'A woman is posing for a Christmas card.\\tA girl is taking a photo.', 'Two kids are playing a game of Foosball.\\tThe kids are playing a game with each other.', 'The man is in a deserted field.\\tThe man is outside in the field.', 'A little boy is drinking from a juice packet.\\tA boy is drinking from a juice packet.', 'A man has his skis ready for the field to get iced out\\tA man on a boat getting ready to pull in his net to see what he caught.', 'The biker is doing dangerous stunts.\\tA biker is doing stunts.', 'A musician is smearing jam on his white guitar at a concert.\\tTrombonist playing the her instrument in a band for a parade.', 'A man is working on his farm.\\tAn old guy is working on his farm and a cow kicks him.', 'A pair of young boys in t-shirts are hiding in the woods with one looking aghast.\\tTwo smiling little girls playing in a fountain with other people.', 'A group of people playing soccer on a soccer field in front of a crowd.\\tA group of men playing soccer in a stadium full of people.', 'A man is enjoying watching three asian children dance.\\tA man is watching three asian kids dance.', 'A girl is talking to her dad on a cellphone.\\ta girl is talking on her phone.', 'One person wields an umbrella.\\tOne person is holding an umbrella.', 'A woman walking down the side of a highway.\\tA man is standing on one feet on a bridge.', 'A group of teenagers jumping and having a good time.\\tA group of kids having a good time.', 'A man calling for a taxi at the airport on a sunny day.\\tA man is outside on a July day.', \"A man is playing his guitar at Joe's Cafe.\\tThe man is playing the drums for his mom.\", 'A young boy has a red fishing pole.\\tA young boy stands over a bridge with a fishing pole.', 'A player bounces a ball.\\tA player catching a ball.', 'Someone is on a blanket.\\tThe person is making a blanket.', 'Men competing in a contest.\\tTwo women compete in a contest.', 'The puppy is outdoor.\\tA man in printed board shorts is doing a yoga pose on the beach.', 'The man has a orange shirt.\\tThe woman has a orange shirt.', 'The two kids look at the products sold inside the subway shop.\\tThe kids are stealing from a store.', 'The baby boy wants his mother.\\tA baby boy is happy to see his mother.', 'A young girl in a pink jacket is playing a board game.\\tA boy in a jacket playing.', 'A smiling Caucasian male wearing a blue and black striped shirt it about to take a photograph.\\tA man in a white shirt and black pants is smiling.', 'A person is scaling a rock wall.\\tA person and a horse are above a fence.', 'A boy is very close to a girl.\\tA girl is close to a boy whose face is not shown.', 'Two men are playing a game of Scrabble together.\\tThe two women are playing a game.', 'Six children are cleaning a room.\\tTwo male children cleaning up leaves in a parking lot.', 'The girl is very skilled and practices a lot.\\tThe man is very skilled.', 'Many guards are standing in front of the starting line of a race.\\tTwo men in business dress are standing by the side of a road.', 'There is a cook preparing food.\\tA cook is making food.', 'Two men are helping a boy.\\tTwo men are with a young child.', 'A man at a farmers market.\\tA man is at a farmers market.', 'four people walk toward a tower\\tTwo men walk toward a dome-shaped building.', 'A little girl and boy are reading books.\\tAn older child is playing with a doll while gazing out the window.', 'The child would like to swim.\\tThe children want to swim.', 'Two skiing people are doing cross country skiing.\\tPeople skiing cross country.', 'A dog taking a poop in the street.\\tA man making balloon animals for two children on a street corner.', 'Men are fighting after a basketball game.\\tThe men are playing a game of basketball.', 'A kid is talking in class.\\tA girl is going to class.', 'The women are trying to sell something to the individual.\\tThe men are trying to make some money.', 'People are waiting for the fireworks to start.\\tThree people are waiting for the rain to stop.', 'A dog prepares to herd three sheep with horns.\\tA dog and sheep run together.', 'People are sitting around dimly lit tables while smiling and laughing.\\tPeople are sitting on benches.', 'A dog is chasing cows.\\tA white dog is chasing cows.', 'One football player tries to tackle a player on the opposing team.\\tA football player attempts a tackle.', 'Three men are drying to pull a Subaru out of a ditch along a mountain road.\\tTwo men are waiting for a ride on the side of a dirt road.', \"A woman doesn't have her arms up because she's paralyzed from the neck down\\tA woman is sitting on the steps because she tripped and hurt her ankle.\", 'People gathered in a room.\\tPeople gathered together in a room.', 'The woman in overalls paints a picture for her wall.\\tA woman is painting her wall white.', 'Adding aspirin to the water could kill the plant.\\tMen are trying to remove oil from a body of water.', 'Five kids are standing in front of a tent.\\tPeople are out sitting in front of a garden.', 'Female in a maroon shirt engaged in conversation with another female in a tan blazer.\\tA girl in a blue dress and another girl in a purple dress, both smiling.', 'Baseball players playing a game at the park.\\tA basketball player, playing in the home coming game.', 'They are preparing for a performance at school.\\tTwo medical professionals in green look on at something.', 'The woman is wearing yellow.\\tThe woman is wearing red.', 'Some smiling children are standing in front of an ocean sunset.\\tPeople walking in the dark.', 'A man is doing a stunt on his bicycle.\\tA man is doing a wheelie on his motorcycle.', 'Ten people riding ATVs.\\t4 people are riding bikes', 'Two fishermen try to untangle their large fishing net on the side of the road on a cloudy day.\\tSeveral men pull a fishing net up on to the beach.', 'A yellow vested person is doing road work.\\tA person is doing very well on their skateboard.', 'The woman had brown hair.\\tThe woman has gray hair.', 'Black and white image of a wave crashing in the ocean.\\ta small black dog in the ocean with some rocks in the background', 'A lady and her daughter look through a microscope.\\tA girl and a lady both looking through a microscope.', 'Two workers are sitting next to pipes eating lunch\\tThe construction workers are sitting down to eat lunch.', 'A boy does a skateboard trick on the stairs downtown.\\ta boy is running on the sidewalk', 'A group of people living in the desert\\tA group of people in the middle of the desert.', 'Two kids are swimming.\\tSix kids are going swimming.', 'Three humans are walking a dog.\\tThree people are walking a dog.', 'There are people out on the street.\\tPeople are out on the street.', 'people getting their dirty clothes cleaned\\tPeople are getting their clothes cleaned.', 'Two women are lost and calling for help.\\tTwo Asian men are gathering materials for their business and their child had to come with them.', 'A man is throwing a penny into a fountain.\\tA little boy is throwing a man in water.', 'The children are holding musical instruments.\\tA group of children are singing and playing instruments', 'Two girls are playing Doctor inside their house.\\tThe two girls are walking with their father.', 'A crowd of men wearing paper numbers on their shirts run in a race.\\tSeveral men running down a grass field wearing numbers on the front of their shirts.', 'A group of people are wearing police uniforms conducting an arrest.\\tA group of police officers are wearing protection.', 'The fruits should be eaten with lemon juice in order to prevent oxidation in your stomach.\\tthree dogs growling On one another', 'A doctor prescribes medicine to a patient.\\tA doctor prescribes a medicine.', 'A woman is in the bathroom.\\tThe woman is in a bathroom.', 'Spectators taking pictures of a rally car.\\tA crowd of people watching cars race down the track.', 'The man and woman are resting on a couch.\\tA man and woman are asleep on the couch.', 'the man is planning to shoot a wedding\\tthe woman is going to a wedding.', 'The boy in the green jersey plays goalie on the soccer team.\\tThe team in blue is playing a game against the team in white', \"The child's bike got wet.\\tShe is putting away the bike.\", 'A soldier walks a dog.\\tA man walks a dog.', 'A shirtless woman is operating a lawn mower.\\tA girl is mowing the grass with a lawn mower.', 'People are near water\\tPeople are near water.', 'The two officers are driving\\tTwo officers are on horses.', 'Friends walk into a building\\ta man walks along walkway to the store', 'The lady looks sad because no one is buying her wares.\\tThe lady is selling things.', 'The rollerblades are moving.\\tTwo vehicles are going towards the camera.', 'There is a older man near a window.\\tA boy is near some stairs.', 'A guy and a girl are rock climbing with backpacks on.\\tTwo boys are riding on a toy with a blonde girl running long side of them.', 'In Abu Dhabi the Golden Market is one of the premier public outdoor shopping areas.\\tA busy city square in an asian country.', 'A pregnant woman is in labor\\ta woman has a child.', 'A flock of birds hovered over the sandy beach.\\tBirds are flying at a beach.', 'people walk home\\tPeople waiting.', 'The religious people are enjoying the outdoors.\\tThe group of people are enjoying the outdoors.', 'A girl in water without goggles or a swimming cap.\\tA girl in water, with goggles and swimming cap.', 'A man is performing a stunt outdoors.\\tA young man on a beach is performing skateboard stunts.', 'A man is laughing with a woman\\tA man and a woman laughing.', 'He is about to run into the boat\\tThe man is getting his boat clean to take it out on the water.', '2 Cows are in a field.\\tTwo sheep are in a field.', 'A wet child enjoys the summer.\\tA woman is enjoying the summer weather.', 'There was girl stranded on the roof.\\tThe couple was on the bed.', 'There are four snowboarders going off a jump and that are in the air.\\tTwo racers are coming to a turn.', \"The girl has a driver's license\\tA man has a driver's license.\", 'People on motorcycles wearing racing gear ride around a racetrack\\tPeople on motorcycles ride around a racetrack', 'A man is standing on the ground with a paintbrush\\tA man with a crutch lying on the ground.', 'The kids are at the theater watching a movie.\\tit is picture day for the boys', 'Two women walk down the sidewalk to the store.\\tTwo women walk down the sidewalk in the afternoon.', 'A man has his son on his back\\tA man spent his time with his son.', 'A group of dark-skinned people are walking past barbed wire.\\tTwo women are gossiping by a fence.', 'Zombies parading around eating brains.\\tThe zombies are eating flesh together.', 'A group of people are sitting at at a beach on towels watching the Blue Angels.\\tA group of people are sitting at a beach watching the Blue Angels.', 'A basketball player makes the 5th rebound of the night,\\tA tennis player in the middle of a game.', 'Three people are meeting for coffee.\\tTwo people make coffee.', \"A young girl with dirt on her face and a red child's bike is in the background.\\tThe old woman in shorts and a white t-shirt is standing on a path watching children play.\", 'A helicopter is getting ready to take off.\\tThe plane is getting ready to take off.', 'A line of scooters are parking in the middle of a street.\\tA line of motor bikes are parked in the middle of a street.', 'A man holding a cat.\\tA man holding a dog.', 'A man doing a jumping bike trick surrounded by trees.\\tA boy riding a green trick bike over some steps outdoors.', 'Three guys in speedos have their feet up on the railing of a boat getting a tan.\\tA few men on the deck are dropping another man into the water', 'A group wading across a witch\\tA group wading across a ditch', 'A woman jumps and poses for the camera.\\tA woman poses for the camera.', 'A man is on a rooftop\\tA man is holding a microphone in a room.', 'There are two men near a wall.\\tThree women are sitting near a wall.', 'The cats are running through the grass.\\tSome dogs running through the park.', 'The two boys are playing kick ball back and forth to each other.\\tThe players are kicking each other while attempting to kick the ball.', 'Two girls are running.\\tThree boys are running.', 'The two men are wearing jeans.\\tThe two men are wearing pants.', 'A little girl in a white blouse and blue pants frolics on the grass.\\tA woman in a green shirt and white pants golfs on the green.', 'The man without a shirt is jumping.\\tThe man jumping is not wearing a shirt.', 'The woman is holding the hands of the man.\\tThe woman is checking the eyes of the man.', 'A man walks his dog on the beach.\\tA man with his dog on the beach.', \"The child is the woman's kid.\\tThere is a boy and a girl.\", 'A soccer player is kicking the ball.\\tThe soccer player gave the ball a high kick.', 'Two boys in black swimming trunks are holding another boy by his arms and legs on a beach.\\tMan in white shirt flipping young boy in the water with four other boys surrounding them.', 'The player shoots the winning points.\\tThe basketball player is about to score points for his team.', 'A man in a white shirt and hat playing a guitar.\\tA man in a green shirt and black hat playing a guitar on stage.', 'A black hooded man is using a large magnifying glass to look at a booklet.\\tA white hooded woman is using a magnifying glass to look at a booklet.', 'the people are running a marathon\\tPeople are running a marathon', 'A motorcross driver going by during a race\\tA race car driver performs in the race of his life.', 'A group of people are nervous about crossing the water.\\tA group of people are on the water.', 'A group of kids are having a jumping contest.\\tA group of kids are having a sleepover.', 'The gate is blue.\\tThe gate is yellow.', 'The person is wearing a fedora.\\tA man is wearing a uniform.', 'A woman and a man embrace while watching a horror movie.\\tA man and a woman watch a movie together.', 'A man in a blue dress shirt.\\tA man in a white shirt and blue pants is talking with a woman in a pink shirt.', 'A couple is playing the game of Life.\\tThe family is playing a game together.', 'The head of a child with dark glasses is in focus.\\tThere is a woman with a full head of hair.', 'A dog walks along a beach with breaking waves.\\tA boy with an oar walks out of the surf and onto a beach.', 'A pair of men walk along the beach.\\tTwo men standing in the surf on a beach.', 'Blond woman in a tunnel.\\tThe couple kissing is near a blond woman.', 'A maintenance guy is repairing a net on a tennis court.\\tA man removing a tennis net.', 'A kid sits on a soccer ball outside.\\tA kid sitting on a soccer ball at the park.', 'The raven droned as is hopped along the grass.\\tThe skinny dog with the long tail is traveling through the field.', 'A man in a brown coat rubs his nose.\\tA bald man with a red beard holds his hand near his mouth.', 'The dog is chasing the geese.\\tOne dog is chasing the other.', 'Small child playing with letter P\\t2 young girls are sitting in front of a bookcase and 1 is reading a book.', 'A brown dog is jumping.\\tA brown dog is jumping', 'the man is catching a ball\\tA man is kicking a ball.', 'Two men are sitting in the room.\\tTwo men are standing in a room.', 'A group of teenagers in red shirts are smiling.\\tA group of people are wearing orange shirts.', 'The woman is waiting for her date.\\tThe woman is on her way to a date.']\n"
     ]
    }
   ],
   "source": [
    "with open('input.txt') as f:\n",
    "    lines = [line.strip() for line in f]\n",
    "\n",
    "print(lines[:10])"
   ]
  },
  {
   "cell_type": "markdown",
   "metadata": {},
   "source": [
    "## 2. Preprocessing : remove punctuation, stopwords and lemmatize"
   ]
  },
  {
   "cell_type": "code",
   "execution_count": 5,
   "metadata": {},
   "outputs": [],
   "source": [
    "stopwords_en = stopwords.words('english')\n",
    "translation_table = str.maketrans('', '', string.punctuation)\n",
    "lemmatizer = WordNetLemmatizer()\n",
    "\n",
    "words = dict()\n",
    "sentences = list()\n",
    "\n",
    "for line in lines:\n",
    "    s1, s2 = line.split('\\t')\n",
    "\n",
    "    v1 = []\n",
    "    v2 = []\n",
    "\n",
    "    for s, v in [(s1, v1), (s2, v2)]:\n",
    "        for w in s.split():\n",
    "            w = w.lower().translate(translation_table)\n",
    "            if w in stopwords_en:\n",
    "                continue\n",
    "            w = lemmatizer.lemmatize(w)\n",
    "            words.setdefault(w, len(words))\n",
    "            v.append(words[w])\n",
    "\n",
    "    sentences.append((v1, v2))"
   ]
  },
  {
   "cell_type": "markdown",
   "metadata": {},
   "source": [
    "## 3. Make synonyms graph"
   ]
  },
  {
   "cell_type": "code",
   "execution_count": 6,
   "metadata": {},
   "outputs": [],
   "source": [
    "synonym_graph = np.zeros((len(words), len(words)))\n",
    "\n",
    "def set_of_synonyms(word):\n",
    "    synonyms = []\n",
    "    for syn in wordnet.synsets(word):\n",
    "        for l in syn.lemmas():\n",
    "            syn_word = l.name()\n",
    "            if syn_word in stopwords_en:\n",
    "                continue\n",
    "            syn_word = lemmatizer.lemmatize(syn_word)\n",
    "            synonyms.append(syn_word)\n",
    "    return set(synonyms)\n",
    "\n",
    "for word, idx in words.items():\n",
    "    for syn in set_of_synonyms(word):\n",
    "        if syn not in words:\n",
    "            continue\n",
    "        syn_idx = words[syn]\n",
    "        synonym_graph[idx][syn_idx] = 1\n",
    "        synonym_graph[syn_idx][idx] = 1"
   ]
  },
  {
   "cell_type": "markdown",
   "metadata": {},
   "source": []
  },
  {
   "cell_type": "code",
   "execution_count": 7,
   "metadata": {},
   "outputs": [
    {
     "name": "stdout",
     "output_type": "stream",
     "text": [
      "{'someone', 'mortal', 'individual', 'person', 'soul', 'somebody'}\n",
      "3.0\n"
     ]
    }
   ],
   "source": [
    "print(set_of_synonyms(list(words.keys())[0]))\n",
    "print(sum(synonym_graph[0]))\n"
   ]
  },
  {
   "cell_type": "markdown",
   "metadata": {},
   "source": [
    "## 4. Make sliding window graph"
   ]
  },
  {
   "cell_type": "code",
   "execution_count": 8,
   "metadata": {},
   "outputs": [],
   "source": [
    "window_size = 3\n",
    "\n",
    "window_graph = np.zeros((len(words), len(words)))\n",
    "\n",
    "for ss in sentences:\n",
    "    for s in ss:\n",
    "        window = []\n",
    "        for i in range(len(s)):\n",
    "            window = window[-(window_size - 1):]\n",
    "            v1 = s[i]\n",
    "            for v2 in window:\n",
    "                window_graph[v1][v2] += 1\n",
    "                window_graph[v2][v1] += 1\n",
    "            window.append(v1)"
   ]
  },
  {
   "cell_type": "markdown",
   "metadata": {},
   "source": [
    "## 5. Combine synonym and window graphs\n",
    "Complete distance matrix with shortest path lengths"
   ]
  },
  {
   "cell_type": "code",
   "execution_count": 9,
   "metadata": {},
   "outputs": [
    {
     "name": "stderr",
     "output_type": "stream",
     "text": [
      "<ipython-input-9-b55119c89884>:1: RuntimeWarning: divide by zero encountered in true_divide\n",
      "  distances = 1 / (synonym_graph + window_graph)\n",
      "100%|██████████| 762/762 [00:00<00:00, 1429.08it/s]\n"
     ]
    }
   ],
   "source": [
    "distances = 1 / (synonym_graph + window_graph)\n",
    "np.fill_diagonal(distances, 0)\n",
    "\n",
    "def shortest(dist):\n",
    "    N = dist.shape[0]\n",
    "    \n",
    "    @numba.jit\n",
    "    def helper(dist, N, k):\n",
    "        for i in range(N):\n",
    "            for j in range(N):\n",
    "                dist[i][j] = min(dist[i][j], dist[i][k] + dist[k][j])\n",
    "\n",
    "    for k in tqdm.trange(N):\n",
    "        helper(dist, N, k)\n",
    "\n",
    "shortest(distances)"
   ]
  },
  {
   "cell_type": "markdown",
   "metadata": {},
   "source": [
    "## 6. MDS"
   ]
  },
  {
   "cell_type": "code",
   "execution_count": 10,
   "metadata": {},
   "outputs": [],
   "source": [
    "@numba.jit\n",
    "def mds(matD, k):\n",
    "    N = matD.shape[0]\n",
    "    matJ = np.eye(N) - np.ones((N, N)) / N\n",
    "    matG = -0.5 * matJ @ (matD ** 2) @ matJ\n",
    "    vecL, matP = la.eigh(matG)\n",
    "    vecL[vecL < 0] = 0\n",
    "    return matP[:,-k:], vecL[-k:]\n",
    "\n",
    "def embed_graph(distances, k):\n",
    "    p, l = mds(distances, k)\n",
    "    result = p @ np.diag(np.sqrt(l))\n",
    "    result -= np.mean(result, axis=0)\n",
    "    return result"
   ]
  },
  {
   "cell_type": "markdown",
   "metadata": {},
   "source": [
    "Порядок слов."
   ]
  },
  {
   "cell_type": "markdown",
   "metadata": {},
   "source": []
  },
  {
   "cell_type": "code",
   "execution_count": 11,
   "metadata": {},
   "outputs": [
    {
     "data": {
      "image/png": "[encoded data removed]",
      "text/plain": [
       "<Figure size 864x576 with 1 Axes>"
      ]
     },
     "metadata": {
      "needs_background": "light"
     },
     "output_type": "display_data"
    }
   ],
   "source": [
    "word_to_vec = embed_graph(distances, 10)\n",
    "\n",
    "plt.figure(figsize=(12,8))\n",
    "plt.scatter(*embed_graph(distances, 2).transpose())\n",
    "plt.show()"
   ]
  },
  {
   "cell_type": "code",
   "execution_count": 16,
   "metadata": {},
   "outputs": [
    {
     "name": "stdout",
     "output_type": "stream",
     "text": [
      "[0, 1, 2]\n"
     ]
    },
    {
     "ename": "TypeError",
     "evalue": "sequence item 0: expected str instance, int found",
     "output_type": "error",
     "traceback": [
      "\u001b[0;31m---------------------------------------------------------------------------\u001b[0m",
      "\u001b[0;31mTypeError\u001b[0m                                 Traceback (most recent call last)",
      "\u001b[0;32m<ipython-input-16-47a2170f703f>\u001b[0m in \u001b[0;36m<module>\u001b[0;34m\u001b[0m\n\u001b[1;32m      6\u001b[0m     \u001b[0mv2\u001b[0m \u001b[0;34m=\u001b[0m \u001b[0mnp\u001b[0m\u001b[0;34m.\u001b[0m\u001b[0mmean\u001b[0m\u001b[0;34m(\u001b[0m\u001b[0mword_to_vec\u001b[0m\u001b[0;34m[\u001b[0m\u001b[0ms2\u001b[0m\u001b[0;34m,\u001b[0m\u001b[0;34m:\u001b[0m\u001b[0;34m]\u001b[0m\u001b[0;34m,\u001b[0m \u001b[0maxis\u001b[0m\u001b[0;34m=\u001b[0m\u001b[0;36m0\u001b[0m\u001b[0;34m)\u001b[0m\u001b[0;34m\u001b[0m\u001b[0;34m\u001b[0m\u001b[0m\n\u001b[1;32m      7\u001b[0m     \u001b[0md\u001b[0m \u001b[0;34m=\u001b[0m \u001b[0mdist\u001b[0m\u001b[0;34m.\u001b[0m\u001b[0mcosine\u001b[0m\u001b[0;34m(\u001b[0m\u001b[0mv1\u001b[0m\u001b[0;34m,\u001b[0m \u001b[0mv2\u001b[0m\u001b[0;34m)\u001b[0m\u001b[0;34m\u001b[0m\u001b[0;34m\u001b[0m\u001b[0m\n\u001b[0;32m----> 8\u001b[0;31m     \u001b[0msent1\u001b[0m \u001b[0;34m=\u001b[0m \u001b[0mnlp\u001b[0m\u001b[0;34m(\u001b[0m\u001b[0;34m' '\u001b[0m\u001b[0;34m.\u001b[0m\u001b[0mjoin\u001b[0m\u001b[0;34m(\u001b[0m\u001b[0;34m[\u001b[0m\u001b[0mword\u001b[0m \u001b[0;32mfor\u001b[0m \u001b[0mword\u001b[0m \u001b[0;32min\u001b[0m \u001b[0ms1\u001b[0m \u001b[0;32mif\u001b[0m \u001b[0mword\u001b[0m \u001b[0;32mnot\u001b[0m \u001b[0;32min\u001b[0m \u001b[0mstopwords_en\u001b[0m\u001b[0;34m]\u001b[0m\u001b[0;34m)\u001b[0m\u001b[0;34m)\u001b[0m\u001b[0;34m\u001b[0m\u001b[0;34m\u001b[0m\u001b[0m\n\u001b[0m\u001b[1;32m      9\u001b[0m     \u001b[0msent2\u001b[0m \u001b[0;34m=\u001b[0m \u001b[0mnlp\u001b[0m\u001b[0;34m(\u001b[0m\u001b[0;34m' '\u001b[0m\u001b[0;34m.\u001b[0m\u001b[0mjoin\u001b[0m\u001b[0;34m(\u001b[0m\u001b[0;34m[\u001b[0m\u001b[0mword\u001b[0m \u001b[0;32mfor\u001b[0m \u001b[0mword\u001b[0m \u001b[0;32min\u001b[0m \u001b[0ms1\u001b[0m \u001b[0;32mif\u001b[0m \u001b[0mword\u001b[0m \u001b[0;32mnot\u001b[0m \u001b[0;32min\u001b[0m \u001b[0mstopwords_en\u001b[0m\u001b[0;34m]\u001b[0m\u001b[0;34m)\u001b[0m\u001b[0;34m)\u001b[0m\u001b[0;34m\u001b[0m\u001b[0;34m\u001b[0m\u001b[0m\n\u001b[1;32m     10\u001b[0m     \u001b[0msimilarity\u001b[0m \u001b[0;34m=\u001b[0m \u001b[0msent1\u001b[0m\u001b[0;34m.\u001b[0m\u001b[0msimilarity\u001b[0m\u001b[0;34m(\u001b[0m\u001b[0msent2\u001b[0m\u001b[0;34m)\u001b[0m\u001b[0;34m\u001b[0m\u001b[0;34m\u001b[0m\u001b[0m\n",
      "\u001b[0;31mTypeError\u001b[0m: sequence item 0: expected str instance, int found"
     ]
    }
   ],
   "source": [
    "nlp = spacy.load('en_core_web_lg')\n",
    "\n",
    "for i, (s1, s2) in enumerate(sentences):\n",
    "    v1 = np.mean(word_to_vec[s1,:], axis=0)\n",
    "    v2 = np.mean(word_to_vec[s2,:], axis=0)\n",
    "    d = dist.cosine(v1, v2)\n",
    "    sent1 = nlp(' '.join([word for word in s1 if word not in stopwords_en]))\n",
    "    sent2 = nlp(' '.join([word for word in s1 if word not in stopwords_en]))\n",
    "    similarity = sent1.similarity(sent2)\n",
    "    print(i, \"{:1.8f} {:1.8f}\".format(d, similarity), lines[i], sep='\\t')\n",
    "    if i > 30:\n",
    "        break"
   ]
  },
  {
   "cell_type": "code",
   "execution_count": null,
   "metadata": {},
   "outputs": [],
   "source": []
  }
 ],
 "metadata": {
  "interpreter": {
   "hash": "f07a3c1acea75c2d4c353e9cd3dd42ec72fb863baf9770b89be62cf6c327390c"
  },
  "kernelspec": {
   "display_name": "Python 3.8.5 ('base')",
   "language": "python",
   "name": "python3"
  },
  "language_info": {
   "codemirror_mode": {
    "name": "ipython",
    "version": 3
   },
   "file_extension": ".py",
   "mimetype": "text/x-python",
   "name": "python",
   "nbconvert_exporter": "python",
   "pygments_lexer": "ipython3",
   "version": "3.8.5"
  },
  "orig_nbformat": 4
 },
 "nbformat": 4,
 "nbformat_minor": 2
}
