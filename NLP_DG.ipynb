{
 "cells": [
  {
   "cell_type": "markdown",
   "metadata": {},
   "source": [
    "<center><h1>INF580</h1></center>\n",
    "<h3 align = 'center'>Sentence similarity using graph-of-words representation embeddings</h3>\n",
    "<center><h5>Kniazev Leonid - Sattarov Tagir</h5></center>\n",
    "\n",
    "**Project idea 2**: Create a graph-of-words from a sentence, enrich it with semantic distances, then use the DG methods in these lectures to embed the graph in a low-dimensional space; then evaluate sentence similarity using vector angles."
   ]
  },
  {
   "cell_type": "markdown",
   "metadata": {},
   "source": [
    "## 0. Import all the libraries"
   ]
  },
  {
   "cell_type": "code",
   "execution_count": 2,
   "metadata": {},
   "outputs": [
    {
     "name": "stderr",
     "output_type": "stream",
     "text": [
      "[nltk_data] Downloading package stopwords to\n",
      "[nltk_data]     C:\\Users\\satt-\\AppData\\Roaming\\nltk_data...\n",
      "[nltk_data]   Package stopwords is already up-to-date!\n",
      "[nltk_data] Downloading package wordnet to\n",
      "[nltk_data]     C:\\Users\\satt-\\AppData\\Roaming\\nltk_data...\n",
      "[nltk_data]   Package wordnet is already up-to-date!\n",
      "[nltk_data] Downloading package omw-1.4 to\n",
      "[nltk_data]     C:\\Users\\satt-\\AppData\\Roaming\\nltk_data...\n",
      "[nltk_data]   Package omw-1.4 is already up-to-date!\n"
     ]
    },
    {
     "data": {
      "text/plain": [
       "True"
      ]
     },
     "execution_count": 2,
     "metadata": {},
     "output_type": "execute_result"
    }
   ],
   "source": [
    "import sys\n",
    "import string\n",
    "\n",
    "import numpy as np\n",
    "import numpy.linalg as la\n",
    "import tqdm\n",
    "import numba\n",
    "from matplotlib import pyplot as plt\n",
    "from mpl_toolkits.mplot3d import Axes3D\n",
    "import scipy.spatial.distance as dist\n",
    "from sklearn.metrics.pairwise import cosine_similarity\n",
    "\n",
    "import nltk\n",
    "from nltk.corpus import stopwords\n",
    "from nltk.corpus import wordnet\n",
    "from nltk.stem import WordNetLemmatizer\n",
    "import spacy\n",
    "\n",
    "from amplpy import AMPL\n",
    "import cvxpy as cp\n",
    "import dgp_sdp\n",
    "\n",
    "nltk.download('stopwords')\n",
    "nltk.download('wordnet')\n",
    "nltk.download('omw-1.4')"
   ]
  },
  {
   "cell_type": "markdown",
   "metadata": {},
   "source": [
    "## 1. DATA PREPARATION"
   ]
  },
  {
   "cell_type": "markdown",
   "metadata": {},
   "source": [
    "### 1.1 Datasets loading\n",
    "\n",
    "In order to create a graph-of-words from text corpus, we will use two datasets.\n",
    "\n",
    "The first is the pairs of english sentences and their similarities annotated by humans from SemEval-2017 contest (test set).\n",
    "\n",
    "USE_TRAIN is used to enrich our graph with some adiitional data. We chose 1M words dataset of movies subtitles as additionnal data from \"https://www.corpusdata.org/\" for our graph of words (train set). It has a lot of different styles of coversations and has ~20 times more lemmas than the test set from SemEval-2017. \n",
    "\n",
    "Below you can find the 5 first pairs of sentences. As we can see they are not long and we can suppose that in this case graphs will not give us a lot of information about sentences.\n",
    "\n",
    "At the same time, word-to-vec representation for a sentence will be meaningful and will keep information about most significant parts of sentences.\n",
    "\n"
   ]
  },
  {
   "cell_type": "code",
   "execution_count": 3,
   "metadata": {},
   "outputs": [
    {
     "name": "stdout",
     "output_type": "stream",
     "text": [
      "250\n",
      "['A person is on a baseball team.\\tA person is playing basketball on a team.', 'Our current vehicles will be in museums when everyone has their own aircraft.\\tThe car needs to some work', 'A woman supervisor is instructing the male workers.\\tA woman is working as a nurse.', 'A bike is next to a couple women.\\tA child next to a bike.', 'The group is eating while taking in a breathtaking view.\\tA group of people take a look at an unusual tree.']\n"
     ]
    }
   ],
   "source": [
    "USE_TRAIN = True\n",
    "DAT_FILE = 'dist_graph.dat'\n",
    "with open('input.txt') as f:\n",
    "    lines_test = [line.strip() for line in f]\n",
    "with open('movies_text.txt') as f:\n",
    "    lines_train = [line.strip() for line in f]\n",
    "\n",
    "print(len(lines_test))\n",
    "print(lines_test[:5])"
   ]
  },
  {
   "cell_type": "markdown",
   "metadata": {},
   "source": [
    "### 1.2 Preprocessing : remove punctuation, stopwords and lemmatize\n",
    "We will work with sentences without punctuation marks. We also remove stopwords and lemmatize all the words.\n",
    "\n",
    "Below we explain important variables that we used in our project:\n",
    "\n",
    "\"words\" is a dictionary with all the lemmas that we have in our test and train sets. word[\"cat\"] := index of \"cat\".\n",
    "\n",
    "\"test_words\" is the same thing with lemmas only from the test set.\n",
    "\n",
    "\"sentences_test\" is already cleaned test set with sentences represented as pairs of lists of word indexes.\n",
    "\n",
    "\"sentences_train\" the same thing for the train set.\n",
    "\n",
    "We use the information from the train dataset and we evaluate it on the test dataset."
   ]
  },
  {
   "cell_type": "code",
   "execution_count": 4,
   "metadata": {},
   "outputs": [],
   "source": [
    "stopwords_en = stopwords.words('english')\n",
    "translation_table = str.maketrans('', '', string.punctuation)\n",
    "lemmatizer = WordNetLemmatizer()\n",
    "lemmas = set(wordnet.all_lemma_names())\n",
    "\n",
    "words = dict()\n",
    "test_words = dict()\n",
    "sentences_test = list()\n",
    "\n",
    "for line in lines_test:\n",
    "    s1, s2 = line.split('\\t')\n",
    "\n",
    "    v1 = []\n",
    "    v2 = []\n",
    "\n",
    "    for s, v in [(s1, v1), (s2, v2)]:\n",
    "        for w in s.split():\n",
    "            w = w.lower().translate(translation_table)\n",
    "            if w in stopwords_en:\n",
    "                continue\n",
    "            w = lemmatizer.lemmatize(w)\n",
    "            if w not in lemmas:\n",
    "                continue\n",
    "            words.setdefault(w, len(words))\n",
    "            test_words.setdefault(w, len(test_words))\n",
    "            v.append(words[w])\n",
    "\n",
    "    sentences_test.append((v1, v2))\n",
    "\n",
    "sentences_train = list()\n",
    "if USE_TRAIN:\n",
    "    for s in lines_train:\n",
    "        v = []\n",
    "    \n",
    "        for w in s.split():\n",
    "            w = w.lower().translate(translation_table)\n",
    "            if w in stopwords_en:\n",
    "                continue\n",
    "            w = lemmatizer.lemmatize(w)\n",
    "            if w not in lemmas:\n",
    "                continue\n",
    "            \n",
    "            words.setdefault(w, len(words))\n",
    "            v.append(words[w])\n",
    "\n",
    "        sentences_train.append(v)"
   ]
  },
  {
   "cell_type": "code",
   "execution_count": 5,
   "metadata": {},
   "outputs": [
    {
     "name": "stdout",
     "output_type": "stream",
     "text": [
      "18669\n",
      "687\n"
     ]
    }
   ],
   "source": [
    "print(len(words.keys()))\n",
    "print(len(test_words.keys()))"
   ]
  },
  {
   "cell_type": "markdown",
   "metadata": {},
   "source": [
    "## 2. Main Algorithm"
   ]
  },
  {
   "cell_type": "markdown",
   "metadata": {},
   "source": [
    "### 2.1 Make synonyms graph\n",
    "First, we create a graph representing synonyms. For that, we use **wordnet** synonyms.\n",
    "\n",
    "In **synonym_graph**, synonym_graph[i][j] is 1, iff the word words[i] and the word words[j] are synonyms."
   ]
  },
  {
   "cell_type": "code",
   "execution_count": 7,
   "metadata": {},
   "outputs": [],
   "source": [
    "synonym_graph = np.zeros((len(words), len(words)))\n",
    "\n",
    "def set_of_synonyms(word):\n",
    "    synonyms = []\n",
    "    for syn in wordnet.synsets(word):\n",
    "        for l in syn.lemmas():\n",
    "            syn_word = l.name()\n",
    "            if syn_word in stopwords_en:\n",
    "                continue\n",
    "            syn_word = lemmatizer.lemmatize(syn_word)\n",
    "            synonyms.append(syn_word)\n",
    "    return set(synonyms)\n",
    "\n",
    "for word, idx in words.items():\n",
    "    for syn in set_of_synonyms(word):\n",
    "        if syn not in words:\n",
    "            continue\n",
    "        syn_idx = words[syn]\n",
    "        synonym_graph[idx][syn_idx] = 1\n",
    "        synonym_graph[syn_idx][idx] = 1\n",
    "if USE_TRAIN:\n",
    "    synonym_graph = synonym_graph[:len(test_words), :len(test_words)]"
   ]
  },
  {
   "cell_type": "code",
   "execution_count": 7,
   "metadata": {},
   "outputs": [
    {
     "name": "stdout",
     "output_type": "stream",
     "text": [
      "(687, 687)\n"
     ]
    }
   ],
   "source": [
    "print(synonym_graph.shape)"
   ]
  },
  {
   "cell_type": "markdown",
   "metadata": {},
   "source": [
    "We give you an example of a set of synonyms for the first word in the dictionary.\n",
    "\n",
    "We see that there are 3 synonyms for \"person\" in the corpus."
   ]
  },
  {
   "cell_type": "code",
   "execution_count": 8,
   "metadata": {},
   "outputs": [
    {
     "name": "stdout",
     "output_type": "stream",
     "text": [
      "person\n",
      "{'somebody', 'soul', 'someone', 'individual', 'mortal', 'person'}\n",
      "3.0\n"
     ]
    }
   ],
   "source": [
    "print(list(words.keys())[0])\n",
    "print(set_of_synonyms(list(words.keys())[0]))\n",
    "print(sum(synonym_graph[0]))"
   ]
  },
  {
   "cell_type": "markdown",
   "metadata": {},
   "source": [
    "### 2.2 Make sliding window graph\n",
    "Now, we create a sliding window graph.\n",
    "\n",
    "**window_size** is a parameter. Each time two words words[i] and words[j] are in sliding window, we add 1 to window_graph[i][j]."
   ]
  },
  {
   "cell_type": "code",
   "execution_count": 9,
   "metadata": {},
   "outputs": [],
   "source": [
    "window_size = 3\n",
    "\n",
    "window_graph_train = np.zeros((len(words), len(words)))\n",
    "\n",
    "for ss in sentences_test:\n",
    "    for s in ss:\n",
    "        window = []\n",
    "        for i in range(len(s)):\n",
    "            window = window[-(window_size - 1):]\n",
    "            v1 = s[i]\n",
    "            for v2 in window:\n",
    "                window_graph_train[v1][v2] += 1\n",
    "                window_graph_train[v2][v1] += 1\n",
    "            window.append(v1)\n",
    "if USE_TRAIN:\n",
    "    for s in sentences_train:\n",
    "        window = []\n",
    "        for i in range(len(s)):\n",
    "            window = window[-(window_size - 1):]\n",
    "            v1 = s[i]\n",
    "            for v2 in window:\n",
    "                window_graph_train[v1][v2] += 1\n",
    "                window_graph_train[v2][v1] += 1\n",
    "            window.append(v1)\n",
    "if USE_TRAIN:\n",
    "    window_graph = window_graph_train[:len(test_words), :len(test_words)]\n",
    "else:\n",
    "    window_graph = window_graph_train"
   ]
  },
  {
   "cell_type": "code",
   "execution_count": 10,
   "metadata": {},
   "outputs": [
    {
     "name": "stdout",
     "output_type": "stream",
     "text": [
      "(687, 687)\n"
     ]
    }
   ],
   "source": [
    "print(window_graph.shape)"
   ]
  },
  {
   "cell_type": "markdown",
   "metadata": {},
   "source": [
    "### 2.3 Make Spacy dependency tree graph"
   ]
  },
  {
   "cell_type": "markdown",
   "metadata": {},
   "source": [
    "Here we create a graph representing sentence syntactic.\n",
    "\n",
    "We work with **spaCy** dependency trees. **spaCy** uses the terms head and child to describe the words connected by a single arc in the dependency tree. Because the syntactic relations form a tree, every word has exactly one head. We can therefore iterate over the arcs in the tree by iterating over the words in the sentence."
   ]
  },
  {
   "cell_type": "code",
   "execution_count": 11,
   "metadata": {},
   "outputs": [],
   "source": [
    "dependency_graph = np.zeros((len(test_words), len(test_words)))\n",
    "translation_table = str.maketrans('', '', string.punctuation)\n",
    "\n",
    "nlp = spacy.load(\"en_core_web_lg\")\n",
    "\n",
    "for i in range(len(lines_test)):\n",
    "    sent1, sent2 = lines_test[i].split('\\t')\n",
    "    sent1 = ' '.join([w for w in sent1.split()])\n",
    "    sent2 = ' '.join([w for w in sent2.split()])\n",
    "    sent1 = nlp(sent1)\n",
    "    sent2 = nlp(sent2)\n",
    "\n",
    "    for s in [sent1, sent2]:\n",
    "        for w in s: #iteration over the words in the sentence\n",
    "            w1 = w.text.lower().translate(translation_table)\n",
    "            w2 = w.head.text.lower().translate(translation_table)\n",
    "\n",
    "            if (not w1 in stopwords_en) & (not w2 in stopwords_en) & (w.dep_ != \"ROOT\") & (w.dep_ != \"punct\"):\n",
    "                w1 = lemmatizer.lemmatize(w1)\n",
    "                w2 = lemmatizer.lemmatize(w2)\n",
    "                if (w1 in test_words) & (w2 in test_words):\n",
    "                    dependency_graph[test_words[w1]][test_words[w2]] += 1\n",
    "                    dependency_graph[test_words[w2]][test_words[w2]] += 1"
   ]
  },
  {
   "cell_type": "markdown",
   "metadata": {},
   "source": [
    "We show you the number of words in syntactic dependacies with \"person\" in the corpus."
   ]
  },
  {
   "cell_type": "code",
   "execution_count": 12,
   "metadata": {},
   "outputs": [
    {
     "name": "stdout",
     "output_type": "stream",
     "text": [
      "19.0\n"
     ]
    }
   ],
   "source": [
    "print(sum(dependency_graph[0]))"
   ]
  },
  {
   "cell_type": "markdown",
   "metadata": {},
   "source": [
    "### 2.4 Combine synonym, window graphs and dependency graph\n",
    "\n",
    "Now, in order to use the information on synonyms, word order in sentences and syntactic dependencies, we put 3 graps together.\n",
    "\n",
    "Then we complete distance matrix with shortest path lengths.\n",
    "\n",
    "# To complete"
   ]
  },
  {
   "cell_type": "code",
   "execution_count": 13,
   "metadata": {},
   "outputs": [
    {
     "name": "stdout",
     "output_type": "stream",
     "text": [
      "(687, 687) (687, 687) (687, 687)\n"
     ]
    },
    {
     "name": "stderr",
     "output_type": "stream",
     "text": [
      "100%|██████████| 687/687 [00:00<00:00, 1683.32it/s]\n",
      "100%|██████████| 687/687 [00:02<00:00, 277.98it/s]"
     ]
    },
    {
     "name": "stdout",
     "output_type": "stream",
     "text": [
      "Distances graph is connected\n"
     ]
    },
    {
     "name": "stderr",
     "output_type": "stream",
     "text": [
      "\n"
     ]
    }
   ],
   "source": [
    "print(synonym_graph.shape, window_graph.shape, dependency_graph.shape)\n",
    "distances = 1 / (synonym_graph + window_graph + dependency_graph + 1)\n",
    "#gr_max = np.max(synonym_graph + window_graph + dependency_graph)\n",
    "#distances = gr_max - (synonym_graph + window_graph + dependency_graph) + 1\n",
    "for i in range(distances.shape[0]):\n",
    "    for j in range(distances.shape[0]):\n",
    "        if distances[i][j] == 1:\n",
    "            distances[i][j] = -1.0\n",
    "\n",
    "np.fill_diagonal(distances, 0)\n",
    "\n",
    "def floyd_warshall(dist):\n",
    "    n = dist.shape[0]\n",
    "    for u in tqdm.trange(n):\n",
    "        for v in range(n):\n",
    "            if dist[u][v] == -1.0:\n",
    "                dist[u][v] = 10e6\n",
    "\n",
    "    @numba.jit\n",
    "    def h(dist, n, z):\n",
    "        for u in range(n):\n",
    "            for v in range(n):\n",
    "                if (dist[u][v] > dist[u][z] + dist[z][v]):\n",
    "                    dist[u][v] = dist[u][z] + dist[z][v]\n",
    "\n",
    "    for z in tqdm.trange(n):\n",
    "        h(dist, n, z)\n",
    "        \n",
    "    \n",
    "floyd_warshall(distances)\n",
    "\n",
    "if np.max(distances) == 10e6:\n",
    "    print(\"Distances graph is not connected\")\n",
    "else:\n",
    "    print(\"Distances graph is connected\")"
   ]
  },
  {
   "cell_type": "markdown",
   "metadata": {},
   "source": [
    "## 3 Distance Geometry"
   ]
  },
  {
   "cell_type": "markdown",
   "metadata": {},
   "source": [
    "### 3.1 MDS\n",
    "\n",
    "\n",
    "In this part we produce an approximate realisation of $x$.\n",
    "\n",
    "We have an approximate EDMs $\\tilde{D}$ from raw data completed with Floyd-Warshall algorithm. Then we compute an approximate Gram matrix:\n",
    "\n",
    "$$ \\tilde{G} = - \\frac{1}{2} J \\tilde{D}^2 J, $$\n",
    "\n",
    "where $J = I_n - \\frac{1}{n}\\mathbb{1}\\mathbb{1}^{T}$.\n",
    "\n",
    "Having spectral decomposition of $\\tilde{G} = P \\tilde{\\Lambda} P^{T}$, we find $\\Lambda$ the PSD diagonal matrix closest to $\\tilde{\\Lambda}$.\n",
    "\n",
    "$\\Lambda$ is obtained from $\\tilde{\\Lambda}$ by zeroing negative components.\n",
    "\n",
    "So, finally, $x = P \\sqrt{\\Lambda}$.\n",
    "\n",
    "To move $\\bar{x}$ to $0$, we reduce all the x by their mean. "
   ]
  },
  {
   "cell_type": "code",
   "execution_count": 14,
   "metadata": {},
   "outputs": [],
   "source": [
    "@numba.jit\n",
    "def mds(matD, k):\n",
    "    N = matD.shape[0]\n",
    "    matJ = np.eye(N) - np.ones((N, N)) / N\n",
    "    matG = -0.5 * matJ @ (matD ** 2) @ matJ\n",
    "    vecL, matP = la.eigh(matG)\n",
    "    vecL[vecL < 0] = 0\n",
    "    return matP[:,-k:], vecL[-k:]\n",
    "\n",
    "def embed_graph(distances, k):\n",
    "    p, l = mds(distances, k)\n",
    "    result = p @ np.diag(np.sqrt(l))\n",
    "    result -= np.mean(result, axis=0)\n",
    "    return result"
   ]
  },
  {
   "cell_type": "code",
   "execution_count": 15,
   "metadata": {},
   "outputs": [],
   "source": [
    "#this function creates a .dat file in convinient for AMPL format based on subgraphs matrices\n",
    "def print_dat(distances):\n",
    "    with open(DAT_FILE, 'w') as f:\n",
    "        #sys.stdout = f # Change the standard output to the file we created.\n",
    "        f.write(\"param Kdim := 3;\\nparam n := {};\\nparam : E : c I :=\\n\".format(distances.shape[0]))\n",
    "        for i in tqdm.trange(distances.shape[0]):\n",
    "            for j in range(distances.shape[0]):\n",
    "                if i-j==0:\n",
    "                    continue\n",
    "                f.write(\"{} {} {} 1\\n\".format(i+1, j+1, distances[i, j]))\n",
    "        f.write(\";\")\n",
    "        f.close()"
   ]
  },
  {
   "cell_type": "markdown",
   "metadata": {},
   "source": [
    "### 3.2 General Pipeline\n",
    "\n",
    "We can follow these steps:\n",
    "\n",
    "1) We may use SDP relaxation for DGP. Its solution yields $n \\times n$ PSD matrix $X^{*}$.\n",
    "\n",
    "2) At the end, we need $n \\times K$ realization matrix $x^{*}$, so we apply PCA to $X^{*}$, keep $K$ largest comps, get $x^{\\prime}$.\n",
    "\n",
    "3) As this yields solutions with errors, we use $x^{\\prime}$ as starting point for local NLP solver.\n",
    "\n",
    "For the first part, we may also use DDP, an approximation for SDP. In this case, DDP could be infeasible.\n",
    "\n",
    "We may also use DualDDP which is a relaxation of SDP, and so, this is a relaxation of the original problem.\n",
    "\n",
    "Three possible methods would be:\n",
    "\n",
    "I. SDP -> PCA -> NLP\n",
    "\n",
    "II. DDP -> PCA -> NLP\n",
    "\n",
    "III. DualDDP -> PCA -> NLP\n"
   ]
  },
  {
   "cell_type": "markdown",
   "metadata": {},
   "source": [
    "#### 3.2.1 SDP"
   ]
  },
  {
   "cell_type": "markdown",
   "metadata": {},
   "source": [
    "#### SDP relaxation\n",
    "\n",
    "Let's consider the system of quadratic equations\n",
    "\n",
    "$$\n",
    "\\forall\\{u, v\\} \\in E \\quad\\left\\|x_{u}-x_{v}\\right\\|^{2}=d_{u v}^{2}\n",
    "$$\n",
    "\n",
    "We can add a new variable matrix $X$ s.t. $X_{i j} = x_i x_j$:\n",
    "\n",
    "$$\n",
    "\\begin{aligned}\n",
    "&\\Rightarrow \\forall\\{i, j\\} \\in E \\quad\\left\\|x_{i}\\right\\|_{2}^{2}+\\left\\|x_{j}\\right\\|_{2}^{2}-2 x_{i} \\cdot x_{j}=d_{i j}^{2} \\\\\n",
    "&\\Rightarrow\\left\\{\\begin{aligned}\n",
    "\\forall\\{i, j\\} \\in E \\quad X_{i i}+X_{j j}-2 X_{i j} &=d_{i j}^{2} \\\\\n",
    "X &=x x^{\\top}\n",
    "\\end{aligned}\\right.\n",
    "\\end{aligned}\n",
    "$$\n",
    "\n",
    "Now we will add a relaxation, so we change $X-x x^{\\top}=0$ to $X-x x^{\\top} \\succeq 0$.\n",
    "\n",
    "Then we can replace $\\operatorname{Schur}(X, x)=\\left(\\begin{array}{cc}\n",
    "I_{K} & x^{\\top} \\\\\n",
    "x & X\n",
    "\\end{array}\\right)\\succeq 0$ by $$X \\succeq 0,$$ because $x$ is not used elsewhere.\n",
    "\n",
    "One of proposed methods gives an MP\n",
    "\n",
    "$$\n",
    "\\begin{aligned}\n",
    "\\min F \\bullet X =\n",
    "\\operatorname{tr}\\left(F^{\\top} X\\right)\n",
    "& \\\\\n",
    "\\forall\\{i, j\\} \\in E \\quad X_{i i}+X_{j j}-2 X_{i j} &=d_{i j}^{2} \\\\\n",
    "X & \\succeq 0\n",
    "\\end{aligned}\n",
    "$$\n",
    "\n",
    "We should choose the objective function, so we use a common one:\n",
    "\n",
    "$$\n",
    "\\min \\sum_{\\{i, j\\} \\in E}\\left(X_{i i}+X_{j j}-2 X_{i j}\\right)\n",
    "$$\n"
   ]
  },
  {
   "cell_type": "code",
   "execution_count": 16,
   "metadata": {},
   "outputs": [],
   "source": [
    "def sdp(DAT_FILE, showplot=False):\n",
    "    (Kdim, n, E) = dgp_sdp.readDat('./' + DAT_FILE)\n",
    "\n",
    "    ## construct weighted vertex neighbourhoods from edges\n",
    "    G = {i:dict() for i in range(n)}\n",
    "    for e in E:\n",
    "        i = e[0]-1 # first vertex\n",
    "        j = e[1]-1 # second vertex\n",
    "        w = e[2] # edge weight\n",
    "        if i > j:\n",
    "            t = i\n",
    "            i = j\n",
    "            j = t\n",
    "        G[i][j] = w\n",
    "\n",
    "    ## MP formulation: vars, obj, constrs\n",
    "    X = cp.Variable((n,n), PSD=True)\n",
    "\n",
    "    cobj1 = sum([X[i,i] + X[j,j] - 2*X[i,j] for i in range(n) for j in G[i] if i<j])\n",
    "    objective = cp.Minimize(cobj1)\n",
    "\n",
    "    constraints = [X[i,i] + X[j,j] - 2*X[i,j] == G[i][j]**2 for i in range(n) for j in G[i] if i<j]\n",
    "    prob = cp.Problem(objective, constraints)\n",
    "\n",
    "    ## solve the problem\n",
    "    prob.solve(solver=cp.SCS, verbose=True)\n",
    "\n",
    "    objfunval = prob.value\n",
    "    print(\"optimal obj. fun. value =\", objfunval)\n",
    "    if X.value is None:\n",
    "        return (None, False)\n",
    "\n",
    "    ## retrieve realization in K dimensions\n",
    "    print(\"ambient dimension n =\", n) \n",
    "    \n",
    "    Y = dgp_sdp.MDS(X.value)\n",
    "    K = Y.shape[1]\n",
    "    print(\"found relaxed embedding in natural dimension K =\", K)\n",
    "    if K not in {2,3}:\n",
    "        if K < 2:\n",
    "            K = 2\n",
    "        elif K > 3:\n",
    "            K = 3\n",
    "    print(\"now projecting to\", K, \"principal dimensions\")\n",
    "    xbar = dgp_sdp.PCA(X.value, K)\n",
    "        \n",
    "    ## report SDP solution statistics\n",
    "    mderr1 = dgp_sdp.mde(xbar, G)\n",
    "    print(\"SDP mean distance error =\", mderr1)\n",
    "    lderr1 = dgp_sdp.lde(xbar, G)\n",
    "    print(\"SDP largest distance error =\", lderr1)\n",
    "\n",
    "    from amplpy import Environment\n",
    "\n",
    "    ## refine solution with a local NLP solver\n",
    "    nlp = AMPL(Environment('../ampl'))\n",
    "    nlp.read(\"dgp.mod\")\n",
    "    nlp.readData('./' + DAT_FILE)\n",
    "    nlp.setOption('solver', dgp_sdp.NLPsolver)\n",
    "    xvar = nlp.getVariable('x')\n",
    "    for i in range(n):\n",
    "        for k in range(K):\n",
    "            xvar[i+1,k+1].setValue(xbar[i,k])\n",
    "    nlp.solve()\n",
    "    xvar = nlp.getVariable('x')\n",
    "    xval = xvar.getValues()\n",
    "    x = np.zeros((n,K))\n",
    "    for i in range(n):\n",
    "        for k in range(K):\n",
    "            x[i,k] = xvar[i+1,k+1].value()\n",
    "\n",
    "    # report NLP solution statistics\n",
    "    mderr2 = dgp_sdp.mde(x, G)\n",
    "    print(\"NLP mean distance error =\", mderr2)\n",
    "    lderr2 = dgp_sdp.lde(x, G)\n",
    "    print(\"NLP largest distance error =\", lderr2)\n",
    "\n",
    "    ## plot results\n",
    "    if dgp_sdp.showplot:\n",
    "        if K == 2:\n",
    "            plt.scatter(x[:,0], x[:,1])\n",
    "            plt.plot(x[:,0], x[:,1])\n",
    "        elif K == 3:\n",
    "            fig = plt.figure()\n",
    "            ax = Axes3D(fig)\n",
    "            ax.scatter(x[:,0], x[:,1], x[:,2])\n",
    "            ax.plot(x[:,0], x[:,1], x[:,2])\n",
    "            ax.set_xlabel('x')\n",
    "            ax.set_ylabel('y')\n",
    "            ax.set_zlabel('z')    \n",
    "        plt.show()\n",
    "    return (x, True)"
   ]
  },
  {
   "cell_type": "markdown",
   "metadata": {},
   "source": [
    "#### 3.2.2 DDP\n"
   ]
  },
  {
   "cell_type": "markdown",
   "metadata": {},
   "source": [
    "SDP solver is a bottleneck in the Method 3.2.1. To avoid testing a matrix for SDP, we would like to work with LP problem instead.\n",
    "\n",
    "For this reason, we introduce diagonally dominant (DD) matrices:\n",
    "\n",
    "$n \\times n$ symmetric matrix $X$ is DD if\n",
    "$$\n",
    "\\forall i \\leq n \\quad X_{i i} \\geq \\sum_{j \\neq i}\\left|X_{i j}\\right| \\quad (*)\n",
    "$$\n",
    "\n",
    "Every DD matrix is PSD.\n",
    "\n",
    "Before we had an MP such that\n",
    "\n",
    "\\begin{aligned}\n",
    "\\forall\\{i, j\\} \\in E \\quad X_{i i}+X_{j j}-2 X_{i j} &=d_{i j}^{2} \\\\\n",
    "X & \\succeq 0\n",
    "\\end{aligned}\n",
    "\n",
    "Our approximation gives\n",
    "\n",
    "\\begin{aligned}\n",
    "\\forall\\{i, j\\} \\in E \\quad X_{i i}+X_{j j}-2 X_{i j} &=d_{i j}^{2} \\\\\n",
    "X & \\text{ is DD} \\quad (*)\n",
    "\\end{aligned}\n",
    "\n",
    "We may linearize (*) consrtaints by using an additional matrix variable $T$:\n",
    "\n",
    "$$\n",
    "(*) \\Rightarrow \\begin{aligned}\n",
    "\\forall i \\leq n & \\sum_{\\substack{j \\leq n \\\\\n",
    "j \\neq i}} T_{i j} \\leq X_{i i} \\\\\n",
    "& -T \\leq X\\leq T \\\\\n",
    "& T \\geq 0\n",
    "\\end{aligned}\n",
    "$$\n",
    "\n",
    "Considering the fact that DDP approximation could be infeasible, we will enlarge the feasible region.\n",
    "\n",
    "We make a change:\n",
    "\n",
    "$$\n",
    "\\forall\\{i, j\\} \\in E \\quad X_{i i}+X_{j j}-2 X_{i j}=d_{i j}^{2}\n",
    "$$\n",
    "\n",
    "is now relaxed\n",
    "\n",
    "$$\n",
    "\\forall\\{i, j\\} \\in E \\quad X_{i i}+X_{j j}-2 X_{i j} \\geq d_{i j}^{2}\n",
    "$$\n",
    "\n",
    "An SDP problem becomes linear, but we need to use a specific objective function due to introduced relaxation:\n",
    "\n",
    "$$\n",
    "\\begin{aligned}\n",
    "&\\min \\sum_{\\{i, j\\} \\in E}\\left(X_{i i}+X_{j j}-2 X_{i j}\\right)\\\\\n",
    "&\\begin{aligned}\n",
    "\\forall\\{i, j\\} \\in E \\quad X_{i i}+X_{j j}-2 X_{i j} & \\geq d_{i j}^{2} \\\\\n",
    "\\forall i \\leq n \\quad \\sum_{j \\leq n, i \\neq j} T_{i j} & \\leq X_{i i} \\\\\n",
    "-T \\leq X & \\leq T \\\\\n",
    "T & \\geq 0\n",
    "\\end{aligned}\n",
    "\\end{aligned}\n",
    "$$"
   ]
  },
  {
   "cell_type": "code",
   "execution_count": 17,
   "metadata": {},
   "outputs": [],
   "source": [
    "def ddp(DAT_FILE, showplot=False):\n",
    "    # read instance\n",
    "    (Kdim, n, E) = dgp_sdp.readDat('./' + DAT_FILE)\n",
    "\n",
    "    ## construct weighted vertex neighbourhoods from edges\n",
    "    G = {i:dict() for i in range(n)}\n",
    "    for e in E:\n",
    "        i = e[0]-1 # first vertex\n",
    "        j = e[1]-1 # second vertex\n",
    "        w = e[2] # edge weight\n",
    "        if i > j:\n",
    "            t = i\n",
    "            i = j\n",
    "            j = t\n",
    "        G[i][j] = w \n",
    "\n",
    "    ## formulate and solve the dual DDP\n",
    "    from amplpy import Environment\n",
    "    ddp = AMPL(Environment('../ampl'))\n",
    "    ddp.read(\"dgp_ddp.mod\")\n",
    "    ddp.readData('./' + DAT_FILE)\n",
    "    ddp.setOption('solver', dgp_sdp.LPsolver)\n",
    "    ddp.solve()\n",
    "    objfun = ddp.getObjective('push')\n",
    "    objfunval = objfun.value()\n",
    "    print(\"optimal obj. fun. value =\", objfunval)\n",
    "    Xvar = ddp.getVariable('X')\n",
    "\n",
    "    #if Xvar.value() is None:\n",
    "    #    return (None, False)\n",
    "\n",
    "    X = np.zeros((n,n))\n",
    "    for i in range(n):\n",
    "        for j in range(n):\n",
    "            X[i,j] = Xvar[i+1,j+1].value()\n",
    "\n",
    "    ## retrieve realization in K dimensions\n",
    "    print(\"ambient dimension n =\", n)\n",
    "    Y = dgp_sdp.MDS(X)\n",
    "    K = Y.shape[1]\n",
    "    print(\"found relaxed embedding in natural dimension K =\", K)\n",
    "    if K not in {2,3}:\n",
    "        if K < 2:\n",
    "            K = 2\n",
    "        elif K > 3:\n",
    "            K = 3\n",
    "    print(\"now projecting to\", K, \"principal dimensions\")\n",
    "    xbar = dgp_sdp.PCA(X, K)\n",
    "\n",
    "    ## report dualDDP solution statistics\n",
    "    mderr1 = dgp_sdp.mde(xbar, G)\n",
    "    print(\"DDP mean distance error =\", mderr1)\n",
    "    lderr1 = dgp_sdp.lde(xbar, G)\n",
    "    print(\"DDP largest distance error =\", lderr1)\n",
    "\n",
    "    ## refine solution with a local NLP solver\n",
    "    nlp = AMPL(Environment('../ampl'))\n",
    "    nlp.read(\"dgp.mod\")\n",
    "    nlp.readData('./' + DAT_FILE)\n",
    "    nlp.setOption('solver', dgp_sdp.NLPsolver)\n",
    "    xvar = nlp.getVariable('x')\n",
    "    for i in range(n):\n",
    "        for k in range(K):\n",
    "            xvar[i+1,k+1].setValue(xbar[i,k])\n",
    "    nlp.solve()\n",
    "    xvar = nlp.getVariable('x')\n",
    "    xval = xvar.getValues()\n",
    "    x = np.zeros((n,K))\n",
    "    for i in range(n):\n",
    "        for k in range(K):\n",
    "            x[i,k] = xvar[i+1,k+1].value()\n",
    "\n",
    "    # report NLP solution statistics\n",
    "    mderr2 = dgp_sdp.mde(x, G)\n",
    "    print(\"NLP mean distance error =\", mderr2)\n",
    "    lderr2 = dgp_sdp.lde(x, G)\n",
    "    print(\"NLP largest distance error =\", lderr2)\n",
    "\n",
    "    ## plot results\n",
    "    if showplot:\n",
    "        if K == 2:\n",
    "            plt.scatter(x[:,0], x[:,1])\n",
    "            plt.plot(x[:,0], x[:,1])\n",
    "        elif K == 3:\n",
    "            fig = plt.figure()\n",
    "            ax = Axes3D(fig)\n",
    "            ax.scatter(x[:,0], x[:,1], x[:,2])\n",
    "            ax.plot(x[:,0], x[:,1], x[:,2])\n",
    "            ax.set_xlabel('x')\n",
    "            ax.set_ylabel('y')\n",
    "            ax.set_zlabel('z')    \n",
    "        plt.show()\n",
    "    return (x, True)"
   ]
  },
  {
   "cell_type": "markdown",
   "metadata": {},
   "source": [
    "#### 3.2.3 Dual Cone DDP"
   ]
  },
  {
   "cell_type": "markdown",
   "metadata": {},
   "source": [
    "Let C be a cone if:\n",
    "$$\\forall A, B \\in C, \\alpha, \\beta \\geq 0 \\quad \\alpha A+\\beta B \\in C$$\n",
    "and $C^{*}=\\{y \\mid \\forall x \\in C \\quad \\langle x, y\\rangle \\geq 0\\}$ its dual cone.\n",
    "\n",
    "We will use $\\mathcal{X}_{\\mathbb{D D}}=\\left\\{e_{i} \\mid i \\leq n\\right\\} \\cup\\left\\{\\left(e_{i} \\pm e_{j}\\right) \\mid i<j \\leq n\\right\\}$ where $e_i$ is the $i^{th}$ basis element of $\\R^n$.\n",
    "\n",
    "$\\mathcal{X}_{\\mathbb{D D}}$ finitely generates the set of Diagonally Dominant matrices which is denoted as $\\mathbb{D D}$. We mention that $|\\mathcal{X}_{\\mathbb{D D}}| = |O(n^2)|$\n",
    "\n",
    "Using the finitely generated dual cone theorem, we know that $$DD^* = \\left\\{Y\\mid \\forall x \\in \\mathcal{X}_{\\mathbb{D D}}\\left(Y \\bullet x x^{\\top} \\geq 0\\right) = \\left(x^{\\top} Y x \\geq 0\\right) \\right\\}$$\n",
    "\n",
    "As $\\mathbb{D D}^{*} \\supset \\mathbb{P S D}$, we may use an relaxation of SDP.\n",
    "\n",
    "So, we change the formulation of SDP for our DGP and we take \n",
    "condition $\\forall v \\in \\mathcal{X}_{\\mathbb{D D}}~~ v^{\\top} X v \\geq 0$ instead of $ X \\succeq 0$. \n",
    "\n",
    "And the final Dual cone DDP formulation for DGP is\n",
    "$$\\min \\sum_{\\{i, j\\} \\in E}\\left(X_{i i}+X_{j j}-2 X_{i j}\\right)\\\\\n",
    "\\forall\\{i, j\\} \\in E ~~~~  X_{i i}+X_{j j}-2 X_{i j} =d_{i j}^{2}  \\\\\n",
    "\\forall i \\leq n \\quad X_{i i} \\geq 0\\\\\n",
    "\\forall\\{i, j\\} \\notin E \\quad X_{i i}+X_{j j}-2 X_{i j} \\geq 0\\\\\n",
    "\\forall i<j \\quad X_{i i}+X_{j j}+2 X_{i j} \\geq 0\n",
    "$$\n"
   ]
  },
  {
   "cell_type": "code",
   "execution_count": 18,
   "metadata": {},
   "outputs": [],
   "source": [
    "def dualddp(DAT_FILE, showplot=False):\n",
    "    # read instance\n",
    "    (Kdim, n, E) = dgp_sdp.readDat('./' + DAT_FILE)\n",
    "\n",
    "    ## construct weighted vertex neighbourhoods from edges\n",
    "    G = {i:dict() for i in range(n)}\n",
    "    for e in E:\n",
    "        i = e[0]-1 # first vertex\n",
    "        j = e[1]-1 # second vertex\n",
    "        w = e[2] # edge weight\n",
    "        if i > j:\n",
    "            t = i\n",
    "            i = j\n",
    "            j = t\n",
    "        G[i][j] = w \n",
    "\n",
    "    ## formulate and solve the dual DDP\n",
    "    from amplpy import Environment\n",
    "    dualddp = AMPL(Environment('../ampl'))\n",
    "    dualddp.read(\"dgp_dualddp.mod\")\n",
    "    dualddp.readData('./' + DAT_FILE)\n",
    "    dualddp.setOption('solver', dgp_sdp.LPsolver)\n",
    "    dualddp.solve()\n",
    "    objfun = dualddp.getObjective('push')\n",
    "    objfunval = objfun.value()\n",
    "    print(\"optimal obj. fun. value =\", objfunval)\n",
    "    Xvar = dualddp.getVariable('X')\n",
    "    X = np.zeros((n,n))\n",
    "    for i in range(n):\n",
    "        for j in range(n):\n",
    "            X[i,j] = Xvar[i+1,j+1].value()\n",
    "\n",
    "    ## retrieve realization in K dimensions\n",
    "    print(\"ambient dimension n =\", n)\n",
    "    Y = dgp_sdp.MDS(X)\n",
    "    K = Y.shape[1]\n",
    "    print(\"found relaxed embedding in natural dimension K =\", K)\n",
    "    if K not in {2,3}:\n",
    "        if K < 2:\n",
    "            K = 2\n",
    "        elif K > 3:\n",
    "            K = 3\n",
    "    print(\"now projecting to\", K, \"principal dimensions\")\n",
    "    xbar = dgp_sdp.PCA(X, K)\n",
    "\n",
    "    ## report dualDDP solution statistics\n",
    "    mderr1 = dgp_sdp.mde(xbar, G)\n",
    "    print(\"dualDDP mean distance error =\", mderr1)\n",
    "    lderr1 = dgp_sdp.lde(xbar, G)\n",
    "    print(\"dualDDP largest distance error =\", lderr1)\n",
    "\n",
    "    ## refine solution with a local NLP solver\n",
    "    nlp = AMPL(Environment('../ampl'))\n",
    "    nlp.read(\"dgp.mod\")\n",
    "    nlp.readData('./' + DAT_FILE)\n",
    "    nlp.setOption('solver', dgp_sdp.NLPsolver)\n",
    "    xvar = nlp.getVariable('x')\n",
    "    for i in range(n):\n",
    "        for k in range(K):\n",
    "            xvar[i+1,k+1].setValue(xbar[i,k])\n",
    "    nlp.solve()\n",
    "    xvar = nlp.getVariable('x')\n",
    "    xval = xvar.getValues()\n",
    "    x = np.zeros((n,K))\n",
    "    for i in range(n):\n",
    "        for k in range(K):\n",
    "            x[i,k] = xvar[i+1,k+1].value()\n",
    "\n",
    "    # report NLP solution statistics\n",
    "    mderr2 = dgp_sdp.mde(x, G)\n",
    "    print(\"NLP mean distance error =\", mderr2)\n",
    "    lderr2 = dgp_sdp.lde(x, G)\n",
    "    print(\"NLP largest distance error =\", lderr2)\n",
    "\n",
    "    ## plot results\n",
    "    if showplot:\n",
    "        if K == 2:\n",
    "            plt.scatter(x[:,0], x[:,1])\n",
    "            plt.plot(x[:,0], x[:,1])\n",
    "        elif K == 3:\n",
    "            fig = plt.figure()\n",
    "            ax = Axes3D(fig)\n",
    "            ax.scatter(x[:,0], x[:,1], x[:,2])\n",
    "            ax.plot(x[:,0], x[:,1], x[:,2])\n",
    "            ax.set_xlabel('x')\n",
    "            ax.set_ylabel('y')\n",
    "            ax.set_zlabel('z')    \n",
    "        plt.show()\n",
    "\n",
    "    return (x, True)"
   ]
  },
  {
   "cell_type": "markdown",
   "metadata": {},
   "source": [
    "## 4 Results"
   ]
  },
  {
   "cell_type": "markdown",
   "metadata": {},
   "source": [
    "### 4.1 Visualisation in 2D "
   ]
  },
  {
   "cell_type": "markdown",
   "metadata": {},
   "source": [
    "Next plot gives us a visualisation of the result on 2D. Then we will use k = 20 dimensions."
   ]
  },
  {
   "cell_type": "code",
   "execution_count": 19,
   "metadata": {},
   "outputs": [
    {
     "data": {
      "image/png": "[encoded data removed]",
      "text/plain": [
       "<Figure size 864x576 with 1 Axes>"
      ]
     },
     "metadata": {
      "needs_background": "light"
     },
     "output_type": "display_data"
    }
   ],
   "source": [
    "k=20\n",
    "word_to_vec = embed_graph(distances, k)\n",
    "\n",
    "plt.figure(figsize=(12,8))\n",
    "plt.scatter(*embed_graph(distances, 2).transpose())\n",
    "plt.show()"
   ]
  },
  {
   "cell_type": "markdown",
   "metadata": {},
   "source": [
    "#### Application of methods for  for subgraphs l\n"
   ]
  },
  {
   "cell_type": "code",
   "execution_count": 20,
   "metadata": {},
   "outputs": [
    {
     "name": "stderr",
     "output_type": "stream",
     "text": [
      "100%|██████████| 687/687 [00:01<00:00, 509.01it/s]\n"
     ]
    }
   ],
   "source": [
    "print_dat(distances)\n",
    "sdp_distances, result = sdp(DAT_FILE, showplot=False)\n"
   ]
  },
  {
   "cell_type": "code",
   "execution_count": null,
   "metadata": {},
   "outputs": [],
   "source": [
    "print(result)\n",
    "#print(sdp_distances)"
   ]
  },
  {
   "cell_type": "code",
   "execution_count": null,
   "metadata": {},
   "outputs": [],
   "source": [
    "N_printed_sents = 1\n",
    "nlp = spacy.load('en_core_web_lg')\n",
    "with open('train.txt') as f:\n",
    "    train = np.array([float(line.strip()) for line in f])\n",
    "ampl_res = []\n",
    "idx = []\n",
    "\n",
    "if False:\n",
    "    for i, (s1, s2) in enumerate(sentences_test):\n",
    "        \n",
    "        subgraph1 = distances[np.ix_(s1, s1)]\n",
    "        subgraph2 = distances[np.ix_(s2, s2)]\n",
    "        print_dat(subgraph1)\n",
    "        result1, suc1 = sdp(DAT_FILE, showplot=False)\n",
    "        print_dat(subgraph2)\n",
    "        result2, suc2 = sdp(DAT_FILE, showplot=False)\n",
    "        if not (suc1 & suc2):\n",
    "            ampl_res.append(0)\n",
    "            continue\n",
    "        v1 = np.mean(result1, axis=0)\n",
    "        v2 = np.mean(result2, axis=0)\n",
    "        if v1.shape != v2.shape:\n",
    "            ampl_res.append(0)\n",
    "            continue\n",
    "        d = (cosine_similarity([v1], [v2])[0,0]+1)/2.\n",
    "        ampl_res.append(d)\n",
    "        print(i, \"{:1.8f} {:1.8f}\".format(train[i] / 5, d), lines_test[i], sep='\\t')\n",
    "        idx.append(i)\n",
    "        if i > N_printed_sents:\n",
    "            break"
   ]
  },
  {
   "cell_type": "code",
   "execution_count": null,
   "metadata": {},
   "outputs": [
    {
     "name": "stdout",
     "output_type": "stream",
     "text": [
      "CPLEX 20.1.0.0: optimal solution; objective 0.2335011239\n",
      "0 dual simplex iterations (0 in phase I)\n",
      "optimal obj. fun. value = 0.23350112385933436\n",
      "ambient dimension n = 3\n",
      "found relaxed embedding in natural dimension K = 2\n",
      "now projecting to 2 principal dimensions\n",
      "dualDDP mean distance error = 0.0042168517741068\n",
      "dualDDP largest distance error = 0.010249890819175517\n",
      "Cannot find \"ipopt\"\n",
      "NLP mean distance error = 0.0042166074169006544\n",
      "NLP largest distance error = 0.010249946818752242\n",
      "CPLEX 20.1.0.0: optimal solution; objective 0.3760642746\n",
      "0 dual simplex iterations (0 in phase I)\n",
      "optimal obj. fun. value = 0.3760642745501733\n",
      "ambient dimension n = 4\n",
      "found relaxed embedding in natural dimension K = 3\n",
      "now projecting to 3 principal dimensions\n",
      "dualDDP mean distance error = 0.01196827816825398\n",
      "dualDDP largest distance error = 0.03663812098699798\n"
     ]
    },
    {
     "name": "stderr",
     "output_type": "stream",
     "text": [
      "\n",
      "100%|██████████| 4/4 [00:00<00:00, 41323.19it/s]"
     ]
    },
    {
     "name": "stdout",
     "output_type": "stream",
     "text": [
      "Cannot find \"ipopt\"\n",
      "NLP mean distance error = 0.011968233261094063\n",
      "NLP largest distance error = 0.03663805792551589\n",
      "CPLEX 20.1.0.0: optimal solution; objective 3.771873167\n",
      "0 dual simplex iterations (0 in phase I)\n",
      "optimal obj. fun. value = 3.771873167467543\n",
      "ambient dimension n = 4\n"
     ]
    },
    {
     "name": "stderr",
     "output_type": "stream",
     "text": [
      "\n",
      "100%|██████████| 3/3 [00:00<00:00, 34759.43it/s]"
     ]
    },
    {
     "name": "stdout",
     "output_type": "stream",
     "text": [
      "found relaxed embedding in natural dimension K = 3\n",
      "now projecting to 3 principal dimensions\n",
      "dualDDP mean distance error = 0.022664076278235395\n",
      "dualDDP largest distance error = 0.054486042357024034\n",
      "Cannot find \"ipopt\"\n",
      "NLP mean distance error = 0.02266428134460056\n",
      "NLP largest distance error = 0.05448571413253067\n",
      "CPLEX 20.1.0.0: optimal solution; objective 0.002218660112\n",
      "0 dual simplex iterations (0 in phase I)\n",
      "optimal obj. fun. value = 0.0022186601121670564\n",
      "ambient dimension n = 3\n",
      "found relaxed embedding in natural dimension K = 2\n",
      "now projecting to 2 principal dimensions\n",
      "dualDDP mean distance error = 0.00044203530094850144\n",
      "dualDDP largest distance error = 0.0007246731277362438\n"
     ]
    },
    {
     "name": "stderr",
     "output_type": "stream",
     "text": [
      "\n",
      "100%|██████████| 4/4 [00:00<00:00, 27191.60it/s]"
     ]
    },
    {
     "name": "stdout",
     "output_type": "stream",
     "text": [
      "Cannot find \"ipopt\"\n",
      "NLP mean distance error = 0.0004420327616223493\n",
      "NLP largest distance error = 0.0007246998902530125\n",
      "CPLEX 20.1.0.0: optimal solution; objective 1.513870125\n",
      "0 dual simplex iterations (0 in phase I)\n",
      "optimal obj. fun. value = 1.5138701253103377\n",
      "ambient dimension n = 4\n",
      "found relaxed embedding in natural dimension K = 3\n",
      "now projecting to 3 principal dimensions\n",
      "dualDDP mean distance error = 0.01457755546956741\n",
      "dualDDP largest distance error = 0.0418003715291822\n"
     ]
    },
    {
     "name": "stderr",
     "output_type": "stream",
     "text": [
      "\n",
      "100%|██████████| 3/3 [00:00<00:00, 24624.09it/s]"
     ]
    },
    {
     "name": "stdout",
     "output_type": "stream",
     "text": [
      "Cannot find \"ipopt\"\n",
      "NLP mean distance error = 0.014577527664567061\n",
      "NLP largest distance error = 0.041800601273779825\n",
      "CPLEX 20.1.0.0: optimal solution; objective 0.1681075302\n",
      "0 dual simplex iterations (0 in phase I)\n",
      "optimal obj. fun. value = 0.16810753024577615\n",
      "ambient dimension n = 3\n",
      "found relaxed embedding in natural dimension K = 2\n",
      "now projecting to 2 principal dimensions\n",
      "dualDDP mean distance error = 0.006535626769095494\n",
      "dualDDP largest distance error = 0.01209861936333892\n",
      "Cannot find \"ipopt\"\n",
      "NLP mean distance error = 0.006535821784945888\n"
     ]
    },
    {
     "name": "stderr",
     "output_type": "stream",
     "text": [
      "\n",
      "100%|██████████| 4/4 [00:00<00:00, 44034.69it/s]"
     ]
    },
    {
     "name": "stdout",
     "output_type": "stream",
     "text": [
      "NLP largest distance error = 0.012098556167850355\n",
      "CPLEX 20.1.0.0: optimal solution; objective 0.352356508\n",
      "0 dual simplex iterations (0 in phase I)\n",
      "optimal obj. fun. value = 0.3523565079861019\n",
      "ambient dimension n = 4\n",
      "found relaxed embedding in natural dimension K = 3\n",
      "now projecting to 3 principal dimensions\n",
      "dualDDP mean distance error = 0.0006060548834992187\n",
      "dualDDP largest distance error = 0.0010407441325271174\n"
     ]
    },
    {
     "name": "stderr",
     "output_type": "stream",
     "text": [
      "\n",
      "100%|██████████| 3/3 [00:00<00:00, 35951.18it/s]"
     ]
    },
    {
     "name": "stdout",
     "output_type": "stream",
     "text": [
      "Cannot find \"ipopt\"\n",
      "NLP mean distance error = 0.0006060068691737379\n",
      "NLP largest distance error = 0.0010407017650153338\n",
      "CPLEX 20.1.0.0: optimal solution; objective 0.2038521554\n",
      "0 dual simplex iterations (0 in phase I)\n",
      "optimal obj. fun. value = 0.2038521554249576\n",
      "ambient dimension n = 3\n",
      "found relaxed embedding in natural dimension K = 2\n",
      "now projecting to 2 principal dimensions\n",
      "dualDDP mean distance error = 0.012009851594868176\n",
      "dualDDP largest distance error = 0.01643953745027117\n"
     ]
    },
    {
     "name": "stderr",
     "output_type": "stream",
     "text": [
      "\n",
      "100%|██████████| 5/5 [00:00<00:00, 46294.75it/s]"
     ]
    },
    {
     "name": "stdout",
     "output_type": "stream",
     "text": [
      "Cannot find \"ipopt\"\n",
      "NLP mean distance error = 0.012009924940919703\n",
      "NLP largest distance error = 0.016439583262818205\n",
      "CPLEX 20.1.0.0: optimal solution; objective 2.561879314\n",
      "0 dual simplex iterations (0 in phase I)\n",
      "optimal obj. fun. value = 2.561879314452712\n",
      "ambient dimension n = 5\n",
      "found relaxed embedding in natural dimension K = 4\n",
      "now projecting to 3 principal dimensions\n",
      "dualDDP mean distance error = 0.04120659572813639\n",
      "dualDDP largest distance error = 0.1764753169351796\n"
     ]
    },
    {
     "name": "stderr",
     "output_type": "stream",
     "text": [
      "\n",
      "100%|██████████| 6/6 [00:00<00:00, 48960.75it/s]"
     ]
    },
    {
     "name": "stdout",
     "output_type": "stream",
     "text": [
      "Cannot find \"ipopt\"\n",
      "NLP mean distance error = 0.04120665125117906\n",
      "NLP largest distance error = 0.1764750822545318\n",
      "CPLEX 20.1.0.0: optimal solution; objective 0.8629534254\n",
      "0 dual simplex iterations (0 in phase I)\n",
      "optimal obj. fun. value = 0.8629534253592966\n",
      "ambient dimension n = 6\n",
      "found relaxed embedding in natural dimension K = 4\n",
      "now projecting to 3 principal dimensions\n",
      "dualDDP mean distance error = 0.012942393724567128\n",
      "dualDDP largest distance error = 0.04665678670376279\n"
     ]
    },
    {
     "name": "stderr",
     "output_type": "stream",
     "text": [
      "\n",
      "100%|██████████| 3/3 [00:00<00:00, 29817.33it/s]"
     ]
    },
    {
     "name": "stdout",
     "output_type": "stream",
     "text": [
      "Cannot find \"ipopt\"\n",
      "NLP mean distance error = 0.012942300511616378\n",
      "NLP largest distance error = 0.04665670672634101\n",
      "4\t0.44000000 0.25923064\tThe group is eating while taking in a breathtaking view.\tA group of people take a look at an unusual tree.\n",
      "CPLEX 20.1.0.0: optimal solution; objective 0.1545359324\n",
      "0 dual simplex iterations (0 in phase I)\n",
      "optimal obj. fun. value = 0.15453593244730002\n",
      "ambient dimension n = 3\n",
      "found relaxed embedding in natural dimension K = 2\n",
      "now projecting to 2 principal dimensions\n",
      "dualDDP mean distance error = 0.009828081389201515\n",
      "dualDDP largest distance error = 0.026488773125903545\n"
     ]
    },
    {
     "name": "stderr",
     "output_type": "stream",
     "text": [
      "\n",
      "100%|██████████| 3/3 [00:00<00:00, 34007.87it/s]"
     ]
    },
    {
     "name": "stdout",
     "output_type": "stream",
     "text": [
      "Cannot find \"ipopt\"\n",
      "NLP mean distance error = 0.00982831224222991\n",
      "NLP largest distance error = 0.02648874275075886\n",
      "CPLEX 20.1.0.0: optimal solution; objective 0.1492889182\n",
      "0 dual simplex iterations (0 in phase I)\n",
      "optimal obj. fun. value = 0.14928891824515494\n",
      "ambient dimension n = 3\n",
      "found relaxed embedding in natural dimension K = 2\n",
      "now projecting to 2 principal dimensions\n",
      "dualDDP mean distance error = 0.00964350051666627\n",
      "dualDDP largest distance error = 0.02614597753045407\n"
     ]
    },
    {
     "name": "stderr",
     "output_type": "stream",
     "text": [
      "\n",
      "100%|██████████| 7/7 [00:00<00:00, 43561.02it/s]"
     ]
    },
    {
     "name": "stdout",
     "output_type": "stream",
     "text": [
      "Cannot find \"ipopt\"\n",
      "NLP mean distance error = 0.009643481767692752\n",
      "NLP largest distance error = 0.026145972402783546\n",
      "5\t0.68000000 0.99985729\tThe boy is raising his hand.\tThe man is raising his hand.\n",
      "CPLEX 20.1.0.0: optimal solution; objective 6.274432693\n",
      "0 dual simplex iterations (0 in phase I)\n",
      "optimal obj. fun. value = 6.274432692934801\n",
      "ambient dimension n = 7\n",
      "found relaxed embedding in natural dimension K = 5\n",
      "now projecting to 3 principal dimensions\n",
      "dualDDP mean distance error = 0.02504966419915754\n",
      "dualDDP largest distance error = 0.08405660717010249\n"
     ]
    },
    {
     "name": "stderr",
     "output_type": "stream",
     "text": [
      "\n",
      "100%|██████████| 4/4 [00:00<00:00, 44620.26it/s]\n"
     ]
    },
    {
     "name": "stdout",
     "output_type": "stream",
     "text": [
      "Cannot find \"ipopt\"\n",
      "NLP mean distance error = 0.02504969134207724\n",
      "NLP largest distance error = 0.08405661783173146\n",
      "CPLEX 20.1.0.0: optimal solution; objective 0.6542397138\n",
      "0 dual simplex iterations (0 in phase I)\n",
      "optimal obj. fun. value = 0.6542397138196939\n",
      "ambient dimension n = 4\n",
      "found relaxed embedding in natural dimension K = 3\n",
      "now projecting to 3 principal dimensions\n",
      "dualDDP mean distance error = 0.014840455145024687\n",
      "dualDDP largest distance error = 0.03922431879612795\n"
     ]
    },
    {
     "name": "stderr",
     "output_type": "stream",
     "text": [
      "100%|██████████| 3/3 [00:00<00:00, 38479.85it/s]"
     ]
    },
    {
     "name": "stdout",
     "output_type": "stream",
     "text": [
      "Cannot find \"ipopt\"\n",
      "NLP mean distance error = 0.014840548576997778\n",
      "NLP largest distance error = 0.039224451940098715\n",
      "6\t0.16000000 0.11667054\tA man with a gray beard is being shaved in front of a lecture hall\tA man with a beard is sitting in the grass.\n",
      "CPLEX 20.1.0.0: optimal solution; objective 0.3050800001\n",
      "0 dual simplex iterations (0 in phase I)\n",
      "optimal obj. fun. value = 0.305080000066223\n",
      "ambient dimension n = 3\n",
      "found relaxed embedding in natural dimension K = 2\n",
      "now projecting to 2 principal dimensions\n",
      "dualDDP mean distance error = 0.004751806766404539\n",
      "dualDDP largest distance error = 0.00816927473073717\n"
     ]
    },
    {
     "name": "stderr",
     "output_type": "stream",
     "text": [
      "\n",
      "100%|██████████| 7/7 [00:00<00:00, 46236.42it/s]"
     ]
    },
    {
     "name": "stdout",
     "output_type": "stream",
     "text": [
      "Cannot find \"ipopt\"\n",
      "NLP mean distance error = 0.0047520781593872186\n",
      "NLP largest distance error = 0.008169530458596336\n",
      "CPLEX 20.1.0.0: optimal solution; objective 1.680327088\n",
      "0 dual simplex iterations (0 in phase I)\n",
      "optimal obj. fun. value = 1.6803270877240584\n",
      "ambient dimension n = 7\n",
      "found relaxed embedding in natural dimension K = 5\n",
      "now projecting to 3 principal dimensions\n",
      "dualDDP mean distance error = 0.009100314426138702\n",
      "dualDDP largest distance error = 0.027543159455071207\n"
     ]
    },
    {
     "name": "stderr",
     "output_type": "stream",
     "text": [
      "\n",
      "100%|██████████| 7/7 [00:00<00:00, 31134.81it/s]"
     ]
    },
    {
     "name": "stdout",
     "output_type": "stream",
     "text": [
      "Cannot find \"ipopt\"\n",
      "NLP mean distance error = 0.00910034273480191\n",
      "NLP largest distance error = 0.027543217922922542\n",
      "CPLEX 20.1.0.0: optimal solution; objective 3.796888768\n",
      "0 dual simplex iterations (0 in phase I)\n",
      "optimal obj. fun. value = 3.7968887678270455\n",
      "ambient dimension n = 7\n",
      "found relaxed embedding in natural dimension K = 5\n",
      "now projecting to 3 principal dimensions\n",
      "dualDDP mean distance error = 0.0345351752926333\n",
      "dualDDP largest distance error = 0.11710910116440654\n"
     ]
    },
    {
     "name": "stderr",
     "output_type": "stream",
     "text": [
      "\n",
      "100%|██████████| 6/6 [00:00<00:00, 31107.32it/s]"
     ]
    },
    {
     "name": "stdout",
     "output_type": "stream",
     "text": [
      "Cannot find \"ipopt\"\n",
      "NLP mean distance error = 0.03453513354277519\n",
      "NLP largest distance error = 0.11710863003460076\n",
      "CPLEX 20.1.0.0: optimal solution; objective 5.451787677\n",
      "0 dual simplex iterations (0 in phase I)\n",
      "optimal obj. fun. value = 5.451787677455022\n",
      "ambient dimension n = 6\n",
      "found relaxed embedding in natural dimension K = 4\n",
      "now projecting to 3 principal dimensions\n",
      "dualDDP mean distance error = 0.02784183384666891\n",
      "dualDDP largest distance error = 0.09414937226828196\n"
     ]
    },
    {
     "name": "stderr",
     "output_type": "stream",
     "text": [
      "\n",
      "100%|██████████| 4/4 [00:00<00:00, 45714.49it/s]"
     ]
    },
    {
     "name": "stdout",
     "output_type": "stream",
     "text": [
      "Cannot find \"ipopt\"\n",
      "NLP mean distance error = 0.02784182888540531\n",
      "NLP largest distance error = 0.09414965015888388\n",
      "8\t0.08000000 0.55445489\tThe young boy jumps barefoot outside in the front yard.\tThe teen rode his bike around the people walking in the courtyard.\n",
      "CPLEX 20.1.0.0: optimal solution; objective 1.434099106\n",
      "0 dual simplex iterations (0 in phase I)\n",
      "optimal obj. fun. value = 1.4340991057682644\n",
      "ambient dimension n = 4\n",
      "found relaxed embedding in natural dimension K = 3\n",
      "now projecting to 3 principal dimensions\n",
      "dualDDP mean distance error = 0.014966849550017878\n",
      "dualDDP largest distance error = 0.041184512699918366\n"
     ]
    },
    {
     "name": "stderr",
     "output_type": "stream",
     "text": [
      "\n",
      "100%|██████████| 7/7 [00:00<00:00, 9229.84it/s]"
     ]
    },
    {
     "name": "stdout",
     "output_type": "stream",
     "text": [
      "Cannot find \"ipopt\"\n",
      "NLP mean distance error = 0.01496654805446679\n",
      "NLP largest distance error = 0.041184314445672734\n",
      "CPLEX 20.1.0.0: optimal solution; objective 0.3471732492\n",
      "0 dual simplex iterations (0 in phase I)\n",
      "optimal obj. fun. value = 0.34717324918704645\n",
      "ambient dimension n = 7\n",
      "found relaxed embedding in natural dimension K = 6\n",
      "now projecting to 3 principal dimensions\n",
      "dualDDP mean distance error = 0.009191617161023066\n",
      "dualDDP largest distance error = 0.02513052795409297\n"
     ]
    },
    {
     "name": "stderr",
     "output_type": "stream",
     "text": [
      "\n",
      "100%|██████████| 7/7 [00:00<00:00, 49678.73it/s]"
     ]
    },
    {
     "name": "stdout",
     "output_type": "stream",
     "text": [
      "Cannot find \"ipopt\"\n",
      "NLP mean distance error = 0.009191687885945831\n",
      "NLP largest distance error = 0.02513052657610379\n",
      "10\t0.68000000 0.66846941\tSome cyclists stop near a sign.\tTwo men stop to talk near a sign outside.\n",
      "CPLEX 20.1.0.0: optimal solution; objective 1.693672826\n",
      "0 dual simplex iterations (0 in phase I)\n",
      "optimal obj. fun. value = 1.6936728264691887\n",
      "ambient dimension n = 7\n",
      "found relaxed embedding in natural dimension K = 6\n",
      "now projecting to 3 principal dimensions\n",
      "dualDDP mean distance error = 0.031759681626898795\n",
      "dualDDP largest distance error = 0.10731364004697108\n"
     ]
    },
    {
     "name": "stderr",
     "output_type": "stream",
     "text": [
      "\n",
      "100%|██████████| 3/3 [00:00<00:00, 35645.64it/s]"
     ]
    },
    {
     "name": "stdout",
     "output_type": "stream",
     "text": [
      "Cannot find \"ipopt\"\n",
      "NLP mean distance error = 0.031759534103355996\n",
      "NLP largest distance error = 0.10731375713190645\n",
      "CPLEX 20.1.0.0: optimal solution; objective 0.09273349266\n",
      "0 dual simplex iterations (0 in phase I)\n",
      "optimal obj. fun. value = 0.09273349266174494\n",
      "ambient dimension n = 3\n",
      "found relaxed embedding in natural dimension K = 2\n",
      "now projecting to 2 principal dimensions\n",
      "dualDDP mean distance error = 0.003918629816835463\n",
      "dualDDP largest distance error = 0.007772718178930937\n"
     ]
    },
    {
     "name": "stderr",
     "output_type": "stream",
     "text": [
      "\n",
      "100%|██████████| 4/4 [00:00<00:00, 40820.48it/s]"
     ]
    },
    {
     "name": "stdout",
     "output_type": "stream",
     "text": [
      "Cannot find \"ipopt\"\n",
      "NLP mean distance error = 0.00391845612983203\n",
      "NLP largest distance error = 0.007772706648655592\n",
      "CPLEX 20.1.0.0: optimal solution; objective 0.1545442483\n",
      "0 dual simplex iterations (0 in phase I)\n",
      "optimal obj. fun. value = 0.1545442483136512\n",
      "ambient dimension n = 4\n",
      "found relaxed embedding in natural dimension K = 3\n",
      "now projecting to 3 principal dimensions\n",
      "dualDDP mean distance error = 0.00027369868096130287\n",
      "dualDDP largest distance error = 0.0009182812021176698\n"
     ]
    },
    {
     "name": "stderr",
     "output_type": "stream",
     "text": [
      "\n",
      "100%|██████████| 4/4 [00:00<00:00, 42690.12it/s]"
     ]
    },
    {
     "name": "stdout",
     "output_type": "stream",
     "text": [
      "Cannot find \"ipopt\"\n",
      "NLP mean distance error = 0.00027351013935222646\n",
      "NLP largest distance error = 0.0009182363210805192\n",
      "CPLEX 20.1.0.0: optimal solution; objective 0.1323358059\n",
      "0 dual simplex iterations (0 in phase I)\n",
      "optimal obj. fun. value = 0.1323358058648577\n",
      "ambient dimension n = 4\n",
      "found relaxed embedding in natural dimension K = 3\n",
      "now projecting to 3 principal dimensions\n",
      "dualDDP mean distance error = 0.001598820414837561\n",
      "dualDDP largest distance error = 0.005606445569697874\n"
     ]
    },
    {
     "name": "stderr",
     "output_type": "stream",
     "text": [
      "\n",
      "100%|██████████| 3/3 [00:00<00:00, 32853.56it/s]"
     ]
    },
    {
     "name": "stdout",
     "output_type": "stream",
     "text": [
      "Cannot find \"ipopt\"\n",
      "NLP mean distance error = 0.0015987830536350223\n",
      "NLP largest distance error = 0.00560647028328002\n",
      "12\t0.92000000 0.61711204\tA young person  deep in thought.\tA young man deep in thought.\n",
      "CPLEX 20.1.0.0: optimal solution; objective 0.4456637708\n",
      "0 dual simplex iterations (0 in phase I)\n",
      "optimal obj. fun. value = 0.4456637707666514\n",
      "ambient dimension n = 3\n",
      "found relaxed embedding in natural dimension K = 2\n",
      "now projecting to 2 principal dimensions\n",
      "dualDDP mean distance error = 0.0006007269661060868\n",
      "dualDDP largest distance error = 0.000933100355264227\n"
     ]
    },
    {
     "name": "stderr",
     "output_type": "stream",
     "text": [
      "\n",
      "100%|██████████| 3/3 [00:00<00:00, 31378.83it/s]"
     ]
    },
    {
     "name": "stdout",
     "output_type": "stream",
     "text": [
      "Cannot find \"ipopt\"\n",
      "NLP mean distance error = 0.000601063903060675\n",
      "NLP largest distance error = 0.0009335968365568603\n",
      "CPLEX 20.1.0.0: optimal solution; objective 0.4456637708\n",
      "0 dual simplex iterations (0 in phase I)\n",
      "optimal obj. fun. value = 0.4456637707666514\n",
      "ambient dimension n = 3\n",
      "found relaxed embedding in natural dimension K = 2\n",
      "now projecting to 2 principal dimensions\n",
      "dualDDP mean distance error = 0.006717771561627361\n",
      "dualDDP largest distance error = 0.010076657342440953\n"
     ]
    },
    {
     "name": "stderr",
     "output_type": "stream",
     "text": [
      "\n",
      "100%|██████████| 3/3 [00:00<00:00, 37449.14it/s]"
     ]
    },
    {
     "name": "stdout",
     "output_type": "stream",
     "text": [
      "Cannot find \"ipopt\"\n",
      "NLP mean distance error = 0.006717783569912177\n",
      "NLP largest distance error = 0.010076654367213944\n",
      "13\t0.36000000 0.99999583\tA man is carrying a canoe with a dog.\tA dog is carrying a man in a canoe.\n",
      "CPLEX 20.1.0.0: optimal solution; objective 0.2269892337\n",
      "0 dual simplex iterations (0 in phase I)\n",
      "optimal obj. fun. value = 0.22698923373115815\n",
      "ambient dimension n = 3\n",
      "found relaxed embedding in natural dimension K = 2\n",
      "now projecting to 2 principal dimensions\n",
      "dualDDP mean distance error = 0.0017637330903759046\n",
      "dualDDP largest distance error = 0.002971227598487919\n"
     ]
    },
    {
     "name": "stderr",
     "output_type": "stream",
     "text": [
      "\n",
      "100%|██████████| 3/3 [00:00<00:00, 35246.25it/s]"
     ]
    },
    {
     "name": "stdout",
     "output_type": "stream",
     "text": [
      "Cannot find \"ipopt\"\n",
      "NLP mean distance error = 0.0017638755780446426\n",
      "NLP largest distance error = 0.0029714496900697107\n",
      "CPLEX 20.1.0.0: optimal solution; objective 0.1362601678\n",
      "0 dual simplex iterations (0 in phase I)\n",
      "optimal obj. fun. value = 0.1362601678086433\n",
      "ambient dimension n = 3\n",
      "found relaxed embedding in natural dimension K = 1\n",
      "now projecting to 2 principal dimensions\n",
      "dualDDP mean distance error = 0.0028504265673802522\n",
      "dualDDP largest distance error = 0.007087646104133399\n"
     ]
    },
    {
     "name": "stderr",
     "output_type": "stream",
     "text": [
      "\n",
      "100%|██████████| 7/7 [00:00<00:00, 50620.91it/s]"
     ]
    },
    {
     "name": "stdout",
     "output_type": "stream",
     "text": [
      "Cannot find \"ipopt\"\n",
      "NLP mean distance error = 0.0028507548902551422\n",
      "NLP largest distance error = 0.007087687890938256\n",
      "14\t0.56000000 0.99783182\tA man is performing labor.\tA man is performing today.\n",
      "CPLEX 20.1.0.0: optimal solution; objective 4.203100528\n",
      "0 dual simplex iterations (0 in phase I)\n",
      "optimal obj. fun. value = 4.203100528264846\n",
      "ambient dimension n = 7\n",
      "found relaxed embedding in natural dimension K = 5\n",
      "now projecting to 3 principal dimensions\n",
      "dualDDP mean distance error = 0.01220741543955422\n",
      "dualDDP largest distance error = 0.046951990559207846\n"
     ]
    },
    {
     "name": "stderr",
     "output_type": "stream",
     "text": [
      "\n",
      "100%|██████████| 10/10 [00:00<00:00, 40252.44it/s]"
     ]
    },
    {
     "name": "stdout",
     "output_type": "stream",
     "text": [
      "Cannot find \"ipopt\"\n",
      "NLP mean distance error = 0.012207397646720443\n",
      "NLP largest distance error = 0.04695174054830656\n",
      "CPLEX 20.1.0.0: optimal solution; objective 5.026593295\n",
      "0 dual simplex iterations (0 in phase I)\n",
      "optimal obj. fun. value = 5.026593295166324\n",
      "ambient dimension n = 10\n",
      "found relaxed embedding in natural dimension K = 8\n",
      "now projecting to 3 principal dimensions\n",
      "dualDDP mean distance error = 0.031285480132289246\n",
      "dualDDP largest distance error = 0.11138118193546018\n"
     ]
    },
    {
     "name": "stderr",
     "output_type": "stream",
     "text": [
      "\n",
      "100%|██████████| 5/5 [00:00<00:00, 49932.19it/s]"
     ]
    },
    {
     "name": "stdout",
     "output_type": "stream",
     "text": [
      "Cannot find \"ipopt\"\n",
      "NLP mean distance error = 0.031285499224931256\n",
      "NLP largest distance error = 0.111381077417534\n",
      "15\t0.40000000 0.97240733\tTwo men wearing traditional clothing is standing outside.\tThree women wearing black vests and gray shirts are talking outside of a building.\n",
      "CPLEX 20.1.0.0: optimal solution; objective 0.492663074\n",
      "0 dual simplex iterations (0 in phase I)\n",
      "optimal obj. fun. value = 0.49266307395077746\n",
      "ambient dimension n = 5\n",
      "found relaxed embedding in natural dimension K = 4\n",
      "now projecting to 3 principal dimensions\n",
      "dualDDP mean distance error = 0.0029024560255617336\n",
      "dualDDP largest distance error = 0.016056885135294362\n"
     ]
    },
    {
     "name": "stderr",
     "output_type": "stream",
     "text": [
      "\n",
      "100%|██████████| 4/4 [00:00<00:00, 42690.12it/s]"
     ]
    },
    {
     "name": "stdout",
     "output_type": "stream",
     "text": [
      "Cannot find \"ipopt\"\n",
      "NLP mean distance error = 0.002902372394483108\n",
      "NLP largest distance error = 0.01605686746016723\n",
      "CPLEX 20.1.0.0: optimal solution; objective 0.2369620995\n",
      "0 dual simplex iterations (0 in phase I)\n",
      "optimal obj. fun. value = 0.23696209953334882\n",
      "ambient dimension n = 4\n",
      "found relaxed embedding in natural dimension K = 3\n",
      "now projecting to 3 principal dimensions\n",
      "dualDDP mean distance error = 0.006518620595049983\n",
      "dualDDP largest distance error = 0.019243605536695838\n"
     ]
    },
    {
     "name": "stderr",
     "output_type": "stream",
     "text": [
      "\n",
      "100%|██████████| 4/4 [00:00<00:00, 44150.57it/s]"
     ]
    },
    {
     "name": "stdout",
     "output_type": "stream",
     "text": [
      "Cannot find \"ipopt\"\n",
      "NLP mean distance error = 0.006518527800143709\n",
      "NLP largest distance error = 0.019243564110137154\n",
      "16\t0.44000000 0.85005306\ta woman watches a rap group live\tAn audience watches a girl dance.\n",
      "CPLEX 20.1.0.0: optimal solution; objective 0.732135193\n",
      "0 dual simplex iterations (0 in phase I)\n",
      "optimal obj. fun. value = 0.7321351929641852\n",
      "ambient dimension n = 4\n",
      "found relaxed embedding in natural dimension K = 3\n",
      "now projecting to 3 principal dimensions\n",
      "dualDDP mean distance error = 0.01344039615309515\n",
      "dualDDP largest distance error = 0.03579744821327363\n"
     ]
    },
    {
     "name": "stderr",
     "output_type": "stream",
     "text": [
      "\n",
      "100%|██████████| 3/3 [00:00<00:00, 34568.44it/s]"
     ]
    },
    {
     "name": "stdout",
     "output_type": "stream",
     "text": [
      "Cannot find \"ipopt\"\n",
      "NLP mean distance error = 0.013439858440478167\n",
      "NLP largest distance error = 0.03579696846706143\n",
      "CPLEX 20.1.0.0: optimal solution; objective 0.2399499849\n",
      "0 dual simplex iterations (0 in phase I)\n",
      "optimal obj. fun. value = 0.23994998487985375\n",
      "ambient dimension n = 3\n",
      "found relaxed embedding in natural dimension K = 2\n",
      "now projecting to 2 principal dimensions\n",
      "dualDDP mean distance error = 0.006531727491512225\n",
      "dualDDP largest distance error = 0.012904548903174162\n"
     ]
    },
    {
     "name": "stderr",
     "output_type": "stream",
     "text": [
      "\n",
      "100%|██████████| 7/7 [00:00<00:00, 48770.98it/s]"
     ]
    },
    {
     "name": "stdout",
     "output_type": "stream",
     "text": [
      "Cannot find \"ipopt\"\n",
      "NLP mean distance error = 0.006531478513750438\n",
      "NLP largest distance error = 0.012904268308729233\n",
      "CPLEX 20.1.0.0: optimal solution; objective 2.365033297\n",
      "0 dual simplex iterations (0 in phase I)\n",
      "optimal obj. fun. value = 2.365033297118754\n",
      "ambient dimension n = 7\n",
      "found relaxed embedding in natural dimension K = 4\n",
      "now projecting to 3 principal dimensions\n",
      "dualDDP mean distance error = 0.013233851696770837\n",
      "dualDDP largest distance error = 0.03883759146631101\n"
     ]
    },
    {
     "name": "stderr",
     "output_type": "stream",
     "text": [
      "\n",
      "100%|██████████| 7/7 [00:00<00:00, 44961.91it/s]"
     ]
    },
    {
     "name": "stdout",
     "output_type": "stream",
     "text": [
      "Cannot find \"ipopt\"\n",
      "NLP mean distance error = 0.013233660785961596\n",
      "NLP largest distance error = 0.03883760537617997\n",
      "CPLEX 20.1.0.0: optimal solution; objective 5.273723782\n",
      "0 dual simplex iterations (0 in phase I)\n",
      "optimal obj. fun. value = 5.2737237816845886\n",
      "ambient dimension n = 7\n",
      "found relaxed embedding in natural dimension K = 5\n",
      "now projecting to 3 principal dimensions\n",
      "dualDDP mean distance error = 0.026421402796505462\n",
      "dualDDP largest distance error = 0.11110469848931226\n"
     ]
    },
    {
     "name": "stderr",
     "output_type": "stream",
     "text": [
      "\n",
      "100%|██████████| 8/8 [00:00<00:00, 48003.48it/s]"
     ]
    },
    {
     "name": "stdout",
     "output_type": "stream",
     "text": [
      "Cannot find \"ipopt\"\n",
      "NLP mean distance error = 0.026421401746909674\n",
      "NLP largest distance error = 0.11110458179137683\n",
      "18\t0.52000000 0.66938784\ta man wearing a gray hat fishing out of a fishing boat.\tA man wearing a straw hat and fishing vest in a stream.\n",
      "CPLEX 20.1.0.0: optimal solution; objective 12.51910293\n",
      "0 dual simplex iterations (0 in phase I)\n",
      "optimal obj. fun. value = 12.51910293221497\n",
      "ambient dimension n = 8\n",
      "found relaxed embedding in natural dimension K = 5\n",
      "now projecting to 3 principal dimensions\n",
      "dualDDP mean distance error = 0.038887198641504625\n",
      "dualDDP largest distance error = 0.11589099850367335\n"
     ]
    },
    {
     "name": "stderr",
     "output_type": "stream",
     "text": [
      "\n",
      "100%|██████████| 5/5 [00:00<00:00, 45003.26it/s]"
     ]
    },
    {
     "name": "stdout",
     "output_type": "stream",
     "text": [
      "Cannot find \"ipopt\"\n",
      "NLP mean distance error = 0.0388871727562986\n",
      "NLP largest distance error = 0.1158913498597054\n",
      "CPLEX 20.1.0.0: optimal solution; objective 1.138443895\n",
      "0 dual simplex iterations (0 in phase I)\n",
      "optimal obj. fun. value = 1.1384438953592928\n",
      "ambient dimension n = 5\n",
      "found relaxed embedding in natural dimension K = 4\n",
      "now projecting to 3 principal dimensions\n",
      "dualDDP mean distance error = 0.007680516743627153\n",
      "dualDDP largest distance error = 0.046871997518953226\n"
     ]
    },
    {
     "name": "stderr",
     "output_type": "stream",
     "text": [
      "\n",
      "100%|██████████| 5/5 [00:00<00:00, 45392.90it/s]"
     ]
    },
    {
     "name": "stdout",
     "output_type": "stream",
     "text": [
      "Cannot find \"ipopt\"\n",
      "NLP mean distance error = 0.0076804952433275715\n",
      "NLP largest distance error = 0.0468719582817574\n",
      "19\t0.04000000 0.51060871\tA little girl in an orange striped outfit is airborne whilst bouncing on a bed.\tA dog in a red shirt is chasing a squirrel through the glass.\n",
      "CPLEX 20.1.0.0: optimal solution; objective 0.7900066614\n",
      "0 dual simplex iterations (0 in phase I)\n",
      "optimal obj. fun. value = 0.7900066614033597\n",
      "ambient dimension n = 5\n",
      "found relaxed embedding in natural dimension K = 4\n",
      "now projecting to 3 principal dimensions\n",
      "dualDDP mean distance error = 0.012894473581201358\n",
      "dualDDP largest distance error = 0.046012877001421704\n"
     ]
    },
    {
     "name": "stderr",
     "output_type": "stream",
     "text": [
      "\n",
      "100%|██████████| 6/6 [00:00<00:00, 41527.76it/s]"
     ]
    },
    {
     "name": "stdout",
     "output_type": "stream",
     "text": [
      "Cannot find \"ipopt\"\n",
      "NLP mean distance error = 0.012894564890251536\n",
      "NLP largest distance error = 0.04601309871027445\n",
      "CPLEX 20.1.0.0: optimal solution; objective 0.3535502549\n",
      "0 dual simplex iterations (0 in phase I)\n",
      "optimal obj. fun. value = 0.3535502549056212\n",
      "ambient dimension n = 6\n",
      "found relaxed embedding in natural dimension K = 4\n",
      "now projecting to 3 principal dimensions\n",
      "dualDDP mean distance error = 0.007127214913684989\n",
      "dualDDP largest distance error = 0.021499644081540696\n"
     ]
    },
    {
     "name": "stderr",
     "output_type": "stream",
     "text": [
      "\n",
      "100%|██████████| 5/5 [00:00<00:00, 48210.39it/s]"
     ]
    },
    {
     "name": "stdout",
     "output_type": "stream",
     "text": [
      "Cannot find \"ipopt\"\n",
      "NLP mean distance error = 0.007127264407850276\n",
      "NLP largest distance error = 0.021499641337671085\n",
      "20\t0.28000000 0.29386502\tA person is watching people ski down the hill.\tThe woman is jumping a long distance while people watch.\n",
      "CPLEX 20.1.0.0: optimal solution; objective 1.487278075\n",
      "0 dual simplex iterations (0 in phase I)\n",
      "optimal obj. fun. value = 1.4872780748556693\n",
      "ambient dimension n = 5\n",
      "found relaxed embedding in natural dimension K = 4\n",
      "now projecting to 3 principal dimensions\n",
      "dualDDP mean distance error = 0.007253906365739297\n",
      "dualDDP largest distance error = 0.021552139257803637\n"
     ]
    },
    {
     "name": "stderr",
     "output_type": "stream",
     "text": [
      "\n",
      "100%|██████████| 4/4 [00:00<00:00, 41425.22it/s]"
     ]
    },
    {
     "name": "stdout",
     "output_type": "stream",
     "text": [
      "Cannot find \"ipopt\"\n",
      "NLP mean distance error = 0.007254035084718448\n",
      "NLP largest distance error = 0.02155260252390223\n",
      "CPLEX 20.1.0.0: optimal solution; objective 0.1762536393\n",
      "0 dual simplex iterations (0 in phase I)\n",
      "optimal obj. fun. value = 0.17625363926502793\n",
      "ambient dimension n = 4\n",
      "found relaxed embedding in natural dimension K = 3\n",
      "now projecting to 3 principal dimensions\n",
      "dualDDP mean distance error = 0.006611718203687029\n",
      "dualDDP largest distance error = 0.02440672322302085\n"
     ]
    },
    {
     "name": "stderr",
     "output_type": "stream",
     "text": [
      "\n",
      "100%|██████████| 3/3 [00:00<00:00, 32099.27it/s]"
     ]
    },
    {
     "name": "stdout",
     "output_type": "stream",
     "text": [
      "Cannot find \"ipopt\"\n",
      "NLP mean distance error = 0.006611662140575184\n",
      "NLP largest distance error = 0.024406733470702872\n",
      "22\t0.08000000 0.95981398\tThe woman is drinking lemonade and watching T.V.\tThe man is sitting drinking coffee.\n",
      "CPLEX 20.1.0.0: optimal solution; objective 0.08198475822\n",
      "0 dual simplex iterations (0 in phase I)\n",
      "optimal obj. fun. value = 0.08198475822103884\n",
      "ambient dimension n = 3\n",
      "found relaxed embedding in natural dimension K = 2\n",
      "now projecting to 2 principal dimensions\n",
      "dualDDP mean distance error = 0.0030364928893659424\n",
      "dualDDP largest distance error = 0.004992522422084367\n"
     ]
    },
    {
     "name": "stderr",
     "output_type": "stream",
     "text": [
      "\n",
      "100%|██████████| 3/3 [00:00<00:00, 36472.21it/s]"
     ]
    },
    {
     "name": "stdout",
     "output_type": "stream",
     "text": [
      "Cannot find \"ipopt\"\n",
      "NLP mean distance error = 0.0030366067371319014\n",
      "NLP largest distance error = 0.004992510434814773\n",
      "CPLEX 20.1.0.0: optimal solution; objective 0.245763329\n",
      "0 dual simplex iterations (0 in phase I)\n",
      "optimal obj. fun. value = 0.245763328983493\n",
      "ambient dimension n = 3\n",
      "found relaxed embedding in natural dimension K = 2\n",
      "now projecting to 2 principal dimensions\n",
      "dualDDP mean distance error = 0.006788968433072181\n",
      "dualDDP largest distance error = 0.009883290940038508\n"
     ]
    },
    {
     "name": "stderr",
     "output_type": "stream",
     "text": [
      "\n",
      "100%|██████████| 4/4 [00:00<00:00, 46218.23it/s]"
     ]
    },
    {
     "name": "stdout",
     "output_type": "stream",
     "text": [
      "Cannot find \"ipopt\"\n",
      "NLP mean distance error = 0.0067889025809411176\n",
      "NLP largest distance error = 0.009882875308797695\n",
      "23\t0.64000000 0.99999998\tThree women cook.\tTwo women cooking.\n",
      "CPLEX 20.1.0.0: optimal solution; objective 1.146856575\n",
      "0 dual simplex iterations (0 in phase I)\n",
      "optimal obj. fun. value = 1.1468565750319413\n",
      "ambient dimension n = 4\n",
      "found relaxed embedding in natural dimension K = 2\n",
      "now projecting to 2 principal dimensions\n",
      "dualDDP mean distance error = 0.03954851971880707\n",
      "dualDDP largest distance error = 0.13532292335279908\n"
     ]
    },
    {
     "name": "stderr",
     "output_type": "stream",
     "text": [
      "\n",
      "100%|██████████| 4/4 [00:00<00:00, 34592.20it/s]"
     ]
    },
    {
     "name": "stdout",
     "output_type": "stream",
     "text": [
      "Cannot find \"ipopt\"\n",
      "NLP mean distance error = 0.03954843281313398\n",
      "NLP largest distance error = 0.13532241337617676\n",
      "CPLEX 20.1.0.0: optimal solution; objective 0.09243750961\n",
      "0 dual simplex iterations (0 in phase I)\n",
      "optimal obj. fun. value = 0.09243750960951476\n",
      "ambient dimension n = 4\n",
      "found relaxed embedding in natural dimension K = 2\n",
      "now projecting to 2 principal dimensions\n",
      "dualDDP mean distance error = 0.00876320102817066\n",
      "dualDDP largest distance error = 0.03108203063552639\n"
     ]
    },
    {
     "name": "stderr",
     "output_type": "stream",
     "text": [
      "\n",
      "100%|██████████| 3/3 [00:00<00:00, 36054.19it/s]"
     ]
    },
    {
     "name": "stdout",
     "output_type": "stream",
     "text": [
      "Cannot find \"ipopt\"\n",
      "NLP mean distance error = 0.008763134683234213\n",
      "NLP largest distance error = 0.031082053144369123\n",
      "24\t0.04000000 0.99748362\tThe woman is kneeling next to a cat.\tA girl is standing next to a man.\n",
      "CPLEX 20.1.0.0: optimal solution; objective 0.3478837816\n",
      "0 dual simplex iterations (0 in phase I)\n",
      "optimal obj. fun. value = 0.3478837816223534\n",
      "ambient dimension n = 3\n",
      "found relaxed embedding in natural dimension K = 2\n",
      "now projecting to 2 principal dimensions\n",
      "dualDDP mean distance error = 0.005966844776638784\n",
      "dualDDP largest distance error = 0.01420521875408616\n"
     ]
    },
    {
     "name": "stderr",
     "output_type": "stream",
     "text": [
      "\n",
      "100%|██████████| 4/4 [00:00<00:00, 44034.69it/s]"
     ]
    },
    {
     "name": "stdout",
     "output_type": "stream",
     "text": [
      "Cannot find \"ipopt\"\n",
      "NLP mean distance error = 0.005966703087891416\n",
      "NLP largest distance error = 0.014205196812147214\n",
      "CPLEX 20.1.0.0: optimal solution; objective 0.6184029035\n",
      "0 dual simplex iterations (0 in phase I)\n",
      "optimal obj. fun. value = 0.6184029035247693\n",
      "ambient dimension n = 4\n",
      "found relaxed embedding in natural dimension K = 3\n",
      "now projecting to 3 principal dimensions\n",
      "dualDDP mean distance error = 0.006459819833225084\n",
      "dualDDP largest distance error = 0.015085727826379416\n"
     ]
    },
    {
     "name": "stderr",
     "output_type": "stream",
     "text": [
      "\n",
      "100%|██████████| 6/6 [00:00<00:00, 49539.02it/s]"
     ]
    },
    {
     "name": "stdout",
     "output_type": "stream",
     "text": [
      "Cannot find \"ipopt\"\n",
      "NLP mean distance error = 0.00645952598723146\n",
      "NLP largest distance error = 0.015085519684335483\n",
      "CPLEX 20.1.0.0: optimal solution; objective 1.548853612\n",
      "0 dual simplex iterations (0 in phase I)\n",
      "optimal obj. fun. value = 1.548853612498838\n",
      "ambient dimension n = 6\n",
      "found relaxed embedding in natural dimension K = 4\n",
      "now projecting to 3 principal dimensions\n",
      "dualDDP mean distance error = 0.014565580809943605\n",
      "dualDDP largest distance error = 0.04588662933258053\n"
     ]
    },
    {
     "name": "stderr",
     "output_type": "stream",
     "text": [
      "\n",
      "100%|██████████| 5/5 [00:00<00:00, 46603.38it/s]"
     ]
    },
    {
     "name": "stdout",
     "output_type": "stream",
     "text": [
      "Cannot find \"ipopt\"\n",
      "NLP mean distance error = 0.014565693717431485\n",
      "NLP largest distance error = 0.04588694775908697\n",
      "CPLEX 20.1.0.0: optimal solution; objective 0.3905007835\n",
      "0 dual simplex iterations (0 in phase I)\n",
      "optimal obj. fun. value = 0.39050078348159056\n",
      "ambient dimension n = 5\n",
      "found relaxed embedding in natural dimension K = 4\n",
      "now projecting to 3 principal dimensions\n",
      "dualDDP mean distance error = 0.009245776698424355\n",
      "dualDDP largest distance error = 0.019534419202964136\n"
     ]
    },
    {
     "name": "stderr",
     "output_type": "stream",
     "text": [
      "\n",
      "100%|██████████| 8/8 [00:00<00:00, 48913.17it/s]"
     ]
    },
    {
     "name": "stdout",
     "output_type": "stream",
     "text": [
      "Cannot find \"ipopt\"\n",
      "NLP mean distance error = 0.009245846681302714\n",
      "NLP largest distance error = 0.01953440399322614\n",
      "26\t0.48000000 0.97285266\tThree guys playing a pro game of basketball.\ttwo guys playing a game of baseball.\n",
      "CPLEX 20.1.0.0: optimal solution; objective 3.386219356\n",
      "0 dual simplex iterations (0 in phase I)\n",
      "optimal obj. fun. value = 3.386219356439347\n",
      "ambient dimension n = 8\n",
      "found relaxed embedding in natural dimension K = 5\n",
      "now projecting to 3 principal dimensions\n",
      "dualDDP mean distance error = 0.027165728582108833\n",
      "dualDDP largest distance error = 0.09592792411108893\n"
     ]
    },
    {
     "name": "stderr",
     "output_type": "stream",
     "text": [
      "\n",
      "100%|██████████| 6/6 [00:00<00:00, 45019.36it/s]"
     ]
    },
    {
     "name": "stdout",
     "output_type": "stream",
     "text": [
      "Cannot find \"ipopt\"\n",
      "NLP mean distance error = 0.02716568938210878\n",
      "NLP largest distance error = 0.09592768055735339\n",
      "CPLEX 20.1.0.0: optimal solution; objective 2.010383121\n",
      "0 dual simplex iterations (0 in phase I)\n",
      "optimal obj. fun. value = 2.010383120761744\n",
      "ambient dimension n = 6\n",
      "found relaxed embedding in natural dimension K = 4\n",
      "now projecting to 3 principal dimensions\n",
      "dualDDP mean distance error = 0.027753651452990045\n",
      "dualDDP largest distance error = 0.09424573433142518\n"
     ]
    },
    {
     "name": "stderr",
     "output_type": "stream",
     "text": [
      "\n",
      "100%|██████████| 4/4 [00:00<00:00, 43577.18it/s]"
     ]
    },
    {
     "name": "stdout",
     "output_type": "stream",
     "text": [
      "Cannot find \"ipopt\"\n",
      "NLP mean distance error = 0.027753579804343\n",
      "NLP largest distance error = 0.09424562539765509\n",
      "27\t0.76000000 0.99166337\tA sad man is jumping over a small stream to meet his companion on the other side.\tA man is jumping over a stream to meet his companion on the other side.\n",
      "CPLEX 20.1.0.0: optimal solution; objective 1.170775395\n",
      "0 dual simplex iterations (0 in phase I)\n",
      "optimal obj. fun. value = 1.1707753952074436\n",
      "ambient dimension n = 4\n",
      "found relaxed embedding in natural dimension K = 3\n",
      "now projecting to 3 principal dimensions\n",
      "dualDDP mean distance error = 0.013918584334337368\n",
      "dualDDP largest distance error = 0.03150840047336906\n"
     ]
    },
    {
     "name": "stderr",
     "output_type": "stream",
     "text": [
      "\n",
      "100%|██████████| 8/8 [00:00<00:00, 47326.42it/s]"
     ]
    },
    {
     "name": "stdout",
     "output_type": "stream",
     "text": [
      "Cannot find \"ipopt\"\n",
      "NLP mean distance error = 0.013918709896794473\n",
      "NLP largest distance error = 0.031508660067385064\n",
      "CPLEX 20.1.0.0: optimal solution; objective 4.643170461\n",
      "0 dual simplex iterations (0 in phase I)\n",
      "optimal obj. fun. value = 4.643170460946698\n",
      "ambient dimension n = 8\n",
      "found relaxed embedding in natural dimension K = 6\n",
      "now projecting to 3 principal dimensions\n",
      "dualDDP mean distance error = 0.02100290938219485\n",
      "dualDDP largest distance error = 0.08986006672018129\n"
     ]
    },
    {
     "name": "stderr",
     "output_type": "stream",
     "text": [
      "\n",
      "100%|██████████| 3/3 [00:00<00:00, 31775.03it/s]"
     ]
    },
    {
     "name": "stdout",
     "output_type": "stream",
     "text": [
      "Cannot find \"ipopt\"\n",
      "NLP mean distance error = 0.021002877923854562\n",
      "NLP largest distance error = 0.08985991138669602\n",
      "28\t0.04000000 0.35889375\tThe boys are earning their next belt in karate.\tFive girls and one boy are in their swimsuits all in the middle of jumping into the pool.\n",
      "CPLEX 20.1.0.0: optimal solution; objective 0.8740414158\n",
      "0 dual simplex iterations (0 in phase I)\n",
      "optimal obj. fun. value = 0.8740414157696736\n",
      "ambient dimension n = 3\n",
      "found relaxed embedding in natural dimension K = 2\n",
      "now projecting to 2 principal dimensions\n",
      "dualDDP mean distance error = 0.01301452166024425\n",
      "dualDDP largest distance error = 0.02887503142617215\n",
      "Cannot find \"ipopt\"\n",
      "NLP mean distance error = 0.013014934169411388\n",
      "NLP largest distance error = 0.02887557737915053\n"
     ]
    },
    {
     "name": "stderr",
     "output_type": "stream",
     "text": [
      "\n",
      "100%|██████████| 3/3 [00:00<00:00, 38245.93it/s]\n",
      "100%|██████████| 4/4 [00:00<00:00, 44267.06it/s]"
     ]
    },
    {
     "name": "stdout",
     "output_type": "stream",
     "text": [
      "CPLEX 20.1.0.0: optimal solution; objective 0.6212635269\n",
      "0 dual simplex iterations (0 in phase I)\n",
      "optimal obj. fun. value = 0.6212635269013871\n",
      "ambient dimension n = 3\n",
      "found relaxed embedding in natural dimension K = 2\n",
      "now projecting to 2 principal dimensions\n",
      "dualDDP mean distance error = 0.01785342390235306\n",
      "dualDDP largest distance error = 0.03668264770895391\n",
      "Cannot find \"ipopt\"\n",
      "NLP mean distance error = 0.017853266794899698\n",
      "NLP largest distance error = 0.03668289795992152\n",
      "29\t0.28000000 0.99370610\tA woman is digging in the sand.\tA man is buried in the sand.\n"
     ]
    },
    {
     "name": "stderr",
     "output_type": "stream",
     "text": [
      "\n",
      "100%|██████████| 3/3 [00:00<00:00, 31694.99it/s]"
     ]
    },
    {
     "name": "stdout",
     "output_type": "stream",
     "text": [
      "CPLEX 20.1.0.0: optimal solution; objective 0.8278523615\n",
      "0 dual simplex iterations (0 in phase I)\n",
      "optimal obj. fun. value = 0.8278523615483855\n",
      "ambient dimension n = 4\n",
      "found relaxed embedding in natural dimension K = 3\n",
      "now projecting to 3 principal dimensions\n",
      "dualDDP mean distance error = 0.010381653042660442\n",
      "dualDDP largest distance error = 0.02699178539235797\n",
      "Cannot find \"ipopt\"\n",
      "NLP mean distance error = 0.010381847824120537\n",
      "NLP largest distance error = 0.026992147883575485\n"
     ]
    },
    {
     "name": "stderr",
     "output_type": "stream",
     "text": [
      "\n",
      "100%|██████████| 3/3 [00:00<00:00, 38130.04it/s]"
     ]
    },
    {
     "name": "stdout",
     "output_type": "stream",
     "text": [
      "CPLEX 20.1.0.0: optimal solution; objective 0.3713973789\n",
      "0 dual simplex iterations (0 in phase I)\n",
      "optimal obj. fun. value = 0.3713973789181385\n",
      "ambient dimension n = 3\n",
      "found relaxed embedding in natural dimension K = 2\n",
      "now projecting to 2 principal dimensions\n",
      "dualDDP mean distance error = 0.007873861873611868\n",
      "dualDDP largest distance error = 0.016495764821175207\n",
      "Cannot find \"ipopt\"\n",
      "NLP mean distance error = 0.007873964856877766\n",
      "NLP largest distance error = 0.016495789170693553\n",
      "CPLEX 20.1.0.0: optimal solution; objective 0.5297112772\n",
      "0 dual simplex iterations (0 in phase I)\n",
      "optimal obj. fun. value = 0.5297112771781455\n",
      "ambient dimension n = 3\n",
      "found relaxed embedding in natural dimension K = 2\n",
      "now projecting to 2 principal dimensions\n",
      "dualDDP mean distance error = 0.038512700466386836\n",
      "dualDDP largest distance error = 0.08522884194521405\n"
     ]
    },
    {
     "name": "stderr",
     "output_type": "stream",
     "text": [
      "\n",
      "100%|██████████| 3/3 [00:00<00:00, 34855.71it/s]"
     ]
    },
    {
     "name": "stdout",
     "output_type": "stream",
     "text": [
      "Cannot find \"ipopt\"\n",
      "NLP mean distance error = 0.038512808187214885\n",
      "NLP largest distance error = 0.08522906821933557\n",
      "CPLEX 20.1.0.0: optimal solution; objective 0.5366973568\n",
      "0 dual simplex iterations (0 in phase I)\n",
      "optimal obj. fun. value = 0.5366973568289639\n",
      "ambient dimension n = 3\n",
      "found relaxed embedding in natural dimension K = 2\n",
      "now projecting to 2 principal dimensions\n",
      "dualDDP mean distance error = 0.03809822908647406\n",
      "dualDDP largest distance error = 0.0842266313643256\n"
     ]
    },
    {
     "name": "stderr",
     "output_type": "stream",
     "text": [
      "\n",
      "100%|██████████| 6/6 [00:00<00:00, 49056.19it/s]"
     ]
    },
    {
     "name": "stdout",
     "output_type": "stream",
     "text": [
      "Cannot find \"ipopt\"\n",
      "NLP mean distance error = 0.03809826245288193\n",
      "NLP largest distance error = 0.08422700063830096\n",
      "31\t0.84000000 0.99998059\tA woman is bungee jumping.\tA girl is bungee jumping.\n",
      "CPLEX 20.1.0.0: optimal solution; objective 1.467078537\n",
      "0 dual simplex iterations (0 in phase I)\n",
      "optimal obj. fun. value = 1.467078537251362\n",
      "ambient dimension n = 6\n",
      "found relaxed embedding in natural dimension K = 5\n",
      "now projecting to 3 principal dimensions\n",
      "dualDDP mean distance error = 0.008321984222369168\n",
      "dualDDP largest distance error = 0.04697390593510852\n"
     ]
    },
    {
     "name": "stderr",
     "output_type": "stream",
     "text": [
      "\n",
      "100%|██████████| 8/8 [00:00<00:00, 46154.65it/s]"
     ]
    },
    {
     "name": "stdout",
     "output_type": "stream",
     "text": [
      "Cannot find \"ipopt\"\n",
      "NLP mean distance error = 0.008321855488477671\n",
      "NLP largest distance error = 0.04697390009599813\n",
      "CPLEX 20.1.0.0: optimal solution; objective 3.574586375\n",
      "0 dual simplex iterations (0 in phase I)\n",
      "optimal obj. fun. value = 3.5745863751737774\n",
      "ambient dimension n = 8\n",
      "found relaxed embedding in natural dimension K = 6\n",
      "now projecting to 3 principal dimensions\n",
      "dualDDP mean distance error = 0.018113467709523434\n",
      "dualDDP largest distance error = 0.05409970482149973\n"
     ]
    },
    {
     "name": "stderr",
     "output_type": "stream",
     "text": [
      "\n",
      "100%|██████████| 3/3 [00:00<00:00, 36900.04it/s]"
     ]
    },
    {
     "name": "stdout",
     "output_type": "stream",
     "text": [
      "Cannot find \"ipopt\"\n",
      "NLP mean distance error = 0.01811353499430801\n",
      "NLP largest distance error = 0.05409969820804053\n",
      "32\t0.24000000 0.41059879\tA clown performs for brother and sister as the rest of the party watches.\tA blond-haired child performing on the trumpet in front of a house while his younger brother watches.\n",
      "CPLEX 20.1.0.0: optimal solution; objective 0.7191157187\n",
      "0 dual simplex iterations (0 in phase I)\n",
      "optimal obj. fun. value = 0.7191157186861186\n",
      "ambient dimension n = 3\n",
      "found relaxed embedding in natural dimension K = 2\n",
      "now projecting to 2 principal dimensions\n",
      "dualDDP mean distance error = 0.030445768738313672\n",
      "dualDDP largest distance error = 0.06424023915229732\n"
     ]
    },
    {
     "name": "stderr",
     "output_type": "stream",
     "text": [
      "\n",
      "100%|██████████| 3/3 [00:00<00:00, 35345.26it/s]"
     ]
    },
    {
     "name": "stdout",
     "output_type": "stream",
     "text": [
      "Cannot find \"ipopt\"\n",
      "NLP mean distance error = 0.030445953516331947\n",
      "NLP largest distance error = 0.06424053836930471\n",
      "CPLEX 20.1.0.0: optimal solution; objective 0.6120337864\n",
      "0 dual simplex iterations (0 in phase I)\n",
      "optimal obj. fun. value = 0.6120337864293148\n",
      "ambient dimension n = 3\n",
      "found relaxed embedding in natural dimension K = 2\n",
      "now projecting to 2 principal dimensions\n",
      "dualDDP mean distance error = 0.016626490979931102\n",
      "dualDDP largest distance error = 0.032810916979669785\n"
     ]
    },
    {
     "name": "stderr",
     "output_type": "stream",
     "text": [
      "\n",
      "100%|██████████| 6/6 [00:00<00:00, 28024.30it/s]"
     ]
    },
    {
     "name": "stdout",
     "output_type": "stream",
     "text": [
      "Cannot find \"ipopt\"\n",
      "NLP mean distance error = 0.016626650627759327\n",
      "NLP largest distance error = 0.03281120835947737\n",
      "34\t0.76000000 0.99215652\tA human riding a skateboard.\tA child is riding a skateboard.\n",
      "CPLEX 20.1.0.0: optimal solution; objective 5.692377521\n",
      "0 dual simplex iterations (0 in phase I)\n",
      "optimal obj. fun. value = 5.692377521310917\n",
      "ambient dimension n = 6\n",
      "found relaxed embedding in natural dimension K = 5\n",
      "now projecting to 3 principal dimensions\n",
      "dualDDP mean distance error = 0.03662495581350132\n",
      "dualDDP largest distance error = 0.08180152013095454\n"
     ]
    },
    {
     "name": "stderr",
     "output_type": "stream",
     "text": [
      "\n",
      "100%|██████████| 5/5 [00:00<00:00, 29831.47it/s]"
     ]
    },
    {
     "name": "stdout",
     "output_type": "stream",
     "text": [
      "Cannot find \"ipopt\"\n",
      "NLP mean distance error = 0.0366252124033635\n",
      "NLP largest distance error = 0.08180169788330804\n",
      "CPLEX 20.1.0.0: optimal solution; objective 2.254590718\n",
      "0 dual simplex iterations (0 in phase I)\n",
      "optimal obj. fun. value = 2.2545907183071523\n",
      "ambient dimension n = 5\n",
      "found relaxed embedding in natural dimension K = 4\n",
      "now projecting to 3 principal dimensions\n",
      "dualDDP mean distance error = 0.01865857840132464\n",
      "dualDDP largest distance error = 0.05128749650653597\n"
     ]
    },
    {
     "name": "stderr",
     "output_type": "stream",
     "text": [
      "\n",
      "100%|██████████| 5/5 [00:00<00:00, 29789.09it/s]"
     ]
    },
    {
     "name": "stdout",
     "output_type": "stream",
     "text": [
      "Cannot find \"ipopt\"\n",
      "NLP mean distance error = 0.01865823240112304\n",
      "NLP largest distance error = 0.05128691636145777\n",
      "35\t0.20000000 0.58876081\tA woman in a plaid outfit is looking through a bag of produce.\tThis is the picture of a woman in a flowered dress, toting something in a bucket.\n",
      "CPLEX 20.1.0.0: optimal solution; objective 1.003646309\n",
      "0 dual simplex iterations (0 in phase I)\n",
      "optimal obj. fun. value = 1.0036463093536556\n",
      "ambient dimension n = 5\n",
      "found relaxed embedding in natural dimension K = 4\n",
      "now projecting to 3 principal dimensions\n",
      "dualDDP mean distance error = 0.014789444228240318\n",
      "dualDDP largest distance error = 0.04300735285137025\n"
     ]
    },
    {
     "name": "stderr",
     "output_type": "stream",
     "text": [
      "\n",
      "100%|██████████| 5/5 [00:00<00:00, 47233.15it/s]"
     ]
    },
    {
     "name": "stdout",
     "output_type": "stream",
     "text": [
      "Cannot find \"ipopt\"\n",
      "NLP mean distance error = 0.014789290344313755\n",
      "NLP largest distance error = 0.043007330169188285\n",
      "CPLEX 20.1.0.0: optimal solution; objective 0.4658666574\n",
      "0 dual simplex iterations (0 in phase I)\n",
      "optimal obj. fun. value = 0.465866657384373\n",
      "ambient dimension n = 5\n",
      "found relaxed embedding in natural dimension K = 4\n",
      "now projecting to 3 principal dimensions\n",
      "dualDDP mean distance error = 0.0077040371798274155\n",
      "dualDDP largest distance error = 0.020122478692944507\n"
     ]
    },
    {
     "name": "stderr",
     "output_type": "stream",
     "text": [
      "\n",
      "100%|██████████| 9/9 [00:00<00:00, 26848.32it/s]"
     ]
    },
    {
     "name": "stdout",
     "output_type": "stream",
     "text": [
      "Cannot find \"ipopt\"\n",
      "NLP mean distance error = 0.007704207519987322\n",
      "NLP largest distance error = 0.02012216439967421\n",
      "36\t0.68000000 0.98467217\tFour girls happily walk down a sidewalk.\tThree young girls walk down a sidewalk.\n",
      "CPLEX 20.1.0.0: optimal solution; objective 6.344653038\n",
      "0 dual simplex iterations (0 in phase I)\n",
      "optimal obj. fun. value = 6.344653037524925\n",
      "ambient dimension n = 9\n",
      "found relaxed embedding in natural dimension K = 7\n",
      "now projecting to 3 principal dimensions\n",
      "dualDDP mean distance error = 0.03148177914218854\n",
      "dualDDP largest distance error = 0.12889989101422225\n",
      "Cannot find \"ipopt\"\n"
     ]
    },
    {
     "name": "stderr",
     "output_type": "stream",
     "text": [
      "\n",
      "100%|██████████| 7/7 [00:00<00:00, 48449.06it/s]"
     ]
    },
    {
     "name": "stdout",
     "output_type": "stream",
     "text": [
      "NLP mean distance error = 0.031481762193834056\n",
      "NLP largest distance error = 0.12890012522768496\n",
      "CPLEX 20.1.0.0: optimal solution; objective 4.988520156\n",
      "0 dual simplex iterations (0 in phase I)\n",
      "optimal obj. fun. value = 4.988520156173897\n",
      "ambient dimension n = 7\n",
      "found relaxed embedding in natural dimension K = 5\n",
      "now projecting to 3 principal dimensions\n",
      "dualDDP mean distance error = 0.03160410603989353\n",
      "dualDDP largest distance error = 0.0896689706647765\n"
     ]
    },
    {
     "name": "stderr",
     "output_type": "stream",
     "text": [
      "\n",
      "100%|██████████| 4/4 [00:00<00:00, 42473.96it/s]"
     ]
    },
    {
     "name": "stdout",
     "output_type": "stream",
     "text": [
      "Cannot find \"ipopt\"\n",
      "NLP mean distance error = 0.031604059704998695\n",
      "NLP largest distance error = 0.08966869359752652\n",
      "37\t0.24000000 0.18022672\tThe tennis player hit the ball into outer space and broke the death star.\tA female tennis player is leaping into the air to hit the ball.\n",
      "CPLEX 20.1.0.0: optimal solution; objective 0.5553496166\n",
      "0 dual simplex iterations (0 in phase I)\n",
      "optimal obj. fun. value = 0.5553496166462151\n",
      "ambient dimension n = 4\n",
      "found relaxed embedding in natural dimension K = 3\n",
      "now projecting to 3 principal dimensions\n",
      "dualDDP mean distance error = 0.013506168285241496\n",
      "dualDDP largest distance error = 0.04309060106392637\n"
     ]
    },
    {
     "name": "stderr",
     "output_type": "stream",
     "text": [
      "\n",
      "100%|██████████| 3/3 [00:00<00:00, 37117.73it/s]"
     ]
    },
    {
     "name": "stdout",
     "output_type": "stream",
     "text": [
      "Cannot find \"ipopt\"\n",
      "NLP mean distance error = 0.013506178406232841\n",
      "NLP largest distance error = 0.04309062403489722\n",
      "CPLEX 20.1.0.0: optimal solution; objective 0.3895123656\n",
      "0 dual simplex iterations (0 in phase I)\n",
      "optimal obj. fun. value = 0.3895123655522884\n",
      "ambient dimension n = 3\n",
      "found relaxed embedding in natural dimension K = 2\n",
      "now projecting to 2 principal dimensions\n",
      "dualDDP mean distance error = 0.00369319744471037\n",
      "dualDDP largest distance error = 0.00714042923547728\n"
     ]
    },
    {
     "name": "stderr",
     "output_type": "stream",
     "text": [
      "\n",
      "100%|██████████| 4/4 [00:00<00:00, 43129.09it/s]"
     ]
    },
    {
     "name": "stdout",
     "output_type": "stream",
     "text": [
      "Cannot find \"ipopt\"\n",
      "NLP mean distance error = 0.0036932740086016713\n",
      "NLP largest distance error = 0.007140380687146702\n",
      "CPLEX 20.1.0.0: optimal solution; objective 1.525904849\n",
      "0 dual simplex iterations (0 in phase I)\n",
      "optimal obj. fun. value = 1.5259048486946534\n",
      "ambient dimension n = 4\n",
      "found relaxed embedding in natural dimension K = 3\n",
      "now projecting to 3 principal dimensions\n",
      "dualDDP mean distance error = 0.005896236939054722\n",
      "dualDDP largest distance error = 0.013563144534508409\n"
     ]
    },
    {
     "name": "stderr",
     "output_type": "stream",
     "text": [
      "\n",
      "100%|██████████| 6/6 [00:00<00:00, 20262.34it/s]"
     ]
    },
    {
     "name": "stdout",
     "output_type": "stream",
     "text": [
      "Cannot find \"ipopt\"\n",
      "NLP mean distance error = 0.005896386802025412\n",
      "NLP largest distance error = 0.013563129809481989\n",
      "CPLEX 20.1.0.0: optimal solution; objective 7.059104715\n",
      "0 dual simplex iterations (0 in phase I)\n",
      "optimal obj. fun. value = 7.059104714809978\n",
      "ambient dimension n = 6\n",
      "found relaxed embedding in natural dimension K = 4\n",
      "now projecting to 3 principal dimensions\n",
      "dualDDP mean distance error = 0.029903954808172505\n",
      "dualDDP largest distance error = 0.09250840544644834\n"
     ]
    },
    {
     "name": "stderr",
     "output_type": "stream",
     "text": [
      "\n",
      "100%|██████████| 4/4 [00:00<00:00, 44384.17it/s]"
     ]
    },
    {
     "name": "stdout",
     "output_type": "stream",
     "text": [
      "Cannot find \"ipopt\"\n",
      "NLP mean distance error = 0.029904091373696824\n",
      "NLP largest distance error = 0.09250889719116451\n",
      "39\t0.48000000 0.01947496\ta group of navy seals are singing\tA group of military personnel are playing in a brass quintet.\n",
      "CPLEX 20.1.0.0: optimal solution; objective 1.105450033\n",
      "0 dual simplex iterations (0 in phase I)\n",
      "optimal obj. fun. value = 1.1054500334980546\n",
      "ambient dimension n = 4\n",
      "found relaxed embedding in natural dimension K = 3\n",
      "now projecting to 3 principal dimensions\n",
      "dualDDP mean distance error = 0.024451710269174382\n",
      "dualDDP largest distance error = 0.066291578193097\n"
     ]
    },
    {
     "name": "stderr",
     "output_type": "stream",
     "text": [
      "\n",
      "100%|██████████| 5/5 [00:00<00:00, 46707.17it/s]"
     ]
    },
    {
     "name": "stdout",
     "output_type": "stream",
     "text": [
      "Cannot find \"ipopt\"\n",
      "NLP mean distance error = 0.024451516516864478\n",
      "NLP largest distance error = 0.06629141157180923\n",
      "CPLEX 20.1.0.0: optimal solution; objective 3.264407233\n",
      "0 dual simplex iterations (0 in phase I)\n",
      "optimal obj. fun. value = 3.2644072326771933\n",
      "ambient dimension n = 5\n",
      "found relaxed embedding in natural dimension K = 3\n",
      "now projecting to 3 principal dimensions\n",
      "dualDDP mean distance error = 0.040525443065144065\n",
      "dualDDP largest distance error = 0.09967437454153456\n"
     ]
    },
    {
     "name": "stderr",
     "output_type": "stream",
     "text": [
      "\n",
      "100%|██████████| 7/7 [00:00<00:00, 49427.82it/s]"
     ]
    },
    {
     "name": "stdout",
     "output_type": "stream",
     "text": [
      "Cannot find \"ipopt\"\n",
      "NLP mean distance error = 0.040525461594823\n",
      "NLP largest distance error = 0.0996746127028449\n",
      "40\t0.40000000 0.99377545\tBlond boy jumping onto deck.\tA boy jumping down a wet inflatable slide.\n",
      "CPLEX 20.1.0.0: optimal solution; objective 9.541717232\n",
      "0 dual simplex iterations (0 in phase I)\n",
      "optimal obj. fun. value = 9.541717231735056\n",
      "ambient dimension n = 7\n",
      "found relaxed embedding in natural dimension K = 4\n",
      "now projecting to 3 principal dimensions\n",
      "dualDDP mean distance error = 0.068118084614221\n",
      "dualDDP largest distance error = 0.15130403025057393\n"
     ]
    },
    {
     "name": "stderr",
     "output_type": "stream",
     "text": [
      "\n",
      "100%|██████████| 6/6 [00:00<00:00, 50533.78it/s]"
     ]
    },
    {
     "name": "stdout",
     "output_type": "stream",
     "text": [
      "Cannot find \"ipopt\"\n",
      "NLP mean distance error = 0.06811795204806166\n",
      "NLP largest distance error = 0.15130450381131222\n",
      "CPLEX 20.1.0.0: optimal solution; objective 6.02286282\n",
      "0 dual simplex iterations (0 in phase I)\n",
      "optimal obj. fun. value = 6.022862819612461\n",
      "ambient dimension n = 6\n",
      "found relaxed embedding in natural dimension K = 4\n",
      "now projecting to 3 principal dimensions\n",
      "dualDDP mean distance error = 0.04740747148797148\n",
      "dualDDP largest distance error = 0.12527170257657338\n"
     ]
    },
    {
     "name": "stderr",
     "output_type": "stream",
     "text": [
      "\n",
      "100%|██████████| 9/9 [00:00<00:00, 48897.33it/s]"
     ]
    },
    {
     "name": "stdout",
     "output_type": "stream",
     "text": [
      "Cannot find \"ipopt\"\n",
      "NLP mean distance error = 0.04740764424463803\n",
      "NLP largest distance error = 0.12527202719727581\n",
      "41\t0.52000000 0.98929882\tA man uses a chainsaw to sculpt a phallic ice sculpture.\tA man is using a chainsaw to carve a wooden sculpture.\n",
      "CPLEX 20.1.0.0: optimal solution; objective 10.95115848\n",
      "0 dual simplex iterations (0 in phase I)\n",
      "optimal obj. fun. value = 10.951158481371515\n",
      "ambient dimension n = 9\n",
      "found relaxed embedding in natural dimension K = 7\n",
      "now projecting to 3 principal dimensions\n",
      "dualDDP mean distance error = 0.04621323582629876\n",
      "dualDDP largest distance error = 0.15465455073617332\n"
     ]
    },
    {
     "name": "stderr",
     "output_type": "stream",
     "text": [
      "\n",
      "100%|██████████| 5/5 [00:00<00:00, 47339.77it/s]"
     ]
    },
    {
     "name": "stdout",
     "output_type": "stream",
     "text": [
      "Cannot find \"ipopt\"\n",
      "NLP mean distance error = 0.0462132873006636\n",
      "NLP largest distance error = 0.15465468167900165\n",
      "CPLEX 20.1.0.0: optimal solution; objective 1.493799954\n",
      "0 dual simplex iterations (0 in phase I)\n",
      "optimal obj. fun. value = 1.4937999538128799\n",
      "ambient dimension n = 5\n",
      "found relaxed embedding in natural dimension K = 4\n",
      "now projecting to 3 principal dimensions\n",
      "dualDDP mean distance error = 0.008584901996004793\n",
      "dualDDP largest distance error = 0.034289369146027315\n"
     ]
    },
    {
     "name": "stderr",
     "output_type": "stream",
     "text": [
      "\n",
      "100%|██████████| 4/4 [00:00<00:00, 44501.90it/s]"
     ]
    },
    {
     "name": "stdout",
     "output_type": "stream",
     "text": [
      "Cannot find \"ipopt\"\n",
      "NLP mean distance error = 0.008585054337876711\n",
      "NLP largest distance error = 0.034289359247230145\n",
      "42\t0.76000000 0.99895062\tA group of male construction workers repair railroad tracks on a cloudy day\tA crew of workers working on a railroad track.\n",
      "CPLEX 20.1.0.0: optimal solution; objective 1.045786131\n",
      "0 dual simplex iterations (0 in phase I)\n",
      "optimal obj. fun. value = 1.0457861313815868\n",
      "ambient dimension n = 4\n",
      "found relaxed embedding in natural dimension K = 3\n",
      "now projecting to 3 principal dimensions\n",
      "dualDDP mean distance error = 0.016124804537548033\n",
      "dualDDP largest distance error = 0.05163313265728256\n"
     ]
    },
    {
     "name": "stderr",
     "output_type": "stream",
     "text": [
      "\n",
      "100%|██████████| 4/4 [00:00<00:00, 40136.88it/s]"
     ]
    },
    {
     "name": "stdout",
     "output_type": "stream",
     "text": [
      "Cannot find \"ipopt\"\n",
      "NLP mean distance error = 0.016124910113335597\n",
      "NLP largest distance error = 0.051633125229083116\n",
      "CPLEX 20.1.0.0: optimal solution; objective 0.4377274823\n",
      "0 dual simplex iterations (0 in phase I)\n",
      "optimal obj. fun. value = 0.4377274823123545\n",
      "ambient dimension n = 4\n",
      "found relaxed embedding in natural dimension K = 3\n",
      "now projecting to 3 principal dimensions\n",
      "dualDDP mean distance error = 0.029879225315820896\n",
      "dualDDP largest distance error = 0.0551806672281446\n"
     ]
    },
    {
     "name": "stderr",
     "output_type": "stream",
     "text": [
      "\n",
      "100%|██████████| 3/3 [00:00<00:00, 39199.10it/s]"
     ]
    },
    {
     "name": "stdout",
     "output_type": "stream",
     "text": [
      "Cannot find \"ipopt\"\n",
      "NLP mean distance error = 0.02987930117198295\n",
      "NLP largest distance error = 0.055180353906452734\n",
      "43\t0.64000000 0.99004622\tA man playing the violin in the rain.\tA man playing the guitar in the rain.\n",
      "CPLEX 20.1.0.0: optimal solution; objective 0.3932090426\n",
      "0 dual simplex iterations (0 in phase I)\n",
      "optimal obj. fun. value = 0.39320904258008516\n",
      "ambient dimension n = 3\n",
      "found relaxed embedding in natural dimension K = 2\n",
      "now projecting to 2 principal dimensions\n",
      "dualDDP mean distance error = 0.00673330295813437\n",
      "dualDDP largest distance error = 0.01247642368116847\n"
     ]
    },
    {
     "name": "stderr",
     "output_type": "stream",
     "text": [
      "\n",
      "100%|██████████| 3/3 [00:00<00:00, 31068.92it/s]"
     ]
    },
    {
     "name": "stdout",
     "output_type": "stream",
     "text": [
      "Cannot find \"ipopt\"\n",
      "NLP mean distance error = 0.006733362076503338\n",
      "NLP largest distance error = 0.012476362649018524\n",
      "CPLEX 20.1.0.0: optimal solution; objective 0.418554195\n",
      "0 dual simplex iterations (0 in phase I)\n",
      "optimal obj. fun. value = 0.41855419501133784\n",
      "ambient dimension n = 3\n",
      "found relaxed embedding in natural dimension K = 2\n",
      "now projecting to 2 principal dimensions\n",
      "dualDDP mean distance error = 0.0016603678506159718\n",
      "dualDDP largest distance error = 0.002137346185850736\n"
     ]
    },
    {
     "name": "stderr",
     "output_type": "stream",
     "text": [
      "\n",
      "100%|██████████| 6/6 [00:00<00:00, 46689.84it/s]"
     ]
    },
    {
     "name": "stdout",
     "output_type": "stream",
     "text": [
      "Cannot find \"ipopt\"\n",
      "NLP mean distance error = 0.0016601851026510235\n",
      "NLP largest distance error = 0.002137327784664432\n",
      "44\t0.44000000 0.00203436\tThe people are leaving the airplane.\tThe people are entering the plane.\n",
      "CPLEX 20.1.0.0: optimal solution; objective 2.544576642\n",
      "0 dual simplex iterations (0 in phase I)\n",
      "optimal obj. fun. value = 2.544576642123017\n",
      "ambient dimension n = 6\n",
      "found relaxed embedding in natural dimension K = 4\n",
      "now projecting to 3 principal dimensions\n",
      "dualDDP mean distance error = 0.019940861421885735\n",
      "dualDDP largest distance error = 0.04915705753469135\n"
     ]
    },
    {
     "name": "stderr",
     "output_type": "stream",
     "text": [
      "\n",
      "100%|██████████| 4/4 [00:00<00:00, 38216.89it/s]"
     ]
    },
    {
     "name": "stdout",
     "output_type": "stream",
     "text": [
      "Cannot find \"ipopt\"\n",
      "NLP mean distance error = 0.019940791973942797\n",
      "NLP largest distance error = 0.04915683154192893\n",
      "CPLEX 20.1.0.0: optimal solution; objective 0.4098778292\n",
      "0 dual simplex iterations (0 in phase I)\n",
      "optimal obj. fun. value = 0.4098778292181069\n",
      "ambient dimension n = 4\n",
      "found relaxed embedding in natural dimension K = 3\n",
      "now projecting to 3 principal dimensions\n",
      "dualDDP mean distance error = 0.00890277391116699\n",
      "dualDDP largest distance error = 0.029247821845682337\n"
     ]
    },
    {
     "name": "stderr",
     "output_type": "stream",
     "text": [
      "\n",
      "100%|██████████| 4/4 [00:00<00:00, 40041.09it/s]"
     ]
    },
    {
     "name": "stdout",
     "output_type": "stream",
     "text": [
      "Cannot find \"ipopt\"\n",
      "NLP mean distance error = 0.008902511825783747\n",
      "NLP largest distance error = 0.02924782069266854\n",
      "47\t0.52000000 0.23659528\tthe tan dog is playing with the red dog out in the snow\tA yellow dog is playing in the snow.\n",
      "CPLEX 20.1.0.0: optimal solution; objective 0.9206034256\n",
      "0 dual simplex iterations (0 in phase I)\n",
      "optimal obj. fun. value = 0.9206034256143575\n",
      "ambient dimension n = 4\n",
      "found relaxed embedding in natural dimension K = 3\n",
      "now projecting to 3 principal dimensions\n",
      "dualDDP mean distance error = 0.013283254038504866\n",
      "dualDDP largest distance error = 0.03731825615082632\n"
     ]
    },
    {
     "name": "stderr",
     "output_type": "stream",
     "text": [
      "\n",
      "100%|██████████| 10/10 [00:00<00:00, 40800.62it/s]"
     ]
    },
    {
     "name": "stdout",
     "output_type": "stream",
     "text": [
      "Cannot find \"ipopt\"\n",
      "NLP mean distance error = 0.013283056859189471\n",
      "NLP largest distance error = 0.03731799088775939\n",
      "CPLEX 20.1.0.0: optimal solution; objective 6.33835619\n",
      "0 dual simplex iterations (0 in phase I)\n",
      "optimal obj. fun. value = 6.3383561901663095\n",
      "ambient dimension n = 10\n",
      "found relaxed embedding in natural dimension K = 7\n",
      "now projecting to 3 principal dimensions\n",
      "dualDDP mean distance error = 0.020312045631542656\n",
      "dualDDP largest distance error = 0.07706554469996829\n"
     ]
    },
    {
     "name": "stderr",
     "output_type": "stream",
     "text": [
      "\n",
      "100%|██████████| 5/5 [00:00<00:00, 42111.49it/s]"
     ]
    },
    {
     "name": "stdout",
     "output_type": "stream",
     "text": [
      "Cannot find \"ipopt\"\n",
      "NLP mean distance error = 0.02031208020292041\n",
      "NLP largest distance error = 0.07706508550013558\n",
      "48\t0.04000000 0.20750774\tPeople making a structure out of cards.\tTwo people are together and one is using a piece of clothing in a different way than intended.\n",
      "CPLEX 20.1.0.0: optimal solution; objective 1.876718302\n",
      "0 dual simplex iterations (0 in phase I)\n",
      "optimal obj. fun. value = 1.8767183016952496\n",
      "ambient dimension n = 5\n",
      "found relaxed embedding in natural dimension K = 4\n",
      "now projecting to 3 principal dimensions\n",
      "dualDDP mean distance error = 0.0030208191619966514\n",
      "dualDDP largest distance error = 0.015058923083304655\n"
     ]
    },
    {
     "name": "stderr",
     "output_type": "stream",
     "text": [
      "\n",
      "100%|██████████| 7/7 [00:00<00:00, 43367.99it/s]"
     ]
    },
    {
     "name": "stdout",
     "output_type": "stream",
     "text": [
      "Cannot find \"ipopt\"\n",
      "NLP mean distance error = 0.003020491807162768\n",
      "NLP largest distance error = 0.015058945998328244\n",
      "CPLEX 20.1.0.0: optimal solution; objective 0.7487291808\n",
      "0 dual simplex iterations (0 in phase I)\n",
      "optimal obj. fun. value = 0.7487291807847227\n",
      "ambient dimension n = 7\n",
      "found relaxed embedding in natural dimension K = 5\n",
      "now projecting to 3 principal dimensions\n",
      "dualDDP mean distance error = 0.011296830445094604\n",
      "dualDDP largest distance error = 0.03361326805806488\n"
     ]
    },
    {
     "name": "stderr",
     "output_type": "stream",
     "text": [
      "\n",
      "100%|██████████| 3/3 [00:00<00:00, 38956.38it/s]"
     ]
    },
    {
     "name": "stdout",
     "output_type": "stream",
     "text": [
      "Cannot find \"ipopt\"\n",
      "NLP mean distance error = 0.01129680801016961\n",
      "NLP largest distance error = 0.03361322205192623\n",
      "49\t0.04000000 0.81948627\ta girl with vases in the background inside her house\tThe girl is standing as the other girl with glasses works on her hand painting.\n",
      "CPLEX 20.1.0.0: optimal solution; objective 0.01934338437\n",
      "0 dual simplex iterations (0 in phase I)\n",
      "optimal obj. fun. value = 0.019343384368775318\n",
      "ambient dimension n = 3\n",
      "found relaxed embedding in natural dimension K = 2\n",
      "now projecting to 2 principal dimensions\n",
      "dualDDP mean distance error = 0.0015394125299019977\n",
      "dualDDP largest distance error = 0.002795608196430474\n"
     ]
    },
    {
     "name": "stderr",
     "output_type": "stream",
     "text": [
      "\n",
      "100%|██████████| 3/3 [00:00<00:00, 35951.18it/s]"
     ]
    },
    {
     "name": "stdout",
     "output_type": "stream",
     "text": [
      "Cannot find \"ipopt\"\n",
      "NLP mean distance error = 0.001539444562049696\n",
      "NLP largest distance error = 0.0027956421859360175\n",
      "CPLEX 20.1.0.0: optimal solution; objective 0.02477225664\n",
      "0 dual simplex iterations (0 in phase I)\n",
      "optimal obj. fun. value = 0.02477225664277476\n",
      "ambient dimension n = 3\n",
      "found relaxed embedding in natural dimension K = 2\n",
      "now projecting to 2 principal dimensions\n",
      "dualDDP mean distance error = 0.0020567609934719878\n",
      "dualDDP largest distance error = 0.004072503236844313\n"
     ]
    },
    {
     "name": "stderr",
     "output_type": "stream",
     "text": [
      "\n",
      "100%|██████████| 5/5 [00:00<00:00, 40485.56it/s]"
     ]
    },
    {
     "name": "stdout",
     "output_type": "stream",
     "text": [
      "Cannot find \"ipopt\"\n",
      "NLP mean distance error = 0.002056744305464863\n",
      "NLP largest distance error = 0.0040724877708656765\n",
      "50\t0.60000000 0.98673536\tThere are four people outside.\tFive people are outside.\n",
      "CPLEX 20.1.0.0: optimal solution; objective 0.1859771641\n",
      "0 dual simplex iterations (0 in phase I)\n",
      "optimal obj. fun. value = 0.18597716409710371\n",
      "ambient dimension n = 5\n",
      "found relaxed embedding in natural dimension K = 4\n",
      "now projecting to 3 principal dimensions\n",
      "dualDDP mean distance error = 0.004551838691594085\n",
      "dualDDP largest distance error = 0.024839957459436547\n"
     ]
    },
    {
     "name": "stderr",
     "output_type": "stream",
     "text": [
      "\n",
      "100%|██████████| 3/3 [00:00<00:00, 36472.21it/s]"
     ]
    },
    {
     "name": "stdout",
     "output_type": "stream",
     "text": [
      "Cannot find \"ipopt\"\n",
      "NLP mean distance error = 0.004551847108439857\n",
      "NLP largest distance error = 0.024840003350594532\n",
      "CPLEX 20.1.0.0: optimal solution; objective 0.08425849505\n",
      "0 dual simplex iterations (0 in phase I)\n",
      "optimal obj. fun. value = 0.08425849504749326\n",
      "ambient dimension n = 3\n",
      "found relaxed embedding in natural dimension K = 2\n",
      "now projecting to 2 principal dimensions\n",
      "dualDDP mean distance error = 0.002312422237060995\n",
      "dualDDP largest distance error = 0.004343253270046879\n"
     ]
    },
    {
     "name": "stderr",
     "output_type": "stream",
     "text": [
      "\n",
      "100%|██████████| 5/5 [00:00<00:00, 29704.70it/s]"
     ]
    },
    {
     "name": "stdout",
     "output_type": "stream",
     "text": [
      "Cannot find \"ipopt\"\n",
      "NLP mean distance error = 0.0023122146240501886\n",
      "NLP largest distance error = 0.004343197759674386\n",
      "CPLEX 20.1.0.0: optimal solution; objective 0.38226725\n",
      "0 dual simplex iterations (0 in phase I)\n",
      "optimal obj. fun. value = 0.3822672499914406\n",
      "ambient dimension n = 5\n",
      "found relaxed embedding in natural dimension K = 4\n",
      "now projecting to 3 principal dimensions\n",
      "dualDDP mean distance error = 0.01130321058859029\n",
      "dualDDP largest distance error = 0.02914173143679466\n"
     ]
    },
    {
     "name": "stderr",
     "output_type": "stream",
     "text": [
      "\n",
      "100%|██████████| 7/7 [00:00<00:00, 49097.20it/s]"
     ]
    },
    {
     "name": "stdout",
     "output_type": "stream",
     "text": [
      "Cannot find \"ipopt\"\n",
      "NLP mean distance error = 0.011303401172898003\n",
      "NLP largest distance error = 0.029141753580641166\n",
      "CPLEX 20.1.0.0: optimal solution; objective 1.181727253\n",
      "0 dual simplex iterations (0 in phase I)\n",
      "optimal obj. fun. value = 1.181727252798534\n",
      "ambient dimension n = 7\n",
      "found relaxed embedding in natural dimension K = 5\n",
      "now projecting to 3 principal dimensions\n",
      "dualDDP mean distance error = 0.023252074537802658\n",
      "dualDDP largest distance error = 0.07271470470016506\n"
     ]
    },
    {
     "name": "stderr",
     "output_type": "stream",
     "text": [
      "\n",
      "100%|██████████| 7/7 [00:00<00:00, 52428.80it/s]"
     ]
    },
    {
     "name": "stdout",
     "output_type": "stream",
     "text": [
      "Cannot find \"ipopt\"\n",
      "NLP mean distance error = 0.0232520756985222\n",
      "NLP largest distance error = 0.07271460997815829\n",
      "52\t0.36000000 0.71266740\tGirls are holding hands in blue clothes\tThe young people are wearing jeans with their red and green shirts.\n",
      "CPLEX 20.1.0.0: optimal solution; objective 1.489061812\n",
      "0 dual simplex iterations (0 in phase I)\n",
      "optimal obj. fun. value = 1.4890618116868484\n",
      "ambient dimension n = 7\n",
      "found relaxed embedding in natural dimension K = 5\n",
      "now projecting to 3 principal dimensions\n",
      "dualDDP mean distance error = 0.014372440699972098\n",
      "dualDDP largest distance error = 0.04472582527443607\n",
      "Cannot find \"ipopt\"\n",
      "NLP mean distance error = 0.014372494986132332\n"
     ]
    },
    {
     "name": "stderr",
     "output_type": "stream",
     "text": [
      "\n",
      "100%|██████████| 4/4 [00:00<00:00, 45964.98it/s]"
     ]
    },
    {
     "name": "stdout",
     "output_type": "stream",
     "text": [
      "NLP largest distance error = 0.04472576943735636\n",
      "CPLEX 20.1.0.0: optimal solution; objective 0.06648000279\n",
      "0 dual simplex iterations (0 in phase I)\n",
      "optimal obj. fun. value = 0.0664800027883421\n",
      "ambient dimension n = 4\n",
      "found relaxed embedding in natural dimension K = 3\n",
      "now projecting to 3 principal dimensions\n",
      "dualDDP mean distance error = 0.0049700704914840315\n",
      "dualDDP largest distance error = 0.013672723056319606\n"
     ]
    },
    {
     "name": "stderr",
     "output_type": "stream",
     "text": [
      "\n",
      "100%|██████████| 7/7 [00:00<00:00, 47740.05it/s]"
     ]
    },
    {
     "name": "stdout",
     "output_type": "stream",
     "text": [
      "Cannot find \"ipopt\"\n",
      "NLP mean distance error = 0.0049700694614316305\n",
      "NLP largest distance error = 0.013672755224882212\n",
      "53\t0.44000000 0.94631840\tPeople rock jumping into water while people fish in the background.\tTwo people watching the water.\n",
      "CPLEX 20.1.0.0: optimal solution; objective 2.325436724\n",
      "0 dual simplex iterations (0 in phase I)\n",
      "optimal obj. fun. value = 2.325436724271698\n",
      "ambient dimension n = 7\n",
      "found relaxed embedding in natural dimension K = 5\n",
      "now projecting to 3 principal dimensions\n",
      "dualDDP mean distance error = 0.015002039155541805\n",
      "dualDDP largest distance error = 0.0432602668520326\n"
     ]
    },
    {
     "name": "stderr",
     "output_type": "stream",
     "text": [
      "\n",
      "100%|██████████| 5/5 [00:00<00:00, 43509.38it/s]"
     ]
    },
    {
     "name": "stdout",
     "output_type": "stream",
     "text": [
      "Cannot find \"ipopt\"\n",
      "NLP mean distance error = 0.015002271374815187\n",
      "NLP largest distance error = 0.04326007344298605\n",
      "CPLEX 20.1.0.0: optimal solution; objective 0.03804669609\n",
      "0 dual simplex iterations (0 in phase I)\n",
      "optimal obj. fun. value = 0.038046696086507015\n",
      "ambient dimension n = 5\n",
      "found relaxed embedding in natural dimension K = 4\n",
      "now projecting to 3 principal dimensions\n",
      "dualDDP mean distance error = 0.0024104963009229743\n",
      "dualDDP largest distance error = 0.009338147597111678\n"
     ]
    },
    {
     "name": "stderr",
     "output_type": "stream",
     "text": [
      "\n",
      "100%|██████████| 7/7 [00:00<00:00, 50360.43it/s]"
     ]
    },
    {
     "name": "stdout",
     "output_type": "stream",
     "text": [
      "Cannot find \"ipopt\"\n",
      "NLP mean distance error = 0.002410485199066311\n",
      "NLP largest distance error = 0.009338118765921763\n",
      "54\t0.12000000 0.85115227\tA man is demonstrating how to work with clay while at least two people observe.\tAt least one of the three women is talking to the others.\n",
      "CPLEX 20.1.0.0: optimal solution; objective 3.03754375\n",
      "0 dual simplex iterations (0 in phase I)\n",
      "optimal obj. fun. value = 3.0375437502915164\n",
      "ambient dimension n = 7\n",
      "found relaxed embedding in natural dimension K = 5\n",
      "now projecting to 3 principal dimensions\n",
      "dualDDP mean distance error = 0.024384586588459472\n",
      "dualDDP largest distance error = 0.07517880837294924\n"
     ]
    },
    {
     "name": "stderr",
     "output_type": "stream",
     "text": [
      "\n",
      "100%|██████████| 6/6 [00:00<00:00, 32725.39it/s]"
     ]
    },
    {
     "name": "stdout",
     "output_type": "stream",
     "text": [
      "Cannot find \"ipopt\"\n",
      "NLP mean distance error = 0.02438446994504771\n",
      "NLP largest distance error = 0.07517913298082399\n",
      "CPLEX 20.1.0.0: optimal solution; objective 3.533340375\n",
      "0 dual simplex iterations (0 in phase I)\n",
      "optimal obj. fun. value = 3.5333403747450696\n",
      "ambient dimension n = 6\n",
      "found relaxed embedding in natural dimension K = 4\n",
      "now projecting to 3 principal dimensions\n",
      "dualDDP mean distance error = 0.02435005204642165\n",
      "dualDDP largest distance error = 0.1054333664457778\n"
     ]
    },
    {
     "name": "stderr",
     "output_type": "stream",
     "text": [
      "\n",
      "100%|██████████| 4/4 [00:00<00:00, 35925.52it/s]"
     ]
    },
    {
     "name": "stdout",
     "output_type": "stream",
     "text": [
      "Cannot find \"ipopt\"\n",
      "NLP mean distance error = 0.024350125636944466\n",
      "NLP largest distance error = 0.1054334096290864\n",
      "56\t1.00000000 0.40360802\tA blonde woman looks for medical supplies for work in a suitcase.\tThe blond woman is searching for medical supplies in a suitcase.\n",
      "CPLEX 20.1.0.0: optimal solution; objective 0.1271633841\n",
      "0 dual simplex iterations (0 in phase I)\n",
      "optimal obj. fun. value = 0.12716338407897135\n",
      "ambient dimension n = 4\n",
      "found relaxed embedding in natural dimension K = 3\n",
      "now projecting to 3 principal dimensions\n",
      "dualDDP mean distance error = 0.003915630747496324\n",
      "dualDDP largest distance error = 0.010817999599971359\n"
     ]
    },
    {
     "name": "stderr",
     "output_type": "stream",
     "text": [
      "\n",
      "100%|██████████| 4/4 [00:00<00:00, 41630.81it/s]"
     ]
    },
    {
     "name": "stdout",
     "output_type": "stream",
     "text": [
      "Cannot find \"ipopt\"\n",
      "NLP mean distance error = 0.003915590306399053\n",
      "NLP largest distance error = 0.010817991277314087\n",
      "CPLEX 20.1.0.0: optimal solution; objective 0.1271633841\n",
      "0 dual simplex iterations (0 in phase I)\n",
      "optimal obj. fun. value = 0.12716338407897135\n",
      "ambient dimension n = 4\n",
      "found relaxed embedding in natural dimension K = 3\n",
      "now projecting to 3 principal dimensions\n",
      "dualDDP mean distance error = 0.003325058235293757\n",
      "dualDDP largest distance error = 0.012964450423519853\n"
     ]
    },
    {
     "name": "stderr",
     "output_type": "stream",
     "text": [
      "\n",
      "100%|██████████| 8/8 [00:00<00:00, 48700.19it/s]"
     ]
    },
    {
     "name": "stdout",
     "output_type": "stream",
     "text": [
      "Cannot find \"ipopt\"\n",
      "NLP mean distance error = 0.003325074976425816\n",
      "NLP largest distance error = 0.01296445948651604\n",
      "57\t1.00000000 0.68939633\tA boy is at school taking a test.\tThe boy is taking a test at school.\n",
      "CPLEX 20.1.0.0: optimal solution; objective 0.9508306927\n",
      "0 dual simplex iterations (0 in phase I)\n",
      "optimal obj. fun. value = 0.9508306926953142\n",
      "ambient dimension n = 8\n",
      "found relaxed embedding in natural dimension K = 6\n",
      "now projecting to 3 principal dimensions\n",
      "dualDDP mean distance error = 0.011572360651947666\n",
      "dualDDP largest distance error = 0.057604136648026924\n"
     ]
    },
    {
     "name": "stderr",
     "output_type": "stream",
     "text": [
      "\n",
      "100%|██████████| 4/4 [00:00<00:00, 33091.16it/s]"
     ]
    },
    {
     "name": "stdout",
     "output_type": "stream",
     "text": [
      "Cannot find \"ipopt\"\n",
      "NLP mean distance error = 0.011572410378546187\n",
      "NLP largest distance error = 0.05760414594772338\n",
      "CPLEX 20.1.0.0: optimal solution; objective 1.527518671\n",
      "0 dual simplex iterations (0 in phase I)\n",
      "optimal obj. fun. value = 1.5275186709343087\n",
      "ambient dimension n = 4\n",
      "found relaxed embedding in natural dimension K = 3\n",
      "now projecting to 3 principal dimensions\n",
      "dualDDP mean distance error = 0.01411639786061502\n",
      "dualDDP largest distance error = 0.04855964248058178\n"
     ]
    },
    {
     "name": "stderr",
     "output_type": "stream",
     "text": [
      "\n",
      "100%|██████████| 8/8 [00:00<00:00, 28292.10it/s]"
     ]
    },
    {
     "name": "stdout",
     "output_type": "stream",
     "text": [
      "Cannot find \"ipopt\"\n",
      "NLP mean distance error = 0.014116588906807982\n",
      "NLP largest distance error = 0.04855993223048527\n",
      "58\t0.44000000 0.65466644\tAn old man wearing a hat stands outside a shop door.\ta man in an oversized shirt sits at a shop\n",
      "CPLEX 20.1.0.0: optimal solution; objective 10.25977983\n",
      "0 dual simplex iterations (0 in phase I)\n",
      "optimal obj. fun. value = 10.259779828309421\n",
      "ambient dimension n = 8\n",
      "found relaxed embedding in natural dimension K = 6\n",
      "now projecting to 3 principal dimensions\n",
      "dualDDP mean distance error = 0.024011605120071805\n",
      "dualDDP largest distance error = 0.10147800730313286\n"
     ]
    },
    {
     "name": "stderr",
     "output_type": "stream",
     "text": [
      "\n",
      "100%|██████████| 7/7 [00:00<00:00, 45239.03it/s]"
     ]
    },
    {
     "name": "stdout",
     "output_type": "stream",
     "text": [
      "Cannot find \"ipopt\"\n",
      "NLP mean distance error = 0.02401160919360059\n",
      "NLP largest distance error = 0.10147793550608256\n",
      "CPLEX 20.1.0.0: optimal solution; objective 7.339148486\n",
      "0 dual simplex iterations (0 in phase I)\n",
      "optimal obj. fun. value = 7.339148485649359\n",
      "ambient dimension n = 7\n",
      "found relaxed embedding in natural dimension K = 5\n",
      "now projecting to 3 principal dimensions\n",
      "dualDDP mean distance error = 0.020266418595031\n",
      "dualDDP largest distance error = 0.08200845681926844\n"
     ]
    },
    {
     "name": "stderr",
     "output_type": "stream",
     "text": [
      "\n",
      "100%|██████████| 5/5 [00:00<00:00, 30750.03it/s]"
     ]
    },
    {
     "name": "stdout",
     "output_type": "stream",
     "text": [
      "Cannot find \"ipopt\"\n",
      "NLP mean distance error = 0.020266451778360034\n",
      "NLP largest distance error = 0.08200856869569384\n",
      "59\t0.04000000 0.93757602\tSculptor applying concrete to large statue of human figure standing with no head.\tA person is standing in front of a building holding aloft some plywood\n",
      "CPLEX 20.1.0.0: optimal solution; objective 0.141522461\n",
      "0 dual simplex iterations (0 in phase I)\n",
      "optimal obj. fun. value = 0.1415224610112391\n",
      "ambient dimension n = 5\n",
      "found relaxed embedding in natural dimension K = 4\n",
      "now projecting to 3 principal dimensions\n",
      "dualDDP mean distance error = 0.002827014540815946\n",
      "dualDDP largest distance error = 0.006580467475611057\n"
     ]
    },
    {
     "name": "stderr",
     "output_type": "stream",
     "text": [
      "\n",
      "100%|██████████| 3/3 [00:00<00:00, 25731.93it/s]"
     ]
    },
    {
     "name": "stdout",
     "output_type": "stream",
     "text": [
      "Cannot find \"ipopt\"\n",
      "NLP mean distance error = 0.0028270165232948804\n",
      "NLP largest distance error = 0.0065804763463957056\n",
      "CPLEX 20.1.0.0: optimal solution; objective 0.0441250516\n",
      "0 dual simplex iterations (0 in phase I)\n",
      "optimal obj. fun. value = 0.0441250516013517\n",
      "ambient dimension n = 3\n",
      "found relaxed embedding in natural dimension K = 2\n",
      "now projecting to 2 principal dimensions\n",
      "dualDDP mean distance error = 0.004051735600118345\n",
      "dualDDP largest distance error = 0.00921629976914469\n"
     ]
    },
    {
     "name": "stderr",
     "output_type": "stream",
     "text": [
      "\n",
      "100%|██████████| 3/3 [00:00<00:00, 34952.53it/s]"
     ]
    },
    {
     "name": "stdout",
     "output_type": "stream",
     "text": [
      "Cannot find \"ipopt\"\n",
      "NLP mean distance error = 0.004051750970045879\n",
      "NLP largest distance error = 0.009216286711598257\n",
      "CPLEX 20.1.0.0: optimal solution; objective 0.8663952694\n",
      "0 dual simplex iterations (0 in phase I)\n",
      "optimal obj. fun. value = 0.8663952693718312\n",
      "ambient dimension n = 3\n",
      "found relaxed embedding in natural dimension K = 2\n",
      "now projecting to 2 principal dimensions\n",
      "dualDDP mean distance error = 0.0019066580370219466\n",
      "dualDDP largest distance error = 0.0028599488471300893\n",
      "Cannot find \"ipopt\"\n"
     ]
    },
    {
     "name": "stderr",
     "output_type": "stream",
     "text": [
      "\n",
      "100%|██████████| 5/5 [00:00<00:00, 46192.78it/s]"
     ]
    },
    {
     "name": "stdout",
     "output_type": "stream",
     "text": [
      "NLP mean distance error = 0.001906793315150257\n",
      "NLP largest distance error = 0.0028605075872879526\n",
      "CPLEX 20.1.0.0: optimal solution; objective 1.821455814\n",
      "0 dual simplex iterations (0 in phase I)\n",
      "optimal obj. fun. value = 1.82145581366799\n",
      "ambient dimension n = 5\n",
      "found relaxed embedding in natural dimension K = 4\n",
      "now projecting to 3 principal dimensions\n",
      "dualDDP mean distance error = 0.018368904058796542\n",
      "dualDDP largest distance error = 0.08450289589711504\n"
     ]
    },
    {
     "name": "stderr",
     "output_type": "stream",
     "text": [
      "\n",
      "100%|██████████| 4/4 [00:00<00:00, 44501.90it/s]"
     ]
    },
    {
     "name": "stdout",
     "output_type": "stream",
     "text": [
      "Cannot find \"ipopt\"\n",
      "NLP mean distance error = 0.01836887188473295\n",
      "NLP largest distance error = 0.08450306879881467\n",
      "CPLEX 20.1.0.0: optimal solution; objective 0.8956521576\n",
      "0 dual simplex iterations (0 in phase I)\n",
      "optimal obj. fun. value = 0.8956521575576067\n",
      "ambient dimension n = 4\n",
      "found relaxed embedding in natural dimension K = 3\n",
      "now projecting to 3 principal dimensions\n",
      "dualDDP mean distance error = 0.008769043347770676\n",
      "dualDDP largest distance error = 0.019649933208640336\n"
     ]
    },
    {
     "name": "stderr",
     "output_type": "stream",
     "text": [
      "\n",
      "100%|██████████| 3/3 [00:00<00:00, 26944.14it/s]"
     ]
    },
    {
     "name": "stdout",
     "output_type": "stream",
     "text": [
      "Cannot find \"ipopt\"\n",
      "NLP mean distance error = 0.008769091052005596\n",
      "NLP largest distance error = 0.019649875325388894\n",
      "CPLEX 20.1.0.0: optimal solution; objective 1.008350694\n",
      "0 dual simplex iterations (0 in phase I)\n",
      "optimal obj. fun. value = 1.0083506944444445\n",
      "ambient dimension n = 3\n",
      "found relaxed embedding in natural dimension K = 2\n",
      "now projecting to 2 principal dimensions\n",
      "dualDDP mean distance error = 0.010086229774345853\n",
      "dualDDP largest distance error = 0.015129344661518829\n"
     ]
    },
    {
     "name": "stderr",
     "output_type": "stream",
     "text": [
      "\n",
      "100%|██████████| 5/5 [00:00<00:00, 38550.59it/s]"
     ]
    },
    {
     "name": "stdout",
     "output_type": "stream",
     "text": [
      "Cannot find \"ipopt\"\n",
      "NLP mean distance error = 0.010086502540419836\n",
      "NLP largest distance error = 0.015129753810629754\n",
      "CPLEX 20.1.0.0: optimal solution; objective 0.9267068802\n",
      "0 dual simplex iterations (0 in phase I)\n",
      "optimal obj. fun. value = 0.9267068802071936\n",
      "ambient dimension n = 5\n",
      "found relaxed embedding in natural dimension K = 3\n",
      "now projecting to 3 principal dimensions\n",
      "dualDDP mean distance error = 0.002181797397117811\n",
      "dualDDP largest distance error = 0.0064315744905795134\n"
     ]
    },
    {
     "name": "stderr",
     "output_type": "stream",
     "text": [
      "\n",
      "100%|██████████| 3/3 [00:00<00:00, 27235.74it/s]"
     ]
    },
    {
     "name": "stdout",
     "output_type": "stream",
     "text": [
      "Cannot find \"ipopt\"\n",
      "NLP mean distance error = 0.002181657684972786\n",
      "NLP largest distance error = 0.006431509667871951\n",
      "CPLEX 20.1.0.0: optimal solution; objective 0.7461785355\n",
      "0 dual simplex iterations (0 in phase I)\n",
      "optimal obj. fun. value = 0.746178535514926\n",
      "ambient dimension n = 3\n",
      "found relaxed embedding in natural dimension K = 2\n",
      "now projecting to 2 principal dimensions\n",
      "dualDDP mean distance error = 0.02535591520483405\n",
      "dualDDP largest distance error = 0.059363745978820506\n"
     ]
    },
    {
     "name": "stderr",
     "output_type": "stream",
     "text": [
      "\n",
      "100%|██████████| 5/5 [00:00<00:00, 44906.90it/s]\n"
     ]
    },
    {
     "name": "stdout",
     "output_type": "stream",
     "text": [
      "Cannot find \"ipopt\"\n",
      "NLP mean distance error = 0.025355610823080323\n",
      "NLP largest distance error = 0.05936368885135403\n",
      "CPLEX 20.1.0.0: optimal solution; objective 0.3263405746\n",
      "0 dual simplex iterations (0 in phase I)\n",
      "optimal obj. fun. value = 0.32634057457268645\n",
      "ambient dimension n = 5\n",
      "found relaxed embedding in natural dimension K = 4\n",
      "now projecting to 3 principal dimensions\n",
      "dualDDP mean distance error = 0.005524290122151849\n",
      "dualDDP largest distance error = 0.0236966418663032\n"
     ]
    },
    {
     "name": "stderr",
     "output_type": "stream",
     "text": [
      "100%|██████████| 4/4 [00:00<00:00, 34663.67it/s]"
     ]
    },
    {
     "name": "stdout",
     "output_type": "stream",
     "text": [
      "Cannot find \"ipopt\"\n",
      "NLP mean distance error = 0.005524233093519299\n",
      "NLP largest distance error = 0.023696662620230152\n",
      "CPLEX 20.1.0.0: optimal solution; objective 0.01830626198\n",
      "0 dual simplex iterations (0 in phase I)\n",
      "optimal obj. fun. value = 0.018306261980238766\n",
      "ambient dimension n = 4\n",
      "found relaxed embedding in natural dimension K = 3\n",
      "now projecting to 3 principal dimensions\n",
      "dualDDP mean distance error = 0.0018292032755703885\n",
      "dualDDP largest distance error = 0.005850470825225489\n",
      "Cannot find \"ipopt\"\n"
     ]
    },
    {
     "name": "stderr",
     "output_type": "stream",
     "text": [
      "\n",
      "100%|██████████| 5/5 [00:00<00:00, 48099.82it/s]"
     ]
    },
    {
     "name": "stdout",
     "output_type": "stream",
     "text": [
      "NLP mean distance error = 0.0018292295039296109\n",
      "NLP largest distance error = 0.005850503971236577\n",
      "66\t0.20000000 0.20131146\tA woman looks at a duck as she walks behind it.\tA woman is going on a walk with her dog.\n",
      "CPLEX 20.1.0.0: optimal solution; objective 3.816319624\n",
      "0 dual simplex iterations (0 in phase I)\n",
      "optimal obj. fun. value = 3.816319623688085\n",
      "ambient dimension n = 5\n",
      "found relaxed embedding in natural dimension K = 3\n",
      "now projecting to 3 principal dimensions\n",
      "dualDDP mean distance error = 0.022511747468302243\n",
      "dualDDP largest distance error = 0.044571816555220356\n"
     ]
    },
    {
     "name": "stderr",
     "output_type": "stream",
     "text": [
      "\n",
      "100%|██████████| 4/4 [00:00<00:00, 42581.77it/s]"
     ]
    },
    {
     "name": "stdout",
     "output_type": "stream",
     "text": [
      "Cannot find \"ipopt\"\n",
      "NLP mean distance error = 0.022511915955365155\n",
      "NLP largest distance error = 0.04457148528374277\n",
      "CPLEX 20.1.0.0: optimal solution; objective 0.8548893972\n",
      "0 dual simplex iterations (0 in phase I)\n",
      "optimal obj. fun. value = 0.854889397214868\n",
      "ambient dimension n = 4\n",
      "found relaxed embedding in natural dimension K = 3\n",
      "now projecting to 3 principal dimensions\n",
      "dualDDP mean distance error = 0.014149179070494547\n",
      "dualDDP largest distance error = 0.04375405057721893\n"
     ]
    },
    {
     "name": "stderr",
     "output_type": "stream",
     "text": [
      "\n",
      "100%|██████████| 7/7 [00:00<00:00, 50102.61it/s]\n"
     ]
    },
    {
     "name": "stdout",
     "output_type": "stream",
     "text": [
      "Cannot find \"ipopt\"\n",
      "NLP mean distance error = 0.014149280998613165\n",
      "NLP largest distance error = 0.043754317754202715\n",
      "67\t0.40000000 0.13733345\tthe men are about to score in a water polo tournament\tThe two men are about to compete in a match.\n",
      "CPLEX 20.1.0.0: optimal solution; objective 5.67898128\n",
      "0 dual simplex iterations (0 in phase I)\n",
      "optimal obj. fun. value = 5.678981279662301\n",
      "ambient dimension n = 7\n",
      "found relaxed embedding in natural dimension K = 6\n",
      "now projecting to 3 principal dimensions\n",
      "dualDDP mean distance error = 0.01976251497665267\n",
      "dualDDP largest distance error = 0.08164732018418502\n"
     ]
    },
    {
     "name": "stderr",
     "output_type": "stream",
     "text": [
      "100%|██████████| 8/8 [00:00<00:00, 47662.55it/s]"
     ]
    },
    {
     "name": "stdout",
     "output_type": "stream",
     "text": [
      "Cannot find \"ipopt\"\n",
      "NLP mean distance error = 0.01976249502169557\n",
      "NLP largest distance error = 0.08164703965973646\n",
      "CPLEX 20.1.0.0: optimal solution; objective 5.3946152\n",
      "0 dual simplex iterations (0 in phase I)\n",
      "optimal obj. fun. value = 5.394615199504525\n",
      "ambient dimension n = 8\n",
      "found relaxed embedding in natural dimension K = 5\n",
      "now projecting to 3 principal dimensions\n",
      "dualDDP mean distance error = 0.014076815325640037\n",
      "dualDDP largest distance error = 0.04007648010886011\n"
     ]
    },
    {
     "name": "stderr",
     "output_type": "stream",
     "text": [
      "\n",
      "100%|██████████| 8/8 [00:00<00:00, 46798.37it/s]"
     ]
    },
    {
     "name": "stdout",
     "output_type": "stream",
     "text": [
      "Cannot find \"ipopt\"\n",
      "NLP mean distance error = 0.014076762534336295\n",
      "NLP largest distance error = 0.04007661740783808\n",
      "68\t0.44000000 0.99784168\tMan sitting on a bench drink from a mug surrounded by rugs.\tA man is sitting on one of two red benches and staring into a kiosk.\n",
      "CPLEX 20.1.0.0: optimal solution; objective 6.330506334\n",
      "0 dual simplex iterations (0 in phase I)\n",
      "optimal obj. fun. value = 6.330506333801983\n",
      "ambient dimension n = 8\n",
      "found relaxed embedding in natural dimension K = 5\n",
      "now projecting to 3 principal dimensions\n",
      "dualDDP mean distance error = 0.041391343849812696\n",
      "dualDDP largest distance error = 0.13215100407825564\n"
     ]
    },
    {
     "name": "stderr",
     "output_type": "stream",
     "text": [
      "\n",
      "100%|██████████| 5/5 [00:00<00:00, 47554.47it/s]"
     ]
    },
    {
     "name": "stdout",
     "output_type": "stream",
     "text": [
      "Cannot find \"ipopt\"\n",
      "NLP mean distance error = 0.041391364925272685\n",
      "NLP largest distance error = 0.13215119124233932\n",
      "CPLEX 20.1.0.0: optimal solution; objective 0.8046864285\n",
      "0 dual simplex iterations (0 in phase I)\n",
      "optimal obj. fun. value = 0.8046864285126928\n",
      "ambient dimension n = 5\n",
      "found relaxed embedding in natural dimension K = 4\n",
      "now projecting to 3 principal dimensions\n",
      "dualDDP mean distance error = 0.03759104312960402\n",
      "dualDDP largest distance error = 0.11180517334065336\n"
     ]
    },
    {
     "name": "stderr",
     "output_type": "stream",
     "text": [
      "\n",
      "100%|██████████| 4/4 [00:00<00:00, 37957.50it/s]"
     ]
    },
    {
     "name": "stdout",
     "output_type": "stream",
     "text": [
      "Cannot find \"ipopt\"\n",
      "NLP mean distance error = 0.03759112685782443\n",
      "NLP largest distance error = 0.11180514827313277\n",
      "69\t0.56000000 0.70844178\tA man eats popcorn while watching cartoons late one night.\tA man and a girl are watching cartoons at home\n",
      "CPLEX 20.1.0.0: optimal solution; objective 0.44841091\n",
      "0 dual simplex iterations (0 in phase I)\n",
      "optimal obj. fun. value = 0.44841090996039673\n",
      "ambient dimension n = 4\n",
      "found relaxed embedding in natural dimension K = 3\n",
      "now projecting to 3 principal dimensions\n",
      "dualDDP mean distance error = 0.005176182787090607\n",
      "dualDDP largest distance error = 0.01056419333511821\n"
     ]
    },
    {
     "name": "stderr",
     "output_type": "stream",
     "text": [
      "\n",
      "100%|██████████| 4/4 [00:00<00:00, 27776.85it/s]"
     ]
    },
    {
     "name": "stdout",
     "output_type": "stream",
     "text": [
      "Cannot find \"ipopt\"\n",
      "NLP mean distance error = 0.00517609079829312\n",
      "NLP largest distance error = 0.010564054602250239\n",
      "CPLEX 20.1.0.0: optimal solution; objective 0.4452739689\n",
      "0 dual simplex iterations (0 in phase I)\n",
      "optimal obj. fun. value = 0.4452739689499338\n",
      "ambient dimension n = 4\n",
      "found relaxed embedding in natural dimension K = 3\n",
      "now projecting to 3 principal dimensions\n",
      "dualDDP mean distance error = 0.005237226633990992\n",
      "dualDDP largest distance error = 0.010949949931312764\n"
     ]
    },
    {
     "name": "stderr",
     "output_type": "stream",
     "text": [
      "\n",
      "100%|██████████| 12/12 [00:00<00:00, 31126.56it/s]"
     ]
    },
    {
     "name": "stdout",
     "output_type": "stream",
     "text": [
      "Cannot find \"ipopt\"\n",
      "NLP mean distance error = 0.005237273079308825\n",
      "NLP largest distance error = 0.010950067573647637\n",
      "70\t0.64000000 0.99999985\tThree men sit on a bench.\ttwo men sit on a bench.\n",
      "CPLEX 20.1.0.0: optimal solution; objective 10.97755207\n",
      "0 dual simplex iterations (0 in phase I)\n",
      "optimal obj. fun. value = 10.97755207130247\n",
      "ambient dimension n = 12\n",
      "found relaxed embedding in natural dimension K = 9\n",
      "now projecting to 3 principal dimensions\n",
      "dualDDP mean distance error = 0.03384026950468881\n",
      "dualDDP largest distance error = 0.1398984204116666\n"
     ]
    },
    {
     "name": "stderr",
     "output_type": "stream",
     "text": [
      "\n",
      "100%|██████████| 7/7 [00:00<00:00, 49427.82it/s]"
     ]
    },
    {
     "name": "stdout",
     "output_type": "stream",
     "text": [
      "Cannot find \"ipopt\"\n",
      "NLP mean distance error = 0.03384028424680626\n",
      "NLP largest distance error = 0.13989871636240986\n",
      "CPLEX 20.1.0.0: optimal solution; objective 3.049407206\n",
      "0 dual simplex iterations (0 in phase I)\n",
      "optimal obj. fun. value = 3.0494072056330817\n",
      "ambient dimension n = 7\n",
      "found relaxed embedding in natural dimension K = 5\n",
      "now projecting to 3 principal dimensions\n",
      "dualDDP mean distance error = 0.015250435555594783\n",
      "dualDDP largest distance error = 0.048478442458775445\n"
     ]
    },
    {
     "name": "stderr",
     "output_type": "stream",
     "text": [
      "\n",
      "100%|██████████| 9/9 [00:00<00:00, 46892.84it/s]"
     ]
    },
    {
     "name": "stdout",
     "output_type": "stream",
     "text": [
      "Cannot find \"ipopt\"\n",
      "NLP mean distance error = 0.015250497822526576\n",
      "NLP largest distance error = 0.04847858065727864\n",
      "72\t0.40000000 0.99427904\tA small blond boy slides head first down a blue playground slide toward another blond youth.\tA young boy with his hair standing up, is sliding down a blue slide\n",
      "CPLEX 20.1.0.0: optimal solution; objective 5.26650965\n",
      "0 dual simplex iterations (0 in phase I)\n",
      "optimal obj. fun. value = 5.266509649954657\n",
      "ambient dimension n = 9\n",
      "found relaxed embedding in natural dimension K = 7\n",
      "now projecting to 3 principal dimensions\n",
      "dualDDP mean distance error = 0.024401587964814654\n",
      "dualDDP largest distance error = 0.08498340311532904\n"
     ]
    },
    {
     "name": "stderr",
     "output_type": "stream",
     "text": [
      "\n",
      "100%|██████████| 9/9 [00:00<00:00, 43539.49it/s]"
     ]
    },
    {
     "name": "stdout",
     "output_type": "stream",
     "text": [
      "Cannot find \"ipopt\"\n",
      "NLP mean distance error = 0.024401527614483914\n",
      "NLP largest distance error = 0.08498390433521089\n",
      "CPLEX 20.1.0.0: optimal solution; objective 2.019060812\n",
      "0 dual simplex iterations (0 in phase I)\n",
      "optimal obj. fun. value = 2.019060812169555\n",
      "ambient dimension n = 9\n",
      "found relaxed embedding in natural dimension K = 7\n",
      "now projecting to 3 principal dimensions\n",
      "dualDDP mean distance error = 0.01949952583734586\n",
      "dualDDP largest distance error = 0.07170314755923322\n"
     ]
    },
    {
     "name": "stderr",
     "output_type": "stream",
     "text": [
      "\n",
      "100%|██████████| 6/6 [00:00<00:00, 45507.82it/s]"
     ]
    },
    {
     "name": "stdout",
     "output_type": "stream",
     "text": [
      "Cannot find \"ipopt\"\n",
      "NLP mean distance error = 0.019499449455131886\n",
      "NLP largest distance error = 0.07170303895264629\n",
      "74\t0.36000000 0.99984289\ta young man wearing a white t-shirt and green and black shorts standing on a stump.\tA man wearing a white shirt and red and black shorts is running on the sidewalk.\n",
      "CPLEX 20.1.0.0: optimal solution; objective 1.944426838\n",
      "0 dual simplex iterations (0 in phase I)\n",
      "optimal obj. fun. value = 1.9444268376781007\n",
      "ambient dimension n = 6\n",
      "found relaxed embedding in natural dimension K = 5\n",
      "now projecting to 3 principal dimensions\n",
      "dualDDP mean distance error = 0.048792567670075435\n",
      "dualDDP largest distance error = 0.13460965576678185\n"
     ]
    },
    {
     "name": "stderr",
     "output_type": "stream",
     "text": [
      "\n",
      "100%|██████████| 5/5 [00:00<00:00, 28571.55it/s]"
     ]
    },
    {
     "name": "stdout",
     "output_type": "stream",
     "text": [
      "Cannot find \"ipopt\"\n",
      "NLP mean distance error = 0.048792533605705145\n",
      "NLP largest distance error = 0.13460953985200763\n",
      "CPLEX 20.1.0.0: optimal solution; objective 1.478604996\n",
      "0 dual simplex iterations (0 in phase I)\n",
      "optimal obj. fun. value = 1.4786049964788943\n",
      "ambient dimension n = 5\n",
      "found relaxed embedding in natural dimension K = 4\n",
      "now projecting to 3 principal dimensions\n",
      "dualDDP mean distance error = 0.05201889028074029\n",
      "dualDDP largest distance error = 0.1405119404433247\n"
     ]
    },
    {
     "name": "stderr",
     "output_type": "stream",
     "text": [
      "\n",
      "100%|██████████| 6/6 [00:00<00:00, 50737.55it/s]"
     ]
    },
    {
     "name": "stdout",
     "output_type": "stream",
     "text": [
      "Cannot find \"ipopt\"\n",
      "NLP mean distance error = 0.05201881948047441\n",
      "NLP largest distance error = 0.1405116306219908\n",
      "78\t0.84000000 0.98094834\tTwo women give a demonstration at a Renaissance Fair.\tTwo people are doing a demonstration at a renaissance fair.\n",
      "CPLEX 20.1.0.0: optimal solution; objective 1.648876111\n",
      "0 dual simplex iterations (0 in phase I)\n",
      "optimal obj. fun. value = 1.6488761113233636\n",
      "ambient dimension n = 6\n",
      "found relaxed embedding in natural dimension K = 4\n",
      "now projecting to 3 principal dimensions\n",
      "dualDDP mean distance error = 0.011157124511034943\n",
      "dualDDP largest distance error = 0.048379738504462366\n"
     ]
    },
    {
     "name": "stderr",
     "output_type": "stream",
     "text": [
      "\n",
      "100%|██████████| 6/6 [00:00<00:00, 43919.41it/s]"
     ]
    },
    {
     "name": "stdout",
     "output_type": "stream",
     "text": [
      "Cannot find \"ipopt\"\n",
      "NLP mean distance error = 0.011157233665566615\n",
      "NLP largest distance error = 0.04837997299468577\n",
      "CPLEX 20.1.0.0: optimal solution; objective 1.696106762\n",
      "0 dual simplex iterations (0 in phase I)\n",
      "optimal obj. fun. value = 1.6961067619963284\n",
      "ambient dimension n = 6\n",
      "found relaxed embedding in natural dimension K = 4\n",
      "now projecting to 3 principal dimensions\n",
      "dualDDP mean distance error = 0.012190844195922361\n",
      "dualDDP largest distance error = 0.04791711177314281\n"
     ]
    },
    {
     "name": "stderr",
     "output_type": "stream",
     "text": [
      "\n",
      "100%|██████████| 5/5 [00:00<00:00, 46707.17it/s]"
     ]
    },
    {
     "name": "stdout",
     "output_type": "stream",
     "text": [
      "Cannot find \"ipopt\"\n",
      "NLP mean distance error = 0.012190800249761461\n",
      "NLP largest distance error = 0.047916917557760536\n",
      "79\t0.84000000 0.99881192\tA woman paints a picture of a large building which can be seen in the background.\tA person paints a picture of a large building which can be seen in the background.\n",
      "CPLEX 20.1.0.0: optimal solution; objective 0.7869244692\n",
      "0 dual simplex iterations (0 in phase I)\n",
      "optimal obj. fun. value = 0.7869244692133469\n",
      "ambient dimension n = 5\n",
      "found relaxed embedding in natural dimension K = 4\n",
      "now projecting to 3 principal dimensions\n",
      "dualDDP mean distance error = 0.011972686259812433\n",
      "dualDDP largest distance error = 0.03795465531295106\n"
     ]
    },
    {
     "name": "stderr",
     "output_type": "stream",
     "text": [
      "\n",
      "100%|██████████| 5/5 [00:00<00:00, 46603.38it/s]"
     ]
    },
    {
     "name": "stdout",
     "output_type": "stream",
     "text": [
      "Cannot find \"ipopt\"\n",
      "NLP mean distance error = 0.011972530681529165\n",
      "NLP largest distance error = 0.03795462319355289\n",
      "CPLEX 20.1.0.0: optimal solution; objective 0.6112557718\n",
      "0 dual simplex iterations (0 in phase I)\n",
      "optimal obj. fun. value = 0.6112557718253439\n",
      "ambient dimension n = 5\n",
      "found relaxed embedding in natural dimension K = 4\n",
      "now projecting to 3 principal dimensions\n",
      "dualDDP mean distance error = 0.010466622817627756\n",
      "dualDDP largest distance error = 0.03325319156833037\n"
     ]
    },
    {
     "name": "stderr",
     "output_type": "stream",
     "text": [
      "\n",
      "100%|██████████| 4/4 [00:00<00:00, 44979.13it/s]"
     ]
    },
    {
     "name": "stdout",
     "output_type": "stream",
     "text": [
      "Cannot find \"ipopt\"\n",
      "NLP mean distance error = 0.010466616312108394\n",
      "NLP largest distance error = 0.03325326510762916\n",
      "80\t1.00000000 0.92231786\tSome guy sitting on a couch watching television.\tA guy is sitting on the couch watching TV\n",
      "CPLEX 20.1.0.0: optimal solution; objective 1.084528507\n",
      "0 dual simplex iterations (0 in phase I)\n",
      "optimal obj. fun. value = 1.0845285069365436\n",
      "ambient dimension n = 4\n",
      "found relaxed embedding in natural dimension K = 3\n",
      "now projecting to 3 principal dimensions\n",
      "dualDDP mean distance error = 0.011499436672491495\n",
      "dualDDP largest distance error = 0.038120930000612924\n"
     ]
    },
    {
     "name": "stderr",
     "output_type": "stream",
     "text": [
      "\n",
      "100%|██████████| 3/3 [00:00<00:00, 37338.02it/s]"
     ]
    },
    {
     "name": "stdout",
     "output_type": "stream",
     "text": [
      "Cannot find \"ipopt\"\n",
      "NLP mean distance error = 0.011499518690149516\n",
      "NLP largest distance error = 0.038121194707827016\n",
      "CPLEX 20.1.0.0: optimal solution; objective 0.1190809456\n",
      "0 dual simplex iterations (0 in phase I)\n",
      "optimal obj. fun. value = 0.11908094556424004\n",
      "ambient dimension n = 3\n",
      "found relaxed embedding in natural dimension K = 2\n",
      "now projecting to 2 principal dimensions\n",
      "dualDDP mean distance error = 0.0049996180430552095\n",
      "dualDDP largest distance error = 0.009425679575993468\n"
     ]
    },
    {
     "name": "stderr",
     "output_type": "stream",
     "text": [
      "\n",
      "100%|██████████| 4/4 [00:00<00:00, 44150.57it/s]"
     ]
    },
    {
     "name": "stdout",
     "output_type": "stream",
     "text": [
      "Cannot find \"ipopt\"\n",
      "NLP mean distance error = 0.0049996556980416535\n",
      "NLP largest distance error = 0.009425692396799967\n",
      "CPLEX 20.1.0.0: optimal solution; objective 0.03764255706\n",
      "0 dual simplex iterations (0 in phase I)\n",
      "optimal obj. fun. value = 0.03764255706076341\n",
      "ambient dimension n = 4\n",
      "found relaxed embedding in natural dimension K = 3\n",
      "now projecting to 3 principal dimensions\n",
      "dualDDP mean distance error = 0.0004898913914647621\n",
      "dualDDP largest distance error = 0.0010502502218789206\n"
     ]
    },
    {
     "name": "stderr",
     "output_type": "stream",
     "text": [
      "\n",
      "100%|██████████| 3/3 [00:00<00:00, 27354.16it/s]"
     ]
    },
    {
     "name": "stdout",
     "output_type": "stream",
     "text": [
      "Cannot find \"ipopt\"\n",
      "NLP mean distance error = 0.0004898662130941884\n",
      "NLP largest distance error = 0.0010502130391860515\n",
      "CPLEX 20.1.0.0: optimal solution; objective 0.02087142668\n",
      "0 dual simplex iterations (0 in phase I)\n",
      "optimal obj. fun. value = 0.02087142667597915\n",
      "ambient dimension n = 3\n",
      "found relaxed embedding in natural dimension K = 2\n",
      "now projecting to 2 principal dimensions\n",
      "dualDDP mean distance error = 0.00015954971585961075\n",
      "dualDDP largest distance error = 0.0002839601290323228\n"
     ]
    },
    {
     "name": "stderr",
     "output_type": "stream",
     "text": [
      "\n",
      "100%|██████████| 3/3 [00:00<00:00, 35246.25it/s]"
     ]
    },
    {
     "name": "stdout",
     "output_type": "stream",
     "text": [
      "Cannot find \"ipopt\"\n",
      "NLP mean distance error = 0.0001595571964693431\n",
      "NLP largest distance error = 0.00028397718054611054\n",
      "CPLEX 20.1.0.0: optimal solution; objective 0.6505312096\n",
      "0 dual simplex iterations (0 in phase I)\n",
      "optimal obj. fun. value = 0.650531209617563\n",
      "ambient dimension n = 3\n",
      "found relaxed embedding in natural dimension K = 2\n",
      "now projecting to 2 principal dimensions\n",
      "dualDDP mean distance error = 0.030321461130123767\n",
      "dualDDP largest distance error = 0.07657108330614312\n"
     ]
    },
    {
     "name": "stderr",
     "output_type": "stream",
     "text": [
      "\n",
      "100%|██████████| 3/3 [00:00<00:00, 33376.42it/s]"
     ]
    },
    {
     "name": "stdout",
     "output_type": "stream",
     "text": [
      "Cannot find \"ipopt\"\n",
      "NLP mean distance error = 0.03032144174510033\n",
      "NLP largest distance error = 0.07657073929517574\n",
      "CPLEX 20.1.0.0: optimal solution; objective 0.06640163122\n",
      "0 dual simplex iterations (0 in phase I)\n",
      "optimal obj. fun. value = 0.06640163121551398\n",
      "ambient dimension n = 3\n",
      "found relaxed embedding in natural dimension K = 2\n",
      "now projecting to 2 principal dimensions\n",
      "dualDDP mean distance error = 0.006153992842636483\n",
      "dualDDP largest distance error = 0.01168762237588146\n"
     ]
    },
    {
     "name": "stderr",
     "output_type": "stream",
     "text": [
      "\n",
      "100%|██████████| 5/5 [00:00<00:00, 46397.17it/s]"
     ]
    },
    {
     "name": "stdout",
     "output_type": "stream",
     "text": [
      "Cannot find \"ipopt\"\n",
      "NLP mean distance error = 0.006154030274185732\n",
      "NLP largest distance error = 0.011687607766342117\n",
      "83\t0.80000000 0.30772066\tThe man is in a deserted field.\tThe man is outside in the field.\n",
      "CPLEX 20.1.0.0: optimal solution; objective 1.44020934\n",
      "0 dual simplex iterations (0 in phase I)\n",
      "optimal obj. fun. value = 1.4402093403112337\n",
      "ambient dimension n = 5\n",
      "found relaxed embedding in natural dimension K = 3\n",
      "now projecting to 3 principal dimensions\n",
      "dualDDP mean distance error = 0.02563382838087493\n",
      "dualDDP largest distance error = 0.04033630449197537\n"
     ]
    },
    {
     "name": "stderr",
     "output_type": "stream",
     "text": [
      "\n",
      "100%|██████████| 4/4 [00:00<00:00, 38391.80it/s]"
     ]
    },
    {
     "name": "stdout",
     "output_type": "stream",
     "text": [
      "Cannot find \"ipopt\"\n",
      "NLP mean distance error = 0.02563359817218991\n",
      "NLP largest distance error = 0.04033571361766203\n",
      "CPLEX 20.1.0.0: optimal solution; objective 0.9961183918\n",
      "0 dual simplex iterations (0 in phase I)\n",
      "optimal obj. fun. value = 0.9961183918383388\n",
      "ambient dimension n = 4\n",
      "found relaxed embedding in natural dimension K = 2\n",
      "now projecting to 2 principal dimensions\n",
      "dualDDP mean distance error = 0.024175983696699887\n",
      "dualDDP largest distance error = 0.0406602769191278\n"
     ]
    },
    {
     "name": "stderr",
     "output_type": "stream",
     "text": [
      "\n",
      "100%|██████████| 5/5 [00:00<00:00, 42111.49it/s]"
     ]
    },
    {
     "name": "stdout",
     "output_type": "stream",
     "text": [
      "Cannot find \"ipopt\"\n",
      "NLP mean distance error = 0.024176218310168206\n",
      "NLP largest distance error = 0.04066072404464757\n",
      "CPLEX 20.1.0.0: optimal solution; objective 0.4931739727\n",
      "0 dual simplex iterations (0 in phase I)\n",
      "optimal obj. fun. value = 0.49317397272840474\n",
      "ambient dimension n = 5\n",
      "found relaxed embedding in natural dimension K = 3\n",
      "now projecting to 3 principal dimensions\n",
      "dualDDP mean distance error = 0.006365704087711183\n",
      "dualDDP largest distance error = 0.01470481014773184\n"
     ]
    },
    {
     "name": "stderr",
     "output_type": "stream",
     "text": [
      "\n",
      "100%|██████████| 7/7 [00:00<00:00, 46529.52it/s]"
     ]
    },
    {
     "name": "stdout",
     "output_type": "stream",
     "text": [
      "Cannot find \"ipopt\"\n",
      "NLP mean distance error = 0.006365719655781988\n",
      "NLP largest distance error = 0.014704806000545703\n",
      "CPLEX 20.1.0.0: optimal solution; objective 0.7394828364\n",
      "0 dual simplex iterations (0 in phase I)\n",
      "optimal obj. fun. value = 0.7394828364011607\n",
      "ambient dimension n = 7\n",
      "found relaxed embedding in natural dimension K = 5\n",
      "now projecting to 3 principal dimensions\n",
      "dualDDP mean distance error = 0.011953399789541934\n",
      "dualDDP largest distance error = 0.04113524451560523\n"
     ]
    },
    {
     "name": "stderr",
     "output_type": "stream",
     "text": [
      "\n",
      "100%|██████████| 5/5 [00:00<00:00, 48770.98it/s]"
     ]
    },
    {
     "name": "stdout",
     "output_type": "stream",
     "text": [
      "Cannot find \"ipopt\"\n",
      "NLP mean distance error = 0.011953503178683225\n",
      "NLP largest distance error = 0.04113525051849859\n",
      "85\t0.08000000 0.99394127\tA man has his skis ready for the field to get iced out\tA man on a boat getting ready to pull in his net to see what he caught.\n",
      "CPLEX 20.1.0.0: optimal solution; objective 4.861761124\n",
      "0 dual simplex iterations (0 in phase I)\n",
      "optimal obj. fun. value = 4.861761124339655\n",
      "ambient dimension n = 5\n",
      "found relaxed embedding in natural dimension K = 4\n",
      "now projecting to 3 principal dimensions\n",
      "dualDDP mean distance error = 0.023830113780953063\n",
      "dualDDP largest distance error = 0.09316666743040436\n"
     ]
    },
    {
     "name": "stderr",
     "output_type": "stream",
     "text": [
      "\n",
      "100%|██████████| 5/5 [00:00<00:00, 45789.34it/s]"
     ]
    },
    {
     "name": "stdout",
     "output_type": "stream",
     "text": [
      "Cannot find \"ipopt\"\n",
      "NLP mean distance error = 0.023830001767771274\n",
      "NLP largest distance error = 0.09316604790970523\n",
      "CPLEX 20.1.0.0: optimal solution; objective 5.20239842\n",
      "0 dual simplex iterations (0 in phase I)\n",
      "optimal obj. fun. value = 5.202398420449304\n",
      "ambient dimension n = 5\n",
      "found relaxed embedding in natural dimension K = 3\n",
      "now projecting to 3 principal dimensions\n",
      "dualDDP mean distance error = 0.02137040387168091\n",
      "dualDDP largest distance error = 0.045596536536956944\n"
     ]
    },
    {
     "name": "stderr",
     "output_type": "stream",
     "text": [
      "\n",
      "100%|██████████| 3/3 [00:00<00:00, 38597.89it/s]"
     ]
    },
    {
     "name": "stdout",
     "output_type": "stream",
     "text": [
      "Cannot find \"ipopt\"\n",
      "NLP mean distance error = 0.02137013342734618\n",
      "NLP largest distance error = 0.04559565820329803\n",
      "87\t0.08000000 0.99559888\tA musician is smearing jam on his white guitar at a concert.\tTrombonist playing the her instrument in a band for a parade.\n",
      "CPLEX 20.1.0.0: optimal solution; objective 0.1151643323\n",
      "0 dual simplex iterations (0 in phase I)\n",
      "optimal obj. fun. value = 0.11516433231772402\n",
      "ambient dimension n = 3\n",
      "found relaxed embedding in natural dimension K = 2\n",
      "now projecting to 2 principal dimensions\n",
      "dualDDP mean distance error = 0.006320963911071703\n",
      "dualDDP largest distance error = 0.011463819915945639\n"
     ]
    },
    {
     "name": "stderr",
     "output_type": "stream",
     "text": [
      "\n",
      "100%|██████████| 6/6 [00:00<00:00, 45756.04it/s]"
     ]
    },
    {
     "name": "stdout",
     "output_type": "stream",
     "text": [
      "Cannot find \"ipopt\"\n",
      "NLP mean distance error = 0.00632093442185945\n",
      "NLP largest distance error = 0.011463839625562022\n",
      "CPLEX 20.1.0.0: optimal solution; objective 0.7811397272\n",
      "0 dual simplex iterations (0 in phase I)\n",
      "optimal obj. fun. value = 0.7811397271856118\n",
      "ambient dimension n = 6\n",
      "found relaxed embedding in natural dimension K = 5\n",
      "now projecting to 3 principal dimensions\n",
      "dualDDP mean distance error = 0.010977288786748982\n",
      "dualDDP largest distance error = 0.04887881202570529\n"
     ]
    },
    {
     "name": "stderr",
     "output_type": "stream",
     "text": [
      "\n",
      "100%|██████████| 8/8 [00:00<00:00, 30783.88it/s]"
     ]
    },
    {
     "name": "stdout",
     "output_type": "stream",
     "text": [
      "Cannot find \"ipopt\"\n",
      "NLP mean distance error = 0.010977253437950306\n",
      "NLP largest distance error = 0.04887877969907109\n",
      "CPLEX 20.1.0.0: optimal solution; objective 4.453125245\n",
      "0 dual simplex iterations (0 in phase I)\n",
      "optimal obj. fun. value = 4.453125244950861\n",
      "ambient dimension n = 8\n",
      "found relaxed embedding in natural dimension K = 6\n",
      "now projecting to 3 principal dimensions\n",
      "dualDDP mean distance error = 0.030998782674080707\n",
      "dualDDP largest distance error = 0.10638075843381078\n"
     ]
    },
    {
     "name": "stderr",
     "output_type": "stream",
     "text": [
      "\n",
      "100%|██████████| 7/7 [00:00<00:00, 50708.34it/s]"
     ]
    },
    {
     "name": "stdout",
     "output_type": "stream",
     "text": [
      "Cannot find \"ipopt\"\n",
      "NLP mean distance error = 0.030998681250969877\n",
      "NLP largest distance error = 0.10638048720865556\n",
      "CPLEX 20.1.0.0: optimal solution; objective 1.339116812\n",
      "0 dual simplex iterations (0 in phase I)\n",
      "optimal obj. fun. value = 1.339116811700181\n",
      "ambient dimension n = 7\n",
      "found relaxed embedding in natural dimension K = 5\n",
      "now projecting to 3 principal dimensions\n",
      "dualDDP mean distance error = 0.009917579303157209\n",
      "dualDDP largest distance error = 0.03041773825855147\n"
     ]
    },
    {
     "name": "stderr",
     "output_type": "stream",
     "text": [
      "\n",
      "100%|██████████| 8/8 [00:00<00:00, 48003.48it/s]"
     ]
    },
    {
     "name": "stdout",
     "output_type": "stream",
     "text": [
      "Cannot find \"ipopt\"\n",
      "NLP mean distance error = 0.009917572394804267\n",
      "NLP largest distance error = 0.03041776437376241\n",
      "89\t0.00000000 0.99986101\tA pair of young boys in t-shirts are hiding in the woods with one looking aghast.\tTwo smiling little girls playing in a fountain with other people.\n",
      "CPLEX 20.1.0.0: optimal solution; objective 4.761090138\n",
      "0 dual simplex iterations (0 in phase I)\n",
      "optimal obj. fun. value = 4.76109013799985\n",
      "ambient dimension n = 8\n",
      "found relaxed embedding in natural dimension K = 4\n",
      "now projecting to 3 principal dimensions\n",
      "dualDDP mean distance error = 0.03456638970067155\n",
      "dualDDP largest distance error = 0.11384949092400293\n"
     ]
    },
    {
     "name": "stderr",
     "output_type": "stream",
     "text": [
      "\n",
      "100%|██████████| 7/7 [00:00<00:00, 48690.10it/s]"
     ]
    },
    {
     "name": "stdout",
     "output_type": "stream",
     "text": [
      "Cannot find \"ipopt\"\n",
      "NLP mean distance error = 0.0345662872286342\n",
      "NLP largest distance error = 0.11385000794186845\n",
      "CPLEX 20.1.0.0: optimal solution; objective 2.841652758\n",
      "0 dual simplex iterations (0 in phase I)\n",
      "optimal obj. fun. value = 2.8416527576907207\n",
      "ambient dimension n = 7\n",
      "found relaxed embedding in natural dimension K = 5\n",
      "now projecting to 3 principal dimensions\n",
      "dualDDP mean distance error = 0.025473646863367415\n",
      "dualDDP largest distance error = 0.0643288585952564\n"
     ]
    },
    {
     "name": "stderr",
     "output_type": "stream",
     "text": [
      "\n",
      "100%|██████████| 6/6 [00:00<00:00, 51254.22it/s]"
     ]
    },
    {
     "name": "stdout",
     "output_type": "stream",
     "text": [
      "Cannot find \"ipopt\"\n",
      "NLP mean distance error = 0.025473588077553126\n",
      "NLP largest distance error = 0.06432878843361416\n",
      "90\t0.60000000 0.63900829\tA group of people playing soccer on a soccer field in front of a crowd.\tA group of men playing soccer in a stadium full of people.\n",
      "CPLEX 20.1.0.0: optimal solution; objective 1.04924289\n",
      "0 dual simplex iterations (0 in phase I)\n",
      "optimal obj. fun. value = 1.0492428899729187\n",
      "ambient dimension n = 6\n",
      "found relaxed embedding in natural dimension K = 5\n",
      "now projecting to 3 principal dimensions\n",
      "dualDDP mean distance error = 0.03315609110448051\n",
      "dualDDP largest distance error = 0.09329889667461612\n"
     ]
    },
    {
     "name": "stderr",
     "output_type": "stream",
     "text": [
      "\n",
      "100%|██████████| 6/6 [00:00<00:00, 48210.39it/s]"
     ]
    },
    {
     "name": "stdout",
     "output_type": "stream",
     "text": [
      "Cannot find \"ipopt\"\n",
      "NLP mean distance error = 0.03315615470984615\n",
      "NLP largest distance error = 0.09329904352691125\n",
      "CPLEX 20.1.0.0: optimal solution; objective 1.075464868\n",
      "0 dual simplex iterations (0 in phase I)\n",
      "optimal obj. fun. value = 1.0754648683820103\n",
      "ambient dimension n = 6\n",
      "found relaxed embedding in natural dimension K = 4\n",
      "now projecting to 3 principal dimensions\n",
      "dualDDP mean distance error = 0.036788431335687294\n",
      "dualDDP largest distance error = 0.12315616024782614\n"
     ]
    },
    {
     "name": "stderr",
     "output_type": "stream",
     "text": [
      "\n",
      "100%|██████████| 4/4 [00:00<00:00, 41425.22it/s]"
     ]
    },
    {
     "name": "stdout",
     "output_type": "stream",
     "text": [
      "Cannot find \"ipopt\"\n",
      "NLP mean distance error = 0.03678843201061049\n",
      "NLP largest distance error = 0.12315621141970676\n",
      "91\t0.92000000 0.10240807\tA man is enjoying watching three asian children dance.\tA man is watching three asian kids dance.\n",
      "CPLEX 20.1.0.0: optimal solution; objective 1.540519327\n",
      "0 dual simplex iterations (0 in phase I)\n",
      "optimal obj. fun. value = 1.5405193267195758\n",
      "ambient dimension n = 4\n",
      "found relaxed embedding in natural dimension K = 3\n",
      "now projecting to 3 principal dimensions\n",
      "dualDDP mean distance error = 0.010152925958524172\n",
      "dualDDP largest distance error = 0.02041546114670878\n"
     ]
    },
    {
     "name": "stderr",
     "output_type": "stream",
     "text": [
      "\n",
      "100%|██████████| 3/3 [00:00<00:00, 35444.82it/s]"
     ]
    },
    {
     "name": "stdout",
     "output_type": "stream",
     "text": [
      "Cannot find \"ipopt\"\n",
      "NLP mean distance error = 0.010152960452634977\n",
      "NLP largest distance error = 0.02041532535873336\n",
      "CPLEX 20.1.0.0: optimal solution; objective 0.01300471783\n",
      "0 dual simplex iterations (0 in phase I)\n",
      "optimal obj. fun. value = 0.013004717834378454\n",
      "ambient dimension n = 3\n",
      "found relaxed embedding in natural dimension K = 2\n",
      "now projecting to 2 principal dimensions\n",
      "dualDDP mean distance error = 0.0012893032395149804\n",
      "dualDDP largest distance error = 0.002597737983335853\n"
     ]
    },
    {
     "name": "stderr",
     "output_type": "stream",
     "text": [
      "\n",
      "100%|██████████| 3/3 [00:00<00:00, 29888.15it/s]"
     ]
    },
    {
     "name": "stdout",
     "output_type": "stream",
     "text": [
      "Cannot find \"ipopt\"\n",
      "NLP mean distance error = 0.0012892994677027546\n",
      "NLP largest distance error = 0.0025977793453211204\n",
      "CPLEX 20.1.0.0: optimal solution; objective 0.4518740023\n",
      "0 dual simplex iterations (0 in phase I)\n",
      "optimal obj. fun. value = 0.4518740022571047\n",
      "ambient dimension n = 3\n",
      "found relaxed embedding in natural dimension K = 2\n",
      "now projecting to 2 principal dimensions\n",
      "dualDDP mean distance error = 0.00683825900166054\n",
      "dualDDP largest distance error = 0.010625629494604272\n"
     ]
    },
    {
     "name": "stderr",
     "output_type": "stream",
     "text": [
      "\n",
      "100%|██████████| 4/4 [00:00<00:00, 39945.75it/s]"
     ]
    },
    {
     "name": "stdout",
     "output_type": "stream",
     "text": [
      "Cannot find \"ipopt\"\n",
      "NLP mean distance error = 0.006838367025497314\n",
      "NLP largest distance error = 0.010625973580160653\n",
      "CPLEX 20.1.0.0: optimal solution; objective 0.6839007616\n",
      "0 dual simplex iterations (0 in phase I)\n",
      "optimal obj. fun. value = 0.6839007616051023\n",
      "ambient dimension n = 4\n",
      "found relaxed embedding in natural dimension K = 3\n",
      "now projecting to 3 principal dimensions\n",
      "dualDDP mean distance error = 0.022380100849590676\n",
      "dualDDP largest distance error = 0.05026297291711107\n"
     ]
    },
    {
     "name": "stderr",
     "output_type": "stream",
     "text": [
      "\n",
      "100%|██████████| 4/4 [00:00<00:00, 43804.74it/s]"
     ]
    },
    {
     "name": "stdout",
     "output_type": "stream",
     "text": [
      "Cannot find \"ipopt\"\n",
      "NLP mean distance error = 0.022380191300453326\n",
      "NLP largest distance error = 0.05026305922312363\n",
      "CPLEX 20.1.0.0: optimal solution; objective 1.062186489\n",
      "0 dual simplex iterations (0 in phase I)\n",
      "optimal obj. fun. value = 1.062186489479962\n",
      "ambient dimension n = 4\n",
      "found relaxed embedding in natural dimension K = 3\n",
      "now projecting to 3 principal dimensions\n",
      "dualDDP mean distance error = 0.011573256487101577\n",
      "dualDDP largest distance error = 0.026714463293383728\n"
     ]
    },
    {
     "name": "stderr",
     "output_type": "stream",
     "text": [
      "\n",
      "100%|██████████| 5/5 [00:00<00:00, 47880.18it/s]"
     ]
    },
    {
     "name": "stdout",
     "output_type": "stream",
     "text": [
      "Cannot find \"ipopt\"\n",
      "NLP mean distance error = 0.011573277138664115\n",
      "NLP largest distance error = 0.026714726597381\n",
      "CPLEX 20.1.0.0: optimal solution; objective 0.2969770391\n",
      "0 dual simplex iterations (0 in phase I)\n",
      "optimal obj. fun. value = 0.2969770391178866\n",
      "ambient dimension n = 5\n",
      "found relaxed embedding in natural dimension K = 3\n",
      "now projecting to 3 principal dimensions\n",
      "dualDDP mean distance error = 0.0072353185171489835\n",
      "dualDDP largest distance error = 0.017377263396346862\n"
     ]
    },
    {
     "name": "stderr",
     "output_type": "stream",
     "text": [
      "\n",
      "100%|██████████| 5/5 [00:00<00:00, 44715.39it/s]"
     ]
    },
    {
     "name": "stdout",
     "output_type": "stream",
     "text": [
      "Cannot find \"ipopt\"\n",
      "NLP mean distance error = 0.007235421656341115\n",
      "NLP largest distance error = 0.01737725709388837\n",
      "94\t0.08000000 0.99510163\tA woman walking down the side of a highway.\tA man is standing on one feet on a bridge.\n",
      "CPLEX 20.1.0.0: optimal solution; objective 1.035898319\n",
      "0 dual simplex iterations (0 in phase I)\n",
      "optimal obj. fun. value = 1.0358983191007716\n",
      "ambient dimension n = 5\n",
      "found relaxed embedding in natural dimension K = 3\n",
      "now projecting to 3 principal dimensions\n",
      "dualDDP mean distance error = 0.011169720021837774\n",
      "dualDDP largest distance error = 0.03448663689408832\n"
     ]
    },
    {
     "name": "stderr",
     "output_type": "stream",
     "text": [
      "\n",
      "100%|██████████| 4/4 [00:00<00:00, 41943.04it/s]"
     ]
    },
    {
     "name": "stdout",
     "output_type": "stream",
     "text": [
      "Cannot find \"ipopt\"\n",
      "NLP mean distance error = 0.011169740348160475\n",
      "NLP largest distance error = 0.03448700624965825\n",
      "CPLEX 20.1.0.0: optimal solution; objective 0.02392992578\n",
      "0 dual simplex iterations (0 in phase I)\n",
      "optimal obj. fun. value = 0.02392992578080294\n",
      "ambient dimension n = 4\n",
      "found relaxed embedding in natural dimension K = 3\n",
      "now projecting to 3 principal dimensions\n",
      "dualDDP mean distance error = 0.00019704603666223335\n",
      "dualDDP largest distance error = 0.0007502688223994421\n"
     ]
    },
    {
     "name": "stderr",
     "output_type": "stream",
     "text": [
      "\n",
      "100%|██████████| 6/6 [00:00<00:00, 49636.73it/s]"
     ]
    },
    {
     "name": "stdout",
     "output_type": "stream",
     "text": [
      "Cannot find \"ipopt\"\n",
      "NLP mean distance error = 0.00019706059808510348\n",
      "NLP largest distance error = 0.0007502792894202095\n",
      "95\t0.72000000 0.98572351\tA group of teenagers jumping and having a good time.\tA group of kids having a good time.\n",
      "CPLEX 20.1.0.0: optimal solution; objective 1.610743338\n",
      "0 dual simplex iterations (0 in phase I)\n",
      "optimal obj. fun. value = 1.6107433379349199\n",
      "ambient dimension n = 6\n",
      "found relaxed embedding in natural dimension K = 4\n",
      "now projecting to 3 principal dimensions\n",
      "dualDDP mean distance error = 0.0166411361625597\n",
      "dualDDP largest distance error = 0.04195262318614121\n"
     ]
    },
    {
     "name": "stderr",
     "output_type": "stream",
     "text": [
      "\n",
      "100%|██████████| 4/4 [00:00<00:00, 43919.41it/s]"
     ]
    },
    {
     "name": "stdout",
     "output_type": "stream",
     "text": [
      "Cannot find \"ipopt\"\n",
      "NLP mean distance error = 0.016641339768761573\n",
      "NLP largest distance error = 0.041953051369527844\n",
      "CPLEX 20.1.0.0: optimal solution; objective 0.4666768439\n",
      "0 dual simplex iterations (0 in phase I)\n",
      "optimal obj. fun. value = 0.46667684386751895\n",
      "ambient dimension n = 4\n",
      "found relaxed embedding in natural dimension K = 3\n",
      "now projecting to 3 principal dimensions\n",
      "dualDDP mean distance error = 0.003589324276471073\n",
      "dualDDP largest distance error = 0.010636359616997347\n"
     ]
    },
    {
     "name": "stderr",
     "output_type": "stream",
     "text": [
      "\n",
      "100%|██████████| 4/4 [00:00<00:00, 28197.00it/s]"
     ]
    },
    {
     "name": "stdout",
     "output_type": "stream",
     "text": [
      "Cannot find \"ipopt\"\n",
      "NLP mean distance error = 0.0035895016414486114\n",
      "NLP largest distance error = 0.010636422597095567\n",
      "96\t0.28000000 0.01520067\tA man calling for a taxi at the airport on a sunny day.\tA man is outside on a July day.\n",
      "CPLEX 20.1.0.0: optimal solution; objective 1.612326008\n",
      "0 dual simplex iterations (0 in phase I)\n",
      "optimal obj. fun. value = 1.6123260084853528\n",
      "ambient dimension n = 4\n",
      "found relaxed embedding in natural dimension K = 3\n",
      "now projecting to 3 principal dimensions\n",
      "dualDDP mean distance error = 0.009875329937249527\n",
      "dualDDP largest distance error = 0.02109923730758445\n"
     ]
    },
    {
     "name": "stderr",
     "output_type": "stream",
     "text": [
      "\n",
      "100%|██████████| 4/4 [00:00<00:00, 27548.79it/s]"
     ]
    },
    {
     "name": "stdout",
     "output_type": "stream",
     "text": [
      "Cannot find \"ipopt\"\n",
      "NLP mean distance error = 0.009875305589084721\n",
      "NLP largest distance error = 0.021099326018575337\n",
      "CPLEX 20.1.0.0: optimal solution; objective 0.7883720822\n",
      "0 dual simplex iterations (0 in phase I)\n",
      "optimal obj. fun. value = 0.788372082233634\n",
      "ambient dimension n = 4\n",
      "found relaxed embedding in natural dimension K = 2\n",
      "now projecting to 2 principal dimensions\n",
      "dualDDP mean distance error = 0.013362170879446515\n",
      "dualDDP largest distance error = 0.03481299590518602\n"
     ]
    },
    {
     "name": "stderr",
     "output_type": "stream",
     "text": [
      "\n",
      "100%|██████████| 5/5 [00:00<00:00, 28149.69it/s]"
     ]
    },
    {
     "name": "stdout",
     "output_type": "stream",
     "text": [
      "Cannot find \"ipopt\"\n",
      "NLP mean distance error = 0.013362145316874461\n",
      "NLP largest distance error = 0.03481293933004298\n",
      "CPLEX 20.1.0.0: optimal solution; objective 1.272294469\n",
      "0 dual simplex iterations (0 in phase I)\n",
      "optimal obj. fun. value = 1.2722944687048823\n",
      "ambient dimension n = 5\n",
      "found relaxed embedding in natural dimension K = 4\n",
      "now projecting to 3 principal dimensions\n",
      "dualDDP mean distance error = 0.029098251004658425\n",
      "dualDDP largest distance error = 0.06863535672885668\n"
     ]
    },
    {
     "name": "stderr",
     "output_type": "stream",
     "text": [
      "\n",
      "100%|██████████| 6/6 [00:00<00:00, 28826.83it/s]"
     ]
    },
    {
     "name": "stdout",
     "output_type": "stream",
     "text": [
      "Cannot find \"ipopt\"\n",
      "NLP mean distance error = 0.029098359951417456\n",
      "NLP largest distance error = 0.06863527042025175\n",
      "CPLEX 20.1.0.0: optimal solution; objective 1.859178096\n",
      "0 dual simplex iterations (0 in phase I)\n",
      "optimal obj. fun. value = 1.8591780963517697\n",
      "ambient dimension n = 6\n",
      "found relaxed embedding in natural dimension K = 5\n",
      "now projecting to 3 principal dimensions\n",
      "dualDDP mean distance error = 0.014162478381836817\n",
      "dualDDP largest distance error = 0.03935615470375066\n"
     ]
    },
    {
     "name": "stderr",
     "output_type": "stream",
     "text": [
      "\n",
      "100%|██████████| 3/3 [00:00<00:00, 38014.84it/s]"
     ]
    },
    {
     "name": "stdout",
     "output_type": "stream",
     "text": [
      "Cannot find \"ipopt\"\n",
      "NLP mean distance error = 0.014162330861644585\n",
      "NLP largest distance error = 0.03935593823628669\n",
      "98\t0.60000000 0.99345900\tA young boy has a red fishing pole.\tA young boy stands over a bridge with a fishing pole.\n",
      "CPLEX 20.1.0.0: optimal solution; objective 0.5193110062\n",
      "0 dual simplex iterations (0 in phase I)\n",
      "optimal obj. fun. value = 0.5193110062316417\n",
      "ambient dimension n = 3\n",
      "found relaxed embedding in natural dimension K = 2\n",
      "now projecting to 2 principal dimensions\n",
      "dualDDP mean distance error = 0.008223085163362934\n",
      "dualDDP largest distance error = 0.019236450214726253\n"
     ]
    },
    {
     "name": "stderr",
     "output_type": "stream",
     "text": [
      "\n",
      "100%|██████████| 3/3 [00:00<00:00, 37117.73it/s]"
     ]
    },
    {
     "name": "stdout",
     "output_type": "stream",
     "text": [
      "Cannot find \"ipopt\"\n",
      "NLP mean distance error = 0.008222884652302984\n",
      "NLP largest distance error = 0.01923633642325115\n",
      "CPLEX 20.1.0.0: optimal solution; objective 0.3680555556\n",
      "0 dual simplex iterations (0 in phase I)\n",
      "optimal obj. fun. value = 0.3680555555555555\n",
      "ambient dimension n = 3\n",
      "found relaxed embedding in natural dimension K = 1\n",
      "now projecting to 2 principal dimensions\n",
      "dualDDP mean distance error = 3.727181500462473e-06\n",
      "dualDDP largest distance error = 5.590772250652076e-06\n"
     ]
    },
    {
     "name": "stderr",
     "output_type": "stream",
     "text": [
      "\n",
      "100%|██████████| 3/3 [00:00<00:00, 38597.89it/s]"
     ]
    },
    {
     "name": "stdout",
     "output_type": "stream",
     "text": [
      "Cannot find \"ipopt\"\n",
      "NLP mean distance error = 3.7777777778062274e-06\n",
      "NLP largest distance error = 5.666666666681586e-06\n",
      "99\t0.32000000 0.97496770\tA player bounces a ball.\tA player catching a ball.\n",
      "CPLEX 20.1.0.0: optimal solution; objective 0.2771521965\n",
      "0 dual simplex iterations (0 in phase I)\n",
      "optimal obj. fun. value = 0.2771521964981694\n",
      "ambient dimension n = 3\n",
      "found relaxed embedding in natural dimension K = 2\n",
      "now projecting to 2 principal dimensions\n",
      "dualDDP mean distance error = 0.0381012243223225\n",
      "dualDDP largest distance error = 0.08311304111669343\n"
     ]
    },
    {
     "name": "stderr",
     "output_type": "stream",
     "text": [
      "\n",
      "100%|██████████| 3/3 [00:00<00:00, 36366.80it/s]"
     ]
    },
    {
     "name": "stdout",
     "output_type": "stream",
     "text": [
      "Cannot find \"ipopt\"\n",
      "NLP mean distance error = 0.03810115799350047\n",
      "NLP largest distance error = 0.08311277603924855\n",
      "CPLEX 20.1.0.0: optimal solution; objective 0.295982861\n",
      "0 dual simplex iterations (0 in phase I)\n",
      "optimal obj. fun. value = 0.2959828610190555\n",
      "ambient dimension n = 3\n",
      "found relaxed embedding in natural dimension K = 2\n",
      "now projecting to 2 principal dimensions\n",
      "dualDDP mean distance error = 0.033271956226325894\n",
      "dualDDP largest distance error = 0.07239081537191311\n"
     ]
    },
    {
     "name": "stderr",
     "output_type": "stream",
     "text": [
      "\n",
      "100%|██████████| 8/8 [00:00<00:00, 49784.02it/s]"
     ]
    },
    {
     "name": "stdout",
     "output_type": "stream",
     "text": [
      "Cannot find \"ipopt\"\n",
      "NLP mean distance error = 0.03327164769042812\n",
      "NLP largest distance error = 0.07239048940803122\n",
      "103\t0.68000000 0.18058674\tThe man has a orange shirt.\tThe woman has a orange shirt.\n",
      "CPLEX 20.1.0.0: optimal solution; objective 3.382620667\n",
      "0 dual simplex iterations (0 in phase I)\n",
      "optimal obj. fun. value = 3.382620666718237\n",
      "ambient dimension n = 8\n",
      "found relaxed embedding in natural dimension K = 6\n",
      "now projecting to 3 principal dimensions\n",
      "dualDDP mean distance error = 0.03128010083176958\n",
      "dualDDP largest distance error = 0.10319518846937789\n"
     ]
    },
    {
     "name": "stderr",
     "output_type": "stream",
     "text": [
      "\n",
      "100%|██████████| 3/3 [00:00<00:00, 34568.44it/s]"
     ]
    },
    {
     "name": "stdout",
     "output_type": "stream",
     "text": [
      "Cannot find \"ipopt\"\n",
      "NLP mean distance error = 0.03128009857588352\n",
      "NLP largest distance error = 0.1031955023863537\n",
      "CPLEX 20.1.0.0: optimal solution; objective 0.3800487996\n",
      "0 dual simplex iterations (0 in phase I)\n",
      "optimal obj. fun. value = 0.3800487995601963\n",
      "ambient dimension n = 3\n",
      "found relaxed embedding in natural dimension K = 2\n",
      "now projecting to 2 principal dimensions\n",
      "dualDDP mean distance error = 0.008915929917564005\n",
      "dualDDP largest distance error = 0.021587384631958\n"
     ]
    },
    {
     "name": "stderr",
     "output_type": "stream",
     "text": [
      "\n",
      "100%|██████████| 4/4 [00:00<00:00, 43464.29it/s]"
     ]
    },
    {
     "name": "stdout",
     "output_type": "stream",
     "text": [
      "Cannot find \"ipopt\"\n",
      "NLP mean distance error = 0.008916181211982482\n",
      "NLP largest distance error = 0.021587442038914245\n",
      "CPLEX 20.1.0.0: optimal solution; objective 0.008304154625\n",
      "0 dual simplex iterations (0 in phase I)\n",
      "optimal obj. fun. value = 0.00830415462543342\n",
      "ambient dimension n = 4\n",
      "found relaxed embedding in natural dimension K = 3\n",
      "now projecting to 3 principal dimensions\n",
      "dualDDP mean distance error = 0.001175427786224366\n",
      "dualDDP largest distance error = 0.003407283795010596\n"
     ]
    },
    {
     "name": "stderr",
     "output_type": "stream",
     "text": [
      "\n",
      "100%|██████████| 5/5 [00:00<00:00, 47021.35it/s]"
     ]
    },
    {
     "name": "stdout",
     "output_type": "stream",
     "text": [
      "Cannot find \"ipopt\"\n",
      "NLP mean distance error = 0.0011754332676826938\n",
      "NLP largest distance error = 0.0034073482660715755\n",
      "CPLEX 20.1.0.0: optimal solution; objective 0.02257501704\n",
      "0 dual simplex iterations (0 in phase I)\n",
      "optimal obj. fun. value = 0.022575017044884106\n",
      "ambient dimension n = 5\n",
      "found relaxed embedding in natural dimension K = 4\n",
      "now projecting to 3 principal dimensions\n",
      "dualDDP mean distance error = 0.0014285490080975089\n",
      "dualDDP largest distance error = 0.006371190028766294\n"
     ]
    },
    {
     "name": "stderr",
     "output_type": "stream",
     "text": [
      "\n",
      "100%|██████████| 7/7 [00:00<00:00, 51418.79it/s]"
     ]
    },
    {
     "name": "stdout",
     "output_type": "stream",
     "text": [
      "Cannot find \"ipopt\"\n",
      "NLP mean distance error = 0.0014285496652032778\n",
      "NLP largest distance error = 0.0063712126364252955\n",
      "105\t0.56000000 0.95445411\tThe baby boy wants his mother.\tA baby boy is happy to see his mother.\n",
      "CPLEX 20.1.0.0: optimal solution; objective 2.250144674\n",
      "0 dual simplex iterations (0 in phase I)\n",
      "optimal obj. fun. value = 2.250144674359428\n",
      "ambient dimension n = 7\n",
      "found relaxed embedding in natural dimension K = 5\n",
      "now projecting to 3 principal dimensions\n",
      "dualDDP mean distance error = 0.010134263866465695\n",
      "dualDDP largest distance error = 0.02896663694678736\n"
     ]
    },
    {
     "name": "stderr",
     "output_type": "stream",
     "text": [
      "\n",
      "100%|██████████| 3/3 [00:00<00:00, 34759.43it/s]"
     ]
    },
    {
     "name": "stdout",
     "output_type": "stream",
     "text": [
      "Cannot find \"ipopt\"\n",
      "NLP mean distance error = 0.010134234408762016\n",
      "NLP largest distance error = 0.028966627985476348\n",
      "CPLEX 20.1.0.0: optimal solution; objective 0.3096694351\n",
      "0 dual simplex iterations (0 in phase I)\n",
      "optimal obj. fun. value = 0.3096694351079914\n",
      "ambient dimension n = 3\n",
      "found relaxed embedding in natural dimension K = 2\n",
      "now projecting to 2 principal dimensions\n",
      "dualDDP mean distance error = 0.008137854233764308\n",
      "dualDDP largest distance error = 0.021242640404521687\n"
     ]
    },
    {
     "name": "stderr",
     "output_type": "stream",
     "text": [
      "\n",
      "100%|██████████| 10/10 [00:00<00:00, 44525.52it/s]"
     ]
    },
    {
     "name": "stdout",
     "output_type": "stream",
     "text": [
      "Cannot find \"ipopt\"\n",
      "NLP mean distance error = 0.008138345886780566\n",
      "NLP largest distance error = 0.021242890794470448\n",
      "CPLEX 20.1.0.0: optimal solution; objective 13.70068105\n",
      "0 dual simplex iterations (0 in phase I)\n",
      "optimal obj. fun. value = 13.700681049057428\n",
      "ambient dimension n = 10\n",
      "found relaxed embedding in natural dimension K = 7\n",
      "now projecting to 3 principal dimensions\n",
      "dualDDP mean distance error = 0.05201448328354566\n",
      "dualDDP largest distance error = 0.1841821667615683\n"
     ]
    },
    {
     "name": "stderr",
     "output_type": "stream",
     "text": [
      "\n",
      "100%|██████████| 6/6 [00:00<00:00, 44541.28it/s]"
     ]
    },
    {
     "name": "stdout",
     "output_type": "stream",
     "text": [
      "Cannot find \"ipopt\"\n",
      "NLP mean distance error = 0.05201452468111198\n",
      "NLP largest distance error = 0.18418233350477592\n",
      "CPLEX 20.1.0.0: optimal solution; objective 0.6436243464\n",
      "0 dual simplex iterations (0 in phase I)\n",
      "optimal obj. fun. value = 0.6436243463538984\n",
      "ambient dimension n = 6\n",
      "found relaxed embedding in natural dimension K = 5\n",
      "now projecting to 3 principal dimensions\n",
      "dualDDP mean distance error = 0.00724464747795109\n",
      "dualDDP largest distance error = 0.03182514770288783\n"
     ]
    },
    {
     "name": "stderr",
     "output_type": "stream",
     "text": [
      "\n",
      "100%|██████████| 4/4 [00:00<00:00, 27594.11it/s]"
     ]
    },
    {
     "name": "stdout",
     "output_type": "stream",
     "text": [
      "Cannot find \"ipopt\"\n",
      "NLP mean distance error = 0.007244635182840839\n",
      "NLP largest distance error = 0.031825216374778004\n",
      "107\t0.32000000 0.72785456\tA smiling Caucasian male wearing a blue and black striped shirt it about to take a photograph.\tA man in a white shirt and black pants is smiling.\n",
      "CPLEX 20.1.0.0: optimal solution; objective 1.222975977\n",
      "0 dual simplex iterations (0 in phase I)\n",
      "optimal obj. fun. value = 1.2229759769304758\n",
      "ambient dimension n = 4\n",
      "found relaxed embedding in natural dimension K = 2\n",
      "now projecting to 2 principal dimensions\n",
      "dualDDP mean distance error = 0.02019306164054031\n",
      "dualDDP largest distance error = 0.05758660323095659\n"
     ]
    },
    {
     "name": "stderr",
     "output_type": "stream",
     "text": [
      "\n",
      "100%|██████████| 3/3 [00:00<00:00, 37900.34it/s]"
     ]
    },
    {
     "name": "stdout",
     "output_type": "stream",
     "text": [
      "Cannot find \"ipopt\"\n",
      "NLP mean distance error = 0.020192945743303225\n",
      "NLP largest distance error = 0.05758649466501688\n",
      "CPLEX 20.1.0.0: optimal solution; objective 0.30112993\n",
      "0 dual simplex iterations (0 in phase I)\n",
      "optimal obj. fun. value = 0.3011299300301149\n",
      "ambient dimension n = 3\n",
      "found relaxed embedding in natural dimension K = 2\n",
      "now projecting to 2 principal dimensions\n",
      "dualDDP mean distance error = 0.005575224387400907\n",
      "dualDDP largest distance error = 0.009112241789812014\n"
     ]
    },
    {
     "name": "stderr",
     "output_type": "stream",
     "text": [
      "\n",
      "100%|██████████| 3/3 [00:00<00:00, 38597.89it/s]"
     ]
    },
    {
     "name": "stdout",
     "output_type": "stream",
     "text": [
      "Cannot find \"ipopt\"\n",
      "NLP mean distance error = 0.005575193525936935\n",
      "NLP largest distance error = 0.009112564540046275\n",
      "108\t0.04000000 0.02195183\tA person is scaling a rock wall.\tA person and a horse are above a fence.\n",
      "CPLEX 20.1.0.0: optimal solution; objective 0.009977817509\n",
      "0 dual simplex iterations (0 in phase I)\n",
      "optimal obj. fun. value = 0.009977817508754878\n",
      "ambient dimension n = 3\n",
      "found relaxed embedding in natural dimension K = 2\n",
      "now projecting to 2 principal dimensions\n",
      "dualDDP mean distance error = 0.0005500116166781676\n",
      "dualDDP largest distance error = 0.0011283243153974234\n"
     ]
    },
    {
     "name": "stderr",
     "output_type": "stream",
     "text": [
      "\n",
      "100%|██████████| 4/4 [00:00<00:00, 38130.04it/s]"
     ]
    },
    {
     "name": "stdout",
     "output_type": "stream",
     "text": [
      "Cannot find \"ipopt\"\n",
      "NLP mean distance error = 0.000550034230217232\n",
      "NLP largest distance error = 0.0011283292644643783\n",
      "CPLEX 20.1.0.0: optimal solution; objective 0.02214061091\n",
      "0 dual simplex iterations (0 in phase I)\n",
      "optimal obj. fun. value = 0.022140610905379988\n",
      "ambient dimension n = 4\n",
      "found relaxed embedding in natural dimension K = 3\n",
      "now projecting to 3 principal dimensions\n",
      "dualDDP mean distance error = 0.0013956213731785773\n",
      "dualDDP largest distance error = 0.0035884495553224066\n"
     ]
    },
    {
     "name": "stderr",
     "output_type": "stream",
     "text": [
      "\n",
      "100%|██████████| 6/6 [00:00<00:00, 51781.53it/s]"
     ]
    },
    {
     "name": "stdout",
     "output_type": "stream",
     "text": [
      "Cannot find \"ipopt\"\n",
      "NLP mean distance error = 0.0013956669590027692\n",
      "NLP largest distance error = 0.003588501082997908\n",
      "CPLEX 20.1.0.0: optimal solution; objective 1.594807147\n",
      "0 dual simplex iterations (0 in phase I)\n",
      "optimal obj. fun. value = 1.5948071471898346\n",
      "ambient dimension n = 6\n",
      "found relaxed embedding in natural dimension K = 4\n",
      "now projecting to 3 principal dimensions\n",
      "dualDDP mean distance error = 0.010869251642139095\n",
      "dualDDP largest distance error = 0.033576129628335546\n"
     ]
    },
    {
     "name": "stderr",
     "output_type": "stream",
     "text": [
      "\n",
      "100%|██████████| 4/4 [00:00<00:00, 43919.41it/s]"
     ]
    },
    {
     "name": "stdout",
     "output_type": "stream",
     "text": [
      "Cannot find \"ipopt\"\n",
      "NLP mean distance error = 0.010869330688259116\n",
      "NLP largest distance error = 0.03357586499838941\n",
      "CPLEX 20.1.0.0: optimal solution; objective 0.0361100125\n",
      "0 dual simplex iterations (0 in phase I)\n",
      "optimal obj. fun. value = 0.03611001249964831\n",
      "ambient dimension n = 4\n",
      "found relaxed embedding in natural dimension K = 3\n",
      "now projecting to 3 principal dimensions\n",
      "dualDDP mean distance error = 0.00032900740798263935\n",
      "dualDDP largest distance error = 0.0006222757912485166\n"
     ]
    },
    {
     "name": "stderr",
     "output_type": "stream",
     "text": [
      "\n",
      "100%|██████████| 4/4 [00:00<00:00, 38479.85it/s]"
     ]
    },
    {
     "name": "stdout",
     "output_type": "stream",
     "text": [
      "Cannot find \"ipopt\"\n",
      "NLP mean distance error = 0.00032902756551532176\n",
      "NLP largest distance error = 0.000622304517077496\n",
      "110\t0.44000000 0.84124087\tTwo men are playing a game of Scrabble together.\tThe two women are playing a game.\n",
      "CPLEX 20.1.0.0: optimal solution; objective 0.4807373705\n",
      "0 dual simplex iterations (0 in phase I)\n",
      "optimal obj. fun. value = 0.48073737053675547\n",
      "ambient dimension n = 4\n",
      "found relaxed embedding in natural dimension K = 3\n",
      "now projecting to 3 principal dimensions\n",
      "dualDDP mean distance error = 0.00021735590776178365\n",
      "dualDDP largest distance error = 0.0006139841977700067\n"
     ]
    },
    {
     "name": "stderr",
     "output_type": "stream",
     "text": [
      "\n",
      "100%|██████████| 7/7 [00:00<00:00, 43755.78it/s]"
     ]
    },
    {
     "name": "stdout",
     "output_type": "stream",
     "text": [
      "Cannot find \"ipopt\"\n",
      "NLP mean distance error = 0.00021718881197112239\n",
      "NLP largest distance error = 0.0006138273940982236\n",
      "CPLEX 20.1.0.0: optimal solution; objective 2.420755629\n",
      "0 dual simplex iterations (0 in phase I)\n",
      "optimal obj. fun. value = 2.420755629087787\n",
      "ambient dimension n = 7\n",
      "found relaxed embedding in natural dimension K = 5\n",
      "now projecting to 3 principal dimensions\n",
      "dualDDP mean distance error = 0.011173878307664758\n",
      "dualDDP largest distance error = 0.05202584542924306\n"
     ]
    },
    {
     "name": "stderr",
     "output_type": "stream",
     "text": [
      "\n",
      "100%|██████████| 7/7 [00:00<00:00, 35980.55it/s]"
     ]
    },
    {
     "name": "stdout",
     "output_type": "stream",
     "text": [
      "Cannot find \"ipopt\"\n",
      "NLP mean distance error = 0.011173825772546381\n",
      "NLP largest distance error = 0.05202552127900063\n",
      "111\t0.32000000 0.28815034\tSix children are cleaning a room.\tTwo male children cleaning up leaves in a parking lot.\n",
      "CPLEX 20.1.0.0: optimal solution; objective 1.084382648\n",
      "0 dual simplex iterations (0 in phase I)\n",
      "optimal obj. fun. value = 1.0843826480397059\n",
      "ambient dimension n = 7\n",
      "found relaxed embedding in natural dimension K = 6\n",
      "now projecting to 3 principal dimensions\n",
      "dualDDP mean distance error = 0.012939408993237181\n",
      "dualDDP largest distance error = 0.03716142533415878\n"
     ]
    },
    {
     "name": "stderr",
     "output_type": "stream",
     "text": [
      "\n",
      "100%|██████████| 7/7 [00:00<00:00, 47740.05it/s]"
     ]
    },
    {
     "name": "stdout",
     "output_type": "stream",
     "text": [
      "Cannot find \"ipopt\"\n",
      "NLP mean distance error = 0.012939406363491132\n",
      "NLP largest distance error = 0.03716142359801347\n",
      "CPLEX 20.1.0.0: optimal solution; objective 0.5018784341\n",
      "0 dual simplex iterations (0 in phase I)\n",
      "optimal obj. fun. value = 0.5018784340742335\n",
      "ambient dimension n = 7\n",
      "found relaxed embedding in natural dimension K = 6\n",
      "now projecting to 3 principal dimensions\n",
      "dualDDP mean distance error = 0.008499610172487376\n",
      "dualDDP largest distance error = 0.027749857186983508\n"
     ]
    },
    {
     "name": "stderr",
     "output_type": "stream",
     "text": [
      "\n",
      "100%|██████████| 4/4 [00:00<00:00, 45343.83it/s]"
     ]
    },
    {
     "name": "stdout",
     "output_type": "stream",
     "text": [
      "Cannot find \"ipopt\"\n",
      "NLP mean distance error = 0.008499592047420587\n",
      "NLP largest distance error = 0.02774976366831953\n",
      "113\t0.08000000 0.40325236\tMany guards are standing in front of the starting line of a race.\tTwo men in business dress are standing by the side of a road.\n",
      "CPLEX 20.1.0.0: optimal solution; objective 0.1697802406\n",
      "0 dual simplex iterations (0 in phase I)\n",
      "optimal obj. fun. value = 0.16978024057918129\n",
      "ambient dimension n = 4\n",
      "found relaxed embedding in natural dimension K = 3\n",
      "now projecting to 3 principal dimensions\n",
      "dualDDP mean distance error = 0.0017186709978840038\n",
      "dualDDP largest distance error = 0.00518976033496097\n"
     ]
    },
    {
     "name": "stderr",
     "output_type": "stream",
     "text": [
      "\n",
      "100%|██████████| 4/4 [00:00<00:00, 37701.61it/s]"
     ]
    },
    {
     "name": "stdout",
     "output_type": "stream",
     "text": [
      "Cannot find \"ipopt\"\n",
      "NLP mean distance error = 0.0017188950705654485\n",
      "NLP largest distance error = 0.005189761947673573\n",
      "CPLEX 20.1.0.0: optimal solution; objective 0.02112220279\n",
      "0 dual simplex iterations (0 in phase I)\n",
      "optimal obj. fun. value = 0.021122202791459876\n",
      "ambient dimension n = 4\n",
      "found relaxed embedding in natural dimension K = 3\n",
      "now projecting to 3 principal dimensions\n",
      "dualDDP mean distance error = 0.0015831669013823817\n",
      "dualDDP largest distance error = 0.004709427294940963\n"
     ]
    },
    {
     "name": "stderr",
     "output_type": "stream",
     "text": [
      "\n",
      "100%|██████████| 3/3 [00:00<00:00, 38362.54it/s]"
     ]
    },
    {
     "name": "stdout",
     "output_type": "stream",
     "text": [
      "Cannot find \"ipopt\"\n",
      "NLP mean distance error = 0.0015832197093881024\n",
      "NLP largest distance error = 0.004709490566203893\n",
      "115\t0.72000000 0.14341744\tTwo men are helping a boy.\tTwo men are with a young child.\n",
      "CPLEX 20.1.0.0: optimal solution; objective 0.3274216493\n",
      "0 dual simplex iterations (0 in phase I)\n",
      "optimal obj. fun. value = 0.32742164926368283\n",
      "ambient dimension n = 3\n",
      "found relaxed embedding in natural dimension K = 2\n",
      "now projecting to 2 principal dimensions\n",
      "dualDDP mean distance error = 0.012762139283195842\n",
      "dualDDP largest distance error = 0.027378446934938017\n"
     ]
    },
    {
     "name": "stderr",
     "output_type": "stream",
     "text": [
      "\n",
      "100%|██████████| 3/3 [00:00<00:00, 33554.43it/s]"
     ]
    },
    {
     "name": "stdout",
     "output_type": "stream",
     "text": [
      "Cannot find \"ipopt\"\n",
      "NLP mean distance error = 0.012761701888028193\n",
      "NLP largest distance error = 0.027378202830638715\n",
      "CPLEX 20.1.0.0: optimal solution; objective 0.3274216493\n",
      "0 dual simplex iterations (0 in phase I)\n",
      "optimal obj. fun. value = 0.32742164926368283\n",
      "ambient dimension n = 3\n",
      "found relaxed embedding in natural dimension K = 2\n",
      "now projecting to 2 principal dimensions\n",
      "dualDDP mean distance error = 0.012762139283195842\n",
      "dualDDP largest distance error = 0.027378446934938017\n"
     ]
    },
    {
     "name": "stderr",
     "output_type": "stream",
     "text": [
      "\n",
      "100%|██████████| 4/4 [00:00<00:00, 46995.00it/s]"
     ]
    },
    {
     "name": "stdout",
     "output_type": "stream",
     "text": [
      "Cannot find \"ipopt\"\n",
      "NLP mean distance error = 0.012761701888028193\n",
      "NLP largest distance error = 0.027378202830638715\n",
      "116\t0.96000000 1.00000000\tA man at a farmers market.\tA man is at a farmers market.\n",
      "CPLEX 20.1.0.0: optimal solution; objective 0.05343722106\n",
      "0 dual simplex iterations (0 in phase I)\n",
      "optimal obj. fun. value = 0.05343722105886692\n",
      "ambient dimension n = 4\n",
      "found relaxed embedding in natural dimension K = 3\n",
      "now projecting to 3 principal dimensions\n",
      "dualDDP mean distance error = 0.002379450665919387\n",
      "dualDDP largest distance error = 0.006177871645972541\n"
     ]
    },
    {
     "name": "stderr",
     "output_type": "stream",
     "text": [
      "\n",
      "100%|██████████| 4/4 [00:00<00:00, 43351.98it/s]"
     ]
    },
    {
     "name": "stdout",
     "output_type": "stream",
     "text": [
      "Cannot find \"ipopt\"\n",
      "NLP mean distance error = 0.0023794183393255584\n",
      "NLP largest distance error = 0.006177865957184725\n",
      "CPLEX 20.1.0.0: optimal solution; objective 0.119037682\n",
      "0 dual simplex iterations (0 in phase I)\n",
      "optimal obj. fun. value = 0.11903768202641636\n",
      "ambient dimension n = 4\n",
      "found relaxed embedding in natural dimension K = 3\n",
      "now projecting to 3 principal dimensions\n",
      "dualDDP mean distance error = 0.003314708517978073\n",
      "dualDDP largest distance error = 0.007567957404855455\n"
     ]
    },
    {
     "name": "stderr",
     "output_type": "stream",
     "text": [
      "\n",
      "100%|██████████| 5/5 [00:00<00:00, 47771.12it/s]"
     ]
    },
    {
     "name": "stdout",
     "output_type": "stream",
     "text": [
      "Cannot find \"ipopt\"\n",
      "NLP mean distance error = 0.0033146930711548707\n",
      "NLP largest distance error = 0.0075679931972559705\n",
      "117\t0.40000000 0.99845143\tfour people walk toward a tower\tTwo men walk toward a dome-shaped building.\n",
      "CPLEX 20.1.0.0: optimal solution; objective 0.1295303849\n",
      "0 dual simplex iterations (0 in phase I)\n",
      "optimal obj. fun. value = 0.12953038487638968\n",
      "ambient dimension n = 5\n",
      "found relaxed embedding in natural dimension K = 3\n",
      "now projecting to 3 principal dimensions\n",
      "dualDDP mean distance error = 0.0033334098075862946\n",
      "dualDDP largest distance error = 0.012048387102890162\n"
     ]
    },
    {
     "name": "stderr",
     "output_type": "stream",
     "text": [
      "\n",
      "100%|██████████| 5/5 [00:00<00:00, 47446.88it/s]"
     ]
    },
    {
     "name": "stdout",
     "output_type": "stream",
     "text": [
      "Cannot find \"ipopt\"\n",
      "NLP mean distance error = 0.003333423597480683\n",
      "NLP largest distance error = 0.012048323306496661\n",
      "CPLEX 20.1.0.0: optimal solution; objective 0.7603045425\n",
      "0 dual simplex iterations (0 in phase I)\n",
      "optimal obj. fun. value = 0.7603045425462771\n",
      "ambient dimension n = 5\n",
      "found relaxed embedding in natural dimension K = 4\n",
      "now projecting to 3 principal dimensions\n",
      "dualDDP mean distance error = 0.0055457938595574905\n",
      "dualDDP largest distance error = 0.03062723740212149\n"
     ]
    },
    {
     "name": "stderr",
     "output_type": "stream",
     "text": [
      "\n",
      "100%|██████████| 3/3 [00:00<00:00, 34855.71it/s]"
     ]
    },
    {
     "name": "stdout",
     "output_type": "stream",
     "text": [
      "Cannot find \"ipopt\"\n",
      "NLP mean distance error = 0.00554583798764258\n",
      "NLP largest distance error = 0.030627233891478707\n",
      "118\t0.04000000 0.53080308\tA little girl and boy are reading books.\tAn older child is playing with a doll while gazing out the window.\n",
      "CPLEX 20.1.0.0: optimal solution; objective 0.167182174\n",
      "0 dual simplex iterations (0 in phase I)\n",
      "optimal obj. fun. value = 0.16718217399392543\n",
      "ambient dimension n = 3\n",
      "found relaxed embedding in natural dimension K = 2\n",
      "now projecting to 2 principal dimensions\n",
      "dualDDP mean distance error = 0.005734817243756255\n",
      "dualDDP largest distance error = 0.010260616514085098\n"
     ]
    },
    {
     "name": "stderr",
     "output_type": "stream",
     "text": [
      "\n",
      "100%|██████████| 3/3 [00:00<00:00, 29262.59it/s]"
     ]
    },
    {
     "name": "stdout",
     "output_type": "stream",
     "text": [
      "Cannot find \"ipopt\"\n",
      "NLP mean distance error = 0.005735030234908054\n",
      "NLP largest distance error = 0.010261021253943004\n",
      "CPLEX 20.1.0.0: optimal solution; objective 0.1632803256\n",
      "0 dual simplex iterations (0 in phase I)\n",
      "optimal obj. fun. value = 0.16328032557026095\n",
      "ambient dimension n = 3\n",
      "found relaxed embedding in natural dimension K = 2\n",
      "now projecting to 2 principal dimensions\n",
      "dualDDP mean distance error = 0.006443726954009431\n",
      "dualDDP largest distance error = 0.011629111229325313\n"
     ]
    },
    {
     "name": "stderr",
     "output_type": "stream",
     "text": [
      "\n",
      "100%|██████████| 6/6 [00:00<00:00, 30840.47it/s]"
     ]
    },
    {
     "name": "stdout",
     "output_type": "stream",
     "text": [
      "Cannot find \"ipopt\"\n",
      "NLP mean distance error = 0.006443961713293987\n",
      "NLP largest distance error = 0.011629427542752924\n",
      "119\t0.76000000 0.99994013\tThe child would like to swim.\tThe children want to swim.\n",
      "CPLEX 20.1.0.0: optimal solution; objective 1.154907936\n",
      "0 dual simplex iterations (0 in phase I)\n",
      "optimal obj. fun. value = 1.1549079359555865\n",
      "ambient dimension n = 6\n",
      "found relaxed embedding in natural dimension K = 4\n",
      "now projecting to 3 principal dimensions\n",
      "dualDDP mean distance error = 0.027332682749098496\n",
      "dualDDP largest distance error = 0.15489792167311575\n"
     ]
    },
    {
     "name": "stderr",
     "output_type": "stream",
     "text": [
      "\n",
      "100%|██████████| 4/4 [00:00<00:00, 39850.87it/s]"
     ]
    },
    {
     "name": "stdout",
     "output_type": "stream",
     "text": [
      "Cannot find \"ipopt\"\n",
      "NLP mean distance error = 0.02733262257463697\n",
      "NLP largest distance error = 0.1548972672095076\n",
      "CPLEX 20.1.0.0: optimal solution; objective 0.4711382327\n",
      "0 dual simplex iterations (0 in phase I)\n",
      "optimal obj. fun. value = 0.4711382327473841\n",
      "ambient dimension n = 4\n",
      "found relaxed embedding in natural dimension K = 2\n",
      "now projecting to 2 principal dimensions\n",
      "dualDDP mean distance error = 0.007013135772022907\n",
      "dualDDP largest distance error = 0.02659797144965264\n"
     ]
    },
    {
     "name": "stderr",
     "output_type": "stream",
     "text": [
      "\n",
      "100%|██████████| 4/4 [00:00<00:00, 36551.67it/s]"
     ]
    },
    {
     "name": "stdout",
     "output_type": "stream",
     "text": [
      "Cannot find \"ipopt\"\n",
      "NLP mean distance error = 0.007013054603454672\n",
      "NLP largest distance error = 0.026598025086721606\n",
      "CPLEX 20.1.0.0: optimal solution; objective 0.6414598504\n",
      "0 dual simplex iterations (0 in phase I)\n",
      "optimal obj. fun. value = 0.6414598504203651\n",
      "ambient dimension n = 4\n",
      "found relaxed embedding in natural dimension K = 3\n",
      "now projecting to 3 principal dimensions\n",
      "dualDDP mean distance error = 0.008030096350633347\n",
      "dualDDP largest distance error = 0.027748144472770506\n"
     ]
    },
    {
     "name": "stderr",
     "output_type": "stream",
     "text": [
      "\n",
      "100%|██████████| 8/8 [00:00<00:00, 48419.09it/s]"
     ]
    },
    {
     "name": "stdout",
     "output_type": "stream",
     "text": [
      "Cannot find \"ipopt\"\n",
      "NLP mean distance error = 0.00802998320741461\n",
      "NLP largest distance error = 0.027748101155829916\n",
      "CPLEX 20.1.0.0: optimal solution; objective 0.9796359128\n",
      "0 dual simplex iterations (0 in phase I)\n",
      "optimal obj. fun. value = 0.9796359128071609\n",
      "ambient dimension n = 8\n",
      "found relaxed embedding in natural dimension K = 7\n",
      "now projecting to 3 principal dimensions\n",
      "dualDDP mean distance error = 0.018339213841639935\n",
      "dualDDP largest distance error = 0.09069801395831631\n"
     ]
    },
    {
     "name": "stderr",
     "output_type": "stream",
     "text": [
      "\n",
      "100%|██████████| 4/4 [00:00<00:00, 43129.09it/s]"
     ]
    },
    {
     "name": "stdout",
     "output_type": "stream",
     "text": [
      "Cannot find \"ipopt\"\n",
      "NLP mean distance error = 0.018339205078058512\n",
      "NLP largest distance error = 0.09069797047582778\n",
      "121\t0.08000000 0.22563581\tA dog taking a poop in the street.\tA man making balloon animals for two children on a street corner.\n",
      "CPLEX 20.1.0.0: optimal solution; objective 0.6354522227\n",
      "0 dual simplex iterations (0 in phase I)\n",
      "optimal obj. fun. value = 0.6354522227046371\n",
      "ambient dimension n = 4\n",
      "found relaxed embedding in natural dimension K = 3\n",
      "now projecting to 3 principal dimensions\n",
      "dualDDP mean distance error = 0.013784195000366374\n",
      "dualDDP largest distance error = 0.04756974715533545\n"
     ]
    },
    {
     "name": "stderr",
     "output_type": "stream",
     "text": [
      "\n",
      "100%|██████████| 4/4 [00:00<00:00, 39850.87it/s]"
     ]
    },
    {
     "name": "stdout",
     "output_type": "stream",
     "text": [
      "Cannot find \"ipopt\"\n",
      "NLP mean distance error = 0.013784241944910411\n",
      "NLP largest distance error = 0.04756983531014941\n",
      "CPLEX 20.1.0.0: optimal solution; objective 0.3269128138\n",
      "0 dual simplex iterations (0 in phase I)\n",
      "optimal obj. fun. value = 0.32691281377642284\n",
      "ambient dimension n = 4\n",
      "found relaxed embedding in natural dimension K = 3\n",
      "now projecting to 3 principal dimensions\n",
      "dualDDP mean distance error = 0.008098935519625521\n",
      "dualDDP largest distance error = 0.025699448267638043\n"
     ]
    },
    {
     "name": "stderr",
     "output_type": "stream",
     "text": [
      "\n",
      "100%|██████████| 3/3 [00:00<00:00, 36578.23it/s]"
     ]
    },
    {
     "name": "stdout",
     "output_type": "stream",
     "text": [
      "Cannot find \"ipopt\"\n",
      "NLP mean distance error = 0.00809884845991912\n",
      "NLP largest distance error = 0.02569934661689574\n",
      "122\t0.44000000 0.96573239\tMen are fighting after a basketball game.\tThe men are playing a game of basketball.\n",
      "CPLEX 20.1.0.0: optimal solution; objective 0.03507174812\n",
      "0 dual simplex iterations (0 in phase I)\n",
      "optimal obj. fun. value = 0.035071748123842145\n",
      "ambient dimension n = 3\n",
      "found relaxed embedding in natural dimension K = 2\n",
      "now projecting to 2 principal dimensions\n",
      "dualDDP mean distance error = 0.001970189252485379\n",
      "dualDDP largest distance error = 0.0035344574671042767\n"
     ]
    },
    {
     "name": "stderr",
     "output_type": "stream",
     "text": [
      "\n",
      "100%|██████████| 3/3 [00:00<00:00, 26269.13it/s]"
     ]
    },
    {
     "name": "stdout",
     "output_type": "stream",
     "text": [
      "Cannot find \"ipopt\"\n",
      "NLP mean distance error = 0.001970190218322565\n",
      "NLP largest distance error = 0.0035345106317705294\n",
      "CPLEX 20.1.0.0: optimal solution; objective 0.02250610698\n",
      "0 dual simplex iterations (0 in phase I)\n",
      "optimal obj. fun. value = 0.022506106978855023\n",
      "ambient dimension n = 3\n",
      "found relaxed embedding in natural dimension K = 2\n",
      "now projecting to 2 principal dimensions\n",
      "dualDDP mean distance error = 0.001849061529520141\n",
      "dualDDP largest distance error = 0.003194363480754109\n"
     ]
    },
    {
     "name": "stderr",
     "output_type": "stream",
     "text": [
      "\n",
      "100%|██████████| 4/4 [00:00<00:00, 43690.67it/s]"
     ]
    },
    {
     "name": "stdout",
     "output_type": "stream",
     "text": [
      "Cannot find \"ipopt\"\n",
      "NLP mean distance error = 0.0018490981493940138\n",
      "NLP largest distance error = 0.0031943708337913573\n",
      "123\t0.36000000 0.99667995\tA kid is talking in class.\tA girl is going to class.\n",
      "CPLEX 20.1.0.0: optimal solution; objective 0.5492605036\n",
      "0 dual simplex iterations (0 in phase I)\n",
      "optimal obj. fun. value = 0.5492605035844648\n",
      "ambient dimension n = 4\n",
      "found relaxed embedding in natural dimension K = 3\n",
      "now projecting to 3 principal dimensions\n",
      "dualDDP mean distance error = 0.009033719782595899\n",
      "dualDDP largest distance error = 0.01790305615279686\n"
     ]
    },
    {
     "name": "stderr",
     "output_type": "stream",
     "text": [
      "\n",
      "100%|██████████| 4/4 [00:00<00:00, 34952.53it/s]"
     ]
    },
    {
     "name": "stdout",
     "output_type": "stream",
     "text": [
      "Cannot find \"ipopt\"\n",
      "NLP mean distance error = 0.009033675200107252\n",
      "NLP largest distance error = 0.017902778665242924\n",
      "CPLEX 20.1.0.0: optimal solution; objective 0.0113341132\n",
      "0 dual simplex iterations (0 in phase I)\n",
      "optimal obj. fun. value = 0.011334113202641515\n",
      "ambient dimension n = 4\n",
      "found relaxed embedding in natural dimension K = 3\n",
      "now projecting to 3 principal dimensions\n",
      "dualDDP mean distance error = 0.0002809942542551392\n",
      "dualDDP largest distance error = 0.0006194325700055181\n"
     ]
    },
    {
     "name": "stderr",
     "output_type": "stream",
     "text": [
      "\n",
      "100%|██████████| 4/4 [00:00<00:00, 38304.15it/s]"
     ]
    },
    {
     "name": "stdout",
     "output_type": "stream",
     "text": [
      "Cannot find \"ipopt\"\n",
      "NLP mean distance error = 0.0002809829314102108\n",
      "NLP largest distance error = 0.0006194460946562924\n",
      "124\t0.24000000 0.95648469\tThe women are trying to sell something to the individual.\tThe men are trying to make some money.\n",
      "CPLEX 20.1.0.0: optimal solution; objective 0.7623364025\n",
      "0 dual simplex iterations (0 in phase I)\n",
      "optimal obj. fun. value = 0.7623364025111705\n",
      "ambient dimension n = 4\n",
      "found relaxed embedding in natural dimension K = 2\n",
      "now projecting to 2 principal dimensions\n",
      "dualDDP mean distance error = 0.008929501337661875\n",
      "dualDDP largest distance error = 0.0213394043346182\n"
     ]
    },
    {
     "name": "stderr",
     "output_type": "stream",
     "text": [
      "\n",
      "100%|██████████| 5/5 [00:00<00:00, 43329.59it/s]"
     ]
    },
    {
     "name": "stdout",
     "output_type": "stream",
     "text": [
      "Cannot find \"ipopt\"\n",
      "NLP mean distance error = 0.008929222433381791\n",
      "NLP largest distance error = 0.021339373510008725\n",
      "CPLEX 20.1.0.0: optimal solution; objective 0.2133405506\n",
      "0 dual simplex iterations (0 in phase I)\n",
      "optimal obj. fun. value = 0.21334055064578417\n",
      "ambient dimension n = 5\n",
      "found relaxed embedding in natural dimension K = 4\n",
      "now projecting to 3 principal dimensions\n",
      "dualDDP mean distance error = 0.008103219419689073\n",
      "dualDDP largest distance error = 0.02248419677810655\n"
     ]
    },
    {
     "name": "stderr",
     "output_type": "stream",
     "text": [
      "\n",
      "100%|██████████| 5/5 [00:00<00:00, 45392.90it/s]"
     ]
    },
    {
     "name": "stdout",
     "output_type": "stream",
     "text": [
      "Cannot find \"ipopt\"\n",
      "NLP mean distance error = 0.008103203675131742\n",
      "NLP largest distance error = 0.022484186459941394\n",
      "CPLEX 20.1.0.0: optimal solution; objective 3.897119454\n",
      "0 dual simplex iterations (0 in phase I)\n",
      "optimal obj. fun. value = 3.897119454311147\n",
      "ambient dimension n = 5\n",
      "found relaxed embedding in natural dimension K = 3\n",
      "now projecting to 3 principal dimensions\n",
      "dualDDP mean distance error = 0.027783320684945566\n",
      "dualDDP largest distance error = 0.0746445727554581\n"
     ]
    },
    {
     "name": "stderr",
     "output_type": "stream",
     "text": [
      "\n",
      "100%|██████████| 4/4 [00:00<00:00, 42366.71it/s]"
     ]
    },
    {
     "name": "stdout",
     "output_type": "stream",
     "text": [
      "Cannot find \"ipopt\"\n",
      "NLP mean distance error = 0.027783477555017467\n",
      "NLP largest distance error = 0.07464560490350547\n",
      "CPLEX 20.1.0.0: optimal solution; objective 0.2350807215\n",
      "0 dual simplex iterations (0 in phase I)\n",
      "optimal obj. fun. value = 0.23508072154371068\n",
      "ambient dimension n = 4\n",
      "found relaxed embedding in natural dimension K = 3\n",
      "now projecting to 3 principal dimensions\n",
      "dualDDP mean distance error = 6.611440506466952e-05\n",
      "dualDDP largest distance error = 0.0002012373563019254\n"
     ]
    },
    {
     "name": "stderr",
     "output_type": "stream",
     "text": [
      "\n",
      "100%|██████████| 8/8 [00:00<00:00, 49344.75it/s]"
     ]
    },
    {
     "name": "stdout",
     "output_type": "stream",
     "text": [
      "Cannot find \"ipopt\"\n",
      "NLP mean distance error = 6.597913951722721e-05\n",
      "NLP largest distance error = 0.00020126083533599654\n",
      "126\t0.44000000 0.20369966\tA dog prepares to herd three sheep with horns.\tA dog and sheep run together.\n",
      "CPLEX 20.1.0.0: optimal solution; objective 6.324435349\n",
      "0 dual simplex iterations (0 in phase I)\n",
      "optimal obj. fun. value = 6.324435348714352\n",
      "ambient dimension n = 8\n",
      "found relaxed embedding in natural dimension K = 5\n",
      "now projecting to 3 principal dimensions\n",
      "dualDDP mean distance error = 0.015041873744180182\n",
      "dualDDP largest distance error = 0.09851145397139546\n"
     ]
    },
    {
     "name": "stderr",
     "output_type": "stream",
     "text": [
      "\n",
      "100%|██████████| 3/3 [00:00<00:00, 35848.75it/s]"
     ]
    },
    {
     "name": "stdout",
     "output_type": "stream",
     "text": [
      "Cannot find \"ipopt\"\n",
      "NLP mean distance error = 0.015041807534970756\n",
      "NLP largest distance error = 0.09851144061145119\n",
      "CPLEX 20.1.0.0: optimal solution; objective 0.2803431833\n",
      "0 dual simplex iterations (0 in phase I)\n",
      "optimal obj. fun. value = 0.2803431832548616\n",
      "ambient dimension n = 3\n",
      "found relaxed embedding in natural dimension K = 2\n",
      "now projecting to 2 principal dimensions\n",
      "dualDDP mean distance error = 0.0053560250878051385\n",
      "dualDDP largest distance error = 0.00888544229567051\n"
     ]
    },
    {
     "name": "stderr",
     "output_type": "stream",
     "text": [
      "\n",
      "100%|██████████| 8/8 [00:00<00:00, 48419.09it/s]"
     ]
    },
    {
     "name": "stdout",
     "output_type": "stream",
     "text": [
      "Cannot find \"ipopt\"\n",
      "NLP mean distance error = 0.005355797100440328\n",
      "NLP largest distance error = 0.008885291181636834\n",
      "CPLEX 20.1.0.0: optimal solution; objective 5.030613632\n",
      "0 dual simplex iterations (0 in phase I)\n",
      "optimal obj. fun. value = 5.030613631956928\n",
      "ambient dimension n = 8\n",
      "found relaxed embedding in natural dimension K = 6\n",
      "now projecting to 3 principal dimensions\n",
      "dualDDP mean distance error = 0.05842778284667427\n",
      "dualDDP largest distance error = 0.22403329100133448\n"
     ]
    },
    {
     "name": "stderr",
     "output_type": "stream",
     "text": [
      "\n",
      "100%|██████████| 4/4 [00:00<00:00, 37200.04it/s]"
     ]
    },
    {
     "name": "stdout",
     "output_type": "stream",
     "text": [
      "Cannot find \"ipopt\"\n",
      "NLP mean distance error = 0.058427799956482125\n",
      "NLP largest distance error = 0.22403335644138409\n",
      "CPLEX 20.1.0.0: optimal solution; objective 1.469757407\n",
      "0 dual simplex iterations (0 in phase I)\n",
      "optimal obj. fun. value = 1.4697574074074073\n",
      "ambient dimension n = 4\n",
      "found relaxed embedding in natural dimension K = 3\n",
      "now projecting to 3 principal dimensions\n",
      "dualDDP mean distance error = 0.019677995651221084\n",
      "dualDDP largest distance error = 0.04071342914510989\n"
     ]
    },
    {
     "name": "stderr",
     "output_type": "stream",
     "text": [
      "\n",
      "100%|██████████| 7/7 [00:00<00:00, 49261.96it/s]"
     ]
    },
    {
     "name": "stdout",
     "output_type": "stream",
     "text": [
      "Cannot find \"ipopt\"\n",
      "NLP mean distance error = 0.019678359241692714\n",
      "NLP largest distance error = 0.04071360806736052\n",
      "129\t0.92000000 0.26577303\tOne football player tries to tackle a player on the opposing team.\tA football player attempts a tackle.\n",
      "CPLEX 20.1.0.0: optimal solution; objective 2.311654337\n",
      "0 dual simplex iterations (0 in phase I)\n",
      "optimal obj. fun. value = 2.311654337492747\n",
      "ambient dimension n = 7\n",
      "found relaxed embedding in natural dimension K = 5\n",
      "now projecting to 3 principal dimensions\n",
      "dualDDP mean distance error = 0.01425173991328461\n",
      "dualDDP largest distance error = 0.034545079680629365\n"
     ]
    },
    {
     "name": "stderr",
     "output_type": "stream",
     "text": [
      "\n",
      "100%|██████████| 7/7 [00:00<00:00, 47817.80it/s]"
     ]
    },
    {
     "name": "stdout",
     "output_type": "stream",
     "text": [
      "Cannot find \"ipopt\"\n",
      "NLP mean distance error = 0.014251680445720687\n",
      "NLP largest distance error = 0.03454467340700432\n",
      "CPLEX 20.1.0.0: optimal solution; objective 0.8059747557\n",
      "0 dual simplex iterations (0 in phase I)\n",
      "optimal obj. fun. value = 0.8059747556974446\n",
      "ambient dimension n = 7\n",
      "found relaxed embedding in natural dimension K = 5\n",
      "now projecting to 3 principal dimensions\n",
      "dualDDP mean distance error = 0.014108278500825553\n",
      "dualDDP largest distance error = 0.04655089871749105\n"
     ]
    },
    {
     "name": "stderr",
     "output_type": "stream",
     "text": [
      "\n",
      "100%|██████████| 4/4 [00:00<00:00, 44858.87it/s]"
     ]
    },
    {
     "name": "stdout",
     "output_type": "stream",
     "text": [
      "Cannot find \"ipopt\"\n",
      "NLP mean distance error = 0.014108246847561063\n",
      "NLP largest distance error = 0.04655083897898427\n",
      "130\t0.28000000 0.32505549\tThree men are drying to pull a Subaru out of a ditch along a mountain road.\tTwo men are waiting for a ride on the side of a dirt road.\n",
      "CPLEX 20.1.0.0: optimal solution; objective 0.6296816789\n",
      "0 dual simplex iterations (0 in phase I)\n",
      "optimal obj. fun. value = 0.6296816788535572\n",
      "ambient dimension n = 4\n",
      "found relaxed embedding in natural dimension K = 3\n",
      "now projecting to 3 principal dimensions\n",
      "dualDDP mean distance error = 0.008061447099304916\n",
      "dualDDP largest distance error = 0.029847183159073462\n"
     ]
    },
    {
     "name": "stderr",
     "output_type": "stream",
     "text": [
      "\n",
      "100%|██████████| 5/5 [00:00<00:00, 32214.32it/s]"
     ]
    },
    {
     "name": "stdout",
     "output_type": "stream",
     "text": [
      "Cannot find \"ipopt\"\n",
      "NLP mean distance error = 0.008061676204137704\n",
      "NLP largest distance error = 0.029847201707100604\n",
      "CPLEX 20.1.0.0: optimal solution; objective 0.7897975138\n",
      "0 dual simplex iterations (0 in phase I)\n",
      "optimal obj. fun. value = 0.7897975138078365\n",
      "ambient dimension n = 5\n",
      "found relaxed embedding in natural dimension K = 4\n",
      "now projecting to 3 principal dimensions\n",
      "dualDDP mean distance error = 0.008905744592098714\n",
      "dualDDP largest distance error = 0.02783179038147616\n"
     ]
    },
    {
     "name": "stderr",
     "output_type": "stream",
     "text": [
      "\n",
      "100%|██████████| 3/3 [00:00<00:00, 28086.86it/s]"
     ]
    },
    {
     "name": "stdout",
     "output_type": "stream",
     "text": [
      "Cannot find \"ipopt\"\n",
      "NLP mean distance error = 0.008905774624992178\n",
      "NLP largest distance error = 0.027831996804166596\n",
      "131\t0.16000000 0.79183719\tA woman doesn't have her arms up because she's paralyzed from the neck down\tA woman is sitting on the steps because she tripped and hurt her ankle.\n",
      "CPLEX 20.1.0.0: optimal solution; objective 0.2099872938\n",
      "0 dual simplex iterations (0 in phase I)\n",
      "optimal obj. fun. value = 0.20998729383767267\n",
      "ambient dimension n = 3\n",
      "found relaxed embedding in natural dimension K = 2\n",
      "now projecting to 2 principal dimensions\n",
      "dualDDP mean distance error = 0.00900459849637566\n",
      "dualDDP largest distance error = 0.024221574986389535\n"
     ]
    },
    {
     "name": "stderr",
     "output_type": "stream",
     "text": [
      "\n",
      "100%|██████████| 4/4 [00:00<00:00, 26588.30it/s]"
     ]
    },
    {
     "name": "stdout",
     "output_type": "stream",
     "text": [
      "Cannot find \"ipopt\"\n",
      "NLP mean distance error = 0.009004562127785496\n",
      "NLP largest distance error = 0.024221557045658586\n",
      "CPLEX 20.1.0.0: optimal solution; objective 0.3329920537\n",
      "0 dual simplex iterations (0 in phase I)\n",
      "optimal obj. fun. value = 0.33299205369038787\n",
      "ambient dimension n = 4\n",
      "found relaxed embedding in natural dimension K = 2\n",
      "now projecting to 2 principal dimensions\n",
      "dualDDP mean distance error = 0.010150869824878981\n",
      "dualDDP largest distance error = 0.030041577056048638\n"
     ]
    },
    {
     "name": "stderr",
     "output_type": "stream",
     "text": [
      "\n",
      "100%|██████████| 5/5 [00:00<00:00, 29579.01it/s]"
     ]
    },
    {
     "name": "stdout",
     "output_type": "stream",
     "text": [
      "Cannot find \"ipopt\"\n",
      "NLP mean distance error = 0.010150792599278534\n",
      "NLP largest distance error = 0.030041572102477772\n",
      "132\t1.00000000 0.99478538\tPeople gathered in a room.\tPeople gathered together in a room.\n",
      "CPLEX 20.1.0.0: optimal solution; objective 1.67967683\n",
      "0 dual simplex iterations (0 in phase I)\n",
      "optimal obj. fun. value = 1.6796768300784723\n",
      "ambient dimension n = 5\n",
      "found relaxed embedding in natural dimension K = 3\n",
      "now projecting to 3 principal dimensions\n",
      "dualDDP mean distance error = 0.01866323698900933\n",
      "dualDDP largest distance error = 0.057377811511788696\n"
     ]
    },
    {
     "name": "stderr",
     "output_type": "stream",
     "text": [
      "\n",
      "100%|██████████| 4/4 [00:00<00:00, 44034.69it/s]"
     ]
    },
    {
     "name": "stdout",
     "output_type": "stream",
     "text": [
      "Cannot find \"ipopt\"\n",
      "NLP mean distance error = 0.0186631131321131\n",
      "NLP largest distance error = 0.05737758582690658\n",
      "CPLEX 20.1.0.0: optimal solution; objective 0.2902526349\n",
      "0 dual simplex iterations (0 in phase I)\n",
      "optimal obj. fun. value = 0.2902526349284529\n",
      "ambient dimension n = 4\n",
      "found relaxed embedding in natural dimension K = 3\n",
      "now projecting to 3 principal dimensions\n",
      "dualDDP mean distance error = 0.0037038757632255996\n",
      "dualDDP largest distance error = 0.014668102686915548\n"
     ]
    },
    {
     "name": "stderr",
     "output_type": "stream",
     "text": [
      "\n",
      "100%|██████████| 4/4 [00:00<00:00, 43464.29it/s]"
     ]
    },
    {
     "name": "stdout",
     "output_type": "stream",
     "text": [
      "Cannot find \"ipopt\"\n",
      "NLP mean distance error = 0.0037040959211000596\n",
      "NLP largest distance error = 0.014668104481294658\n",
      "133\t0.52000000 0.36605407\tThe woman in overalls paints a picture for her wall.\tA woman is painting her wall white.\n",
      "CPLEX 20.1.0.0: optimal solution; objective 0.9941016752\n",
      "0 dual simplex iterations (0 in phase I)\n",
      "optimal obj. fun. value = 0.994101675162266\n",
      "ambient dimension n = 4\n",
      "found relaxed embedding in natural dimension K = 3\n",
      "now projecting to 3 principal dimensions\n",
      "dualDDP mean distance error = 0.01374069497984763\n",
      "dualDDP largest distance error = 0.0353532019694725\n"
     ]
    },
    {
     "name": "stderr",
     "output_type": "stream",
     "text": [
      "\n",
      "100%|██████████| 6/6 [00:00<00:00, 30954.27it/s]\n"
     ]
    },
    {
     "name": "stdout",
     "output_type": "stream",
     "text": [
      "Cannot find \"ipopt\"\n",
      "NLP mean distance error = 0.013740800016012288\n",
      "NLP largest distance error = 0.03535384654722712\n",
      "CPLEX 20.1.0.0: optimal solution; objective 1.60297678\n",
      "0 dual simplex iterations (0 in phase I)\n",
      "optimal obj. fun. value = 1.6029767798395345\n",
      "ambient dimension n = 6\n",
      "found relaxed embedding in natural dimension K = 5\n",
      "now projecting to 3 principal dimensions\n",
      "dualDDP mean distance error = 0.005851499922822048\n",
      "dualDDP largest distance error = 0.02410080522576722\n",
      "Cannot find \"ipopt\"\n",
      "NLP mean distance error = 0.005851556364387956\n",
      "NLP largest distance error = 0.024100826323601037\n",
      "134"
     ]
    },
    {
     "name": "stderr",
     "output_type": "stream",
     "text": [
      "100%|██████████| 5/5 [00:00<00:00, 48210.39it/s]"
     ]
    },
    {
     "name": "stdout",
     "output_type": "stream",
     "text": [
      "\t0.00000000 0.99864634\tAdding aspirin to the water could kill the plant.\tMen are trying to remove oil from a body of water.\n",
      "CPLEX 20.1.0.0: optimal solution; objective 1.569702455\n",
      "0 dual simplex iterations (0 in phase I)\n",
      "optimal obj. fun. value = 1.5697024549432106\n",
      "ambient dimension n = 5\n",
      "found relaxed embedding in natural dimension K = 4\n",
      "now projecting to 3 principal dimensions\n",
      "dualDDP mean distance error = 0.011076724397107976\n",
      "dualDDP largest distance error = 0.029908677581584317\n"
     ]
    },
    {
     "name": "stderr",
     "output_type": "stream",
     "text": [
      "\n",
      "100%|██████████| 4/4 [00:00<00:00, 42908.48it/s]"
     ]
    },
    {
     "name": "stdout",
     "output_type": "stream",
     "text": [
      "Cannot find \"ipopt\"\n",
      "NLP mean distance error = 0.011076759811327434\n",
      "NLP largest distance error = 0.029908863241365012\n",
      "CPLEX 20.1.0.0: optimal solution; objective 0.313199302\n",
      "0 dual simplex iterations (0 in phase I)\n",
      "optimal obj. fun. value = 0.31319930203078383\n",
      "ambient dimension n = 4\n",
      "found relaxed embedding in natural dimension K = 3\n",
      "now projecting to 3 principal dimensions\n",
      "dualDDP mean distance error = 0.005985301978249947\n",
      "dualDDP largest distance error = 0.01655660204897977\n",
      "Cannot find \"ipopt\"\n",
      "NLP mean distance error = 0.00598528679054595\n",
      "NLP largest distance error = 0.01655622254924663\n",
      "135"
     ]
    },
    {
     "name": "stderr",
     "output_type": "stream",
     "text": [
      "\n",
      "100%|██████████| 9/9 [00:00<00:00, 47244.98it/s]"
     ]
    },
    {
     "name": "stdout",
     "output_type": "stream",
     "text": [
      "\t0.12000000 0.99816689\tFive kids are standing in front of a tent.\tPeople are out sitting in front of a garden.\n",
      "CPLEX 20.1.0.0: optimal solution; objective 18.19002816\n",
      "0 dual simplex iterations (0 in phase I)\n",
      "optimal obj. fun. value = 18.1900281606429\n",
      "ambient dimension n = 9\n",
      "found relaxed embedding in natural dimension K = 6\n",
      "now projecting to 3 principal dimensions\n",
      "dualDDP mean distance error = 0.05154638916084419\n",
      "dualDDP largest distance error = 0.1898458878932624\n"
     ]
    },
    {
     "name": "stderr",
     "output_type": "stream",
     "text": [
      "\n",
      "100%|██████████| 8/8 [00:00<00:00, 46538.74it/s]"
     ]
    },
    {
     "name": "stdout",
     "output_type": "stream",
     "text": [
      "Cannot find \"ipopt\"\n",
      "NLP mean distance error = 0.05154643980712893\n",
      "NLP largest distance error = 0.18984592825728716\n",
      "CPLEX 20.1.0.0: optimal solution; objective 2.777881726\n",
      "0 dual simplex iterations (0 in phase I)\n",
      "optimal obj. fun. value = 2.777881726216226\n",
      "ambient dimension n = 8\n",
      "found relaxed embedding in natural dimension K = 5\n",
      "now projecting to 3 principal dimensions\n",
      "dualDDP mean distance error = 0.01714465337380281\n",
      "dualDDP largest distance error = 0.07066159230033647\n"
     ]
    },
    {
     "name": "stderr",
     "output_type": "stream",
     "text": [
      "\n",
      "100%|██████████| 5/5 [00:00<00:00, 49113.63it/s]"
     ]
    },
    {
     "name": "stdout",
     "output_type": "stream",
     "text": [
      "Cannot find \"ipopt\"\n",
      "NLP mean distance error = 0.01714461383500595\n",
      "NLP largest distance error = 0.07066133881404754\n",
      "136\t0.24000000 0.65818360\tFemale in a maroon shirt engaged in conversation with another female in a tan blazer.\tA girl in a blue dress and another girl in a purple dress, both smiling.\n",
      "CPLEX 20.1.0.0: optimal solution; objective 1.021525279\n",
      "0 dual simplex iterations (0 in phase I)\n",
      "optimal obj. fun. value = 1.021525278518271\n",
      "ambient dimension n = 5\n",
      "found relaxed embedding in natural dimension K = 3\n",
      "now projecting to 3 principal dimensions\n",
      "dualDDP mean distance error = 0.011263473929983248\n",
      "dualDDP largest distance error = 0.03316282183527525\n"
     ]
    },
    {
     "name": "stderr",
     "output_type": "stream",
     "text": [
      "\n",
      "100%|██████████| 6/6 [00:00<00:00, 50737.55it/s]"
     ]
    },
    {
     "name": "stdout",
     "output_type": "stream",
     "text": [
      "Cannot find \"ipopt\"\n",
      "NLP mean distance error = 0.011263423622524804\n",
      "NLP largest distance error = 0.03316331054481342\n",
      "CPLEX 20.1.0.0: optimal solution; objective 0.6381270113\n",
      "0 dual simplex iterations (0 in phase I)\n",
      "optimal obj. fun. value = 0.6381270113355388\n",
      "ambient dimension n = 6\n",
      "found relaxed embedding in natural dimension K = 4\n",
      "now projecting to 3 principal dimensions\n",
      "dualDDP mean distance error = 0.010546733938761491\n",
      "dualDDP largest distance error = 0.02489933023096577\n"
     ]
    },
    {
     "name": "stderr",
     "output_type": "stream",
     "text": [
      "\n",
      "100%|██████████| 3/3 [00:00<00:00, 38130.04it/s]"
     ]
    },
    {
     "name": "stdout",
     "output_type": "stream",
     "text": [
      "Cannot find \"ipopt\"\n",
      "NLP mean distance error = 0.01054679352299393\n",
      "NLP largest distance error = 0.02489936593815445\n",
      "137\t0.32000000 0.03557112\tBaseball players playing a game at the park.\tA basketball player, playing in the home coming game.\n",
      "CPLEX 20.1.0.0: optimal solution; objective 0.18618555\n",
      "0 dual simplex iterations (0 in phase I)\n",
      "optimal obj. fun. value = 0.18618555004643314\n",
      "ambient dimension n = 3\n",
      "found relaxed embedding in natural dimension K = 2\n",
      "now projecting to 2 principal dimensions\n",
      "dualDDP mean distance error = 0.010510245070746521\n",
      "dualDDP largest distance error = 0.017068373698837597\n"
     ]
    },
    {
     "name": "stderr",
     "output_type": "stream",
     "text": [
      "\n",
      "100%|██████████| 3/3 [00:00<00:00, 36578.23it/s]"
     ]
    },
    {
     "name": "stdout",
     "output_type": "stream",
     "text": [
      "Cannot find \"ipopt\"\n",
      "NLP mean distance error = 0.010510404550693927\n",
      "NLP largest distance error = 0.01706794134807682\n",
      "CPLEX 20.1.0.0: optimal solution; objective 0.07411542038\n",
      "0 dual simplex iterations (0 in phase I)\n",
      "optimal obj. fun. value = 0.0741154203838255\n",
      "ambient dimension n = 3\n",
      "found relaxed embedding in natural dimension K = 2\n",
      "now projecting to 2 principal dimensions\n",
      "dualDDP mean distance error = 0.003322135574836497\n",
      "dualDDP largest distance error = 0.006640891615519104\n"
     ]
    },
    {
     "name": "stderr",
     "output_type": "stream",
     "text": [
      "\n",
      "100%|██████████| 6/6 [00:00<00:00, 49539.02it/s]"
     ]
    },
    {
     "name": "stdout",
     "output_type": "stream",
     "text": [
      "Cannot find \"ipopt\"\n",
      "NLP mean distance error = 0.003321965907523372\n",
      "NLP largest distance error = 0.006640836446161355\n",
      "139\t0.56000000 0.99999686\tThe woman is wearing yellow.\tThe woman is wearing red.\n",
      "CPLEX 20.1.0.0: optimal solution; objective 2.586780684\n",
      "0 dual simplex iterations (0 in phase I)\n",
      "optimal obj. fun. value = 2.5867806835456175\n",
      "ambient dimension n = 6\n",
      "found relaxed embedding in natural dimension K = 5\n",
      "now projecting to 3 principal dimensions\n",
      "dualDDP mean distance error = 0.02990401894551802\n",
      "dualDDP largest distance error = 0.08051944277550083\n"
     ]
    },
    {
     "name": "stderr",
     "output_type": "stream",
     "text": [
      "\n",
      "100%|██████████| 3/3 [00:00<00:00, 34100.03it/s]"
     ]
    },
    {
     "name": "stdout",
     "output_type": "stream",
     "text": [
      "Cannot find \"ipopt\"\n",
      "NLP mean distance error = 0.029904297903507827\n",
      "NLP largest distance error = 0.08052008818657053\n",
      "CPLEX 20.1.0.0: optimal solution; objective 0.08219913185\n",
      "0 dual simplex iterations (0 in phase I)\n",
      "optimal obj. fun. value = 0.08219913185103253\n",
      "ambient dimension n = 3\n",
      "found relaxed embedding in natural dimension K = 2\n",
      "now projecting to 2 principal dimensions\n",
      "dualDDP mean distance error = 0.0055023816677465575\n",
      "dualDDP largest distance error = 0.01190683547333378\n"
     ]
    },
    {
     "name": "stderr",
     "output_type": "stream",
     "text": [
      "\n",
      "100%|██████████| 3/3 [00:00<00:00, 27473.61it/s]"
     ]
    },
    {
     "name": "stdout",
     "output_type": "stream",
     "text": [
      "Cannot find \"ipopt\"\n",
      "NLP mean distance error = 0.0055025309225654505\n",
      "NLP largest distance error = 0.01190684277915538\n",
      "CPLEX 20.1.0.0: optimal solution; objective 0.1802592132\n",
      "0 dual simplex iterations (0 in phase I)\n",
      "optimal obj. fun. value = 0.18025921316804522\n",
      "ambient dimension n = 3\n",
      "found relaxed embedding in natural dimension K = 2\n",
      "now projecting to 2 principal dimensions\n",
      "dualDDP mean distance error = 0.007662384135177655\n",
      "dualDDP largest distance error = 0.014702937339523214\n"
     ]
    },
    {
     "name": "stderr",
     "output_type": "stream",
     "text": [
      "\n",
      "100%|██████████| 4/4 [00:00<00:00, 42473.96it/s]"
     ]
    },
    {
     "name": "stdout",
     "output_type": "stream",
     "text": [
      "Cannot find \"ipopt\"\n",
      "NLP mean distance error = 0.007662523963194963\n",
      "NLP largest distance error = 0.014703098633625483\n",
      "CPLEX 20.1.0.0: optimal solution; objective 0.8319300245\n",
      "0 dual simplex iterations (0 in phase I)\n",
      "optimal obj. fun. value = 0.8319300244976909\n",
      "ambient dimension n = 4\n",
      "found relaxed embedding in natural dimension K = 3\n",
      "now projecting to 3 principal dimensions\n",
      "dualDDP mean distance error = 0.018574383155243995\n",
      "dualDDP largest distance error = 0.05573328933979274\n"
     ]
    },
    {
     "name": "stderr",
     "output_type": "stream",
     "text": [
      "\n",
      "100%|██████████| 11/11 [00:00<00:00, 42522.90it/s]"
     ]
    },
    {
     "name": "stdout",
     "output_type": "stream",
     "text": [
      "Cannot find \"ipopt\"\n",
      "NLP mean distance error = 0.018574473652774537\n",
      "NLP largest distance error = 0.05573320793047573\n",
      "CPLEX 20.1.0.0: optimal solution; objective 13.33598825\n",
      "0 dual simplex iterations (0 in phase I)\n",
      "optimal obj. fun. value = 13.33598824670568\n",
      "ambient dimension n = 11\n",
      "found relaxed embedding in natural dimension K = 8\n",
      "now projecting to 3 principal dimensions\n",
      "dualDDP mean distance error = 0.06111683405014986\n",
      "dualDDP largest distance error = 0.32959224222498595\n"
     ]
    },
    {
     "name": "stderr",
     "output_type": "stream",
     "text": [
      "\n",
      "100%|██████████| 6/6 [00:00<00:00, 47127.01it/s]"
     ]
    },
    {
     "name": "stdout",
     "output_type": "stream",
     "text": [
      "Cannot find \"ipopt\"\n",
      "NLP mean distance error = 0.06111686651043231\n",
      "NLP largest distance error = 0.329592325848711\n",
      "CPLEX 20.1.0.0: optimal solution; objective 2.589168832\n",
      "0 dual simplex iterations (0 in phase I)\n",
      "optimal obj. fun. value = 2.5891688318870454\n",
      "ambient dimension n = 6\n",
      "found relaxed embedding in natural dimension K = 5\n",
      "now projecting to 3 principal dimensions\n",
      "dualDDP mean distance error = 0.016640460477613243\n",
      "dualDDP largest distance error = 0.07729371941731741\n"
     ]
    },
    {
     "name": "stderr",
     "output_type": "stream",
     "text": [
      "\n",
      "100%|██████████| 5/5 [00:00<00:00, 48770.98it/s]"
     ]
    },
    {
     "name": "stdout",
     "output_type": "stream",
     "text": [
      "Cannot find \"ipopt\"\n",
      "NLP mean distance error = 0.01664038091777249\n",
      "NLP largest distance error = 0.07729352602726033\n",
      "143\t0.60000000 0.06883789\tTwo fishermen try to untangle their large fishing net on the side of the road on a cloudy day.\tSeveral men pull a fishing net up on to the beach.\n",
      "CPLEX 20.1.0.0: optimal solution; objective 1.936465182\n",
      "0 dual simplex iterations (0 in phase I)\n",
      "optimal obj. fun. value = 1.9364651815463292\n",
      "ambient dimension n = 5\n",
      "found relaxed embedding in natural dimension K = 4\n",
      "now projecting to 3 principal dimensions\n",
      "dualDDP mean distance error = 0.011580349624541655\n",
      "dualDDP largest distance error = 0.03445149282578455\n"
     ]
    },
    {
     "name": "stderr",
     "output_type": "stream",
     "text": [
      "\n",
      "100%|██████████| 3/3 [00:00<00:00, 36157.79it/s]"
     ]
    },
    {
     "name": "stdout",
     "output_type": "stream",
     "text": [
      "Cannot find \"ipopt\"\n",
      "NLP mean distance error = 0.011580289423510077\n",
      "NLP largest distance error = 0.03445165564973854\n",
      "CPLEX 20.1.0.0: optimal solution; objective 0.7706249655\n",
      "0 dual simplex iterations (0 in phase I)\n",
      "optimal obj. fun. value = 0.7706249654578124\n",
      "ambient dimension n = 3\n",
      "found relaxed embedding in natural dimension K = 2\n",
      "now projecting to 2 principal dimensions\n",
      "dualDDP mean distance error = 0.018769987690887346\n",
      "dualDDP largest distance error = 0.044893624060039966\n"
     ]
    },
    {
     "name": "stderr",
     "output_type": "stream",
     "text": [
      "\n",
      "100%|██████████| 3/3 [00:00<00:00, 38130.04it/s]"
     ]
    },
    {
     "name": "stdout",
     "output_type": "stream",
     "text": [
      "Cannot find \"ipopt\"\n",
      "NLP mean distance error = 0.018770140510562795\n",
      "NLP largest distance error = 0.044893661745982444\n",
      "CPLEX 20.1.0.0: optimal solution; objective 0.2069217277\n",
      "0 dual simplex iterations (0 in phase I)\n",
      "optimal obj. fun. value = 0.20692172770927353\n",
      "ambient dimension n = 3\n",
      "found relaxed embedding in natural dimension K = 2\n",
      "now projecting to 2 principal dimensions\n",
      "dualDDP mean distance error = 0.0071639395082531325\n",
      "dualDDP largest distance error = 0.01855622896959605\n"
     ]
    },
    {
     "name": "stderr",
     "output_type": "stream",
     "text": [
      "\n",
      "100%|██████████| 3/3 [00:00<00:00, 32768.00it/s]"
     ]
    },
    {
     "name": "stdout",
     "output_type": "stream",
     "text": [
      "Cannot find \"ipopt\"\n",
      "NLP mean distance error = 0.007164081052353412\n",
      "NLP largest distance error = 0.018556189900144973\n",
      "CPLEX 20.1.0.0: optimal solution; objective 0.3042152189\n",
      "0 dual simplex iterations (0 in phase I)\n",
      "optimal obj. fun. value = 0.30421521891018544\n",
      "ambient dimension n = 3\n",
      "found relaxed embedding in natural dimension K = 2\n",
      "now projecting to 2 principal dimensions\n",
      "dualDDP mean distance error = 0.008359938759309604\n",
      "dualDDP largest distance error = 0.022173092624080723\n"
     ]
    },
    {
     "name": "stderr",
     "output_type": "stream",
     "text": [
      "\n",
      "100%|██████████| 6/6 [00:00<00:00, 46951.16it/s]"
     ]
    },
    {
     "name": "stdout",
     "output_type": "stream",
     "text": [
      "Cannot find \"ipopt\"\n",
      "NLP mean distance error = 0.00836001640430413\n",
      "NLP largest distance error = 0.022173127829289416\n",
      "145\t0.48000000 0.97165561\tThe woman had brown hair.\tThe woman has gray hair.\n",
      "CPLEX 20.1.0.0: optimal solution; objective 3.13548152\n",
      "0 dual simplex iterations (0 in phase I)\n",
      "optimal obj. fun. value = 3.135481520215947\n",
      "ambient dimension n = 6\n",
      "found relaxed embedding in natural dimension K = 5\n",
      "now projecting to 3 principal dimensions\n",
      "dualDDP mean distance error = 0.02151579247743786\n",
      "dualDDP largest distance error = 0.05873638786701285\n"
     ]
    },
    {
     "name": "stderr",
     "output_type": "stream",
     "text": [
      "\n",
      "100%|██████████| 6/6 [00:00<00:00, 43464.29it/s]"
     ]
    },
    {
     "name": "stdout",
     "output_type": "stream",
     "text": [
      "Cannot find \"ipopt\"\n",
      "NLP mean distance error = 0.02151562963376277\n",
      "NLP largest distance error = 0.058735844607056276\n",
      "CPLEX 20.1.0.0: optimal solution; objective 1.634387826\n",
      "0 dual simplex iterations (0 in phase I)\n",
      "optimal obj. fun. value = 1.6343878264997567\n",
      "ambient dimension n = 6\n",
      "found relaxed embedding in natural dimension K = 5\n",
      "now projecting to 3 principal dimensions\n",
      "dualDDP mean distance error = 0.021294176992186633\n",
      "dualDDP largest distance error = 0.07040954658361206\n"
     ]
    },
    {
     "name": "stderr",
     "output_type": "stream",
     "text": [
      "\n",
      "100%|██████████| 4/4 [00:00<00:00, 35544.95it/s]"
     ]
    },
    {
     "name": "stdout",
     "output_type": "stream",
     "text": [
      "Cannot find \"ipopt\"\n",
      "NLP mean distance error = 0.02129422501732219\n",
      "NLP largest distance error = 0.07040973859894034\n",
      "146\t0.12000000 0.98016696\tBlack and white image of a wave crashing in the ocean.\ta small black dog in the ocean with some rocks in the background\n",
      "CPLEX 20.1.0.0: optimal solution; objective 0.9051440919\n",
      "0 dual simplex iterations (0 in phase I)\n",
      "optimal obj. fun. value = 0.9051440919109688\n",
      "ambient dimension n = 4\n",
      "found relaxed embedding in natural dimension K = 3\n",
      "now projecting to 3 principal dimensions\n",
      "dualDDP mean distance error = 0.013991071508040895\n",
      "dualDDP largest distance error = 0.02833673205426357\n",
      "Cannot find \"ipopt\"\n",
      "NLP mean distance error = 0.01399152104382619\n",
      "NLP largest distance error = 0.02833711606423639\n"
     ]
    },
    {
     "name": "stderr",
     "output_type": "stream",
     "text": [
      "\n",
      "100%|██████████| 4/4 [00:00<00:00, 43577.18it/s]\n",
      "100%|██████████| 7/7 [00:00<00:00, 51690.37it/s]"
     ]
    },
    {
     "name": "stdout",
     "output_type": "stream",
     "text": [
      "CPLEX 20.1.0.0: optimal solution; objective 0.80150344\n",
      "0 dual simplex iterations (0 in phase I)\n",
      "optimal obj. fun. value = 0.8015034400072736\n",
      "ambient dimension n = 4\n",
      "found relaxed embedding in natural dimension K = 3\n",
      "now projecting to 3 principal dimensions\n",
      "dualDDP mean distance error = 0.00818643127774752\n",
      "dualDDP largest distance error = 0.017968227105697843\n",
      "Cannot find \"ipopt\"\n",
      "NLP mean distance error = 0.008186452229811304\n",
      "NLP largest distance error = 0.017968017998676367\n",
      "147\t0.92000000 0.99918606\tA lady and her daughter look through a microscope.\tA girl and a lady both looking through a microscope.\n"
     ]
    },
    {
     "name": "stderr",
     "output_type": "stream",
     "text": [
      "\n",
      "100%|██████████| 5/5 [00:00<00:00, 40721.40it/s]"
     ]
    },
    {
     "name": "stdout",
     "output_type": "stream",
     "text": [
      "CPLEX 20.1.0.0: optimal solution; objective 3.99944807\n",
      "0 dual simplex iterations (0 in phase I)\n",
      "optimal obj. fun. value = 3.9994480701241235\n",
      "ambient dimension n = 7\n",
      "found relaxed embedding in natural dimension K = 5\n",
      "now projecting to 3 principal dimensions\n",
      "dualDDP mean distance error = 0.022106012978330633\n",
      "dualDDP largest distance error = 0.07957086004123015\n",
      "Cannot find \"ipopt\"\n",
      "NLP mean distance error = 0.022105944106084765\n",
      "NLP largest distance error = 0.07957047384476926\n"
     ]
    },
    {
     "name": "stderr",
     "output_type": "stream",
     "text": [
      "\n",
      "100%|██████████| 5/5 [00:00<00:00, 47446.88it/s]"
     ]
    },
    {
     "name": "stdout",
     "output_type": "stream",
     "text": [
      "CPLEX 20.1.0.0: optimal solution; objective 1.985429242\n",
      "0 dual simplex iterations (0 in phase I)\n",
      "optimal obj. fun. value = 1.985429242418365\n",
      "ambient dimension n = 5\n",
      "found relaxed embedding in natural dimension K = 4\n",
      "now projecting to 3 principal dimensions\n",
      "dualDDP mean distance error = 0.015104255814373024\n",
      "dualDDP largest distance error = 0.03834130484567139\n",
      "Cannot find \"ipopt\"\n",
      "NLP mean distance error = 0.015104426665024354\n",
      "NLP largest distance error = 0.03834168374314434\n",
      "148\t0.76000000 0.74100408\tTwo workers are sitting next to pipes eating lunch\tThe construction workers are sitting down to eat lunch.\n"
     ]
    },
    {
     "name": "stderr",
     "output_type": "stream",
     "text": [
      "\n",
      "100%|██████████| 3/3 [00:00<00:00, 36792.14it/s]"
     ]
    },
    {
     "name": "stdout",
     "output_type": "stream",
     "text": [
      "CPLEX 20.1.0.0: optimal solution; objective 3.297271055\n",
      "0 dual simplex iterations (0 in phase I)\n",
      "optimal obj. fun. value = 3.2972710546402375\n",
      "ambient dimension n = 5\n",
      "found relaxed embedding in natural dimension K = 4\n",
      "now projecting to 3 principal dimensions\n",
      "dualDDP mean distance error = 0.04612269050525839\n",
      "dualDDP largest distance error = 0.16599651612592203\n",
      "Cannot find \"ipopt\"\n",
      "NLP mean distance error = 0.04612275833586056\n",
      "NLP largest distance error = 0.16599643515234985\n"
     ]
    },
    {
     "name": "stderr",
     "output_type": "stream",
     "text": [
      "\n",
      "100%|██████████| 4/4 [00:00<00:00, 43464.29it/s]"
     ]
    },
    {
     "name": "stdout",
     "output_type": "stream",
     "text": [
      "CPLEX 20.1.0.0: optimal solution; objective 0.2762692653\n",
      "0 dual simplex iterations (0 in phase I)\n",
      "optimal obj. fun. value = 0.2762692652822536\n",
      "ambient dimension n = 3\n",
      "found relaxed embedding in natural dimension K = 2\n",
      "now projecting to 2 principal dimensions\n",
      "dualDDP mean distance error = 0.007241428414957676\n",
      "dualDDP largest distance error = 0.01173117151113201\n",
      "Cannot find \"ipopt\"\n",
      "NLP mean distance error = 0.007241295849554343\n",
      "NLP largest distance error = 0.011731238015357248\n",
      "CPLEX 20.1.0.0: optimal solution; objective 0.3384660523\n",
      "0 dual simplex iterations (0 in phase I)\n",
      "optimal obj. fun. value = 0.3384660522999369\n",
      "ambient dimension n = 4\n",
      "found relaxed embedding in natural dimension K = 3\n",
      "now projecting to 3 principal dimensions\n",
      "dualDDP mean distance error = 0.009396824822092026\n",
      "dualDDP largest distance error = 0.0192669928703888\n"
     ]
    },
    {
     "name": "stderr",
     "output_type": "stream",
     "text": [
      "\n",
      "100%|██████████| 4/4 [00:00<00:00, 39756.44it/s]"
     ]
    },
    {
     "name": "stdout",
     "output_type": "stream",
     "text": [
      "Cannot find \"ipopt\"\n",
      "NLP mean distance error = 0.009396755684443156\n",
      "NLP largest distance error = 0.0192667165996738\n",
      "CPLEX 20.1.0.0: optimal solution; objective 0.2794009929\n",
      "0 dual simplex iterations (0 in phase I)\n",
      "optimal obj. fun. value = 0.27940099287846465\n",
      "ambient dimension n = 4\n",
      "found relaxed embedding in natural dimension K = 3\n",
      "now projecting to 3 principal dimensions\n",
      "dualDDP mean distance error = 0.007958797168505992\n",
      "dualDDP largest distance error = 0.01890688946794533\n"
     ]
    },
    {
     "name": "stderr",
     "output_type": "stream",
     "text": [
      "\n",
      "100%|██████████| 3/3 [00:00<00:00, 36366.80it/s]"
     ]
    },
    {
     "name": "stdout",
     "output_type": "stream",
     "text": [
      "Cannot find \"ipopt\"\n",
      "NLP mean distance error = 0.007958734043812284\n",
      "NLP largest distance error = 0.01890690689096683\n",
      "150\t0.80000000 0.99403869\tA group of people living in the desert\tA group of people in the middle of the desert.\n",
      "CPLEX 20.1.0.0: optimal solution; objective 0.2908608382\n",
      "0 dual simplex iterations (0 in phase I)\n",
      "optimal obj. fun. value = 0.29086083816687736\n",
      "ambient dimension n = 3\n",
      "found relaxed embedding in natural dimension K = 2\n",
      "now projecting to 2 principal dimensions\n",
      "dualDDP mean distance error = 0.019974542404763106\n",
      "dualDDP largest distance error = 0.03764154312390769\n"
     ]
    },
    {
     "name": "stderr",
     "output_type": "stream",
     "text": [
      "\n",
      "100%|██████████| 4/4 [00:00<00:00, 42259.99it/s]"
     ]
    },
    {
     "name": "stdout",
     "output_type": "stream",
     "text": [
      "Cannot find \"ipopt\"\n",
      "NLP mean distance error = 0.01997455760663158\n",
      "NLP largest distance error = 0.03764151735506081\n",
      "CPLEX 20.1.0.0: optimal solution; objective 0.5083725601\n",
      "0 dual simplex iterations (0 in phase I)\n",
      "optimal obj. fun. value = 0.5083725600703844\n",
      "ambient dimension n = 4\n",
      "found relaxed embedding in natural dimension K = 3\n",
      "now projecting to 3 principal dimensions\n",
      "dualDDP mean distance error = 0.015839205051644264\n",
      "dualDDP largest distance error = 0.04016350554340095\n"
     ]
    },
    {
     "name": "stderr",
     "output_type": "stream",
     "text": [
      "\n",
      "100%|██████████| 4/4 [00:00<00:00, 43577.18it/s]"
     ]
    },
    {
     "name": "stdout",
     "output_type": "stream",
     "text": [
      "Cannot find \"ipopt\"\n",
      "NLP mean distance error = 0.01583903128236613\n",
      "NLP largest distance error = 0.04016346881529831\n",
      "CPLEX 20.1.0.0: optimal solution; objective 0.1378481139\n",
      "0 dual simplex iterations (0 in phase I)\n",
      "optimal obj. fun. value = 0.1378481139102556\n",
      "ambient dimension n = 4\n",
      "found relaxed embedding in natural dimension K = 3\n",
      "now projecting to 3 principal dimensions\n",
      "dualDDP mean distance error = 0.001342406627097099\n",
      "dualDDP largest distance error = 0.0051866208837434875\n"
     ]
    },
    {
     "name": "stderr",
     "output_type": "stream",
     "text": [
      "\n",
      "100%|██████████| 4/4 [00:00<00:00, 40820.48it/s]"
     ]
    },
    {
     "name": "stdout",
     "output_type": "stream",
     "text": [
      "Cannot find \"ipopt\"\n",
      "NLP mean distance error = 0.0013423790758344504\n",
      "NLP largest distance error = 0.0051866242958430765\n",
      "CPLEX 20.1.0.0: optimal solution; objective 0.05428222828\n",
      "0 dual simplex iterations (0 in phase I)\n",
      "optimal obj. fun. value = 0.054282228279061435\n",
      "ambient dimension n = 4\n",
      "found relaxed embedding in natural dimension K = 3\n",
      "now projecting to 3 principal dimensions\n",
      "dualDDP mean distance error = 0.0018875446300829757\n",
      "dualDDP largest distance error = 0.006233286660027145\n"
     ]
    },
    {
     "name": "stderr",
     "output_type": "stream",
     "text": [
      "\n",
      "100%|██████████| 4/4 [00:00<00:00, 45221.61it/s]"
     ]
    },
    {
     "name": "stdout",
     "output_type": "stream",
     "text": [
      "Cannot find \"ipopt\"\n",
      "NLP mean distance error = 0.0018875614434182876\n",
      "NLP largest distance error = 0.006233355194619733\n",
      "152\t0.96000000 0.19582132\tThree humans are walking a dog.\tThree people are walking a dog.\n",
      "CPLEX 20.1.0.0: optimal solution; objective 0.1819330616\n",
      "0 dual simplex iterations (0 in phase I)\n",
      "optimal obj. fun. value = 0.1819330615573206\n",
      "ambient dimension n = 4\n",
      "found relaxed embedding in natural dimension K = 3\n",
      "now projecting to 3 principal dimensions\n",
      "dualDDP mean distance error = 0.006786850317442947\n",
      "dualDDP largest distance error = 0.020159787908968094\n"
     ]
    },
    {
     "name": "stderr",
     "output_type": "stream",
     "text": [
      "\n",
      "100%|██████████| 3/3 [00:00<00:00, 37560.93it/s]"
     ]
    },
    {
     "name": "stdout",
     "output_type": "stream",
     "text": [
      "Cannot find \"ipopt\"\n",
      "NLP mean distance error = 0.006786746966436219\n",
      "NLP largest distance error = 0.02015982431715596\n",
      "CPLEX 20.1.0.0: optimal solution; objective 0.05403273876\n",
      "0 dual simplex iterations (0 in phase I)\n",
      "optimal obj. fun. value = 0.05403273876046881\n",
      "ambient dimension n = 3\n",
      "found relaxed embedding in natural dimension K = 2\n",
      "now projecting to 2 principal dimensions\n",
      "dualDDP mean distance error = 0.0035579943333634684\n",
      "dualDDP largest distance error = 0.006530958408815693\n"
     ]
    },
    {
     "name": "stderr",
     "output_type": "stream",
     "text": [
      "\n",
      "100%|██████████| 5/5 [00:00<00:00, 49695.55it/s]"
     ]
    },
    {
     "name": "stdout",
     "output_type": "stream",
     "text": [
      "Cannot find \"ipopt\"\n",
      "NLP mean distance error = 0.0035579913953790432\n",
      "NLP largest distance error = 0.00653094004409524\n",
      "CPLEX 20.1.0.0: optimal solution; objective 0.172443984\n",
      "0 dual simplex iterations (0 in phase I)\n",
      "optimal obj. fun. value = 0.17244398399996425\n",
      "ambient dimension n = 5\n",
      "found relaxed embedding in natural dimension K = 4\n",
      "now projecting to 3 principal dimensions\n",
      "dualDDP mean distance error = 0.0012683202686402184\n",
      "dualDDP largest distance error = 0.004422948263210392\n"
     ]
    },
    {
     "name": "stderr",
     "output_type": "stream",
     "text": [
      "\n",
      "100%|██████████| 8/8 [00:00<00:00, 48489.06it/s]"
     ]
    },
    {
     "name": "stdout",
     "output_type": "stream",
     "text": [
      "Cannot find \"ipopt\"\n",
      "NLP mean distance error = 0.0012684727349036025\n",
      "NLP largest distance error = 0.004422904195806956\n",
      "CPLEX 20.1.0.0: optimal solution; objective 4.499216303\n",
      "0 dual simplex iterations (0 in phase I)\n",
      "optimal obj. fun. value = 4.499216303016062\n",
      "ambient dimension n = 8\n",
      "found relaxed embedding in natural dimension K = 5\n",
      "now projecting to 3 principal dimensions\n",
      "dualDDP mean distance error = 0.021811915760162674\n",
      "dualDDP largest distance error = 0.06948562940802103\n"
     ]
    },
    {
     "name": "stderr",
     "output_type": "stream",
     "text": [
      "\n",
      "100%|██████████| 3/3 [00:00<00:00, 38130.04it/s]"
     ]
    },
    {
     "name": "stdout",
     "output_type": "stream",
     "text": [
      "Cannot find \"ipopt\"\n",
      "NLP mean distance error = 0.021812125237175177\n",
      "NLP largest distance error = 0.06948567780523202\n",
      "155\t0.04000000 0.35712202\tTwo women are lost and calling for help.\tTwo Asian men are gathering materials for their business and their child had to come with them.\n",
      "CPLEX 20.1.0.0: optimal solution; objective 0.7436364403\n",
      "0 dual simplex iterations (0 in phase I)\n",
      "optimal obj. fun. value = 0.7436364402540573\n",
      "ambient dimension n = 3\n",
      "found relaxed embedding in natural dimension K = 2\n",
      "now projecting to 2 principal dimensions\n",
      "dualDDP mean distance error = 0.020130006717247056\n",
      "dualDDP largest distance error = 0.04374654491072527\n"
     ]
    },
    {
     "name": "stderr",
     "output_type": "stream",
     "text": [
      "\n",
      "100%|██████████| 4/4 [00:00<00:00, 25078.05it/s]"
     ]
    },
    {
     "name": "stdout",
     "output_type": "stream",
     "text": [
      "Cannot find \"ipopt\"\n",
      "NLP mean distance error = 0.02013054232126497\n",
      "NLP largest distance error = 0.043747023414414055\n",
      "CPLEX 20.1.0.0: optimal solution; objective 0.01723362981\n",
      "0 dual simplex iterations (0 in phase I)\n",
      "optimal obj. fun. value = 0.01723362980687125\n",
      "ambient dimension n = 4\n",
      "found relaxed embedding in natural dimension K = 3\n",
      "now projecting to 3 principal dimensions\n",
      "dualDDP mean distance error = 0.001107392237836871\n",
      "dualDDP largest distance error = 0.002612767314602686\n"
     ]
    },
    {
     "name": "stderr",
     "output_type": "stream",
     "text": [
      "\n",
      "100%|██████████| 4/4 [00:00<00:00, 44384.17it/s]"
     ]
    },
    {
     "name": "stdout",
     "output_type": "stream",
     "text": [
      "Cannot find \"ipopt\"\n",
      "NLP mean distance error = 0.00110736702463283\n",
      "NLP largest distance error = 0.0026127096716523704\n",
      "CPLEX 20.1.0.0: optimal solution; objective 0.8103166223\n",
      "0 dual simplex iterations (0 in phase I)\n",
      "optimal obj. fun. value = 0.810316622330277\n",
      "ambient dimension n = 4\n",
      "found relaxed embedding in natural dimension K = 3\n",
      "now projecting to 3 principal dimensions\n",
      "dualDDP mean distance error = 0.010321031301295696\n",
      "dualDDP largest distance error = 0.027708603659367392\n"
     ]
    },
    {
     "name": "stderr",
     "output_type": "stream",
     "text": [
      "\n",
      "100%|██████████| 5/5 [00:00<00:00, 34894.38it/s]"
     ]
    },
    {
     "name": "stdout",
     "output_type": "stream",
     "text": [
      "Cannot find \"ipopt\"\n",
      "NLP mean distance error = 0.010321152982088055\n",
      "NLP largest distance error = 0.027708577504096388\n",
      "CPLEX 20.1.0.0: optimal solution; objective 0.747948681\n",
      "0 dual simplex iterations (0 in phase I)\n",
      "optimal obj. fun. value = 0.7479486809836572\n",
      "ambient dimension n = 5\n",
      "found relaxed embedding in natural dimension K = 4\n",
      "now projecting to 3 principal dimensions\n",
      "dualDDP mean distance error = 0.01826116315049979\n",
      "dualDDP largest distance error = 0.05689191614544978\n"
     ]
    },
    {
     "name": "stderr",
     "output_type": "stream",
     "text": [
      "\n",
      "100%|██████████| 6/6 [00:00<00:00, 51463.85it/s]"
     ]
    },
    {
     "name": "stdout",
     "output_type": "stream",
     "text": [
      "Cannot find \"ipopt\"\n",
      "NLP mean distance error = 0.01826114008976255\n",
      "NLP largest distance error = 0.05689220904174708\n",
      "157\t0.68000000 0.97650304\tThe children are holding musical instruments.\tA group of children are singing and playing instruments\n",
      "CPLEX 20.1.0.0: optimal solution; objective 0.08288053651\n",
      "0 dual simplex iterations (0 in phase I)\n",
      "optimal obj. fun. value = 0.08288053650807664\n",
      "ambient dimension n = 6\n",
      "found relaxed embedding in natural dimension K = 5\n",
      "now projecting to 3 principal dimensions\n",
      "dualDDP mean distance error = 0.0035107601413498987\n",
      "dualDDP largest distance error = 0.01824461978444069\n"
     ]
    },
    {
     "name": "stderr",
     "output_type": "stream",
     "text": [
      "\n",
      "100%|██████████| 4/4 [00:00<00:00, 42908.48it/s]"
     ]
    },
    {
     "name": "stdout",
     "output_type": "stream",
     "text": [
      "Cannot find \"ipopt\"\n",
      "NLP mean distance error = 0.0035107844139362146\n",
      "NLP largest distance error = 0.01824467004672716\n",
      "CPLEX 20.1.0.0: optimal solution; objective 0.05736234573\n",
      "0 dual simplex iterations (0 in phase I)\n",
      "optimal obj. fun. value = 0.057362345732128\n",
      "ambient dimension n = 4\n",
      "found relaxed embedding in natural dimension K = 3\n",
      "now projecting to 3 principal dimensions\n",
      "dualDDP mean distance error = 0.0020497833666361398\n",
      "dualDDP largest distance error = 0.0062875925278316515\n",
      "Cannot find \"ipopt\"\n"
     ]
    },
    {
     "name": "stderr",
     "output_type": "stream",
     "text": [
      "\n",
      "100%|██████████| 8/8 [00:00<00:00, 32545.52it/s]"
     ]
    },
    {
     "name": "stdout",
     "output_type": "stream",
     "text": [
      "NLP mean distance error = 0.0020497895443236523\n",
      "NLP largest distance error = 0.006287579185610907\n",
      "158\t0.16000000 0.51316467\tTwo girls are playing Doctor inside their house.\tThe two girls are walking with their father.\n",
      "CPLEX 20.1.0.0: optimal solution; objective 2.890909691\n",
      "0 dual simplex iterations (0 in phase I)\n",
      "optimal obj. fun. value = 2.890909691058427\n",
      "ambient dimension n = 8\n",
      "found relaxed embedding in natural dimension K = 7\n",
      "now projecting to 3 principal dimensions\n",
      "dualDDP mean distance error = 0.022683688468460333\n",
      "dualDDP largest distance error = 0.0658670860739301\n"
     ]
    },
    {
     "name": "stderr",
     "output_type": "stream",
     "text": [
      "\n",
      "100%|██████████| 9/9 [00:00<00:00, 47009.63it/s]"
     ]
    },
    {
     "name": "stdout",
     "output_type": "stream",
     "text": [
      "Cannot find \"ipopt\"\n",
      "NLP mean distance error = 0.022683570692863118\n",
      "NLP largest distance error = 0.0658667198221391\n",
      "CPLEX 20.1.0.0: optimal solution; objective 2.88854962\n",
      "0 dual simplex iterations (0 in phase I)\n",
      "optimal obj. fun. value = 2.888549619909727\n",
      "ambient dimension n = 9\n",
      "found relaxed embedding in natural dimension K = 8\n",
      "now projecting to 3 principal dimensions\n",
      "dualDDP mean distance error = 0.03701221044943029\n",
      "dualDDP largest distance error = 0.11920701461892878\n"
     ]
    },
    {
     "name": "stderr",
     "output_type": "stream",
     "text": [
      "\n",
      "100%|██████████| 7/7 [00:00<00:00, 44688.17it/s]"
     ]
    },
    {
     "name": "stdout",
     "output_type": "stream",
     "text": [
      "Cannot find \"ipopt\"\n",
      "NLP mean distance error = 0.037012150694120255\n",
      "NLP largest distance error = 0.11920702535217276\n",
      "159\t0.72000000 0.87918000\tA crowd of men wearing paper numbers on their shirts run in a race.\tSeveral men running down a grass field wearing numbers on the front of their shirts.\n",
      "CPLEX 20.1.0.0: optimal solution; objective 3.707017444\n",
      "0 dual simplex iterations (0 in phase I)\n",
      "optimal obj. fun. value = 3.707017443682387\n",
      "ambient dimension n = 7\n",
      "found relaxed embedding in natural dimension K = 4\n",
      "now projecting to 3 principal dimensions\n",
      "dualDDP mean distance error = 0.03882643579542401\n",
      "dualDDP largest distance error = 0.09053729385396964\n"
     ]
    },
    {
     "name": "stderr",
     "output_type": "stream",
     "text": [
      "\n",
      "100%|██████████| 5/5 [00:00<00:00, 46916.15it/s]"
     ]
    },
    {
     "name": "stdout",
     "output_type": "stream",
     "text": [
      "Cannot find \"ipopt\"\n",
      "NLP mean distance error = 0.03882624883734684\n",
      "NLP largest distance error = 0.09053724537746344\n",
      "CPLEX 20.1.0.0: optimal solution; objective 1.287322514\n",
      "0 dual simplex iterations (0 in phase I)\n",
      "optimal obj. fun. value = 1.2873225143789095\n",
      "ambient dimension n = 5\n",
      "found relaxed embedding in natural dimension K = 3\n",
      "now projecting to 3 principal dimensions\n",
      "dualDDP mean distance error = 0.018077947803926263\n",
      "dualDDP largest distance error = 0.040777394769241915\n"
     ]
    },
    {
     "name": "stderr",
     "output_type": "stream",
     "text": [
      "\n",
      "100%|██████████| 7/7 [00:00<00:00, 51964.83it/s]"
     ]
    },
    {
     "name": "stdout",
     "output_type": "stream",
     "text": [
      "Cannot find \"ipopt\"\n",
      "NLP mean distance error = 0.018077731979421648\n",
      "NLP largest distance error = 0.04077664939666553\n",
      "160\t0.56000000 0.66775272\tA group of people are wearing police uniforms conducting an arrest.\tA group of police officers are wearing protection.\n",
      "CPLEX 20.1.0.0: optimal solution; objective 9.894514063\n",
      "0 dual simplex iterations (0 in phase I)\n",
      "optimal obj. fun. value = 9.894514063441843\n",
      "ambient dimension n = 7\n",
      "found relaxed embedding in natural dimension K = 5\n",
      "now projecting to 3 principal dimensions\n",
      "dualDDP mean distance error = 0.04470081677894961\n",
      "dualDDP largest distance error = 0.3137736816769672\n"
     ]
    },
    {
     "name": "stderr",
     "output_type": "stream",
     "text": [
      "\n",
      "100%|██████████| 5/5 [00:00<00:00, 46091.25it/s]"
     ]
    },
    {
     "name": "stdout",
     "output_type": "stream",
     "text": [
      "Cannot find \"ipopt\"\n",
      "NLP mean distance error = 0.04470099088466192\n",
      "NLP largest distance error = 0.31377416113072765\n",
      "CPLEX 20.1.0.0: optimal solution; objective 0.3845530952\n",
      "0 dual simplex iterations (0 in phase I)\n",
      "optimal obj. fun. value = 0.3845530951718721\n",
      "ambient dimension n = 5\n",
      "found relaxed embedding in natural dimension K = 3\n",
      "now projecting to 3 principal dimensions\n",
      "dualDDP mean distance error = 0.002212349532572524\n",
      "dualDDP largest distance error = 0.0076638183570620425\n"
     ]
    },
    {
     "name": "stderr",
     "output_type": "stream",
     "text": [
      "\n",
      "100%|██████████| 5/5 [00:00<00:00, 40960.00it/s]"
     ]
    },
    {
     "name": "stdout",
     "output_type": "stream",
     "text": [
      "Cannot find \"ipopt\"\n",
      "NLP mean distance error = 0.002212182618625953\n",
      "NLP largest distance error = 0.007663844402419089\n",
      "161\t0.00000000 0.86259230\tThe fruits should be eaten with lemon juice in order to prevent oxidation in your stomach.\tthree dogs growling On one another\n",
      "CPLEX 20.1.0.0: optimal solution; objective 3.219260459\n",
      "0 dual simplex iterations (0 in phase I)\n",
      "optimal obj. fun. value = 3.2192604588351816\n",
      "ambient dimension n = 5\n",
      "found relaxed embedding in natural dimension K = 4\n",
      "now projecting to 3 principal dimensions\n",
      "dualDDP mean distance error = 0.01660042692631223\n",
      "dualDDP largest distance error = 0.052594265242809135\n"
     ]
    },
    {
     "name": "stderr",
     "output_type": "stream",
     "text": [
      "\n",
      "100%|██████████| 6/6 [00:00<00:00, 47482.69it/s]"
     ]
    },
    {
     "name": "stdout",
     "output_type": "stream",
     "text": [
      "Cannot find \"ipopt\"\n",
      "NLP mean distance error = 0.0166003176610588\n",
      "NLP largest distance error = 0.05259424334788143\n",
      "CPLEX 20.1.0.0: optimal solution; objective 1.858141705\n",
      "0 dual simplex iterations (0 in phase I)\n",
      "optimal obj. fun. value = 1.8581417053888307\n",
      "ambient dimension n = 6\n",
      "found relaxed embedding in natural dimension K = 4\n",
      "now projecting to 3 principal dimensions\n",
      "dualDDP mean distance error = 0.01754837746350649\n",
      "dualDDP largest distance error = 0.05028013605170359\n"
     ]
    },
    {
     "name": "stderr",
     "output_type": "stream",
     "text": [
      "\n",
      "100%|██████████| 3/3 [00:00<00:00, 32263.88it/s]"
     ]
    },
    {
     "name": "stdout",
     "output_type": "stream",
     "text": [
      "Cannot find \"ipopt\"\n",
      "NLP mean distance error = 0.017548323484597228\n",
      "NLP largest distance error = 0.05028039090525563\n",
      "164\t0.56000000 0.73184889\tSpectators taking pictures of a rally car.\tA crowd of people watching cars race down the track.\n",
      "CPLEX 20.1.0.0: optimal solution; objective 0.1723454284\n",
      "0 dual simplex iterations (0 in phase I)\n",
      "optimal obj. fun. value = 0.17234542838688158\n",
      "ambient dimension n = 3\n",
      "found relaxed embedding in natural dimension K = 2\n",
      "now projecting to 2 principal dimensions\n",
      "dualDDP mean distance error = 0.005899890311166413\n",
      "dualDDP largest distance error = 0.008238183527597254\n"
     ]
    },
    {
     "name": "stderr",
     "output_type": "stream",
     "text": [
      "\n",
      "100%|██████████| 4/4 [00:00<00:00, 3874.65it/s]"
     ]
    },
    {
     "name": "stdout",
     "output_type": "stream",
     "text": [
      "Cannot find \"ipopt\"\n",
      "NLP mean distance error = 0.005899999511766692\n",
      "NLP largest distance error = 0.008238078441386187\n",
      "CPLEX 20.1.0.0: optimal solution; objective 0.4358840292\n",
      "0 dual simplex iterations (0 in phase I)\n",
      "optimal obj. fun. value = 0.4358840291735241\n",
      "ambient dimension n = 4\n",
      "found relaxed embedding in natural dimension K = 3\n",
      "now projecting to 3 principal dimensions\n",
      "dualDDP mean distance error = 0.011824895525483922\n",
      "dualDDP largest distance error = 0.025660945526321977\n"
     ]
    },
    {
     "name": "stderr",
     "output_type": "stream",
     "text": [
      "\n",
      "100%|██████████| 4/4 [00:00<00:00, 43240.25it/s]"
     ]
    },
    {
     "name": "stdout",
     "output_type": "stream",
     "text": [
      "Cannot find \"ipopt\"\n",
      "NLP mean distance error = 0.011824895135257538\n",
      "NLP largest distance error = 0.025660544232893295\n",
      "CPLEX 20.1.0.0: optimal solution; objective 0.4679704138\n",
      "0 dual simplex iterations (0 in phase I)\n",
      "optimal obj. fun. value = 0.4679704137514321\n",
      "ambient dimension n = 4\n",
      "found relaxed embedding in natural dimension K = 3\n",
      "now projecting to 3 principal dimensions\n",
      "dualDDP mean distance error = 0.01248417315595477\n",
      "dualDDP largest distance error = 0.04054450055037247\n"
     ]
    },
    {
     "name": "stderr",
     "output_type": "stream",
     "text": [
      "\n",
      "100%|██████████| 3/3 [00:00<00:00, 36684.87it/s]"
     ]
    },
    {
     "name": "stdout",
     "output_type": "stream",
     "text": [
      "Cannot find \"ipopt\"\n",
      "NLP mean distance error = 0.01248404753101919\n",
      "NLP largest distance error = 0.040544482279351576\n",
      "CPLEX 20.1.0.0: optimal solution; objective 0.04447284053\n",
      "0 dual simplex iterations (0 in phase I)\n",
      "optimal obj. fun. value = 0.04447284053200298\n",
      "ambient dimension n = 3\n",
      "found relaxed embedding in natural dimension K = 2\n",
      "now projecting to 2 principal dimensions\n",
      "dualDDP mean distance error = 0.0030955361756872615\n",
      "dualDDP largest distance error = 0.005049980162794329\n"
     ]
    },
    {
     "name": "stderr",
     "output_type": "stream",
     "text": [
      "\n",
      "100%|██████████| 7/7 [00:00<00:00, 43821.09it/s]"
     ]
    },
    {
     "name": "stdout",
     "output_type": "stream",
     "text": [
      "Cannot find \"ipopt\"\n",
      "NLP mean distance error = 0.0030955676826699384\n",
      "NLP largest distance error = 0.005049970806665749\n",
      "CPLEX 20.1.0.0: optimal solution; objective 4.784741684\n",
      "0 dual simplex iterations (0 in phase I)\n",
      "optimal obj. fun. value = 4.784741683646608\n",
      "ambient dimension n = 7\n",
      "found relaxed embedding in natural dimension K = 5\n",
      "now projecting to 3 principal dimensions\n",
      "dualDDP mean distance error = 0.05023530800209723\n",
      "dualDDP largest distance error = 0.16195898176119794\n"
     ]
    },
    {
     "name": "stderr",
     "output_type": "stream",
     "text": [
      "\n",
      "100%|██████████| 6/6 [00:00<00:00, 48118.21it/s]"
     ]
    },
    {
     "name": "stdout",
     "output_type": "stream",
     "text": [
      "Cannot find \"ipopt\"\n",
      "NLP mean distance error = 0.05023524858598391\n",
      "NLP largest distance error = 0.1619589848326316\n",
      "CPLEX 20.1.0.0: optimal solution; objective 0.4747366925\n",
      "0 dual simplex iterations (0 in phase I)\n",
      "optimal obj. fun. value = 0.4747366925437854\n",
      "ambient dimension n = 6\n",
      "found relaxed embedding in natural dimension K = 4\n",
      "now projecting to 3 principal dimensions\n",
      "dualDDP mean distance error = 0.0016044878099172656\n",
      "dualDDP largest distance error = 0.011396434961707363\n",
      "Cannot find \"ipopt\"\n",
      "NLP mean distance error = 0.0016045041546090637\n",
      "NLP largest distance error = 0.011396395938938944\n"
     ]
    },
    {
     "name": "stderr",
     "output_type": "stream",
     "text": [
      "\n",
      "100%|██████████| 3/3 [00:00<00:00, 22192.08it/s]"
     ]
    },
    {
     "name": "stdout",
     "output_type": "stream",
     "text": [
      "167\t0.20000000 0.95740712\tThe boy in the green jersey plays goalie on the soccer team.\tThe team in blue is playing a game against the team in white\n",
      "CPLEX 20.1.0.0: optimal solution; objective 0.326659359\n",
      "0 dual simplex iterations (0 in phase I)\n",
      "optimal obj. fun. value = 0.3266593589788883\n",
      "ambient dimension n = 3\n",
      "found relaxed embedding in natural dimension K = 2\n",
      "now projecting to 2 principal dimensions\n",
      "dualDDP mean distance error = 0.004060448611111748\n",
      "dualDDP largest distance error = 0.008028850125791687\n"
     ]
    },
    {
     "name": "stderr",
     "output_type": "stream",
     "text": [
      "\n",
      "100%|██████████| 3/3 [00:00<00:00, 38245.93it/s]"
     ]
    },
    {
     "name": "stdout",
     "output_type": "stream",
     "text": [
      "Cannot find \"ipopt\"\n",
      "NLP mean distance error = 0.004060752264980973\n",
      "NLP largest distance error = 0.008028865134732804\n",
      "CPLEX 20.1.0.0: optimal solution; objective 0.3344385818\n",
      "0 dual simplex iterations (0 in phase I)\n",
      "optimal obj. fun. value = 0.3344385818141278\n",
      "ambient dimension n = 3\n",
      "found relaxed embedding in natural dimension K = 2\n",
      "now projecting to 2 principal dimensions\n",
      "dualDDP mean distance error = 0.008569240224164354\n",
      "dualDDP largest distance error = 0.016510972889209025\n"
     ]
    },
    {
     "name": "stderr",
     "output_type": "stream",
     "text": [
      "\n",
      "100%|██████████| 3/3 [00:00<00:00, 38836.15it/s]"
     ]
    },
    {
     "name": "stdout",
     "output_type": "stream",
     "text": [
      "Cannot find \"ipopt\"\n",
      "NLP mean distance error = 0.0085692722704555\n",
      "NLP largest distance error = 0.01651076704952334\n",
      "168\t0.24000000 0.00996048\tThe child's bike got wet.\tShe is putting away the bike.\n",
      "CPLEX 20.1.0.0: optimal solution; objective 0.08341205419\n",
      "0 dual simplex iterations (0 in phase I)\n",
      "optimal obj. fun. value = 0.08341205419077259\n",
      "ambient dimension n = 3\n",
      "found relaxed embedding in natural dimension K = 2\n",
      "now projecting to 2 principal dimensions\n",
      "dualDDP mean distance error = 0.0002701404171140583\n",
      "dualDDP largest distance error = 0.00048543075791432355\n"
     ]
    },
    {
     "name": "stderr",
     "output_type": "stream",
     "text": [
      "\n",
      "100%|██████████| 3/3 [00:00<00:00, 33112.93it/s]"
     ]
    },
    {
     "name": "stdout",
     "output_type": "stream",
     "text": [
      "Cannot find \"ipopt\"\n",
      "NLP mean distance error = 0.00026989962297489095\n",
      "NLP largest distance error = 0.000485113745176291\n",
      "CPLEX 20.1.0.0: optimal solution; objective 0.0101708866\n",
      "0 dual simplex iterations (0 in phase I)\n",
      "optimal obj. fun. value = 0.010170886596242965\n",
      "ambient dimension n = 3\n",
      "found relaxed embedding in natural dimension K = 2\n",
      "now projecting to 2 principal dimensions\n",
      "dualDDP mean distance error = 0.0017425179043884219\n",
      "dualDDP largest distance error = 0.004041745952085701\n"
     ]
    },
    {
     "name": "stderr",
     "output_type": "stream",
     "text": [
      "\n",
      "100%|██████████| 4/4 [00:00<00:00, 43351.98it/s]"
     ]
    },
    {
     "name": "stdout",
     "output_type": "stream",
     "text": [
      "Cannot find \"ipopt\"\n",
      "NLP mean distance error = 0.0017425394079954373\n",
      "NLP largest distance error = 0.004041789902290538\n",
      "169\t0.64000000 0.97679452\tA soldier walks a dog.\tA man walks a dog.\n",
      "CPLEX 20.1.0.0: optimal solution; objective 1.658024512\n",
      "0 dual simplex iterations (0 in phase I)\n",
      "optimal obj. fun. value = 1.6580245119837647\n",
      "ambient dimension n = 4\n",
      "found relaxed embedding in natural dimension K = 2\n",
      "now projecting to 2 principal dimensions\n",
      "dualDDP mean distance error = 0.04349362055546898\n",
      "dualDDP largest distance error = 0.0729876993335078\n"
     ]
    },
    {
     "name": "stderr",
     "output_type": "stream",
     "text": [
      "\n",
      "100%|██████████| 4/4 [00:00<00:00, 44384.17it/s]"
     ]
    },
    {
     "name": "stdout",
     "output_type": "stream",
     "text": [
      "Cannot find \"ipopt\"\n",
      "NLP mean distance error = 0.04349363872752724\n",
      "NLP largest distance error = 0.07298735320636013\n",
      "CPLEX 20.1.0.0: optimal solution; objective 1.473885278\n",
      "0 dual simplex iterations (0 in phase I)\n",
      "optimal obj. fun. value = 1.4738852784957017\n",
      "ambient dimension n = 4\n",
      "found relaxed embedding in natural dimension K = 2\n",
      "now projecting to 2 principal dimensions\n",
      "dualDDP mean distance error = 0.02243110673408874\n",
      "dualDDP largest distance error = 0.0435147853515071\n"
     ]
    },
    {
     "name": "stderr",
     "output_type": "stream",
     "text": [
      "\n",
      "100%|██████████| 3/3 [00:00<00:00, 27715.67it/s]"
     ]
    },
    {
     "name": "stdout",
     "output_type": "stream",
     "text": [
      "Cannot find \"ipopt\"\n",
      "NLP mean distance error = 0.022430599715786134\n",
      "NLP largest distance error = 0.043514060647526775\n",
      "170\t0.60000000 0.99666058\tA shirtless woman is operating a lawn mower.\tA girl is mowing the grass with a lawn mower.\n",
      "CPLEX 20.1.0.0: optimal solution; objective 0.07165091891\n",
      "0 dual simplex iterations (0 in phase I)\n",
      "optimal obj. fun. value = 0.07165091890989551\n",
      "ambient dimension n = 3\n",
      "found relaxed embedding in natural dimension K = 2\n",
      "now projecting to 2 principal dimensions\n",
      "dualDDP mean distance error = 0.0038945688421873764\n",
      "dualDDP largest distance error = 0.009257611282467895\n"
     ]
    },
    {
     "name": "stderr",
     "output_type": "stream",
     "text": [
      "\n",
      "100%|██████████| 3/3 [00:00<00:00, 37008.56it/s]"
     ]
    },
    {
     "name": "stdout",
     "output_type": "stream",
     "text": [
      "Cannot find \"ipopt\"\n",
      "NLP mean distance error = 0.0038943586276547295\n",
      "NLP largest distance error = 0.009257593826179522\n",
      "CPLEX 20.1.0.0: optimal solution; objective 0.07165091891\n",
      "0 dual simplex iterations (0 in phase I)\n",
      "optimal obj. fun. value = 0.07165091890989551\n",
      "ambient dimension n = 3\n",
      "found relaxed embedding in natural dimension K = 2\n",
      "now projecting to 2 principal dimensions\n",
      "dualDDP mean distance error = 0.0038945688421873764\n",
      "dualDDP largest distance error = 0.009257611282467895\n"
     ]
    },
    {
     "name": "stderr",
     "output_type": "stream",
     "text": [
      "\n",
      "100%|██████████| 3/3 [00:00<00:00, 33554.43it/s]"
     ]
    },
    {
     "name": "stdout",
     "output_type": "stream",
     "text": [
      "Cannot find \"ipopt\"\n",
      "NLP mean distance error = 0.0038943586276547295\n",
      "NLP largest distance error = 0.009257593826179522\n",
      "171\t1.00000000 1.00000000\tPeople are near water\tPeople are near water.\n",
      "CPLEX 20.1.0.0: optimal solution; objective 0.1525089973\n",
      "0 dual simplex iterations (0 in phase I)\n",
      "optimal obj. fun. value = 0.1525089973269204\n",
      "ambient dimension n = 3\n",
      "found relaxed embedding in natural dimension K = 2\n",
      "now projecting to 2 principal dimensions\n",
      "dualDDP mean distance error = 0.006504550911981165\n",
      "dualDDP largest distance error = 0.01384995706547612\n"
     ]
    },
    {
     "name": "stderr",
     "output_type": "stream",
     "text": [
      "\n",
      "100%|██████████| 3/3 [00:00<00:00, 30102.66it/s]"
     ]
    },
    {
     "name": "stdout",
     "output_type": "stream",
     "text": [
      "Cannot find \"ipopt\"\n",
      "NLP mean distance error = 0.0065047021048538906\n",
      "NLP largest distance error = 0.01384998832959472\n",
      "CPLEX 20.1.0.0: optimal solution; objective 0.06452286758\n",
      "0 dual simplex iterations (0 in phase I)\n",
      "optimal obj. fun. value = 0.06452286758385271\n",
      "ambient dimension n = 3\n",
      "found relaxed embedding in natural dimension K = 2\n",
      "now projecting to 2 principal dimensions\n",
      "dualDDP mean distance error = 0.0030571096591846723\n",
      "dualDDP largest distance error = 0.0071667586936256245\n"
     ]
    },
    {
     "name": "stderr",
     "output_type": "stream",
     "text": [
      "\n",
      "100%|██████████| 3/3 [00:00<00:00, 34759.43it/s]"
     ]
    },
    {
     "name": "stdout",
     "output_type": "stream",
     "text": [
      "Cannot find \"ipopt\"\n",
      "NLP mean distance error = 0.003057165025093111\n",
      "NLP largest distance error = 0.007166799091564098\n",
      "172\t0.44000000 0.91104149\tThe two officers are driving\tTwo officers are on horses.\n",
      "CPLEX 20.1.0.0: optimal solution; objective 0.07959739244\n",
      "0 dual simplex iterations (0 in phase I)\n",
      "optimal obj. fun. value = 0.07959739243510176\n",
      "ambient dimension n = 3\n",
      "found relaxed embedding in natural dimension K = 2\n",
      "now projecting to 2 principal dimensions\n",
      "dualDDP mean distance error = 0.0029616163204351023\n",
      "dualDDP largest distance error = 0.005145468213594517\n"
     ]
    },
    {
     "name": "stderr",
     "output_type": "stream",
     "text": [
      "\n",
      "100%|██████████| 5/5 [00:00<00:00, 30261.93it/s]"
     ]
    },
    {
     "name": "stdout",
     "output_type": "stream",
     "text": [
      "Cannot find \"ipopt\"\n",
      "NLP mean distance error = 0.002961569335731551\n",
      "NLP largest distance error = 0.005145426731711644\n",
      "CPLEX 20.1.0.0: optimal solution; objective 1.185923752\n",
      "0 dual simplex iterations (0 in phase I)\n",
      "optimal obj. fun. value = 1.185923752149377\n",
      "ambient dimension n = 5\n",
      "found relaxed embedding in natural dimension K = 4\n",
      "now projecting to 3 principal dimensions\n",
      "dualDDP mean distance error = 0.01918926096357877\n",
      "dualDDP largest distance error = 0.06264222867514654\n"
     ]
    },
    {
     "name": "stderr",
     "output_type": "stream",
     "text": [
      "\n",
      "100%|██████████| 6/6 [00:00<00:00, 44699.51it/s]"
     ]
    },
    {
     "name": "stdout",
     "output_type": "stream",
     "text": [
      "Cannot find \"ipopt\"\n",
      "NLP mean distance error = 0.019189518944542894\n",
      "NLP largest distance error = 0.06264254469024164\n",
      "CPLEX 20.1.0.0: optimal solution; objective 3.204746712\n",
      "0 dual simplex iterations (0 in phase I)\n",
      "optimal obj. fun. value = 3.2047467122502242\n",
      "ambient dimension n = 6\n",
      "found relaxed embedding in natural dimension K = 4\n",
      "now projecting to 3 principal dimensions\n",
      "dualDDP mean distance error = 0.03542388786220562\n",
      "dualDDP largest distance error = 0.12963796460382104\n"
     ]
    },
    {
     "name": "stderr",
     "output_type": "stream",
     "text": [
      "\n",
      "100%|██████████| 3/3 [00:00<00:00, 32682.89it/s]"
     ]
    },
    {
     "name": "stdout",
     "output_type": "stream",
     "text": [
      "Cannot find \"ipopt\"\n",
      "NLP mean distance error = 0.0354238431851542\n",
      "NLP largest distance error = 0.12963782329852958\n",
      "CPLEX 20.1.0.0: optimal solution; objective 0.2186427021\n",
      "0 dual simplex iterations (0 in phase I)\n",
      "optimal obj. fun. value = 0.2186427020680386\n",
      "ambient dimension n = 3\n",
      "found relaxed embedding in natural dimension K = 1\n",
      "now projecting to 2 principal dimensions\n",
      "dualDDP mean distance error = 0.005816398988909038\n",
      "dualDDP largest distance error = 0.015586037832294758\n"
     ]
    },
    {
     "name": "stderr",
     "output_type": "stream",
     "text": [
      "\n",
      "100%|██████████| 4/4 [00:00<00:00, 45343.83it/s]"
     ]
    },
    {
     "name": "stdout",
     "output_type": "stream",
     "text": [
      "Cannot find \"ipopt\"\n",
      "NLP mean distance error = 0.005816294091766028\n",
      "NLP largest distance error = 0.015586087534121933\n",
      "CPLEX 20.1.0.0: optimal solution; objective 0.3744405162\n",
      "0 dual simplex iterations (0 in phase I)\n",
      "optimal obj. fun. value = 0.37444051619404994\n",
      "ambient dimension n = 4\n",
      "found relaxed embedding in natural dimension K = 3\n",
      "now projecting to 3 principal dimensions\n",
      "dualDDP mean distance error = 0.011990066632943719\n",
      "dualDDP largest distance error = 0.04240915680485463\n"
     ]
    },
    {
     "name": "stderr",
     "output_type": "stream",
     "text": [
      "\n",
      "100%|██████████| 3/3 [00:00<00:00, 37786.52it/s]"
     ]
    },
    {
     "name": "stdout",
     "output_type": "stream",
     "text": [
      "Cannot find \"ipopt\"\n",
      "NLP mean distance error = 0.011989859916184037\n",
      "NLP largest distance error = 0.04240915809175293\n",
      "CPLEX 20.1.0.0: optimal solution; objective 0.1653347115\n",
      "0 dual simplex iterations (0 in phase I)\n",
      "optimal obj. fun. value = 0.16533471149665627\n",
      "ambient dimension n = 3\n",
      "found relaxed embedding in natural dimension K = 2\n",
      "now projecting to 2 principal dimensions\n",
      "dualDDP mean distance error = 0.007570333796767942\n",
      "dualDDP largest distance error = 0.01575591244119598\n"
     ]
    },
    {
     "name": "stderr",
     "output_type": "stream",
     "text": [
      "\n",
      "100%|██████████| 5/5 [00:00<00:00, 28966.19it/s]"
     ]
    },
    {
     "name": "stdout",
     "output_type": "stream",
     "text": [
      "Cannot find \"ipopt\"\n",
      "NLP mean distance error = 0.007570280463295785\n",
      "NLP largest distance error = 0.015755942895747083\n",
      "CPLEX 20.1.0.0: optimal solution; objective 2.3171294\n",
      "0 dual simplex iterations (0 in phase I)\n",
      "optimal obj. fun. value = 2.3171294003111136\n",
      "ambient dimension n = 5\n",
      "found relaxed embedding in natural dimension K = 3\n",
      "now projecting to 3 principal dimensions\n",
      "dualDDP mean distance error = 0.010191016936857405\n",
      "dualDDP largest distance error = 0.027389136763737443\n"
     ]
    },
    {
     "name": "stderr",
     "output_type": "stream",
     "text": [
      "\n",
      "100%|██████████| 9/9 [00:00<00:00, 26490.34it/s]"
     ]
    },
    {
     "name": "stdout",
     "output_type": "stream",
     "text": [
      "Cannot find \"ipopt\"\n",
      "NLP mean distance error = 0.0101911220977753\n",
      "NLP largest distance error = 0.02738972087883218\n",
      "CPLEX 20.1.0.0: optimal solution; objective 2.964284385\n",
      "0 dual simplex iterations (0 in phase I)\n",
      "optimal obj. fun. value = 2.964284384591462\n",
      "ambient dimension n = 9\n",
      "found relaxed embedding in natural dimension K = 6\n",
      "now projecting to 3 principal dimensions\n",
      "dualDDP mean distance error = 0.0206392921979435\n",
      "dualDDP largest distance error = 0.05429838572594953\n"
     ]
    },
    {
     "name": "stderr",
     "output_type": "stream",
     "text": [
      "\n",
      "100%|██████████| 8/8 [00:00<00:00, 28901.32it/s]"
     ]
    },
    {
     "name": "stdout",
     "output_type": "stream",
     "text": [
      "Cannot find \"ipopt\"\n",
      "NLP mean distance error = 0.02063929594448162\n",
      "NLP largest distance error = 0.05429844937842285\n",
      "177\t0.00000000 0.89451499\tA guy and a girl are rock climbing with backpacks on.\tTwo boys are riding on a toy with a blonde girl running long side of them.\n",
      "CPLEX 20.1.0.0: optimal solution; objective 9.753439352\n",
      "0 dual simplex iterations (0 in phase I)\n",
      "optimal obj. fun. value = 9.753439351893887\n",
      "ambient dimension n = 8\n",
      "found relaxed embedding in natural dimension K = 5\n",
      "now projecting to 3 principal dimensions\n",
      "dualDDP mean distance error = 0.033060041077707394\n",
      "dualDDP largest distance error = 0.09916644861284327\n"
     ]
    },
    {
     "name": "stderr",
     "output_type": "stream",
     "text": [
      "\n",
      "100%|██████████| 5/5 [00:00<00:00, 46192.78it/s]"
     ]
    },
    {
     "name": "stdout",
     "output_type": "stream",
     "text": [
      "Cannot find \"ipopt\"\n",
      "NLP mean distance error = 0.03306005668089595\n",
      "NLP largest distance error = 0.09916703873446342\n",
      "CPLEX 20.1.0.0: optimal solution; objective 1.483115982\n",
      "0 dual simplex iterations (0 in phase I)\n",
      "optimal obj. fun. value = 1.4831159819663426\n",
      "ambient dimension n = 5\n",
      "found relaxed embedding in natural dimension K = 4\n",
      "now projecting to 3 principal dimensions\n",
      "dualDDP mean distance error = 0.04269147150673494\n",
      "dualDDP largest distance error = 0.0968344159079724\n"
     ]
    },
    {
     "name": "stderr",
     "output_type": "stream",
     "text": [
      "\n",
      "100%|██████████| 4/4 [00:00<00:00, 45100.04it/s]"
     ]
    },
    {
     "name": "stdout",
     "output_type": "stream",
     "text": [
      "Cannot find \"ipopt\"\n",
      "NLP mean distance error = 0.04269131892317317\n",
      "NLP largest distance error = 0.09683404717750119\n",
      "178\t0.32000000 0.67597140\tIn Abu Dhabi the Golden Market is one of the premier public outdoor shopping areas.\tA busy city square in an asian country.\n",
      "CPLEX 20.1.0.0: optimal solution; objective 1.453022118\n",
      "0 dual simplex iterations (0 in phase I)\n",
      "optimal obj. fun. value = 1.4530221182032501\n",
      "ambient dimension n = 4\n",
      "found relaxed embedding in natural dimension K = 3\n",
      "now projecting to 3 principal dimensions\n",
      "dualDDP mean distance error = 0.017445677327239756\n",
      "dualDDP largest distance error = 0.04717984452164686\n"
     ]
    },
    {
     "name": "stderr",
     "output_type": "stream",
     "text": [
      "\n",
      "100%|██████████| 3/3 [00:00<00:00, 38479.85it/s]"
     ]
    },
    {
     "name": "stdout",
     "output_type": "stream",
     "text": [
      "Cannot find \"ipopt\"\n",
      "NLP mean distance error = 0.017445659340666903\n",
      "NLP largest distance error = 0.04717922076974007\n",
      "CPLEX 20.1.0.0: optimal solution; objective 0.4656306081\n",
      "0 dual simplex iterations (0 in phase I)\n",
      "optimal obj. fun. value = 0.4656306081254509\n",
      "ambient dimension n = 3\n",
      "found relaxed embedding in natural dimension K = 2\n",
      "now projecting to 2 principal dimensions\n",
      "dualDDP mean distance error = 0.007177639334280422\n",
      "dualDDP largest distance error = 0.014242566000876311\n"
     ]
    },
    {
     "name": "stderr",
     "output_type": "stream",
     "text": [
      "\n",
      "100%|██████████| 3/3 [00:00<00:00, 38716.65it/s]"
     ]
    },
    {
     "name": "stdout",
     "output_type": "stream",
     "text": [
      "Cannot find \"ipopt\"\n",
      "NLP mean distance error = 0.007177737281900669\n",
      "NLP largest distance error = 0.01424246848261862\n",
      "CPLEX 20.1.0.0: optimal solution; objective 0.8247222222\n",
      "0 dual simplex iterations (0 in phase I)\n",
      "optimal obj. fun. value = 0.8247222222222222\n",
      "ambient dimension n = 3\n",
      "found relaxed embedding in natural dimension K = 2\n",
      "now projecting to 2 principal dimensions\n",
      "dualDDP mean distance error = 0.01401420334667027\n",
      "dualDDP largest distance error = 0.028787267736029964\n"
     ]
    },
    {
     "name": "stderr",
     "output_type": "stream",
     "text": [
      "\n",
      "100%|██████████| 3/3 [00:00<00:00, 25784.66it/s]"
     ]
    },
    {
     "name": "stdout",
     "output_type": "stream",
     "text": [
      "Cannot find \"ipopt\"\n",
      "NLP mean distance error = 0.014014631091251617\n",
      "NLP largest distance error = 0.02878804319536593\n",
      "CPLEX 20.1.0.0: optimal solution; objective 0.5099768956\n",
      "0 dual simplex iterations (0 in phase I)\n",
      "optimal obj. fun. value = 0.5099768956101659\n",
      "ambient dimension n = 3\n",
      "found relaxed embedding in natural dimension K = 2\n",
      "now projecting to 2 principal dimensions\n",
      "dualDDP mean distance error = 0.01122195090401211\n",
      "dualDDP largest distance error = 0.016247783870152077\n"
     ]
    },
    {
     "name": "stderr",
     "output_type": "stream",
     "text": [
      "\n",
      "100%|██████████| 5/5 [00:00<00:00, 31115.01it/s]"
     ]
    },
    {
     "name": "stdout",
     "output_type": "stream",
     "text": [
      "Cannot find \"ipopt\"\n",
      "NLP mean distance error = 0.011221411107367319\n",
      "NLP largest distance error = 0.016247168934788614\n",
      "182\t0.72000000 0.98593438\tThe religious people are enjoying the outdoors.\tThe group of people are enjoying the outdoors.\n",
      "CPLEX 20.1.0.0: optimal solution; objective 1.634431934\n",
      "0 dual simplex iterations (0 in phase I)\n",
      "optimal obj. fun. value = 1.634431933583488\n",
      "ambient dimension n = 5\n",
      "found relaxed embedding in natural dimension K = 4\n",
      "now projecting to 3 principal dimensions\n",
      "dualDDP mean distance error = 0.015930740335575788\n",
      "dualDDP largest distance error = 0.04671195008665929\n"
     ]
    },
    {
     "name": "stderr",
     "output_type": "stream",
     "text": [
      "\n",
      "100%|██████████| 5/5 [00:00<00:00, 49461.13it/s]"
     ]
    },
    {
     "name": "stdout",
     "output_type": "stream",
     "text": [
      "Cannot find \"ipopt\"\n",
      "NLP mean distance error = 0.01593075214738087\n",
      "NLP largest distance error = 0.04671143147937021\n",
      "CPLEX 20.1.0.0: optimal solution; objective 1.634431934\n",
      "0 dual simplex iterations (0 in phase I)\n",
      "optimal obj. fun. value = 1.634431933583488\n",
      "ambient dimension n = 5\n",
      "found relaxed embedding in natural dimension K = 4\n",
      "now projecting to 3 principal dimensions\n",
      "dualDDP mean distance error = 0.015930740335575788\n",
      "dualDDP largest distance error = 0.04671195008665929\n"
     ]
    },
    {
     "name": "stderr",
     "output_type": "stream",
     "text": [
      "\n",
      "100%|██████████| 4/4 [00:00<00:00, 45839.39it/s]"
     ]
    },
    {
     "name": "stdout",
     "output_type": "stream",
     "text": [
      "Cannot find \"ipopt\"\n",
      "NLP mean distance error = 0.01593075214738087\n",
      "NLP largest distance error = 0.04671143147937021\n",
      "183\t0.60000000 1.00000000\tA girl in water without goggles or a swimming cap.\tA girl in water, with goggles and swimming cap.\n",
      "CPLEX 20.1.0.0: optimal solution; objective 1.388898733\n",
      "0 dual simplex iterations (0 in phase I)\n",
      "optimal obj. fun. value = 1.388898732784456\n",
      "ambient dimension n = 4\n",
      "found relaxed embedding in natural dimension K = 3\n",
      "now projecting to 3 principal dimensions\n",
      "dualDDP mean distance error = 0.03702663926322011\n",
      "dualDDP largest distance error = 0.08394363639032981\n"
     ]
    },
    {
     "name": "stderr",
     "output_type": "stream",
     "text": [
      "\n",
      "100%|██████████| 6/6 [00:00<00:00, 43389.35it/s]"
     ]
    },
    {
     "name": "stdout",
     "output_type": "stream",
     "text": [
      "Cannot find \"ipopt\"\n",
      "NLP mean distance error = 0.037026605699455865\n",
      "NLP largest distance error = 0.08394360441861115\n",
      "CPLEX 20.1.0.0: optimal solution; objective 3.17448908\n",
      "0 dual simplex iterations (0 in phase I)\n",
      "optimal obj. fun. value = 3.1744890795488994\n",
      "ambient dimension n = 6\n",
      "found relaxed embedding in natural dimension K = 4\n",
      "now projecting to 3 principal dimensions\n",
      "dualDDP mean distance error = 0.038403373505374594\n",
      "dualDDP largest distance error = 0.12707612396672555\n"
     ]
    },
    {
     "name": "stderr",
     "output_type": "stream",
     "text": [
      "\n",
      "100%|██████████| 3/3 [00:00<00:00, 34568.44it/s]"
     ]
    },
    {
     "name": "stdout",
     "output_type": "stream",
     "text": [
      "Cannot find \"ipopt\"\n",
      "NLP mean distance error = 0.03840326150884291\n",
      "NLP largest distance error = 0.12707520991180946\n",
      "184\t0.56000000 0.90728329\tA man is performing a stunt outdoors.\tA young man on a beach is performing skateboard stunts.\n",
      "CPLEX 20.1.0.0: optimal solution; objective 0.01429518866\n",
      "0 dual simplex iterations (0 in phase I)\n",
      "optimal obj. fun. value = 0.01429518866079087\n",
      "ambient dimension n = 3\n",
      "found relaxed embedding in natural dimension K = 2\n",
      "now projecting to 2 principal dimensions\n",
      "dualDDP mean distance error = 0.002543461421754559\n",
      "dualDDP largest distance error = 0.0065336839964375715\n"
     ]
    },
    {
     "name": "stderr",
     "output_type": "stream",
     "text": [
      "\n",
      "100%|██████████| 3/3 [00:00<00:00, 37449.14it/s]"
     ]
    },
    {
     "name": "stdout",
     "output_type": "stream",
     "text": [
      "Cannot find \"ipopt\"\n",
      "NLP mean distance error = 0.0025435110668194584\n",
      "NLP largest distance error = 0.00653373485944605\n",
      "CPLEX 20.1.0.0: optimal solution; objective 0.01429518866\n",
      "0 dual simplex iterations (0 in phase I)\n",
      "optimal obj. fun. value = 0.01429518866079087\n",
      "ambient dimension n = 3\n",
      "found relaxed embedding in natural dimension K = 2\n",
      "now projecting to 2 principal dimensions\n",
      "dualDDP mean distance error = 0.002658392365431325\n",
      "dualDDP largest distance error = 0.004005857665982909\n"
     ]
    },
    {
     "name": "stderr",
     "output_type": "stream",
     "text": [
      "\n",
      "100%|██████████| 3/3 [00:00<00:00, 36792.14it/s]"
     ]
    },
    {
     "name": "stdout",
     "output_type": "stream",
     "text": [
      "Cannot find \"ipopt\"\n",
      "NLP mean distance error = 0.002658410774435219\n",
      "NLP largest distance error = 0.004005842323228724\n",
      "185\t0.96000000 0.95923961\tA man is laughing with a woman\tA man and a woman laughing.\n",
      "CPLEX 20.1.0.0: optimal solution; objective 0.251700083\n",
      "0 dual simplex iterations (0 in phase I)\n",
      "optimal obj. fun. value = 0.2517000829899993\n",
      "ambient dimension n = 3\n",
      "found relaxed embedding in natural dimension K = 2\n",
      "now projecting to 2 principal dimensions\n",
      "dualDDP mean distance error = 0.004314561281462986\n",
      "dualDDP largest distance error = 0.008462064713424394\n"
     ]
    },
    {
     "name": "stderr",
     "output_type": "stream",
     "text": [
      "\n",
      "100%|██████████| 3/3 [00:00<00:00, 32768.00it/s]"
     ]
    },
    {
     "name": "stdout",
     "output_type": "stream",
     "text": [
      "Cannot find \"ipopt\"\n",
      "NLP mean distance error = 0.004314309131878145\n",
      "NLP largest distance error = 0.008461772189245598\n",
      "CPLEX 20.1.0.0: optimal solution; objective 0.222187227\n",
      "0 dual simplex iterations (0 in phase I)\n",
      "optimal obj. fun. value = 0.22218722699255258\n",
      "ambient dimension n = 3\n",
      "found relaxed embedding in natural dimension K = 2\n",
      "now projecting to 2 principal dimensions\n",
      "dualDDP mean distance error = 0.010052121089475943\n",
      "dualDDP largest distance error = 0.02390112648261644\n"
     ]
    },
    {
     "name": "stderr",
     "output_type": "stream",
     "text": [
      "\n",
      "100%|██████████| 3/3 [00:00<00:00, 33288.13it/s]"
     ]
    },
    {
     "name": "stdout",
     "output_type": "stream",
     "text": [
      "Cannot find \"ipopt\"\n",
      "NLP mean distance error = 0.010051918254706619\n",
      "NLP largest distance error = 0.023901120064895115\n",
      "187\t0.48000000 0.99244133\t2 Cows are in a field.\tTwo sheep are in a field.\n",
      "CPLEX 20.1.0.0: optimal solution; objective 0.1966914421\n",
      "0 dual simplex iterations (0 in phase I)\n",
      "optimal obj. fun. value = 0.1966914420626296\n",
      "ambient dimension n = 3\n",
      "found relaxed embedding in natural dimension K = 2\n",
      "now projecting to 2 principal dimensions\n",
      "dualDDP mean distance error = 0.0057058114203820025\n",
      "dualDDP largest distance error = 0.01162400631734517\n"
     ]
    },
    {
     "name": "stderr",
     "output_type": "stream",
     "text": [
      "\n",
      "100%|██████████| 3/3 [00:00<00:00, 37117.73it/s]"
     ]
    },
    {
     "name": "stdout",
     "output_type": "stream",
     "text": [
      "Cannot find \"ipopt\"\n",
      "NLP mean distance error = 0.005706015538459471\n",
      "NLP largest distance error = 0.011624055034681946\n",
      "CPLEX 20.1.0.0: optimal solution; objective 0.3588650307\n",
      "0 dual simplex iterations (0 in phase I)\n",
      "optimal obj. fun. value = 0.35886503070958176\n",
      "ambient dimension n = 3\n",
      "found relaxed embedding in natural dimension K = 2\n",
      "now projecting to 2 principal dimensions\n",
      "dualDDP mean distance error = 0.011439872226548575\n",
      "dualDDP largest distance error = 0.022969271448273182\n"
     ]
    },
    {
     "name": "stderr",
     "output_type": "stream",
     "text": [
      "\n",
      "100%|██████████| 5/5 [00:00<00:00, 29746.84it/s]"
     ]
    },
    {
     "name": "stdout",
     "output_type": "stream",
     "text": [
      "Cannot find \"ipopt\"\n",
      "NLP mean distance error = 0.011440108624213519\n",
      "NLP largest distance error = 0.022969416931489683\n",
      "188\t0.36000000 0.99999844\tA wet child enjoys the summer.\tA woman is enjoying the summer weather.\n",
      "CPLEX 20.1.0.0: optimal solution; objective 1.242392457\n",
      "0 dual simplex iterations (0 in phase I)\n",
      "optimal obj. fun. value = 1.2423924567748639\n",
      "ambient dimension n = 5\n",
      "found relaxed embedding in natural dimension K = 4\n",
      "now projecting to 3 principal dimensions\n",
      "dualDDP mean distance error = 0.008578541527783338\n",
      "dualDDP largest distance error = 0.030601601435307976\n",
      "Cannot find \"ipopt\"\n"
     ]
    },
    {
     "name": "stderr",
     "output_type": "stream",
     "text": [
      "\n",
      "100%|██████████| 4/4 [00:00<00:00, 43351.98it/s]"
     ]
    },
    {
     "name": "stdout",
     "output_type": "stream",
     "text": [
      "NLP mean distance error = 0.008578504375624208\n",
      "NLP largest distance error = 0.030601593870368385\n",
      "CPLEX 20.1.0.0: optimal solution; objective 0.3037681853\n",
      "0 dual simplex iterations (0 in phase I)\n",
      "optimal obj. fun. value = 0.3037681853457042\n",
      "ambient dimension n = 4\n",
      "found relaxed embedding in natural dimension K = 3\n",
      "now projecting to 3 principal dimensions\n",
      "dualDDP mean distance error = 0.0033734179534404937\n",
      "dualDDP largest distance error = 0.011216075974789318\n"
     ]
    },
    {
     "name": "stderr",
     "output_type": "stream",
     "text": [
      "\n",
      "100%|██████████| 3/3 [00:00<00:00, 37227.55it/s]"
     ]
    },
    {
     "name": "stdout",
     "output_type": "stream",
     "text": [
      "Cannot find \"ipopt\"\n",
      "NLP mean distance error = 0.0033733129544693103\n",
      "NLP largest distance error = 0.011216084373668112\n",
      "190\t0.20000000 0.11255239\tThere are four snowboarders going off a jump and that are in the air.\tTwo racers are coming to a turn.\n",
      "CPLEX 20.1.0.0: optimal solution; objective 0.07129526666\n",
      "0 dual simplex iterations (0 in phase I)\n",
      "optimal obj. fun. value = 0.07129526666428294\n",
      "ambient dimension n = 3\n",
      "found relaxed embedding in natural dimension K = 2\n",
      "now projecting to 2 principal dimensions\n",
      "dualDDP mean distance error = 0.000377491009487733\n",
      "dualDDP largest distance error = 0.0007590848582462173\n"
     ]
    },
    {
     "name": "stderr",
     "output_type": "stream",
     "text": [
      "\n",
      "100%|██████████| 3/3 [00:00<00:00, 37008.56it/s]"
     ]
    },
    {
     "name": "stdout",
     "output_type": "stream",
     "text": [
      "Cannot find \"ipopt\"\n",
      "NLP mean distance error = 0.00037748831183116266\n",
      "NLP largest distance error = 0.0007591044886755827\n",
      "CPLEX 20.1.0.0: optimal solution; objective 0.06461873422\n",
      "0 dual simplex iterations (0 in phase I)\n",
      "optimal obj. fun. value = 0.06461873421949713\n",
      "ambient dimension n = 3\n",
      "found relaxed embedding in natural dimension K = 2\n",
      "now projecting to 2 principal dimensions\n",
      "dualDDP mean distance error = 0.00023432607262143892\n",
      "dualDDP largest distance error = 0.00046161715072630394\n"
     ]
    },
    {
     "name": "stderr",
     "output_type": "stream",
     "text": [
      "\n",
      "100%|██████████| 8/8 [00:00<00:00, 48489.06it/s]"
     ]
    },
    {
     "name": "stdout",
     "output_type": "stream",
     "text": [
      "Cannot find \"ipopt\"\n",
      "NLP mean distance error = 0.00023431797628517548\n",
      "NLP largest distance error = 0.00046163412258723446\n",
      "191\t0.52000000 0.99965115\tThe girl has a driver's license\tA man has a driver's license.\n",
      "CPLEX 20.1.0.0: optimal solution; objective 5.253479376\n",
      "0 dual simplex iterations (0 in phase I)\n",
      "optimal obj. fun. value = 5.2534793763901755\n",
      "ambient dimension n = 8\n",
      "found relaxed embedding in natural dimension K = 6\n",
      "now projecting to 3 principal dimensions\n",
      "dualDDP mean distance error = 0.02532478142292829\n",
      "dualDDP largest distance error = 0.06826856483463051\n"
     ]
    },
    {
     "name": "stderr",
     "output_type": "stream",
     "text": [
      "\n",
      "100%|██████████| 5/5 [00:00<00:00, 47021.35it/s]"
     ]
    },
    {
     "name": "stdout",
     "output_type": "stream",
     "text": [
      "Cannot find \"ipopt\"\n",
      "NLP mean distance error = 0.025324774276258035\n",
      "NLP largest distance error = 0.06826885376209607\n",
      "CPLEX 20.1.0.0: optimal solution; objective 2.080612519\n",
      "0 dual simplex iterations (0 in phase I)\n",
      "optimal obj. fun. value = 2.080612518917974\n",
      "ambient dimension n = 5\n",
      "found relaxed embedding in natural dimension K = 4\n",
      "now projecting to 3 principal dimensions\n",
      "dualDDP mean distance error = 0.02610480051388663\n",
      "dualDDP largest distance error = 0.058949870377601535\n"
     ]
    },
    {
     "name": "stderr",
     "output_type": "stream",
     "text": [
      "\n",
      "100%|██████████| 4/4 [00:00<00:00, 47527.52it/s]"
     ]
    },
    {
     "name": "stdout",
     "output_type": "stream",
     "text": [
      "Cannot find \"ipopt\"\n",
      "NLP mean distance error = 0.026104804308732455\n",
      "NLP largest distance error = 0.05894976099126066\n",
      "192\t0.76000000 0.99318872\tPeople on motorcycles wearing racing gear ride around a racetrack\tPeople on motorcycles ride around a racetrack\n",
      "CPLEX 20.1.0.0: optimal solution; objective 1.813889178\n",
      "0 dual simplex iterations (0 in phase I)\n",
      "optimal obj. fun. value = 1.8138891780868347\n",
      "ambient dimension n = 4\n",
      "found relaxed embedding in natural dimension K = 3\n",
      "now projecting to 3 principal dimensions\n",
      "dualDDP mean distance error = 0.016205895565811892\n",
      "dualDDP largest distance error = 0.029377294246222596\n"
     ]
    },
    {
     "name": "stderr",
     "output_type": "stream",
     "text": [
      "\n",
      "100%|██████████| 4/4 [00:00<00:00, 38926.26it/s]"
     ]
    },
    {
     "name": "stdout",
     "output_type": "stream",
     "text": [
      "Cannot find \"ipopt\"\n",
      "NLP mean distance error = 0.016205753738296594\n",
      "NLP largest distance error = 0.029377517241625628\n",
      "CPLEX 20.1.0.0: optimal solution; objective 1.053166314\n",
      "0 dual simplex iterations (0 in phase I)\n",
      "optimal obj. fun. value = 1.0531663137702232\n",
      "ambient dimension n = 4\n",
      "found relaxed embedding in natural dimension K = 3\n",
      "now projecting to 3 principal dimensions\n",
      "dualDDP mean distance error = 0.013733439217346143\n",
      "dualDDP largest distance error = 0.05061121378801649\n"
     ]
    },
    {
     "name": "stderr",
     "output_type": "stream",
     "text": [
      "\n",
      "100%|██████████| 4/4 [00:00<00:00, 41527.76it/s]"
     ]
    },
    {
     "name": "stdout",
     "output_type": "stream",
     "text": [
      "Cannot find \"ipopt\"\n",
      "NLP mean distance error = 0.013733460857383114\n",
      "NLP largest distance error = 0.05061152845854898\n",
      "193\t0.24000000 0.11634496\tA man is standing on the ground with a paintbrush\tA man with a crutch lying on the ground.\n",
      "CPLEX 20.1.0.0: optimal solution; objective 0.4796079364\n",
      "0 dual simplex iterations (0 in phase I)\n",
      "optimal obj. fun. value = 0.4796079363780652\n",
      "ambient dimension n = 4\n",
      "found relaxed embedding in natural dimension K = 3\n",
      "now projecting to 3 principal dimensions\n",
      "dualDDP mean distance error = 0.004695020076247965\n",
      "dualDDP largest distance error = 0.013263923159687288\n"
     ]
    },
    {
     "name": "stderr",
     "output_type": "stream",
     "text": [
      "\n",
      "100%|██████████| 3/3 [00:00<00:00, 25731.93it/s]"
     ]
    },
    {
     "name": "stdout",
     "output_type": "stream",
     "text": [
      "Cannot find \"ipopt\"\n",
      "NLP mean distance error = 0.0046949413162966705\n",
      "NLP largest distance error = 0.013263766394414914\n",
      "CPLEX 20.1.0.0: optimal solution; objective 0.00764821168\n",
      "0 dual simplex iterations (0 in phase I)\n",
      "optimal obj. fun. value = 0.00764821168041534\n",
      "ambient dimension n = 3\n",
      "found relaxed embedding in natural dimension K = 2\n",
      "now projecting to 2 principal dimensions\n",
      "dualDDP mean distance error = 0.0007668175739587805\n",
      "dualDDP largest distance error = 0.0016792108246524197\n"
     ]
    },
    {
     "name": "stderr",
     "output_type": "stream",
     "text": [
      "\n",
      "100%|██████████| 5/5 [00:00<00:00, 47554.47it/s]"
     ]
    },
    {
     "name": "stdout",
     "output_type": "stream",
     "text": [
      "Cannot find \"ipopt\"\n",
      "NLP mean distance error = 0.0007668484695346721\n",
      "NLP largest distance error = 0.0016792141948151658\n",
      "CPLEX 20.1.0.0: optimal solution; objective 0.5917260708\n",
      "0 dual simplex iterations (0 in phase I)\n",
      "optimal obj. fun. value = 0.5917260707511051\n",
      "ambient dimension n = 5\n",
      "found relaxed embedding in natural dimension K = 4\n",
      "now projecting to 3 principal dimensions\n",
      "dualDDP mean distance error = 0.012412522665665393\n",
      "dualDDP largest distance error = 0.04110835910307231\n"
     ]
    },
    {
     "name": "stderr",
     "output_type": "stream",
     "text": [
      "\n",
      "100%|██████████| 5/5 [00:00<00:00, 40098.51it/s]"
     ]
    },
    {
     "name": "stdout",
     "output_type": "stream",
     "text": [
      "Cannot find \"ipopt\"\n",
      "NLP mean distance error = 0.01241263012375314\n",
      "NLP largest distance error = 0.04110828314306253\n",
      "CPLEX 20.1.0.0: optimal solution; objective 0.4736828034\n",
      "0 dual simplex iterations (0 in phase I)\n",
      "optimal obj. fun. value = 0.47368280337749497\n",
      "ambient dimension n = 5\n",
      "found relaxed embedding in natural dimension K = 4\n",
      "now projecting to 3 principal dimensions\n",
      "dualDDP mean distance error = 0.006712791259943468\n",
      "dualDDP largest distance error = 0.02420178746032882\n"
     ]
    },
    {
     "name": "stderr",
     "output_type": "stream",
     "text": [
      "\n",
      "100%|██████████| 3/3 [00:00<00:00, 36684.87it/s]"
     ]
    },
    {
     "name": "stdout",
     "output_type": "stream",
     "text": [
      "Cannot find \"ipopt\"\n",
      "NLP mean distance error = 0.006712786980416811\n",
      "NLP largest distance error = 0.024201801121320712\n",
      "195\t0.76000000 0.90801342\tTwo women walk down the sidewalk to the store.\tTwo women walk down the sidewalk in the afternoon.\n",
      "CPLEX 20.1.0.0: optimal solution; objective 0.004274435572\n",
      "0 dual simplex iterations (0 in phase I)\n",
      "optimal obj. fun. value = 0.004274435572440994\n",
      "ambient dimension n = 3\n",
      "found relaxed embedding in natural dimension K = 2\n",
      "now projecting to 2 principal dimensions\n",
      "dualDDP mean distance error = 0.0002558443939271633\n",
      "dualDDP largest distance error = 0.0006488055634114413\n"
     ]
    },
    {
     "name": "stderr",
     "output_type": "stream",
     "text": [
      "\n",
      "100%|██████████| 4/4 [00:00<00:00, 45466.71it/s]"
     ]
    },
    {
     "name": "stdout",
     "output_type": "stream",
     "text": [
      "Cannot find \"ipopt\"\n",
      "NLP mean distance error = 0.00025582517762359004\n",
      "NLP largest distance error = 0.0006487822467618563\n",
      "CPLEX 20.1.0.0: optimal solution; objective 0.03335327553\n",
      "0 dual simplex iterations (0 in phase I)\n",
      "optimal obj. fun. value = 0.03335327552659816\n",
      "ambient dimension n = 4\n",
      "found relaxed embedding in natural dimension K = 3\n",
      "now projecting to 3 principal dimensions\n",
      "dualDDP mean distance error = 0.0034514608737312193\n",
      "dualDDP largest distance error = 0.009790919077366171\n"
     ]
    },
    {
     "name": "stderr",
     "output_type": "stream",
     "text": [
      "\n",
      "100%|██████████| 6/6 [00:00<00:00, 49539.02it/s]"
     ]
    },
    {
     "name": "stdout",
     "output_type": "stream",
     "text": [
      "Cannot find \"ipopt\"\n",
      "NLP mean distance error = 0.0034514906258872216\n",
      "NLP largest distance error = 0.009790955728590296\n",
      "CPLEX 20.1.0.0: optimal solution; objective 2.431305215\n",
      "0 dual simplex iterations (0 in phase I)\n",
      "optimal obj. fun. value = 2.431305214746469\n",
      "ambient dimension n = 6\n",
      "found relaxed embedding in natural dimension K = 5\n",
      "now projecting to 3 principal dimensions\n",
      "dualDDP mean distance error = 0.007490780741193642\n",
      "dualDDP largest distance error = 0.02332134423939547\n"
     ]
    },
    {
     "name": "stderr",
     "output_type": "stream",
     "text": [
      "\n",
      "100%|██████████| 4/4 [00:00<00:00, 34735.44it/s]"
     ]
    },
    {
     "name": "stdout",
     "output_type": "stream",
     "text": [
      "Cannot find \"ipopt\"\n",
      "NLP mean distance error = 0.007490792965110125\n",
      "NLP largest distance error = 0.023321386148255407\n",
      "CPLEX 20.1.0.0: optimal solution; objective 1.015012769\n",
      "0 dual simplex iterations (0 in phase I)\n",
      "optimal obj. fun. value = 1.0150127692681643\n",
      "ambient dimension n = 4\n",
      "found relaxed embedding in natural dimension K = 3\n",
      "now projecting to 3 principal dimensions\n",
      "dualDDP mean distance error = 0.018033844846394427\n",
      "dualDDP largest distance error = 0.04368408586391925\n"
     ]
    },
    {
     "name": "stderr",
     "output_type": "stream",
     "text": [
      "\n",
      "100%|██████████| 4/4 [00:00<00:00, 43804.74it/s]"
     ]
    },
    {
     "name": "stdout",
     "output_type": "stream",
     "text": [
      "Cannot find \"ipopt\"\n",
      "NLP mean distance error = 0.018033802493757262\n",
      "NLP largest distance error = 0.04368430211134339\n",
      "197\t0.08000000 0.96199402\tA group of dark-skinned people are walking past barbed wire.\tTwo women are gossiping by a fence.\n",
      "CPLEX 20.1.0.0: optimal solution; objective 0.8511095576\n",
      "0 dual simplex iterations (0 in phase I)\n",
      "optimal obj. fun. value = 0.8511095575566381\n",
      "ambient dimension n = 4\n",
      "found relaxed embedding in natural dimension K = 3\n",
      "now projecting to 3 principal dimensions\n",
      "dualDDP mean distance error = 0.009851368528748473\n",
      "dualDDP largest distance error = 0.03266261192350593\n"
     ]
    },
    {
     "name": "stderr",
     "output_type": "stream",
     "text": [
      "\n",
      "100%|██████████| 4/4 [00:00<00:00, 39016.78it/s]"
     ]
    },
    {
     "name": "stdout",
     "output_type": "stream",
     "text": [
      "Cannot find \"ipopt\"\n",
      "NLP mean distance error = 0.009851327719269358\n",
      "NLP largest distance error = 0.03266242060163259\n",
      "CPLEX 20.1.0.0: optimal solution; objective 1.039318528\n",
      "0 dual simplex iterations (0 in phase I)\n",
      "optimal obj. fun. value = 1.0393185280469086\n",
      "ambient dimension n = 4\n",
      "found relaxed embedding in natural dimension K = 3\n",
      "now projecting to 3 principal dimensions\n",
      "dualDDP mean distance error = 0.0032934160049848116\n",
      "dualDDP largest distance error = 0.008454059344078613\n"
     ]
    },
    {
     "name": "stderr",
     "output_type": "stream",
     "text": [
      "\n",
      "100%|██████████| 8/8 [00:00<00:00, 46863.73it/s]"
     ]
    },
    {
     "name": "stdout",
     "output_type": "stream",
     "text": [
      "Cannot find \"ipopt\"\n",
      "NLP mean distance error = 0.003293494272658584\n",
      "NLP largest distance error = 0.008454018240619393\n",
      "198\t0.68000000 0.65342425\tZombies parading around eating brains.\tThe zombies are eating flesh together.\n",
      "CPLEX 20.1.0.0: optimal solution; objective 2.271782047\n",
      "0 dual simplex iterations (0 in phase I)\n",
      "optimal obj. fun. value = 2.271782047441029\n",
      "ambient dimension n = 8\n",
      "found relaxed embedding in natural dimension K = 6\n",
      "now projecting to 3 principal dimensions\n",
      "dualDDP mean distance error = 0.04139037269527159\n",
      "dualDDP largest distance error = 0.1457121890404538\n",
      "Cannot find \"ipopt\"\n"
     ]
    },
    {
     "name": "stderr",
     "output_type": "stream",
     "text": [
      "\n",
      "100%|██████████| 7/7 [00:00<00:00, 45803.63it/s]"
     ]
    },
    {
     "name": "stdout",
     "output_type": "stream",
     "text": [
      "NLP mean distance error = 0.041390340919955214\n",
      "NLP largest distance error = 0.1457122142215895\n",
      "CPLEX 20.1.0.0: optimal solution; objective 1.336595941\n",
      "0 dual simplex iterations (0 in phase I)\n",
      "optimal obj. fun. value = 1.3365959407687416\n",
      "ambient dimension n = 7\n",
      "found relaxed embedding in natural dimension K = 5\n",
      "now projecting to 3 principal dimensions\n",
      "dualDDP mean distance error = 0.02761938942439134\n",
      "dualDDP largest distance error = 0.13026757017563975\n"
     ]
    },
    {
     "name": "stderr",
     "output_type": "stream",
     "text": [
      "\n",
      "100%|██████████| 6/6 [00:00<00:00, 50737.55it/s]"
     ]
    },
    {
     "name": "stdout",
     "output_type": "stream",
     "text": [
      "Cannot find \"ipopt\"\n",
      "NLP mean distance error = 0.027619443442954406\n",
      "NLP largest distance error = 0.130267499706521\n",
      "199\t0.84000000 0.85720330\tA group of people are sitting at at a beach on towels watching the Blue Angels.\tA group of people are sitting at a beach watching the Blue Angels.\n",
      "CPLEX 20.1.0.0: optimal solution; objective 4.393596854\n",
      "0 dual simplex iterations (0 in phase I)\n",
      "optimal obj. fun. value = 4.393596854011872\n",
      "ambient dimension n = 6\n",
      "found relaxed embedding in natural dimension K = 4\n",
      "now projecting to 3 principal dimensions\n",
      "dualDDP mean distance error = 0.05280449313654086\n",
      "dualDDP largest distance error = 0.23980648205789998\n"
     ]
    },
    {
     "name": "stderr",
     "output_type": "stream",
     "text": [
      "\n",
      "100%|██████████| 4/4 [00:00<00:00, 40920.04it/s]"
     ]
    },
    {
     "name": "stdout",
     "output_type": "stream",
     "text": [
      "Cannot find \"ipopt\"\n",
      "NLP mean distance error = 0.05280435574036101\n",
      "NLP largest distance error = 0.23980650543929824\n",
      "CPLEX 20.1.0.0: optimal solution; objective 0.6453900125\n",
      "0 dual simplex iterations (0 in phase I)\n",
      "optimal obj. fun. value = 0.6453900124952534\n",
      "ambient dimension n = 4\n",
      "found relaxed embedding in natural dimension K = 3\n",
      "now projecting to 3 principal dimensions\n",
      "dualDDP mean distance error = 0.015798981610006393\n",
      "dualDDP largest distance error = 0.03579063519703338\n"
     ]
    },
    {
     "name": "stderr",
     "output_type": "stream",
     "text": [
      "\n",
      "100%|██████████| 4/4 [00:00<00:00, 44384.17it/s]"
     ]
    },
    {
     "name": "stdout",
     "output_type": "stream",
     "text": [
      "Cannot find \"ipopt\"\n",
      "NLP mean distance error = 0.0157990777088355\n",
      "NLP largest distance error = 0.035790897691803436\n",
      "200\t0.28000000 0.27368928\tA basketball player makes the 5th rebound of the night,\tA tennis player in the middle of a game.\n",
      "CPLEX 20.1.0.0: optimal solution; objective 0.1511365123\n",
      "0 dual simplex iterations (0 in phase I)\n",
      "optimal obj. fun. value = 0.15113651230222816\n",
      "ambient dimension n = 4\n",
      "found relaxed embedding in natural dimension K = 3\n",
      "now projecting to 3 principal dimensions\n",
      "dualDDP mean distance error = 0.005453273065707695\n",
      "dualDDP largest distance error = 0.014804968292977852\n"
     ]
    },
    {
     "name": "stderr",
     "output_type": "stream",
     "text": [
      "\n",
      "100%|██████████| 4/4 [00:00<00:00, 42473.96it/s]"
     ]
    },
    {
     "name": "stdout",
     "output_type": "stream",
     "text": [
      "Cannot find \"ipopt\"\n",
      "NLP mean distance error = 0.0054533684940245505\n",
      "NLP largest distance error = 0.014804922675257265\n",
      "CPLEX 20.1.0.0: optimal solution; objective 0.02370885463\n",
      "0 dual simplex iterations (0 in phase I)\n",
      "optimal obj. fun. value = 0.02370885462679338\n",
      "ambient dimension n = 4\n",
      "found relaxed embedding in natural dimension K = 3\n",
      "now projecting to 3 principal dimensions\n",
      "dualDDP mean distance error = 0.0012428289632212906\n",
      "dualDDP largest distance error = 0.0028809604117598156\n"
     ]
    },
    {
     "name": "stderr",
     "output_type": "stream",
     "text": [
      "\n",
      "100%|██████████| 8/8 [00:00<00:00, 49417.43it/s]"
     ]
    },
    {
     "name": "stdout",
     "output_type": "stream",
     "text": [
      "Cannot find \"ipopt\"\n",
      "NLP mean distance error = 0.0012428018509362526\n",
      "NLP largest distance error = 0.002880895901658534\n",
      "201\t0.48000000 0.14263209\tThree people are meeting for coffee.\tTwo people make coffee.\n",
      "CPLEX 20.1.0.0: optimal solution; objective 2.842484623\n",
      "0 dual simplex iterations (0 in phase I)\n",
      "optimal obj. fun. value = 2.842484622783602\n",
      "ambient dimension n = 8\n",
      "found relaxed embedding in natural dimension K = 7\n",
      "now projecting to 3 principal dimensions\n",
      "dualDDP mean distance error = 0.02176195162694139\n",
      "dualDDP largest distance error = 0.06951820980568643\n"
     ]
    },
    {
     "name": "stderr",
     "output_type": "stream",
     "text": [
      "\n",
      "100%|██████████| 9/9 [00:00<00:00, 41896.49it/s]"
     ]
    },
    {
     "name": "stdout",
     "output_type": "stream",
     "text": [
      "Cannot find \"ipopt\"\n",
      "NLP mean distance error = 0.02176196307685332\n",
      "NLP largest distance error = 0.0695182806778065\n",
      "CPLEX 20.1.0.0: optimal solution; objective 2.008248779\n",
      "0 dual simplex iterations (0 in phase I)\n",
      "optimal obj. fun. value = 2.0082487788220726\n",
      "ambient dimension n = 9\n",
      "found relaxed embedding in natural dimension K = 7\n",
      "now projecting to 3 principal dimensions\n",
      "dualDDP mean distance error = 0.01230635711848961\n",
      "dualDDP largest distance error = 0.046927498193978054\n",
      "Cannot find \"ipopt\"\n"
     ]
    },
    {
     "name": "stderr",
     "output_type": "stream",
     "text": [
      "\n",
      "100%|██████████| 4/4 [00:00<00:00, 35772.32it/s]"
     ]
    },
    {
     "name": "stdout",
     "output_type": "stream",
     "text": [
      "NLP mean distance error = 0.012306338674920805\n",
      "NLP largest distance error = 0.04692747984743225\n",
      "202\t0.16000000 0.05077908\tA young girl with dirt on her face and a red child's bike is in the background.\tThe old woman in shorts and a white t-shirt is standing on a path watching children play.\n",
      "CPLEX 20.1.0.0: optimal solution; objective 0.4345001063\n",
      "0 dual simplex iterations (0 in phase I)\n",
      "optimal obj. fun. value = 0.4345001063232476\n",
      "ambient dimension n = 4\n",
      "found relaxed embedding in natural dimension K = 3\n",
      "now projecting to 3 principal dimensions\n",
      "dualDDP mean distance error = 0.0029081727770150154\n",
      "dualDDP largest distance error = 0.009709236038545274\n"
     ]
    },
    {
     "name": "stderr",
     "output_type": "stream",
     "text": [
      "\n",
      "100%|██████████| 4/4 [00:00<00:00, 43240.25it/s]"
     ]
    },
    {
     "name": "stdout",
     "output_type": "stream",
     "text": [
      "Cannot find \"ipopt\"\n",
      "NLP mean distance error = 0.0029082739595064377\n",
      "NLP largest distance error = 0.009709173907806151\n",
      "CPLEX 20.1.0.0: optimal solution; objective 0.0301949729\n",
      "0 dual simplex iterations (0 in phase I)\n",
      "optimal obj. fun. value = 0.03019497289511168\n",
      "ambient dimension n = 4\n",
      "found relaxed embedding in natural dimension K = 3\n",
      "now projecting to 3 principal dimensions\n",
      "dualDDP mean distance error = 0.00011057963351399254\n",
      "dualDDP largest distance error = 0.00020837237055717356\n"
     ]
    },
    {
     "name": "stderr",
     "output_type": "stream",
     "text": [
      "\n",
      "100%|██████████| 5/5 [00:00<00:00, 46811.43it/s]"
     ]
    },
    {
     "name": "stdout",
     "output_type": "stream",
     "text": [
      "Cannot find \"ipopt\"\n",
      "NLP mean distance error = 0.00011060778936297008\n",
      "NLP largest distance error = 0.00020840112069867023\n",
      "203\t0.56000000 0.96413115\tA helicopter is getting ready to take off.\tThe plane is getting ready to take off.\n",
      "CPLEX 20.1.0.0: optimal solution; objective 1.652890821\n",
      "0 dual simplex iterations (0 in phase I)\n",
      "optimal obj. fun. value = 1.652890820842942\n",
      "ambient dimension n = 5\n",
      "found relaxed embedding in natural dimension K = 4\n",
      "now projecting to 3 principal dimensions\n",
      "dualDDP mean distance error = 0.009550510040885276\n",
      "dualDDP largest distance error = 0.0454309279928543\n"
     ]
    },
    {
     "name": "stderr",
     "output_type": "stream",
     "text": [
      "\n",
      "100%|██████████| 6/6 [00:00<00:00, 44228.16it/s]"
     ]
    },
    {
     "name": "stdout",
     "output_type": "stream",
     "text": [
      "Cannot find \"ipopt\"\n",
      "NLP mean distance error = 0.009550483111908656\n",
      "NLP largest distance error = 0.04543095212042516\n",
      "CPLEX 20.1.0.0: optimal solution; objective 2.217831816\n",
      "0 dual simplex iterations (0 in phase I)\n",
      "optimal obj. fun. value = 2.2178318159522075\n",
      "ambient dimension n = 6\n",
      "found relaxed embedding in natural dimension K = 5\n",
      "now projecting to 3 principal dimensions\n",
      "dualDDP mean distance error = 0.024153019097081268\n",
      "dualDDP largest distance error = 0.09764798259234694\n"
     ]
    },
    {
     "name": "stderr",
     "output_type": "stream",
     "text": [
      "\n",
      "100%|██████████| 3/3 [00:00<00:00, 34100.03it/s]"
     ]
    },
    {
     "name": "stdout",
     "output_type": "stream",
     "text": [
      "Cannot find \"ipopt\"\n",
      "NLP mean distance error = 0.024152998815922224\n",
      "NLP largest distance error = 0.09764800650032403\n",
      "204\t0.88000000 0.37074792\tA line of scooters are parking in the middle of a street.\tA line of motor bikes are parked in the middle of a street.\n",
      "CPLEX 20.1.0.0: optimal solution; objective 0.07522678828\n",
      "0 dual simplex iterations (0 in phase I)\n",
      "optimal obj. fun. value = 0.07522678828041494\n",
      "ambient dimension n = 3\n",
      "found relaxed embedding in natural dimension K = 2\n",
      "now projecting to 2 principal dimensions\n",
      "dualDDP mean distance error = 0.007224596972675264\n",
      "dualDDP largest distance error = 0.017427357107040714\n"
     ]
    },
    {
     "name": "stderr",
     "output_type": "stream",
     "text": [
      "\n",
      "100%|██████████| 3/3 [00:00<00:00, 29817.33it/s]"
     ]
    },
    {
     "name": "stdout",
     "output_type": "stream",
     "text": [
      "Cannot find \"ipopt\"\n",
      "NLP mean distance error = 0.007224668881335022\n",
      "NLP largest distance error = 0.01742729432412224\n",
      "CPLEX 20.1.0.0: optimal solution; objective 0.05436713323\n",
      "0 dual simplex iterations (0 in phase I)\n",
      "optimal obj. fun. value = 0.054367133233243076\n",
      "ambient dimension n = 3\n",
      "found relaxed embedding in natural dimension K = 2\n",
      "now projecting to 2 principal dimensions\n",
      "dualDDP mean distance error = 0.004874845043892785\n",
      "dualDDP largest distance error = 0.012634392192432897\n"
     ]
    },
    {
     "name": "stderr",
     "output_type": "stream",
     "text": [
      "\n",
      "100%|██████████| 6/6 [00:00<00:00, 43614.95it/s]"
     ]
    },
    {
     "name": "stdout",
     "output_type": "stream",
     "text": [
      "Cannot find \"ipopt\"\n",
      "NLP mean distance error = 0.00487484203553643\n",
      "NLP largest distance error = 0.012634393999703272\n",
      "205\t0.60000000 0.10979335\tA man holding a cat.\tA man holding a dog.\n",
      "CPLEX 20.1.0.0: optimal solution; objective 2.356480574\n",
      "0 dual simplex iterations (0 in phase I)\n",
      "optimal obj. fun. value = 2.3564805741029216\n",
      "ambient dimension n = 6\n",
      "found relaxed embedding in natural dimension K = 5\n",
      "now projecting to 3 principal dimensions\n",
      "dualDDP mean distance error = 0.01314507984954606\n",
      "dualDDP largest distance error = 0.03434125352857506\n"
     ]
    },
    {
     "name": "stderr",
     "output_type": "stream",
     "text": [
      "\n",
      "100%|██████████| 7/7 [00:00<00:00, 50620.91it/s]"
     ]
    },
    {
     "name": "stdout",
     "output_type": "stream",
     "text": [
      "Cannot find \"ipopt\"\n",
      "NLP mean distance error = 0.013145117660529528\n",
      "NLP largest distance error = 0.034341283419434834\n",
      "CPLEX 20.1.0.0: optimal solution; objective 3.581796013\n",
      "0 dual simplex iterations (0 in phase I)\n",
      "optimal obj. fun. value = 3.581796013206155\n",
      "ambient dimension n = 7\n",
      "found relaxed embedding in natural dimension K = 5\n",
      "now projecting to 3 principal dimensions\n",
      "dualDDP mean distance error = 0.016415105307923325\n",
      "dualDDP largest distance error = 0.057890544137480904\n"
     ]
    },
    {
     "name": "stderr",
     "output_type": "stream",
     "text": [
      "\n",
      "100%|██████████| 7/7 [00:00<00:00, 49179.44it/s]"
     ]
    },
    {
     "name": "stdout",
     "output_type": "stream",
     "text": [
      "Cannot find \"ipopt\"\n",
      "NLP mean distance error = 0.01641525202221364\n",
      "NLP largest distance error = 0.0578909601642969\n",
      "206\t0.60000000 0.07096294\tA man doing a jumping bike trick surrounded by trees.\tA boy riding a green trick bike over some steps outdoors.\n",
      "CPLEX 20.1.0.0: optimal solution; objective 6.324105541\n",
      "0 dual simplex iterations (0 in phase I)\n",
      "optimal obj. fun. value = 6.324105541143377\n",
      "ambient dimension n = 7\n",
      "found relaxed embedding in natural dimension K = 5\n",
      "now projecting to 3 principal dimensions\n",
      "dualDDP mean distance error = 0.021253580766406592\n",
      "dualDDP largest distance error = 0.07162970683179892\n"
     ]
    },
    {
     "name": "stderr",
     "output_type": "stream",
     "text": [
      "\n",
      "100%|██████████| 6/6 [00:00<00:00, 47482.69it/s]"
     ]
    },
    {
     "name": "stdout",
     "output_type": "stream",
     "text": [
      "Cannot find \"ipopt\"\n",
      "NLP mean distance error = 0.021253592485197256\n",
      "NLP largest distance error = 0.07162977731609366\n",
      "CPLEX 20.1.0.0: optimal solution; objective 1.72598065\n",
      "0 dual simplex iterations (0 in phase I)\n",
      "optimal obj. fun. value = 1.7259806500496286\n",
      "ambient dimension n = 6\n",
      "found relaxed embedding in natural dimension K = 4\n",
      "now projecting to 3 principal dimensions\n",
      "dualDDP mean distance error = 0.010564570433315025\n",
      "dualDDP largest distance error = 0.04943162945164392\n"
     ]
    },
    {
     "name": "stderr",
     "output_type": "stream",
     "text": [
      "\n",
      "100%|██████████| 4/4 [00:00<00:00, 42908.48it/s]"
     ]
    },
    {
     "name": "stdout",
     "output_type": "stream",
     "text": [
      "Cannot find \"ipopt\"\n",
      "NLP mean distance error = 0.010564671521284924\n",
      "NLP largest distance error = 0.04943161086126044\n",
      "207\t0.32000000 0.97680477\tThree guys in speedos have their feet up on the railing of a boat getting a tan.\tA few men on the deck are dropping another man into the water\n",
      "CPLEX 20.1.0.0: optimal solution; objective 1.224610404\n",
      "0 dual simplex iterations (0 in phase I)\n",
      "optimal obj. fun. value = 1.2246104035449783\n",
      "ambient dimension n = 4\n",
      "found relaxed embedding in natural dimension K = 3\n",
      "now projecting to 3 principal dimensions\n",
      "dualDDP mean distance error = 0.017859863927497884\n",
      "dualDDP largest distance error = 0.0404754477282967\n"
     ]
    },
    {
     "name": "stderr",
     "output_type": "stream",
     "text": [
      "\n",
      "100%|██████████| 4/4 [00:00<00:00, 45964.98it/s]"
     ]
    },
    {
     "name": "stdout",
     "output_type": "stream",
     "text": [
      "Cannot find \"ipopt\"\n",
      "NLP mean distance error = 0.01785981931838707\n",
      "NLP largest distance error = 0.0404746006306535\n",
      "CPLEX 20.1.0.0: optimal solution; objective 1.442133125\n",
      "0 dual simplex iterations (0 in phase I)\n",
      "optimal obj. fun. value = 1.4421331250591118\n",
      "ambient dimension n = 4\n",
      "found relaxed embedding in natural dimension K = 3\n",
      "now projecting to 3 principal dimensions\n",
      "dualDDP mean distance error = 0.029088356423095263\n",
      "dualDDP largest distance error = 0.0675672007804537\n"
     ]
    },
    {
     "name": "stderr",
     "output_type": "stream",
     "text": [
      "\n",
      "100%|██████████| 4/4 [00:00<00:00, 45590.26it/s]"
     ]
    },
    {
     "name": "stdout",
     "output_type": "stream",
     "text": [
      "Cannot find \"ipopt\"\n",
      "NLP mean distance error = 0.029088469081775332\n",
      "NLP largest distance error = 0.06756714954775522\n",
      "208\t0.56000000 0.99986136\tA group wading across a witch\tA group wading across a ditch\n",
      "CPLEX 20.1.0.0: optimal solution; objective 0.733022746\n",
      "0 dual simplex iterations (0 in phase I)\n",
      "optimal obj. fun. value = 0.7330227460366252\n",
      "ambient dimension n = 4\n",
      "found relaxed embedding in natural dimension K = 3\n",
      "now projecting to 3 principal dimensions\n",
      "dualDDP mean distance error = 0.006690516380313177\n",
      "dualDDP largest distance error = 0.024843801740027066\n"
     ]
    },
    {
     "name": "stderr",
     "output_type": "stream",
     "text": [
      "\n",
      "100%|██████████| 3/3 [00:00<00:00, 35848.75it/s]"
     ]
    },
    {
     "name": "stdout",
     "output_type": "stream",
     "text": [
      "Cannot find \"ipopt\"\n",
      "NLP mean distance error = 0.006690217287831537\n",
      "NLP largest distance error = 0.024843887393040803\n",
      "CPLEX 20.1.0.0: optimal solution; objective 0.3948493146\n",
      "0 dual simplex iterations (0 in phase I)\n",
      "optimal obj. fun. value = 0.39484931456546724\n",
      "ambient dimension n = 3\n",
      "found relaxed embedding in natural dimension K = 2\n",
      "now projecting to 2 principal dimensions\n",
      "dualDDP mean distance error = 0.0055987707516604686\n",
      "dualDDP largest distance error = 0.012851472035386946\n",
      "Cannot find \"ipopt\"\n"
     ]
    },
    {
     "name": "stderr",
     "output_type": "stream",
     "text": [
      "\n",
      "100%|██████████| 4/4 [00:00<00:00, 42908.48it/s]"
     ]
    },
    {
     "name": "stdout",
     "output_type": "stream",
     "text": [
      "NLP mean distance error = 0.005598811923672435\n",
      "NLP largest distance error = 0.012851449759686606\n",
      "CPLEX 20.1.0.0: optimal solution; objective 0.1817882054\n",
      "0 dual simplex iterations (0 in phase I)\n",
      "optimal obj. fun. value = 0.18178820542362534\n",
      "ambient dimension n = 4\n",
      "found relaxed embedding in natural dimension K = 3\n",
      "now projecting to 3 principal dimensions\n",
      "dualDDP mean distance error = 0.006219492694339228\n",
      "dualDDP largest distance error = 0.01724614489124704\n"
     ]
    },
    {
     "name": "stderr",
     "output_type": "stream",
     "text": [
      "\n",
      "100%|██████████| 5/5 [00:00<00:00, 47662.55it/s]"
     ]
    },
    {
     "name": "stdout",
     "output_type": "stream",
     "text": [
      "Cannot find \"ipopt\"\n",
      "NLP mean distance error = 0.006219437813394839\n",
      "NLP largest distance error = 0.017246113869980623\n",
      "CPLEX 20.1.0.0: optimal solution; objective 0.3428902108\n",
      "0 dual simplex iterations (0 in phase I)\n",
      "optimal obj. fun. value = 0.3428902107704537\n",
      "ambient dimension n = 5\n",
      "found relaxed embedding in natural dimension K = 4\n",
      "now projecting to 3 principal dimensions\n",
      "dualDDP mean distance error = 0.007165643413322759\n",
      "dualDDP largest distance error = 0.021322213727892628\n"
     ]
    },
    {
     "name": "stderr",
     "output_type": "stream",
     "text": [
      "\n",
      "100%|██████████| 3/3 [00:00<00:00, 37673.39it/s]"
     ]
    },
    {
     "name": "stdout",
     "output_type": "stream",
     "text": [
      "Cannot find \"ipopt\"\n",
      "NLP mean distance error = 0.00716559255105783\n",
      "NLP largest distance error = 0.021322173096993358\n",
      "211\t0.40000000 0.98102047\tThere are two men near a wall.\tThree women are sitting near a wall.\n",
      "CPLEX 20.1.0.0: optimal solution; objective 0.2648357115\n",
      "0 dual simplex iterations (0 in phase I)\n",
      "optimal obj. fun. value = 0.26483571147986373\n",
      "ambient dimension n = 3\n",
      "found relaxed embedding in natural dimension K = 2\n",
      "now projecting to 2 principal dimensions\n",
      "dualDDP mean distance error = 0.005105356544320229\n",
      "dualDDP largest distance error = 0.008062898840763888\n"
     ]
    },
    {
     "name": "stderr",
     "output_type": "stream",
     "text": [
      "\n",
      "100%|██████████| 3/3 [00:00<00:00, 24916.66it/s]"
     ]
    },
    {
     "name": "stdout",
     "output_type": "stream",
     "text": [
      "Cannot find \"ipopt\"\n",
      "NLP mean distance error = 0.005105349200924624\n",
      "NLP largest distance error = 0.008062429102000945\n",
      "CPLEX 20.1.0.0: optimal solution; objective 0.1697610434\n",
      "0 dual simplex iterations (0 in phase I)\n",
      "optimal obj. fun. value = 0.1697610433757347\n",
      "ambient dimension n = 3\n",
      "found relaxed embedding in natural dimension K = 2\n",
      "now projecting to 2 principal dimensions\n",
      "dualDDP mean distance error = 0.00465298516043765\n",
      "dualDDP largest distance error = 0.008165323740468744\n"
     ]
    },
    {
     "name": "stderr",
     "output_type": "stream",
     "text": [
      "\n",
      "100%|██████████| 7/7 [00:00<00:00, 7215.56it/s]"
     ]
    },
    {
     "name": "stdout",
     "output_type": "stream",
     "text": [
      "Cannot find \"ipopt\"\n",
      "NLP mean distance error = 0.0046530014207100305\n",
      "NLP largest distance error = 0.008165499463952508\n",
      "212\t0.40000000 0.99924799\tThe cats are running through the grass.\tSome dogs running through the park.\n",
      "CPLEX 20.1.0.0: optimal solution; objective 0.4726521806\n",
      "0 dual simplex iterations (0 in phase I)\n",
      "optimal obj. fun. value = 0.47265218063702263\n",
      "ambient dimension n = 7\n",
      "found relaxed embedding in natural dimension K = 6\n",
      "now projecting to 3 principal dimensions\n",
      "dualDDP mean distance error = 0.008093735030068024\n",
      "dualDDP largest distance error = 0.03659173371607079\n"
     ]
    },
    {
     "name": "stderr",
     "output_type": "stream",
     "text": [
      "\n",
      "100%|██████████| 4/4 [00:00<00:00, 39290.90it/s]"
     ]
    },
    {
     "name": "stdout",
     "output_type": "stream",
     "text": [
      "Cannot find \"ipopt\"\n",
      "NLP mean distance error = 0.008093766279543977\n",
      "NLP largest distance error = 0.03659177987707039\n",
      "CPLEX 20.1.0.0: optimal solution; objective 0.5485796908\n",
      "0 dual simplex iterations (0 in phase I)\n",
      "optimal obj. fun. value = 0.5485796907560421\n",
      "ambient dimension n = 4\n",
      "found relaxed embedding in natural dimension K = 3\n",
      "now projecting to 3 principal dimensions\n",
      "dualDDP mean distance error = 0.0016222861887505112\n",
      "dualDDP largest distance error = 0.004267904028851716\n"
     ]
    },
    {
     "name": "stderr",
     "output_type": "stream",
     "text": [
      "\n",
      "100%|██████████| 3/3 [00:00<00:00, 34759.43it/s]"
     ]
    },
    {
     "name": "stdout",
     "output_type": "stream",
     "text": [
      "Cannot find \"ipopt\"\n",
      "NLP mean distance error = 0.0016220512608543514\n",
      "NLP largest distance error = 0.004267770406879173\n",
      "213\t0.60000000 0.21186886\tThe two boys are playing kick ball back and forth to each other.\tThe players are kicking each other while attempting to kick the ball.\n",
      "CPLEX 20.1.0.0: optimal solution; objective 0.007717011583\n",
      "0 dual simplex iterations (0 in phase I)\n",
      "optimal obj. fun. value = 0.007717011583253342\n",
      "ambient dimension n = 3\n",
      "found relaxed embedding in natural dimension K = 2\n",
      "now projecting to 2 principal dimensions\n",
      "dualDDP mean distance error = 0.002118870212136395\n",
      "dualDDP largest distance error = 0.004094364729173884\n"
     ]
    },
    {
     "name": "stderr",
     "output_type": "stream",
     "text": [
      "\n",
      "100%|██████████| 3/3 [00:00<00:00, 35645.64it/s]"
     ]
    },
    {
     "name": "stdout",
     "output_type": "stream",
     "text": [
      "Cannot find \"ipopt\"\n",
      "NLP mean distance error = 0.0021188604232722287\n",
      "NLP largest distance error = 0.004094370580439079\n",
      "CPLEX 20.1.0.0: optimal solution; objective 0.01128042465\n",
      "0 dual simplex iterations (0 in phase I)\n",
      "optimal obj. fun. value = 0.011280424645421498\n",
      "ambient dimension n = 3\n",
      "found relaxed embedding in natural dimension K = 2\n",
      "now projecting to 2 principal dimensions\n",
      "dualDDP mean distance error = 0.001068647298786484\n",
      "dualDDP largest distance error = 0.0017804594315126085\n"
     ]
    },
    {
     "name": "stderr",
     "output_type": "stream",
     "text": [
      "\n",
      "100%|██████████| 4/4 [00:00<00:00, 42473.96it/s]"
     ]
    },
    {
     "name": "stdout",
     "output_type": "stream",
     "text": [
      "Cannot find \"ipopt\"\n",
      "NLP mean distance error = 0.0010686590519740104\n",
      "NLP largest distance error = 0.0017804746044116151\n",
      "214\t0.44000000 0.99272203\tTwo girls are running.\tThree boys are running.\n",
      "CPLEX 20.1.0.0: optimal solution; objective 0.2868326607\n",
      "0 dual simplex iterations (0 in phase I)\n",
      "optimal obj. fun. value = 0.2868326607076404\n",
      "ambient dimension n = 4\n",
      "found relaxed embedding in natural dimension K = 3\n",
      "now projecting to 3 principal dimensions\n",
      "dualDDP mean distance error = 0.0029025425796810026\n",
      "dualDDP largest distance error = 0.00803753609507768\n"
     ]
    },
    {
     "name": "stderr",
     "output_type": "stream",
     "text": [
      "\n",
      "100%|██████████| 4/4 [00:00<00:00, 42473.96it/s]"
     ]
    },
    {
     "name": "stdout",
     "output_type": "stream",
     "text": [
      "Cannot find \"ipopt\"\n",
      "NLP mean distance error = 0.0029024347593425786\n",
      "NLP largest distance error = 0.008037100038673417\n",
      "CPLEX 20.1.0.0: optimal solution; objective 0.1278795625\n",
      "0 dual simplex iterations (0 in phase I)\n",
      "optimal obj. fun. value = 0.12787956245592588\n",
      "ambient dimension n = 4\n",
      "found relaxed embedding in natural dimension K = 3\n",
      "now projecting to 3 principal dimensions\n",
      "dualDDP mean distance error = 0.007139082888001674\n",
      "dualDDP largest distance error = 0.01667617276160674\n"
     ]
    },
    {
     "name": "stderr",
     "output_type": "stream",
     "text": [
      "\n",
      "100%|██████████| 8/8 [00:00<00:00, 17641.66it/s]"
     ]
    },
    {
     "name": "stdout",
     "output_type": "stream",
     "text": [
      "Cannot find \"ipopt\"\n",
      "NLP mean distance error = 0.007139024449305881\n",
      "NLP largest distance error = 0.016676164590893036\n",
      "215\t0.88000000 0.96978495\tThe two men are wearing jeans.\tThe two men are wearing pants.\n",
      "CPLEX 20.1.0.0: optimal solution; objective 8.491189767\n",
      "0 dual simplex iterations (0 in phase I)\n",
      "optimal obj. fun. value = 8.491189766589013\n",
      "ambient dimension n = 8\n",
      "found relaxed embedding in natural dimension K = 6\n",
      "now projecting to 3 principal dimensions\n",
      "dualDDP mean distance error = 0.025685553419493298\n",
      "dualDDP largest distance error = 0.09272963511864295\n"
     ]
    },
    {
     "name": "stderr",
     "output_type": "stream",
     "text": [
      "\n",
      "100%|██████████| 7/7 [00:00<00:00, 46677.47it/s]"
     ]
    },
    {
     "name": "stdout",
     "output_type": "stream",
     "text": [
      "Cannot find \"ipopt\"\n",
      "NLP mean distance error = 0.025685447519862372\n",
      "NLP largest distance error = 0.0927294725748108\n",
      "CPLEX 20.1.0.0: optimal solution; objective 2.081834327\n",
      "0 dual simplex iterations (0 in phase I)\n",
      "optimal obj. fun. value = 2.0818343273960576\n",
      "ambient dimension n = 7\n",
      "found relaxed embedding in natural dimension K = 5\n",
      "now projecting to 3 principal dimensions\n",
      "dualDDP mean distance error = 0.01039907365450958\n",
      "dualDDP largest distance error = 0.035717297555267785\n"
     ]
    },
    {
     "name": "stderr",
     "output_type": "stream",
     "text": [
      "\n",
      "100%|██████████| 3/3 [00:00<00:00, 33734.35it/s]"
     ]
    },
    {
     "name": "stdout",
     "output_type": "stream",
     "text": [
      "Cannot find \"ipopt\"\n",
      "NLP mean distance error = 0.010398996758159603\n",
      "NLP largest distance error = 0.03571725717771712\n",
      "216\t0.36000000 0.91105485\tA little girl in a white blouse and blue pants frolics on the grass.\tA woman in a green shirt and white pants golfs on the green.\n",
      "CPLEX 20.1.0.0: optimal solution; objective 0.1563013353\n",
      "0 dual simplex iterations (0 in phase I)\n",
      "optimal obj. fun. value = 0.1563013353489544\n",
      "ambient dimension n = 3\n",
      "found relaxed embedding in natural dimension K = 2\n",
      "now projecting to 2 principal dimensions\n",
      "dualDDP mean distance error = 0.009810625205899903\n",
      "dualDDP largest distance error = 0.01982082881792424\n"
     ]
    },
    {
     "name": "stderr",
     "output_type": "stream",
     "text": [
      "\n",
      "100%|██████████| 4/4 [00:00<00:00, 40524.68it/s]"
     ]
    },
    {
     "name": "stdout",
     "output_type": "stream",
     "text": [
      "Cannot find \"ipopt\"\n",
      "NLP mean distance error = 0.009810928149423326\n",
      "NLP largest distance error = 0.01982087078319547\n",
      "CPLEX 20.1.0.0: optimal solution; objective 0.2679721978\n",
      "0 dual simplex iterations (0 in phase I)\n",
      "optimal obj. fun. value = 0.26797219775574754\n",
      "ambient dimension n = 4\n",
      "found relaxed embedding in natural dimension K = 3\n",
      "now projecting to 3 principal dimensions\n",
      "dualDDP mean distance error = 0.008442846960919277\n",
      "dualDDP largest distance error = 0.024582222813781335\n"
     ]
    },
    {
     "name": "stderr",
     "output_type": "stream",
     "text": [
      "\n",
      "100%|██████████| 4/4 [00:00<00:00, 28630.06it/s]"
     ]
    },
    {
     "name": "stdout",
     "output_type": "stream",
     "text": [
      "Cannot find \"ipopt\"\n",
      "NLP mean distance error = 0.008442884083056365\n",
      "NLP largest distance error = 0.024582251662636084\n",
      "CPLEX 20.1.0.0: optimal solution; objective 0.07791953165\n",
      "0 dual simplex iterations (0 in phase I)\n",
      "optimal obj. fun. value = 0.07791953164896712\n",
      "ambient dimension n = 4\n",
      "found relaxed embedding in natural dimension K = 3\n",
      "now projecting to 3 principal dimensions\n",
      "dualDDP mean distance error = 0.0014443839664530285\n",
      "dualDDP largest distance error = 0.0038297981558077683\n"
     ]
    },
    {
     "name": "stderr",
     "output_type": "stream",
     "text": [
      "\n",
      "100%|██████████| 3/3 [00:00<00:00, 18669.01it/s]"
     ]
    },
    {
     "name": "stdout",
     "output_type": "stream",
     "text": [
      "Cannot find \"ipopt\"\n",
      "NLP mean distance error = 0.0014443603214066153\n",
      "NLP largest distance error = 0.0038298240589682425\n",
      "CPLEX 20.1.0.0: optimal solution; objective 0.004299726598\n",
      "0 dual simplex iterations (0 in phase I)\n",
      "optimal obj. fun. value = 0.004299726598326158\n",
      "ambient dimension n = 3\n",
      "found relaxed embedding in natural dimension K = 2\n",
      "now projecting to 2 principal dimensions\n",
      "dualDDP mean distance error = 0.00018243476507261505\n",
      "dualDDP largest distance error = 0.0004265927809397642\n"
     ]
    },
    {
     "name": "stderr",
     "output_type": "stream",
     "text": [
      "\n",
      "100%|██████████| 4/4 [00:00<00:00, 41323.19it/s]"
     ]
    },
    {
     "name": "stdout",
     "output_type": "stream",
     "text": [
      "Cannot find \"ipopt\"\n",
      "NLP mean distance error = 0.00018241328444852366\n",
      "NLP largest distance error = 0.00042657460421551517\n",
      "CPLEX 20.1.0.0: optimal solution; objective 0.218504982\n",
      "0 dual simplex iterations (0 in phase I)\n",
      "optimal obj. fun. value = 0.2185049820085276\n",
      "ambient dimension n = 4\n",
      "found relaxed embedding in natural dimension K = 3\n",
      "now projecting to 3 principal dimensions\n",
      "dualDDP mean distance error = 0.005133125871715481\n",
      "dualDDP largest distance error = 0.011181110886517132\n"
     ]
    },
    {
     "name": "stderr",
     "output_type": "stream",
     "text": [
      "\n",
      "100%|██████████| 3/3 [00:00<00:00, 36366.80it/s]"
     ]
    },
    {
     "name": "stdout",
     "output_type": "stream",
     "text": [
      "Cannot find \"ipopt\"\n",
      "NLP mean distance error = 0.005133060187978738\n",
      "NLP largest distance error = 0.011181314894851635\n",
      "CPLEX 20.1.0.0: optimal solution; objective 0.1295534217\n",
      "0 dual simplex iterations (0 in phase I)\n",
      "optimal obj. fun. value = 0.12955342173449166\n",
      "ambient dimension n = 3\n",
      "found relaxed embedding in natural dimension K = 2\n",
      "now projecting to 2 principal dimensions\n",
      "dualDDP mean distance error = 0.004221012337478413\n",
      "dualDDP largest distance error = 0.0068200892938833635\n"
     ]
    },
    {
     "name": "stderr",
     "output_type": "stream",
     "text": [
      "\n",
      "100%|██████████| 4/4 [00:00<00:00, 39475.80it/s]"
     ]
    },
    {
     "name": "stdout",
     "output_type": "stream",
     "text": [
      "Cannot find \"ipopt\"\n",
      "NLP mean distance error = 0.004221304093662565\n",
      "NLP largest distance error = 0.006820507911230123\n",
      "CPLEX 20.1.0.0: optimal solution; objective 0.8735704849\n",
      "0 dual simplex iterations (0 in phase I)\n",
      "optimal obj. fun. value = 0.8735704848725063\n",
      "ambient dimension n = 4\n",
      "found relaxed embedding in natural dimension K = 3\n",
      "now projecting to 3 principal dimensions\n",
      "dualDDP mean distance error = 0.02024940064100426\n",
      "dualDDP largest distance error = 0.04655189481646321\n"
     ]
    },
    {
     "name": "stderr",
     "output_type": "stream",
     "text": [
      "\n",
      "100%|██████████| 5/5 [00:00<00:00, 46603.38it/s]"
     ]
    },
    {
     "name": "stdout",
     "output_type": "stream",
     "text": [
      "Cannot find \"ipopt\"\n",
      "NLP mean distance error = 0.02024949974553519\n",
      "NLP largest distance error = 0.04655220947203478\n",
      "CPLEX 20.1.0.0: optimal solution; objective 1.056481595\n",
      "0 dual simplex iterations (0 in phase I)\n",
      "optimal obj. fun. value = 1.056481595330176\n",
      "ambient dimension n = 5\n",
      "found relaxed embedding in natural dimension K = 4\n",
      "now projecting to 3 principal dimensions\n",
      "dualDDP mean distance error = 0.0177756858164446\n",
      "dualDDP largest distance error = 0.05004909115261519\n"
     ]
    },
    {
     "name": "stderr",
     "output_type": "stream",
     "text": [
      "\n",
      "100%|██████████| 11/11 [00:00<00:00, 43484.77it/s]"
     ]
    },
    {
     "name": "stdout",
     "output_type": "stream",
     "text": [
      "Cannot find \"ipopt\"\n",
      "NLP mean distance error = 0.017775725716843195\n",
      "NLP largest distance error = 0.050049141138172965\n",
      "221\t0.76000000 0.27649030\tA soccer player is kicking the ball.\tThe soccer player gave the ball a high kick.\n",
      "CPLEX 20.1.0.0: optimal solution; objective 3.908149571\n",
      "0 dual simplex iterations (0 in phase I)\n",
      "optimal obj. fun. value = 3.90814957079783\n",
      "ambient dimension n = 11\n",
      "found relaxed embedding in natural dimension K = 9\n",
      "now projecting to 3 principal dimensions\n",
      "dualDDP mean distance error = 0.033283592196542054\n",
      "dualDDP largest distance error = 0.12121750300964654\n"
     ]
    },
    {
     "name": "stderr",
     "output_type": "stream",
     "text": [
      "\n",
      "100%|██████████| 9/9 [00:00<00:00, 46951.16it/s]"
     ]
    },
    {
     "name": "stdout",
     "output_type": "stream",
     "text": [
      "Cannot find \"ipopt\"\n",
      "NLP mean distance error = 0.033283584835697495\n",
      "NLP largest distance error = 0.12121748792341297\n",
      "CPLEX 20.1.0.0: optimal solution; objective 3.328927208\n",
      "0 dual simplex iterations (0 in phase I)\n",
      "optimal obj. fun. value = 3.3289272083538295\n",
      "ambient dimension n = 9\n",
      "found relaxed embedding in natural dimension K = 6\n",
      "now projecting to 3 principal dimensions\n",
      "dualDDP mean distance error = 0.0180070601487366\n",
      "dualDDP largest distance error = 0.04567243337336575\n"
     ]
    },
    {
     "name": "stderr",
     "output_type": "stream",
     "text": [
      "\n",
      "100%|██████████| 4/4 [00:00<00:00, 38926.26it/s]"
     ]
    },
    {
     "name": "stdout",
     "output_type": "stream",
     "text": [
      "Cannot find \"ipopt\"\n",
      "NLP mean distance error = 0.018007093286936032\n",
      "NLP largest distance error = 0.04567244746403109\n",
      "222\t0.28000000 0.00333854\tTwo boys in black swimming trunks are holding another boy by his arms and legs on a beach.\tMan in white shirt flipping young boy in the water with four other boys surrounding them.\n",
      "CPLEX 20.1.0.0: optimal solution; objective 0.5069798187\n",
      "0 dual simplex iterations (0 in phase I)\n",
      "optimal obj. fun. value = 0.5069798187225268\n",
      "ambient dimension n = 4\n",
      "found relaxed embedding in natural dimension K = 3\n",
      "now projecting to 3 principal dimensions\n",
      "dualDDP mean distance error = 0.0010245164164776818\n",
      "dualDDP largest distance error = 0.0028042227707000544\n"
     ]
    },
    {
     "name": "stderr",
     "output_type": "stream",
     "text": [
      "\n",
      "100%|██████████| 5/5 [00:00<00:00, 47339.77it/s]"
     ]
    },
    {
     "name": "stdout",
     "output_type": "stream",
     "text": [
      "Cannot find \"ipopt\"\n",
      "NLP mean distance error = 0.0010244356256799193\n",
      "NLP largest distance error = 0.002804172389122478\n",
      "CPLEX 20.1.0.0: optimal solution; objective 1.096406409\n",
      "0 dual simplex iterations (0 in phase I)\n",
      "optimal obj. fun. value = 1.0964064086380556\n",
      "ambient dimension n = 5\n",
      "found relaxed embedding in natural dimension K = 3\n",
      "now projecting to 3 principal dimensions\n",
      "dualDDP mean distance error = 0.011758666590510697\n",
      "dualDDP largest distance error = 0.023928963081601473\n"
     ]
    },
    {
     "name": "stderr",
     "output_type": "stream",
     "text": [
      "\n",
      "100%|██████████| 6/6 [00:00<00:00, 48582.67it/s]"
     ]
    },
    {
     "name": "stdout",
     "output_type": "stream",
     "text": [
      "Cannot find \"ipopt\"\n",
      "NLP mean distance error = 0.011758905305049815\n",
      "NLP largest distance error = 0.02392912109649223\n",
      "223\t0.56000000 0.35865596\tThe player shoots the winning points.\tThe basketball player is about to score points for his team.\n",
      "CPLEX 20.1.0.0: optimal solution; objective 0.791546652\n",
      "0 dual simplex iterations (0 in phase I)\n",
      "optimal obj. fun. value = 0.7915466520262062\n",
      "ambient dimension n = 6\n",
      "found relaxed embedding in natural dimension K = 4\n",
      "now projecting to 3 principal dimensions\n",
      "dualDDP mean distance error = 0.00993475021449685\n",
      "dualDDP largest distance error = 0.028780386823741982\n"
     ]
    },
    {
     "name": "stderr",
     "output_type": "stream",
     "text": [
      "\n",
      "100%|██████████| 8/8 [00:00<00:00, 46798.37it/s]"
     ]
    },
    {
     "name": "stdout",
     "output_type": "stream",
     "text": [
      "Cannot find \"ipopt\"\n",
      "NLP mean distance error = 0.009934691221418497\n",
      "NLP largest distance error = 0.028779905156404995\n",
      "CPLEX 20.1.0.0: optimal solution; objective 1.65332234\n",
      "0 dual simplex iterations (0 in phase I)\n",
      "optimal obj. fun. value = 1.6533223402074124\n",
      "ambient dimension n = 8\n",
      "found relaxed embedding in natural dimension K = 6\n",
      "now projecting to 3 principal dimensions\n",
      "dualDDP mean distance error = 0.029117607369935242\n",
      "dualDDP largest distance error = 0.13210056049819294\n"
     ]
    },
    {
     "name": "stderr",
     "output_type": "stream",
     "text": [
      "\n",
      "100%|██████████| 7/7 [00:00<00:00, 48690.10it/s]"
     ]
    },
    {
     "name": "stdout",
     "output_type": "stream",
     "text": [
      "Cannot find \"ipopt\"\n",
      "NLP mean distance error = 0.02911761869523442\n",
      "NLP largest distance error = 0.13210053656489268\n",
      "224\t0.56000000 0.84753212\tA man in a white shirt and hat playing a guitar.\tA man in a green shirt and black hat playing a guitar on stage.\n",
      "CPLEX 20.1.0.0: optimal solution; objective 2.632231185\n",
      "0 dual simplex iterations (0 in phase I)\n",
      "optimal obj. fun. value = 2.632231184840179\n",
      "ambient dimension n = 7\n",
      "found relaxed embedding in natural dimension K = 5\n",
      "now projecting to 3 principal dimensions\n",
      "dualDDP mean distance error = 0.019629274545624662\n",
      "dualDDP largest distance error = 0.04773960872314287\n"
     ]
    },
    {
     "name": "stderr",
     "output_type": "stream",
     "text": [
      "\n",
      "100%|██████████| 6/6 [00:00<00:00, 48582.67it/s]"
     ]
    },
    {
     "name": "stdout",
     "output_type": "stream",
     "text": [
      "Cannot find \"ipopt\"\n",
      "NLP mean distance error = 0.019629302270069194\n",
      "NLP largest distance error = 0.04773981246186504\n",
      "CPLEX 20.1.0.0: optimal solution; objective 1.73003734\n",
      "0 dual simplex iterations (0 in phase I)\n",
      "optimal obj. fun. value = 1.7300373399662223\n",
      "ambient dimension n = 6\n",
      "found relaxed embedding in natural dimension K = 4\n",
      "now projecting to 3 principal dimensions\n",
      "dualDDP mean distance error = 0.01174443986404949\n",
      "dualDDP largest distance error = 0.03151739198483494\n"
     ]
    },
    {
     "name": "stderr",
     "output_type": "stream",
     "text": [
      "\n",
      "100%|██████████| 3/3 [00:00<00:00, 36792.14it/s]"
     ]
    },
    {
     "name": "stdout",
     "output_type": "stream",
     "text": [
      "Cannot find \"ipopt\"\n",
      "NLP mean distance error = 0.011744330609786632\n",
      "NLP largest distance error = 0.03151683936517663\n",
      "225\t0.56000000 0.99983604\tA black hooded man is using a large magnifying glass to look at a booklet.\tA white hooded woman is using a magnifying glass to look at a booklet.\n",
      "CPLEX 20.1.0.0: optimal solution; objective 0.3283871631\n",
      "0 dual simplex iterations (0 in phase I)\n",
      "optimal obj. fun. value = 0.3283871630506246\n",
      "ambient dimension n = 3\n",
      "found relaxed embedding in natural dimension K = 2\n",
      "now projecting to 2 principal dimensions\n",
      "dualDDP mean distance error = 0.024088678147990567\n",
      "dualDDP largest distance error = 0.0459346380360541\n"
     ]
    },
    {
     "name": "stderr",
     "output_type": "stream",
     "text": [
      "\n",
      "100%|██████████| 3/3 [00:00<00:00, 29817.33it/s]"
     ]
    },
    {
     "name": "stdout",
     "output_type": "stream",
     "text": [
      "Cannot find \"ipopt\"\n",
      "NLP mean distance error = 0.024088850143988705\n",
      "NLP largest distance error = 0.04593463475619657\n",
      "CPLEX 20.1.0.0: optimal solution; objective 0.3283871631\n",
      "0 dual simplex iterations (0 in phase I)\n",
      "optimal obj. fun. value = 0.3283871630506246\n",
      "ambient dimension n = 3\n",
      "found relaxed embedding in natural dimension K = 2\n",
      "now projecting to 2 principal dimensions\n",
      "dualDDP mean distance error = 0.024088678147990567\n",
      "dualDDP largest distance error = 0.0459346380360541\n"
     ]
    },
    {
     "name": "stderr",
     "output_type": "stream",
     "text": [
      "\n",
      "100%|██████████| 3/3 [00:00<00:00, 38130.04it/s]"
     ]
    },
    {
     "name": "stdout",
     "output_type": "stream",
     "text": [
      "Cannot find \"ipopt\"\n",
      "NLP mean distance error = 0.024088850143988705\n",
      "NLP largest distance error = 0.04593463475619657\n",
      "226\t1.00000000 1.00000000\tthe people are running a marathon\tPeople are running a marathon\n",
      "CPLEX 20.1.0.0: optimal solution; objective 0.1176259429\n",
      "0 dual simplex iterations (0 in phase I)\n",
      "optimal obj. fun. value = 0.11762594288868791\n",
      "ambient dimension n = 3\n",
      "found relaxed embedding in natural dimension K = 2\n",
      "now projecting to 2 principal dimensions\n",
      "dualDDP mean distance error = 0.0034238871923216127\n",
      "dualDDP largest distance error = 0.006664811095672463\n"
     ]
    },
    {
     "name": "stderr",
     "output_type": "stream",
     "text": [
      "\n",
      "100%|██████████| 5/5 [00:00<00:00, 47446.88it/s]"
     ]
    },
    {
     "name": "stdout",
     "output_type": "stream",
     "text": [
      "Cannot find \"ipopt\"\n",
      "NLP mean distance error = 0.003423947142581619\n",
      "NLP largest distance error = 0.006664834501186961\n",
      "CPLEX 20.1.0.0: optimal solution; objective 0.3027631008\n",
      "0 dual simplex iterations (0 in phase I)\n",
      "optimal obj. fun. value = 0.30276310075295315\n",
      "ambient dimension n = 5\n",
      "found relaxed embedding in natural dimension K = 3\n",
      "now projecting to 3 principal dimensions\n",
      "dualDDP mean distance error = 0.0012186850462503407\n",
      "dualDDP largest distance error = 0.002977481428962467\n"
     ]
    },
    {
     "name": "stderr",
     "output_type": "stream",
     "text": [
      "\n",
      "100%|██████████| 5/5 [00:00<00:00, 26546.23it/s]"
     ]
    },
    {
     "name": "stdout",
     "output_type": "stream",
     "text": [
      "Cannot find \"ipopt\"\n",
      "NLP mean distance error = 0.0012186998224430752\n",
      "NLP largest distance error = 0.0029774900365633766\n",
      "CPLEX 20.1.0.0: optimal solution; objective 1.24379928\n",
      "0 dual simplex iterations (0 in phase I)\n",
      "optimal obj. fun. value = 1.243799279979137\n",
      "ambient dimension n = 5\n",
      "found relaxed embedding in natural dimension K = 3\n",
      "now projecting to 3 principal dimensions\n",
      "dualDDP mean distance error = 0.004647147533305298\n",
      "dualDDP largest distance error = 0.023147649590477076\n"
     ]
    },
    {
     "name": "stderr",
     "output_type": "stream",
     "text": [
      "\n",
      "100%|██████████| 3/3 [00:00<00:00, 35951.18it/s]"
     ]
    },
    {
     "name": "stdout",
     "output_type": "stream",
     "text": [
      "Cannot find \"ipopt\"\n",
      "NLP mean distance error = 0.0046469446346460615\n",
      "NLP largest distance error = 0.02314763842504093\n",
      "CPLEX 20.1.0.0: optimal solution; objective 0.0273412329\n",
      "0 dual simplex iterations (0 in phase I)\n",
      "optimal obj. fun. value = 0.027341232904573153\n",
      "ambient dimension n = 3\n",
      "found relaxed embedding in natural dimension K = 2\n",
      "now projecting to 2 principal dimensions\n",
      "dualDDP mean distance error = 0.004114030780133132\n",
      "dualDDP largest distance error = 0.008465557931410267\n"
     ]
    },
    {
     "name": "stderr",
     "output_type": "stream",
     "text": [
      "\n",
      "100%|██████████| 4/4 [00:00<00:00, 36080.03it/s]"
     ]
    },
    {
     "name": "stdout",
     "output_type": "stream",
     "text": [
      "Cannot find \"ipopt\"\n",
      "NLP mean distance error = 0.00411401692638864\n",
      "NLP largest distance error = 0.00846559631140447\n",
      "CPLEX 20.1.0.0: optimal solution; objective 0.9509825413\n",
      "0 dual simplex iterations (0 in phase I)\n",
      "optimal obj. fun. value = 0.9509825412901911\n",
      "ambient dimension n = 4\n",
      "found relaxed embedding in natural dimension K = 3\n",
      "now projecting to 3 principal dimensions\n",
      "dualDDP mean distance error = 0.029630602594077505\n",
      "dualDDP largest distance error = 0.05370786912925701\n"
     ]
    },
    {
     "name": "stderr",
     "output_type": "stream",
     "text": [
      "\n",
      "100%|██████████| 3/3 [00:00<00:00, 37117.73it/s]"
     ]
    },
    {
     "name": "stdout",
     "output_type": "stream",
     "text": [
      "Cannot find \"ipopt\"\n",
      "NLP mean distance error = 0.02963068844891571\n",
      "NLP largest distance error = 0.053708538640245385\n",
      "CPLEX 20.1.0.0: optimal solution; objective 1.008584042\n",
      "0 dual simplex iterations (0 in phase I)\n",
      "optimal obj. fun. value = 1.008584041892747\n",
      "ambient dimension n = 3\n",
      "found relaxed embedding in natural dimension K = 2\n",
      "now projecting to 2 principal dimensions\n",
      "dualDDP mean distance error = 0.010087673972728481\n",
      "dualDDP largest distance error = 0.015131510959092709\n"
     ]
    },
    {
     "name": "stderr",
     "output_type": "stream",
     "text": [
      "\n",
      "100%|██████████| 3/3 [00:00<00:00, 23519.46it/s]"
     ]
    },
    {
     "name": "stdout",
     "output_type": "stream",
     "text": [
      "Cannot find \"ipopt\"\n",
      "NLP mean distance error = 0.010087723730903423\n",
      "NLP largest distance error = 0.015131544236265948\n",
      "CPLEX 20.1.0.0: optimal solution; objective 0.8095502839\n",
      "0 dual simplex iterations (0 in phase I)\n",
      "optimal obj. fun. value = 0.8095502838947854\n",
      "ambient dimension n = 3\n",
      "found relaxed embedding in natural dimension K = 2\n",
      "now projecting to 2 principal dimensions\n",
      "dualDDP mean distance error = 0.04166118065692544\n",
      "dualDDP largest distance error = 0.07854775735802032\n"
     ]
    },
    {
     "name": "stderr",
     "output_type": "stream",
     "text": [
      "\n",
      "100%|██████████| 3/3 [00:00<00:00, 22919.69it/s]"
     ]
    },
    {
     "name": "stdout",
     "output_type": "stream",
     "text": [
      "Cannot find \"ipopt\"\n",
      "NLP mean distance error = 0.04166123033761591\n",
      "NLP largest distance error = 0.07854775187887002\n",
      "CPLEX 20.1.0.0: optimal solution; objective 0.1379783951\n",
      "0 dual simplex iterations (0 in phase I)\n",
      "optimal obj. fun. value = 0.13797839506172838\n",
      "ambient dimension n = 3\n",
      "found relaxed embedding in natural dimension K = 2\n",
      "now projecting to 2 principal dimensions\n",
      "dualDDP mean distance error = 0.0032572699840597804\n",
      "dualDDP largest distance error = 0.00482168525532084\n"
     ]
    },
    {
     "name": "stderr",
     "output_type": "stream",
     "text": [
      "\n",
      "100%|██████████| 6/6 [00:00<00:00, 49344.75it/s]"
     ]
    },
    {
     "name": "stdout",
     "output_type": "stream",
     "text": [
      "Cannot find \"ipopt\"\n",
      "NLP mean distance error = 0.0032574711944545038\n",
      "NLP largest distance error = 0.004821201648767703\n",
      "231\t0.32000000 0.98173610\tThe person is wearing a fedora.\tA man is wearing a uniform.\n",
      "CPLEX 20.1.0.0: optimal solution; objective 1.756972818\n",
      "0 dual simplex iterations (0 in phase I)\n",
      "optimal obj. fun. value = 1.756972818164583\n",
      "ambient dimension n = 6\n",
      "found relaxed embedding in natural dimension K = 4\n",
      "now projecting to 3 principal dimensions\n",
      "dualDDP mean distance error = 0.005775189592171778\n",
      "dualDDP largest distance error = 0.016187390115203967\n"
     ]
    },
    {
     "name": "stderr",
     "output_type": "stream",
     "text": [
      "\n",
      "100%|██████████| 5/5 [00:00<00:00, 42799.02it/s]"
     ]
    },
    {
     "name": "stdout",
     "output_type": "stream",
     "text": [
      "Cannot find \"ipopt\"\n",
      "NLP mean distance error = 0.005775163042952752\n",
      "NLP largest distance error = 0.01618743970961202\n",
      "CPLEX 20.1.0.0: optimal solution; objective 0.05155581345\n",
      "0 dual simplex iterations (0 in phase I)\n",
      "optimal obj. fun. value = 0.05155581345105596\n",
      "ambient dimension n = 5\n",
      "found relaxed embedding in natural dimension K = 4\n",
      "now projecting to 3 principal dimensions\n",
      "dualDDP mean distance error = 0.001997683628252588\n",
      "dualDDP largest distance error = 0.01037453992042479\n"
     ]
    },
    {
     "name": "stderr",
     "output_type": "stream",
     "text": [
      "\n",
      "100%|██████████| 4/4 [00:00<00:00, 45590.26it/s]"
     ]
    },
    {
     "name": "stdout",
     "output_type": "stream",
     "text": [
      "Cannot find \"ipopt\"\n",
      "NLP mean distance error = 0.001997715388332064\n",
      "NLP largest distance error = 0.01037461279362947\n",
      "232\t0.56000000 0.96149122\tA woman and a man embrace while watching a horror movie.\tA man and a woman watch a movie together.\n",
      "CPLEX 20.1.0.0: optimal solution; objective 0.2371985841\n",
      "0 dual simplex iterations (0 in phase I)\n",
      "optimal obj. fun. value = 0.23719858406259137\n",
      "ambient dimension n = 4\n",
      "found relaxed embedding in natural dimension K = 3\n",
      "now projecting to 3 principal dimensions\n",
      "dualDDP mean distance error = 0.013359633445234135\n",
      "dualDDP largest distance error = 0.03896012567606588\n"
     ]
    },
    {
     "name": "stderr",
     "output_type": "stream",
     "text": [
      "\n",
      "100%|██████████| 9/9 [00:00<00:00, 8168.95it/s]"
     ]
    },
    {
     "name": "stdout",
     "output_type": "stream",
     "text": [
      "Cannot find \"ipopt\"\n",
      "NLP mean distance error = 0.013359524819249643\n",
      "NLP largest distance error = 0.03896009703092071\n",
      "CPLEX 20.1.0.0: optimal solution; objective 2.125679545\n",
      "0 dual simplex iterations (0 in phase I)\n",
      "optimal obj. fun. value = 2.125679545482943\n",
      "ambient dimension n = 9\n",
      "found relaxed embedding in natural dimension K = 7\n",
      "now projecting to 3 principal dimensions\n",
      "dualDDP mean distance error = 0.018438562701212538\n",
      "dualDDP largest distance error = 0.06506178522261552\n"
     ]
    },
    {
     "name": "stderr",
     "output_type": "stream",
     "text": [
      "\n",
      "100%|██████████| 4/4 [00:00<00:00, 45714.49it/s]"
     ]
    },
    {
     "name": "stdout",
     "output_type": "stream",
     "text": [
      "Cannot find \"ipopt\"\n",
      "NLP mean distance error = 0.0184385471898548\n",
      "NLP largest distance error = 0.06506178048293791\n",
      "233\t0.36000000 0.63850989\tA man in a blue dress shirt.\tA man in a white shirt and blue pants is talking with a woman in a pink shirt.\n",
      "CPLEX 20.1.0.0: optimal solution; objective 0.05786107323\n",
      "0 dual simplex iterations (0 in phase I)\n",
      "optimal obj. fun. value = 0.0578610732339731\n",
      "ambient dimension n = 4\n",
      "found relaxed embedding in natural dimension K = 3\n",
      "now projecting to 3 principal dimensions\n",
      "dualDDP mean distance error = 0.0016658147182531148\n",
      "dualDDP largest distance error = 0.004056133364512507\n"
     ]
    },
    {
     "name": "stderr",
     "output_type": "stream",
     "text": [
      "\n",
      "100%|██████████| 4/4 [00:00<00:00, 44739.24it/s]"
     ]
    },
    {
     "name": "stdout",
     "output_type": "stream",
     "text": [
      "Cannot find \"ipopt\"\n",
      "NLP mean distance error = 0.001665837597579635\n",
      "NLP largest distance error = 0.004056170708091583\n",
      "CPLEX 20.1.0.0: optimal solution; objective 0.05677828419\n",
      "0 dual simplex iterations (0 in phase I)\n",
      "optimal obj. fun. value = 0.05677828418900244\n",
      "ambient dimension n = 4\n",
      "found relaxed embedding in natural dimension K = 3\n",
      "now projecting to 3 principal dimensions\n",
      "dualDDP mean distance error = 0.002768530970121084\n",
      "dualDDP largest distance error = 0.0066932031877971615\n"
     ]
    },
    {
     "name": "stderr",
     "output_type": "stream",
     "text": [
      "\n",
      "100%|██████████| 5/5 [00:00<00:00, 48998.88it/s]"
     ]
    },
    {
     "name": "stdout",
     "output_type": "stream",
     "text": [
      "Cannot find \"ipopt\"\n",
      "NLP mean distance error = 0.0027685098190184713\n",
      "NLP largest distance error = 0.006693188616996151\n",
      "234\t0.52000000 0.81292811\tA couple is playing the game of Life.\tThe family is playing a game together.\n",
      "CPLEX 20.1.0.0: optimal solution; objective 0.8978665495\n",
      "0 dual simplex iterations (0 in phase I)\n",
      "optimal obj. fun. value = 0.8978665494531795\n",
      "ambient dimension n = 5\n",
      "found relaxed embedding in natural dimension K = 4\n",
      "now projecting to 3 principal dimensions\n",
      "dualDDP mean distance error = 0.011077625757063772\n",
      "dualDDP largest distance error = 0.04012973458027709\n"
     ]
    },
    {
     "name": "stderr",
     "output_type": "stream",
     "text": [
      "\n",
      "100%|██████████| 4/4 [00:00<00:00, 43919.41it/s]"
     ]
    },
    {
     "name": "stdout",
     "output_type": "stream",
     "text": [
      "Cannot find \"ipopt\"\n",
      "NLP mean distance error = 0.011077478866751953\n",
      "NLP largest distance error = 0.04012969538840599\n",
      "CPLEX 20.1.0.0: optimal solution; objective 0.08995891793\n",
      "0 dual simplex iterations (0 in phase I)\n",
      "optimal obj. fun. value = 0.08995891793052965\n",
      "ambient dimension n = 4\n",
      "found relaxed embedding in natural dimension K = 3\n",
      "now projecting to 3 principal dimensions\n",
      "dualDDP mean distance error = 0.003276301625424439\n",
      "dualDDP largest distance error = 0.00957310616541561\n"
     ]
    },
    {
     "name": "stderr",
     "output_type": "stream",
     "text": [
      "\n",
      "100%|██████████| 6/6 [00:00<00:00, 33689.19it/s]"
     ]
    },
    {
     "name": "stdout",
     "output_type": "stream",
     "text": [
      "Cannot find \"ipopt\"\n",
      "NLP mean distance error = 0.0032763264791018537\n",
      "NLP largest distance error = 0.009573103899824936\n",
      "235\t0.04000000 0.93079369\tThe head of a child with dark glasses is in focus.\tThere is a woman with a full head of hair.\n",
      "CPLEX 20.1.0.0: optimal solution; objective 1.421591743\n",
      "0 dual simplex iterations (0 in phase I)\n",
      "optimal obj. fun. value = 1.4215917425308453\n",
      "ambient dimension n = 6\n",
      "found relaxed embedding in natural dimension K = 5\n",
      "now projecting to 3 principal dimensions\n",
      "dualDDP mean distance error = 0.021681042526804407\n",
      "dualDDP largest distance error = 0.05161561950677673\n"
     ]
    },
    {
     "name": "stderr",
     "output_type": "stream",
     "text": [
      "\n",
      "100%|██████████| 5/5 [00:00<00:00, 48884.66it/s]"
     ]
    },
    {
     "name": "stdout",
     "output_type": "stream",
     "text": [
      "Cannot find \"ipopt\"\n",
      "NLP mean distance error = 0.02168115108435042\n",
      "NLP largest distance error = 0.05161553961323634\n",
      "CPLEX 20.1.0.0: optimal solution; objective 3.374073019\n",
      "0 dual simplex iterations (0 in phase I)\n",
      "optimal obj. fun. value = 3.3740730187393355\n",
      "ambient dimension n = 5\n",
      "found relaxed embedding in natural dimension K = 3\n",
      "now projecting to 3 principal dimensions\n",
      "dualDDP mean distance error = 0.053750924331853425\n",
      "dualDDP largest distance error = 0.19110972973507243\n"
     ]
    },
    {
     "name": "stderr",
     "output_type": "stream",
     "text": [
      "\n",
      "100%|██████████| 5/5 [00:00<00:00, 44525.52it/s]"
     ]
    },
    {
     "name": "stdout",
     "output_type": "stream",
     "text": [
      "Cannot find \"ipopt\"\n",
      "NLP mean distance error = 0.05375088316103417\n",
      "NLP largest distance error = 0.1911101971983271\n",
      "236\t0.20000000 0.30355240\tA dog walks along a beach with breaking waves.\tA boy with an oar walks out of the surf and onto a beach.\n",
      "CPLEX 20.1.0.0: optimal solution; objective 0.454515325\n",
      "0 dual simplex iterations (0 in phase I)\n",
      "optimal obj. fun. value = 0.45451532502987285\n",
      "ambient dimension n = 5\n",
      "found relaxed embedding in natural dimension K = 4\n",
      "now projecting to 3 principal dimensions\n",
      "dualDDP mean distance error = 0.007144208876581284\n",
      "dualDDP largest distance error = 0.018577308660315234\n"
     ]
    },
    {
     "name": "stderr",
     "output_type": "stream",
     "text": [
      "\n",
      "100%|██████████| 5/5 [00:00<00:00, 42538.58it/s]"
     ]
    },
    {
     "name": "stdout",
     "output_type": "stream",
     "text": [
      "Cannot find \"ipopt\"\n",
      "NLP mean distance error = 0.007144225459486264\n",
      "NLP largest distance error = 0.018577182072439385\n",
      "CPLEX 20.1.0.0: optimal solution; objective 2.098716391\n",
      "0 dual simplex iterations (0 in phase I)\n",
      "optimal obj. fun. value = 2.0987163906723794\n",
      "ambient dimension n = 5\n",
      "found relaxed embedding in natural dimension K = 4\n",
      "now projecting to 3 principal dimensions\n",
      "dualDDP mean distance error = 0.012682132067024909\n",
      "dualDDP largest distance error = 0.04073172232618946\n"
     ]
    },
    {
     "name": "stderr",
     "output_type": "stream",
     "text": [
      "\n",
      "100%|██████████| 3/3 [00:00<00:00, 31300.78it/s]"
     ]
    },
    {
     "name": "stdout",
     "output_type": "stream",
     "text": [
      "Cannot find \"ipopt\"\n",
      "NLP mean distance error = 0.012681918804452167\n",
      "NLP largest distance error = 0.040731323849036605\n",
      "237\t0.52000000 0.99189540\tA pair of men walk along the beach.\tTwo men standing in the surf on a beach.\n",
      "CPLEX 20.1.0.0: optimal solution; objective 0.5613271605\n",
      "0 dual simplex iterations (0 in phase I)\n",
      "optimal obj. fun. value = 0.5613271604938271\n",
      "ambient dimension n = 3\n",
      "found relaxed embedding in natural dimension K = 2\n",
      "now projecting to 2 principal dimensions\n",
      "dualDDP mean distance error = 0.031153145639972346\n",
      "dualDDP largest distance error = 0.05748636301883453\n"
     ]
    },
    {
     "name": "stderr",
     "output_type": "stream",
     "text": [
      "\n",
      "100%|██████████| 5/5 [00:00<00:00, 44525.52it/s]"
     ]
    },
    {
     "name": "stdout",
     "output_type": "stream",
     "text": [
      "Cannot find \"ipopt\"\n",
      "NLP mean distance error = 0.031152911946785367\n",
      "NLP largest distance error = 0.05748562605148405\n",
      "CPLEX 20.1.0.0: optimal solution; objective 1.318897032\n",
      "0 dual simplex iterations (0 in phase I)\n",
      "optimal obj. fun. value = 1.318897031808341\n",
      "ambient dimension n = 5\n",
      "found relaxed embedding in natural dimension K = 4\n",
      "now projecting to 3 principal dimensions\n",
      "dualDDP mean distance error = 0.017967093536325904\n",
      "dualDDP largest distance error = 0.0776904329412196\n"
     ]
    },
    {
     "name": "stderr",
     "output_type": "stream",
     "text": [
      "\n",
      "100%|██████████| 5/5 [00:00<00:00, 43419.30it/s]"
     ]
    },
    {
     "name": "stdout",
     "output_type": "stream",
     "text": [
      "Cannot find \"ipopt\"\n",
      "NLP mean distance error = 0.017967082804855112\n",
      "NLP largest distance error = 0.07769038459859676\n",
      "CPLEX 20.1.0.0: optimal solution; objective 3.188494728\n",
      "0 dual simplex iterations (0 in phase I)\n",
      "optimal obj. fun. value = 3.1884947276652142\n",
      "ambient dimension n = 5\n",
      "found relaxed embedding in natural dimension K = 3\n",
      "now projecting to 3 principal dimensions\n",
      "dualDDP mean distance error = 0.033077146374466265\n",
      "dualDDP largest distance error = 0.08468004160892273\n"
     ]
    },
    {
     "name": "stderr",
     "output_type": "stream",
     "text": [
      "\n",
      "100%|██████████| 3/3 [00:00<00:00, 28024.30it/s]"
     ]
    },
    {
     "name": "stdout",
     "output_type": "stream",
     "text": [
      "Cannot find \"ipopt\"\n",
      "NLP mean distance error = 0.03307729411678616\n",
      "NLP largest distance error = 0.08468020910937946\n",
      "CPLEX 20.1.0.0: optimal solution; objective 0.3670959583\n",
      "0 dual simplex iterations (0 in phase I)\n",
      "optimal obj. fun. value = 0.3670959583281216\n",
      "ambient dimension n = 3\n",
      "found relaxed embedding in natural dimension K = 2\n",
      "now projecting to 2 principal dimensions\n",
      "dualDDP mean distance error = 0.0095199268752314\n",
      "dualDDP largest distance error = 0.01946360086920429\n"
     ]
    },
    {
     "name": "stderr",
     "output_type": "stream",
     "text": [
      "\n",
      "100%|██████████| 4/4 [00:00<00:00, 42048.16it/s]"
     ]
    },
    {
     "name": "stdout",
     "output_type": "stream",
     "text": [
      "Cannot find \"ipopt\"\n",
      "NLP mean distance error = 0.009520182750590486\n",
      "NLP largest distance error = 0.01946387029338359\n",
      "CPLEX 20.1.0.0: optimal solution; objective 0.5485084746\n",
      "0 dual simplex iterations (0 in phase I)\n",
      "optimal obj. fun. value = 0.548508474582938\n",
      "ambient dimension n = 4\n",
      "found relaxed embedding in natural dimension K = 3\n",
      "now projecting to 3 principal dimensions\n",
      "dualDDP mean distance error = 0.03196363536062484\n",
      "dualDDP largest distance error = 0.10561341991617199\n"
     ]
    },
    {
     "name": "stderr",
     "output_type": "stream",
     "text": [
      "\n",
      "100%|██████████| 5/5 [00:00<00:00, 43873.47it/s]"
     ]
    },
    {
     "name": "stdout",
     "output_type": "stream",
     "text": [
      "Cannot find \"ipopt\"\n",
      "NLP mean distance error = 0.03196330509599702\n",
      "NLP largest distance error = 0.10561307514067336\n",
      "CPLEX 20.1.0.0: optimal solution; objective 1.227012751\n",
      "0 dual simplex iterations (0 in phase I)\n",
      "optimal obj. fun. value = 1.227012750706871\n",
      "ambient dimension n = 5\n",
      "found relaxed embedding in natural dimension K = 4\n",
      "now projecting to 3 principal dimensions\n",
      "dualDDP mean distance error = 0.02718164208476668\n",
      "dualDDP largest distance error = 0.06892103001211863\n"
     ]
    },
    {
     "name": "stderr",
     "output_type": "stream",
     "text": [
      "\n",
      "100%|██████████| 3/3 [00:00<00:00, 34379.54it/s]"
     ]
    },
    {
     "name": "stdout",
     "output_type": "stream",
     "text": [
      "Cannot find \"ipopt\"\n",
      "NLP mean distance error = 0.02718165970682519\n",
      "NLP largest distance error = 0.06892122206444729\n",
      "240\t0.84000000 0.74980896\tA kid sits on a soccer ball outside.\tA kid sitting on a soccer ball at the park.\n",
      "CPLEX 20.1.0.0: optimal solution; objective 0.9681417791\n",
      "0 dual simplex iterations (0 in phase I)\n",
      "optimal obj. fun. value = 0.9681417790989169\n",
      "ambient dimension n = 3\n",
      "found relaxed embedding in natural dimension K = 2\n",
      "now projecting to 2 principal dimensions\n",
      "dualDDP mean distance error = 0.00959528226937307\n",
      "dualDDP largest distance error = 0.0212349652143016\n"
     ]
    },
    {
     "name": "stderr",
     "output_type": "stream",
     "text": [
      "\n",
      "100%|██████████| 6/6 [00:00<00:00, 47482.69it/s]"
     ]
    },
    {
     "name": "stdout",
     "output_type": "stream",
     "text": [
      "Cannot find \"ipopt\"\n",
      "NLP mean distance error = 0.009594967421957007\n",
      "NLP largest distance error = 0.021234742584755634\n",
      "CPLEX 20.1.0.0: optimal solution; objective 2.233917179\n",
      "0 dual simplex iterations (0 in phase I)\n",
      "optimal obj. fun. value = 2.2339171793439023\n",
      "ambient dimension n = 6\n",
      "found relaxed embedding in natural dimension K = 5\n",
      "now projecting to 3 principal dimensions\n",
      "dualDDP mean distance error = 0.017272997623956194\n",
      "dualDDP largest distance error = 0.0811514997818868\n"
     ]
    },
    {
     "name": "stderr",
     "output_type": "stream",
     "text": [
      "\n",
      "100%|██████████| 5/5 [00:00<00:00, 40880.16it/s]"
     ]
    },
    {
     "name": "stdout",
     "output_type": "stream",
     "text": [
      "Cannot find \"ipopt\"\n",
      "NLP mean distance error = 0.017273067661641824\n",
      "NLP largest distance error = 0.08115134955357253\n",
      "CPLEX 20.1.0.0: optimal solution; objective 1.468750327\n",
      "0 dual simplex iterations (0 in phase I)\n",
      "optimal obj. fun. value = 1.4687503274730371\n",
      "ambient dimension n = 5\n",
      "found relaxed embedding in natural dimension K = 4\n",
      "now projecting to 3 principal dimensions\n",
      "dualDDP mean distance error = 0.015198738645571558\n",
      "dualDDP largest distance error = 0.06605565757910331\n"
     ]
    },
    {
     "name": "stderr",
     "output_type": "stream",
     "text": [
      "\n",
      "100%|██████████| 8/8 [00:00<00:00, 47798.34it/s]"
     ]
    },
    {
     "name": "stdout",
     "output_type": "stream",
     "text": [
      "Cannot find \"ipopt\"\n",
      "NLP mean distance error = 0.015198578253249878\n",
      "NLP largest distance error = 0.0660553530425049\n",
      "CPLEX 20.1.0.0: optimal solution; objective 4.325755267\n",
      "0 dual simplex iterations (0 in phase I)\n",
      "optimal obj. fun. value = 4.325755267484798\n",
      "ambient dimension n = 8\n",
      "found relaxed embedding in natural dimension K = 6\n",
      "now projecting to 3 principal dimensions\n",
      "dualDDP mean distance error = 0.028498765920729287\n",
      "dualDDP largest distance error = 0.0922772403282322\n"
     ]
    },
    {
     "name": "stderr",
     "output_type": "stream",
     "text": [
      "\n",
      "100%|██████████| 5/5 [00:00<00:00, 48884.66it/s]"
     ]
    },
    {
     "name": "stdout",
     "output_type": "stream",
     "text": [
      "Cannot find \"ipopt\"\n",
      "NLP mean distance error = 0.028498750036385138\n",
      "NLP largest distance error = 0.09227739125634844\n",
      "242\t0.44000000 0.41247564\tA man in a brown coat rubs his nose.\tA bald man with a red beard holds his hand near his mouth.\n",
      "CPLEX 20.1.0.0: optimal solution; objective 1.43625569\n",
      "0 dual simplex iterations (0 in phase I)\n",
      "optimal obj. fun. value = 1.4362556903112385\n",
      "ambient dimension n = 5\n",
      "found relaxed embedding in natural dimension K = 4\n",
      "now projecting to 3 principal dimensions\n",
      "dualDDP mean distance error = 0.03205002351019422\n",
      "dualDDP largest distance error = 0.05583279222283248\n"
     ]
    },
    {
     "name": "stderr",
     "output_type": "stream",
     "text": [
      "\n",
      "100%|██████████| 9/9 [00:00<00:00, 44938.97it/s]"
     ]
    },
    {
     "name": "stdout",
     "output_type": "stream",
     "text": [
      "Cannot find \"ipopt\"\n",
      "NLP mean distance error = 0.03204996392591631\n",
      "NLP largest distance error = 0.055832629460822\n",
      "CPLEX 20.1.0.0: optimal solution; objective 5.540748825\n",
      "0 dual simplex iterations (0 in phase I)\n",
      "optimal obj. fun. value = 5.540748824761343\n",
      "ambient dimension n = 9\n",
      "found relaxed embedding in natural dimension K = 7\n",
      "now projecting to 3 principal dimensions\n",
      "dualDDP mean distance error = 0.019330972745186695\n",
      "dualDDP largest distance error = 0.10586158008411008\n"
     ]
    },
    {
     "name": "stderr",
     "output_type": "stream",
     "text": [
      "\n",
      "100%|██████████| 3/3 [00:00<00:00, 31300.78it/s]"
     ]
    },
    {
     "name": "stdout",
     "output_type": "stream",
     "text": [
      "Cannot find \"ipopt\"\n",
      "NLP mean distance error = 0.01933099661684425\n",
      "NLP largest distance error = 0.10586162644217711\n",
      "244\t0.16000000 0.96619178\tSmall child playing with letter P\t2 young girls are sitting in front of a bookcase and 1 is reading a book.\n",
      "CPLEX 20.1.0.0: optimal solution; objective 0.3487074108\n",
      "0 dual simplex iterations (0 in phase I)\n",
      "optimal obj. fun. value = 0.34870741078894013\n",
      "ambient dimension n = 3\n",
      "found relaxed embedding in natural dimension K = 2\n",
      "now projecting to 2 principal dimensions\n",
      "dualDDP mean distance error = 0.008096610452725436\n",
      "dualDDP largest distance error = 0.01778575891606482\n"
     ]
    },
    {
     "name": "stderr",
     "output_type": "stream",
     "text": [
      "\n",
      "100%|██████████| 3/3 [00:00<00:00, 29468.18it/s]"
     ]
    },
    {
     "name": "stdout",
     "output_type": "stream",
     "text": [
      "Cannot find \"ipopt\"\n",
      "NLP mean distance error = 0.008096865894943331\n",
      "NLP largest distance error = 0.01778609808417106\n",
      "CPLEX 20.1.0.0: optimal solution; objective 0.3487074108\n",
      "0 dual simplex iterations (0 in phase I)\n",
      "optimal obj. fun. value = 0.34870741078894013\n",
      "ambient dimension n = 3\n",
      "found relaxed embedding in natural dimension K = 2\n",
      "now projecting to 2 principal dimensions\n",
      "dualDDP mean distance error = 0.008096610452725436\n",
      "dualDDP largest distance error = 0.01778575891606482\n"
     ]
    },
    {
     "name": "stderr",
     "output_type": "stream",
     "text": [
      "\n",
      "100%|██████████| 3/3 [00:00<00:00, 19972.88it/s]"
     ]
    },
    {
     "name": "stdout",
     "output_type": "stream",
     "text": [
      "Cannot find \"ipopt\"\n",
      "NLP mean distance error = 0.008096865894943331\n",
      "NLP largest distance error = 0.01778609808417106\n",
      "245\t1.00000000 1.00000000\tA brown dog is jumping.\tA brown dog is jumping\n",
      "CPLEX 20.1.0.0: optimal solution; objective 0.2991567691\n",
      "0 dual simplex iterations (0 in phase I)\n",
      "optimal obj. fun. value = 0.2991567690875585\n",
      "ambient dimension n = 3\n",
      "found relaxed embedding in natural dimension K = 1\n",
      "now projecting to 2 principal dimensions\n",
      "dualDDP mean distance error = 0.028951563754737886\n",
      "dualDDP largest distance error = 0.061849411539888016\n"
     ]
    },
    {
     "name": "stderr",
     "output_type": "stream",
     "text": [
      "\n",
      "100%|██████████| 3/3 [00:00<00:00, 36684.87it/s]"
     ]
    },
    {
     "name": "stdout",
     "output_type": "stream",
     "text": [
      "Cannot find \"ipopt\"\n",
      "NLP mean distance error = 0.02895182416760193\n",
      "NLP largest distance error = 0.06184936958473625\n",
      "CPLEX 20.1.0.0: optimal solution; objective 0.176905358\n",
      "0 dual simplex iterations (0 in phase I)\n",
      "optimal obj. fun. value = 0.1769053579818638\n",
      "ambient dimension n = 3\n",
      "found relaxed embedding in natural dimension K = 2\n",
      "now projecting to 2 principal dimensions\n",
      "dualDDP mean distance error = 0.0015555788656433829\n",
      "dualDDP largest distance error = 0.0027026603913929415\n"
     ]
    },
    {
     "name": "stderr",
     "output_type": "stream",
     "text": [
      "\n",
      "100%|██████████| 4/4 [00:00<00:00, 41527.76it/s]"
     ]
    },
    {
     "name": "stdout",
     "output_type": "stream",
     "text": [
      "Cannot find \"ipopt\"\n",
      "NLP mean distance error = 0.0015552849947465992\n",
      "NLP largest distance error = 0.002702217287997244\n",
      "246\t0.60000000 0.01824376\tthe man is catching a ball\tA man is kicking a ball.\n",
      "CPLEX 20.1.0.0: optimal solution; objective 0.07045676667\n",
      "0 dual simplex iterations (0 in phase I)\n",
      "optimal obj. fun. value = 0.07045676667355887\n",
      "ambient dimension n = 4\n",
      "found relaxed embedding in natural dimension K = 3\n",
      "now projecting to 3 principal dimensions\n",
      "dualDDP mean distance error = 0.0009183195886786824\n",
      "dualDDP largest distance error = 0.0033216234294601195\n"
     ]
    },
    {
     "name": "stderr",
     "output_type": "stream",
     "text": [
      "\n",
      "100%|██████████| 4/4 [00:00<00:00, 40136.88it/s]"
     ]
    },
    {
     "name": "stdout",
     "output_type": "stream",
     "text": [
      "Cannot find \"ipopt\"\n",
      "NLP mean distance error = 0.0009183340134089214\n",
      "NLP largest distance error = 0.003321642052648812\n",
      "CPLEX 20.1.0.0: optimal solution; objective 0.1068232693\n",
      "0 dual simplex iterations (0 in phase I)\n",
      "optimal obj. fun. value = 0.10682326929719138\n",
      "ambient dimension n = 4\n",
      "found relaxed embedding in natural dimension K = 3\n",
      "now projecting to 3 principal dimensions\n",
      "dualDDP mean distance error = 0.00030095099536240716\n",
      "dualDDP largest distance error = 0.0008910404081244536\n"
     ]
    },
    {
     "name": "stderr",
     "output_type": "stream",
     "text": [
      "\n",
      "100%|██████████| 5/5 [00:00<00:00, 45990.18it/s]"
     ]
    },
    {
     "name": "stdout",
     "output_type": "stream",
     "text": [
      "Cannot find \"ipopt\"\n",
      "NLP mean distance error = 0.00030108384777094145\n",
      "NLP largest distance error = 0.0008910434411085501\n",
      "247\t0.60000000 0.86662241\tTwo men are sitting in the room.\tTwo men are standing in a room.\n",
      "CPLEX 20.1.0.0: optimal solution; objective 1.607312993\n",
      "0 dual simplex iterations (0 in phase I)\n",
      "optimal obj. fun. value = 1.6073129930812153\n",
      "ambient dimension n = 5\n",
      "found relaxed embedding in natural dimension K = 4\n",
      "now projecting to 3 principal dimensions\n",
      "dualDDP mean distance error = 0.01325248769149533\n",
      "dualDDP largest distance error = 0.07037945738884857\n"
     ]
    },
    {
     "name": "stderr",
     "output_type": "stream",
     "text": [
      "\n",
      "100%|██████████| 5/5 [00:00<00:00, 39869.81it/s]"
     ]
    },
    {
     "name": "stdout",
     "output_type": "stream",
     "text": [
      "Cannot find \"ipopt\"\n",
      "NLP mean distance error = 0.01325264505418359\n",
      "NLP largest distance error = 0.07037955045845892\n",
      "CPLEX 20.1.0.0: optimal solution; objective 0.8592620798\n",
      "0 dual simplex iterations (0 in phase I)\n",
      "optimal obj. fun. value = 0.859262079831666\n",
      "ambient dimension n = 5\n",
      "found relaxed embedding in natural dimension K = 3\n",
      "now projecting to 3 principal dimensions\n",
      "dualDDP mean distance error = 0.03691484364827276\n",
      "dualDDP largest distance error = 0.1253019368926749\n",
      "Cannot find \"ipopt\"\n"
     ]
    },
    {
     "name": "stderr",
     "output_type": "stream",
     "text": [
      "\n",
      "100%|██████████| 3/3 [00:00<00:00, 38362.54it/s]"
     ]
    },
    {
     "name": "stdout",
     "output_type": "stream",
     "text": [
      "NLP mean distance error = 0.03691489128404466\n",
      "NLP largest distance error = 0.1253017110866928\n",
      "248\t0.24000000 0.86737771\tA group of teenagers in red shirts are smiling.\tA group of people are wearing orange shirts.\n",
      "CPLEX 20.1.0.0: optimal solution; objective 0.05953538303\n",
      "0 dual simplex iterations (0 in phase I)\n",
      "optimal obj. fun. value = 0.059535383029811685\n",
      "ambient dimension n = 3\n",
      "found relaxed embedding in natural dimension K = 2\n",
      "now projecting to 2 principal dimensions\n",
      "dualDDP mean distance error = 0.002897854314732287\n",
      "dualDDP largest distance error = 0.005529065282651277\n"
     ]
    },
    {
     "name": "stderr",
     "output_type": "stream",
     "text": [
      "\n",
      "100%|██████████| 3/3 [00:00<00:00, 37786.52it/s]"
     ]
    },
    {
     "name": "stdout",
     "output_type": "stream",
     "text": [
      "Cannot find \"ipopt\"\n",
      "NLP mean distance error = 0.0028978504285307022\n",
      "NLP largest distance error = 0.005529107461433508\n",
      "CPLEX 20.1.0.0: optimal solution; objective 0.03919039338\n",
      "0 dual simplex iterations (0 in phase I)\n",
      "optimal obj. fun. value = 0.03919039338100823\n",
      "ambient dimension n = 3\n",
      "found relaxed embedding in natural dimension K = 2\n",
      "now projecting to 2 principal dimensions\n",
      "dualDDP mean distance error = 0.0022750064639086597\n",
      "dualDDP largest distance error = 0.003884567425338145\n"
     ]
    },
    {
     "name": "stderr",
     "output_type": "stream",
     "text": [
      "\n"
     ]
    },
    {
     "name": "stdout",
     "output_type": "stream",
     "text": [
      "Cannot find \"ipopt\"\n",
      "NLP mean distance error = 0.0022749861903442366\n",
      "NLP largest distance error = 0.0038845555362909817\n",
      "249\t0.64000000 0.99450198\tThe woman is waiting for her date.\tThe woman is on her way to a date.\n"
     ]
    }
   ],
   "source": [
    "#N_printed_sents = 250\n",
    "nlp = spacy.load('en_core_web_lg')\n",
    "with open('train.txt') as f:\n",
    "    train = np.array([float(line.strip()) for line in f])\n",
    "ampl_res = []\n",
    "idx = []\n",
    "\n",
    "for i, (s1, s2) in enumerate(sentences_test):\n",
    "    if (len(s1) < 3) or (len(s2) < 3):\n",
    "        ampl_res.append(0)\n",
    "        continue\n",
    "    #if i > N_printed_sents:\n",
    "    #    break\n",
    "    subgraph1 = distances[np.ix_(s1, s1)]\n",
    "    subgraph2 = distances[np.ix_(s2, s2)]\n",
    "    print_dat(subgraph1)\n",
    "    #result1, suc1 = sdp(DAT_FILE, showplot=False)\n",
    "    #result1, suc1 = ddp(DAT_FILE, showplot=False)\n",
    "    result1, suc1 = dualddp(DAT_FILE, showplot=False)\n",
    "    print_dat(subgraph2)\n",
    "    #result2, suc2 = sdp(DAT_FILE, showplot=False)\n",
    "    #result2, suc2 = ddp(DAT_FILE, showplot=False)\n",
    "    result2, suc2 = dualddp(DAT_FILE, showplot=False)\n",
    "    if not (suc1 & suc2):\n",
    "        ampl_res.append(0)\n",
    "        continue\n",
    "    v1 = np.mean(result1, axis=0)\n",
    "    v2 = np.mean(result2, axis=0)\n",
    "    if v1.shape != v2.shape:\n",
    "        ampl_res.append(0)\n",
    "        continue\n",
    "    d = (cosine_similarity([v1], [v2])[0,0]+1)/2.\n",
    "    ampl_res.append(d)\n",
    "    print(i, \"{:1.8f} {:1.8f}\".format(train[i] / 5, d), lines_test[i], sep='\\t')\n",
    "    idx.append(i)"
   ]
  },
  {
   "cell_type": "code",
   "execution_count": 42,
   "metadata": {},
   "outputs": [
    {
     "name": "stdout",
     "output_type": "stream",
     "text": [
      "p_xy spacy train =  0.14790876413432227\n"
     ]
    }
   ],
   "source": [
    "p_xy = np.corrcoef(np.array(train)[idx], np.array(ampl_res)[idx])\n",
    "print(\"p_xy spacy train = \", p_xy[1, 0])"
   ]
  },
  {
   "cell_type": "code",
   "execution_count": 44,
   "metadata": {},
   "outputs": [
    {
     "name": "stdout",
     "output_type": "stream",
     "text": [
      "[0.44 0.68 0.16 0.08 0.68 0.92 0.36 0.56 0.4  0.44 0.52 0.04 0.28 0.08\n",
      " 0.64 0.04 0.48 0.76 0.04 0.28 0.84 0.24 0.76 0.2  0.68 0.24 0.48 0.4\n",
      " 0.52 0.76 0.64 0.44 0.52 0.04 0.04 0.6  0.36 0.44 0.12 1.   1.   0.44\n",
      " 0.04 0.2  0.4  0.44 0.56 0.64 0.4  0.36 0.84 0.84 1.   0.8  0.08 0.08\n",
      " 0.   0.6  0.92 0.08 0.72 0.28 0.6  0.32 0.68 0.56 0.32 0.04 0.44 0.32\n",
      " 0.08 0.72 0.96 0.4  0.04 0.76 0.08 0.44 0.36 0.24 0.44 0.92 0.28 0.16\n",
      " 1.   0.52 0.   0.12 0.24 0.32 0.56 0.6  0.48 0.12 0.92 0.76 0.8  0.96\n",
      " 0.04 0.68 0.16 0.72 0.56 0.   0.56 0.2  0.24 0.64 0.6  1.   0.44 0.\n",
      " 0.32 0.72 0.6  0.56 0.96 0.48 0.36 0.2  0.52 0.76 0.24 0.76 0.08 0.68\n",
      " 0.84 0.28 0.48 0.16 0.56 0.88 0.6  0.6  0.32 0.56 0.4  0.4  0.6  0.44\n",
      " 0.88 0.36 0.76 0.28 0.56 0.56 0.56 1.   0.32 0.56 0.36 0.52 0.04 0.2\n",
      " 0.52 0.84 0.44 0.16 1.   0.6  0.6  0.24 0.64] [0.25923064 0.99985729 0.11667054 0.55445489 0.66846941 0.61711204\n",
      " 0.99999583 0.99783182 0.97240733 0.85005306 0.66938784 0.51060871\n",
      " 0.29386502 0.95981398 0.99999998 0.99748362 0.97285266 0.99166337\n",
      " 0.35889375 0.9937061  0.99998059 0.41059879 0.99215652 0.58876081\n",
      " 0.98467217 0.18022672 0.01947496 0.99377545 0.98929882 0.99895062\n",
      " 0.99004622 0.00203436 0.23659528 0.20750774 0.81948627 0.98673536\n",
      " 0.7126674  0.9463184  0.85115227 0.40360802 0.68939633 0.65466644\n",
      " 0.93757602 0.20131146 0.13733345 0.99784168 0.70844178 0.99999985\n",
      " 0.99427904 0.99984289 0.98094834 0.99881192 0.92231786 0.30772066\n",
      " 0.99394127 0.99559888 0.99986101 0.63900829 0.10240807 0.99510163\n",
      " 0.98572351 0.01520067 0.993459   0.9749677  0.18058674 0.95445411\n",
      " 0.72785456 0.02195183 0.84124087 0.28815034 0.40325236 0.14341744\n",
      " 1.         0.99845143 0.53080308 0.99994013 0.22563581 0.96573239\n",
      " 0.99667995 0.95648469 0.20369966 0.26577303 0.32505549 0.79183719\n",
      " 0.99478538 0.36605407 0.99864634 0.99816689 0.6581836  0.03557112\n",
      " 0.99999686 0.06883789 0.97165561 0.98016696 0.99918606 0.74100408\n",
      " 0.99403869 0.19582132 0.35712202 0.97650304 0.51316467 0.87918\n",
      " 0.66775272 0.8625923  0.73184889 0.95740712 0.00996048 0.97679452\n",
      " 0.99666058 1.         0.91104149 0.89451499 0.6759714  0.98593438\n",
      " 1.         0.90728329 0.95923961 0.99244133 0.99999844 0.11255239\n",
      " 0.99965115 0.99318872 0.11634496 0.90801342 0.96199402 0.65342425\n",
      " 0.8572033  0.27368928 0.14263209 0.05077908 0.96413115 0.37074792\n",
      " 0.10979335 0.07096294 0.97680477 0.99986136 0.98102047 0.99924799\n",
      " 0.21186886 0.99272203 0.96978495 0.91105485 0.2764903  0.00333854\n",
      " 0.35865596 0.84753212 0.99983604 1.         0.9817361  0.96149122\n",
      " 0.63850989 0.81292811 0.93079369 0.3035524  0.9918954  0.74980896\n",
      " 0.41247564 0.96619178 1.         0.01824376 0.86662241 0.86737771\n",
      " 0.99450198] [4, 5, 6, 8, 10, 12, 13, 14, 15, 16, 18, 19, 20, 22, 23, 24, 26, 27, 28, 29, 31, 32, 34, 35, 36, 37, 39, 40, 41, 42, 43, 44, 47, 48, 49, 50, 52, 53, 54, 56, 57, 58, 59, 66, 67, 68, 69, 70, 72, 74, 78, 79, 80, 83, 85, 87, 89, 90, 91, 94, 95, 96, 98, 99, 103, 105, 107, 108, 110, 111, 113, 115, 116, 117, 118, 119, 121, 122, 123, 124, 126, 129, 130, 131, 132, 133, 134, 135, 136, 137, 139, 143, 145, 146, 147, 148, 150, 152, 155, 157, 158, 159, 160, 161, 164, 167, 168, 169, 170, 171, 172, 177, 178, 182, 183, 184, 185, 187, 188, 190, 191, 192, 193, 195, 197, 198, 199, 200, 201, 202, 203, 204, 205, 206, 207, 208, 211, 212, 213, 214, 215, 216, 221, 222, 223, 224, 225, 226, 231, 232, 233, 234, 235, 236, 237, 240, 242, 244, 245, 246, 247, 248, 249] 0.652\n"
     ]
    }
   ],
   "source": [
    "print(np.array(train)[idx]/5.0, np.array(ampl_res)[idx], idx, len(idx)/250.)"
   ]
  },
  {
   "cell_type": "code",
   "execution_count": null,
   "metadata": {},
   "outputs": [
    {
     "name": "stdout",
     "output_type": "stream",
     "text": [
      "CPLEX 20.1.0.0: optimal solution; objective 5931.370147\n",
      "0 dual simplex iterations (0 in phase I)\n",
      "19 barrier iterations\n",
      "optimal obj. fun. value = 5931.37014674213\n",
      "ambient dimension n = 38\n",
      "found relaxed embedding in natural dimension K = 37\n",
      "now projecting to 3 principal dimensions\n",
      "DDP mean distance error = 1.8093311550580489\n",
      "DDP largest distance error = 4.126467955100351\n",
      "Cannot find \"ipopt\"\n",
      "NLP mean distance error = 1.8093315550832791\n",
      "NLP largest distance error = 4.126468374504312\n",
      "OUTLABELS:mp,projmethod,objX,mdeX,ldeX,mdex,ldex\n",
      "OUT:sdp,PCA,5931.370,1.809,4.126,1.809,4.126\n"
     ]
    },
    {
     "data": {
      "image/png": "[encoded data removed]",
      "text/plain": [
       "<Figure size 432x288 with 1 Axes>"
      ]
     },
     "metadata": {
      "needs_background": "light"
     },
     "output_type": "display_data"
    }
   ],
   "source": [
    "ddp('tiny_gph.dat', showplot=True)"
   ]
  },
  {
   "cell_type": "markdown",
   "metadata": {},
   "source": [
    "#### old code"
   ]
  },
  {
   "cell_type": "code",
   "execution_count": null,
   "metadata": {},
   "outputs": [
    {
     "ename": "NameError",
     "evalue": "name 'spacy' is not defined",
     "output_type": "error",
     "traceback": [
      "\u001b[1;31m---------------------------------------------------------------------------\u001b[0m",
      "\u001b[1;31mNameError\u001b[0m                                 Traceback (most recent call last)",
      "\u001b[1;32mc:\\Users\\satt-\\OneDrive\\Рабочий стол\\NLP_DG\\NLP_DG.ipynb Cell 52'\u001b[0m in \u001b[0;36m<cell line: 2>\u001b[1;34m()\u001b[0m\n\u001b[0;32m      <a href='vscode-notebook-cell:/c%3A/Users/satt-/OneDrive/%D0%A0%D0%B0%D0%B1%D0%BE%D1%87%D0%B8%D0%B9%20%D1%81%D1%82%D0%BE%D0%BB/NLP_DG/NLP_DG.ipynb#ch0000051?line=0'>1</a>\u001b[0m N_printed_sents \u001b[39m=\u001b[39m \u001b[39m20\u001b[39m\n\u001b[1;32m----> <a href='vscode-notebook-cell:/c%3A/Users/satt-/OneDrive/%D0%A0%D0%B0%D0%B1%D0%BE%D1%87%D0%B8%D0%B9%20%D1%81%D1%82%D0%BE%D0%BB/NLP_DG/NLP_DG.ipynb#ch0000051?line=1'>2</a>\u001b[0m nlp \u001b[39m=\u001b[39m spacy\u001b[39m.\u001b[39mload(\u001b[39m'\u001b[39m\u001b[39men_core_web_lg\u001b[39m\u001b[39m'\u001b[39m)\n\u001b[0;32m      <a href='vscode-notebook-cell:/c%3A/Users/satt-/OneDrive/%D0%A0%D0%B0%D0%B1%D0%BE%D1%87%D0%B8%D0%B9%20%D1%81%D1%82%D0%BE%D0%BB/NLP_DG/NLP_DG.ipynb#ch0000051?line=3'>4</a>\u001b[0m \u001b[39mwith\u001b[39;00m \u001b[39mopen\u001b[39m(\u001b[39m'\u001b[39m\u001b[39mtrain.txt\u001b[39m\u001b[39m'\u001b[39m) \u001b[39mas\u001b[39;00m f:\n\u001b[0;32m      <a href='vscode-notebook-cell:/c%3A/Users/satt-/OneDrive/%D0%A0%D0%B0%D0%B1%D0%BE%D1%87%D0%B8%D0%B9%20%D1%81%D1%82%D0%BE%D0%BB/NLP_DG/NLP_DG.ipynb#ch0000051?line=4'>5</a>\u001b[0m     train \u001b[39m=\u001b[39m np\u001b[39m.\u001b[39marray([\u001b[39mfloat\u001b[39m(line\u001b[39m.\u001b[39mstrip()) \u001b[39mfor\u001b[39;00m line \u001b[39min\u001b[39;00m f])\n",
      "\u001b[1;31mNameError\u001b[0m: name 'spacy' is not defined"
     ]
    }
   ],
   "source": [
    "N_printed_sents = 200\n",
    "nlp = spacy.load('en_core_web_lg')\n",
    "\n",
    "with open('train.txt') as f:\n",
    "    train = np.array([float(line.strip()) for line in f])\n",
    "idx = []\n",
    "result_subgraph = []\n",
    "for i, (s1, s2) in enumerate(sentences_test):\n",
    "    if len(s1) <3 or len(s2) < 3:\n",
    "        result_subgraph.append(0)\n",
    "        continue\n",
    "    v1 = np.mean(word_to_vec[s1,:], axis=0)\n",
    "    v2 = np.mean(word_to_vec[s2,:], axis=0)\n",
    "    d = (cosine_similarity([v1], [v2])[0,0]+1)/2.\n",
    "\n",
    "\n",
    "    #MDS on subgraph\n",
    "    subgraph1 = distances[np.ix_(s1, s1)]\n",
    "    subgraph2 = distances[np.ix_(s2, s2)]\n",
    "    embed_subgraph1 = graph_embed(subgraph1, 3)\n",
    "    embed_subgraph2 = graph_embed(subgraph2, 3)\n",
    "    vsub1 = np.mean(embed_subgraph1, axis=0)\n",
    "    vsub2 = np.mean(embed_subgraph2, axis=0)\n",
    "    d2 = (cosine_similarity([v1], [v2])[0,0]+1)/2.\n",
    "    result_subgraph.append(d2)\n",
    "\n",
    "    #print(d.shape)\n",
    "    sent1, sent2 = lines_test[i].split('\\t')\n",
    "    sent1 = nlp(sent1)\n",
    "    sent1 = nlp(' '.join([str(t) for t in sent1 if not t.is_stop]))\n",
    "    sent2 = nlp(sent2)\n",
    "    sent2 = nlp(' '.join([str(t) for t in sent2 if not t.is_stop]))\n",
    "    #sent1 = nlp(' '.join([word for word in sent1 if word not in english_stopwords]))\n",
    "    #sent2 = nlp(' '.join([word for word in sent2 if word not in english_stopwords]))\n",
    "    similarity = sent1.similarity(sent2)\n",
    "    #if similarity < 0.4:\n",
    "    print(i, \"{:1.8f} {:1.8f} {:1.8f}\".format(train[i] / 5, d, d2, similarity), lines_test[i], sep='\\t')\n",
    "    if i > N_printed_sents:\n",
    "        break"
   ]
  },
  {
   "cell_type": "code",
   "execution_count": null,
   "metadata": {},
   "outputs": [
    {
     "name": "stdout",
     "output_type": "stream",
     "text": [
      "[0.9237369  0.63757388 0.8347624  0.8160544  0.82062957 0.9536833\n",
      " 0.81375333 0.79174104 0.82175876 1.        ]\n",
      "[0.92187823 0.35590817 0.52993919 0.97916754 0.28898951 0.99434384\n",
      " 0.69519802 0.67610976 0.51193864 0.98772491]\n"
     ]
    }
   ],
   "source": [
    "our_simlarity_n = 1-np.array([dist.cosine(np.mean(word_to_vec[s1,:], axis=0), np.mean(word_to_vec[s2,:], axis=0)) for (s1, s2) in sentences_test])/2\n",
    "spacy_similarity_n = np.array([nlp(' '.join([str(t) for t in nlp(sent2) if not t.is_stop])).similarity(nlp(' '.join([str(t) for t in nlp(sent1) if not t.is_stop]))) for (sent1, sent2) in [s.split('\\t') for s in lines_test]])\n",
    "print(spacy_similarity_n[:10])\n",
    "\n",
    "print(our_simlarity_n[:10])\n",
    "\n"
   ]
  },
  {
   "cell_type": "markdown",
   "metadata": {},
   "source": [
    "### 4.2 Pearson correlation coefficient\n",
    "To estimate the quality of models we will use this coefficient, which is calculated as follows:\n",
    "$$p_{XY} = \\frac{\\sigma_{XY}}{\\sigma_X \\cdot \\sigma_Y}$$\n",
    "where $p_{XY}$ is the Pearson correlation coefficient, $\\sigma_Y, \\sigma_X$ are standart deviations of $Y$ and $X$, and $\\sigma_{XY}$ is the covariance between $X$ and $Y$ \n"
   ]
  },
  {
   "cell_type": "code",
   "execution_count": null,
   "metadata": {},
   "outputs": [
    {
     "name": "stdout",
     "output_type": "stream",
     "text": [
      "p_xy spacy train =  0.7131287525074835\n",
      "p_xy spacy our_simlarity_n =  0.5395828515504087\n",
      "p_xy our_simlarity_n train =  0.5113422409775331\n"
     ]
    }
   ],
   "source": [
    "#we normalize all the \n",
    "p_xy = np.corrcoef(train, spacy_similarity_n)\n",
    "print(\"p_xy spacy train = \", p_xy[1, 0])\n",
    "p_xy = np.corrcoef(our_simlarity_n, spacy_similarity_n)\n",
    "print(\"p_xy spacy our_simlarity_n = \", p_xy[1, 0])\n",
    "p_xy = np.corrcoef(train, our_simlarity_n)\n",
    "print(\"p_xy our_simlarity_n train = \", p_xy[1, 0])\n"
   ]
  },
  {
   "cell_type": "markdown",
   "metadata": {},
   "source": [
    "### 4.3 Our comments on the results"
   ]
  },
  {
   "cell_type": "markdown",
   "metadata": {},
   "source": [
    "As we can see the best quality we have for spacy built-in function which uses word-to-vec representation. The second best and not too far from spacy, is our implementation of MDS on the graph representation of all the sentences.\n",
    "As it was expected "
   ]
  },
  {
   "cell_type": "markdown",
   "metadata": {},
   "source": [
    "## 5 Further researches and possible improvements"
   ]
  },
  {
   "cell_type": "markdown",
   "metadata": {},
   "source": [
    "As an improvement one could use all the DG methods on the graph with <b>all the words</b> as in the MDS. \n",
    "\n",
    "Another problem that we had is that words from the dataset could close after lemmatizing when before they were not, and this problem is more pronounced when we have \"strange\" vocabulary as we have in our additional dataset. "
   ]
  },
  {
   "cell_type": "markdown",
   "metadata": {},
   "source": [
    "### Some other metrics(to remove)"
   ]
  },
  {
   "cell_type": "code",
   "execution_count": null,
   "metadata": {},
   "outputs": [
    {
     "name": "stdout",
     "output_type": "stream",
     "text": [
      "0.16965264574028385\n",
      "0.007678251653702461\n",
      "0.7751361274991766\n"
     ]
    }
   ],
   "source": [
    "train_n = train/5  \n",
    "spacy_similarity_scaled = (spacy_similarity_n-0.35)/0.65\n",
    "print(np.mean(((spacy_similarity_scaled-train_n)**2)))\n",
    "\n",
    "print(np.mean(((spacy_similarity_n-np.mean(spacy_similarity_n))**2)))\n",
    "print(np.mean(spacy_similarity_n**2))"
   ]
  },
  {
   "cell_type": "code",
   "execution_count": null,
   "metadata": {},
   "outputs": [
    {
     "name": "stdout",
     "output_type": "stream",
     "text": [
      "0.16965264574028385\n",
      "0.007678251653702461\n",
      "0.7751361274991766\n",
      "n\n",
      "0.10256349803064416\n",
      "0.2299975111999682\n",
      "0.06236852391124974\n",
      "0.02809066985255107\n",
      "0.08105832959999999\n"
     ]
    }
   ],
   "source": [
    "train_n = train/5  \n",
    "spacy_similarity_scaled = (spacy_similarity_n-0.35)/0.65\n",
    "print(np.mean(((spacy_similarity_scaled-train_n)**2)))\n",
    "\n",
    "print(np.mean(((spacy_similarity_n-np.mean(spacy_similarity_n))**2)))\n",
    "print(np.mean(spacy_similarity_n**2))\n",
    "\n",
    "print('n')\n",
    "print(np.mean(((our_simlarity_n**4-train_n)**2)))\n",
    "print(np.mean(((spacy_similarity_n-train_n)**2)))\n",
    "print(np.mean(((spacy_similarity_n**4-train_n)**2)))\n",
    "print(np.mean(((spacy_similarity_n-our_simlarity_n)**2)))\n",
    "t = np.mean(train_n)\n",
    "print(np.mean(((train_n-t)**2)))"
   ]
  },
  {
   "cell_type": "code",
   "execution_count": null,
   "metadata": {},
   "outputs": [
    {
     "name": "stdout",
     "output_type": "stream",
     "text": [
      "0.10256349803064416\n",
      "0.2299975111999682\n",
      "0.06236852391124974\n",
      "0.02809066985255107\n",
      "0.08105832959999999\n"
     ]
    }
   ],
   "source": [
    " # _n for normalized\n",
    "print(np.mean(((our_simlarity_n**4-train_n)**2)))\n",
    "print(np.mean(((spacy_similarity_n-train_n)**2)))\n",
    "print(np.mean(((spacy_similarity_n**4-train_n)**2)))\n",
    "print(np.mean(((spacy_similarity_n-our_simlarity_n)**2)))\n",
    "t = np.mean(train_n)\n",
    "print(np.mean(((train_n-t)**2)))"
   ]
  }
 ],
 "metadata": {
  "interpreter": {
   "hash": "f07a3c1acea75c2d4c353e9cd3dd42ec72fb863baf9770b89be62cf6c327390c"
  },
  "kernelspec": {
   "display_name": "Python 3.8.5 ('base')",
   "language": "python",
   "name": "python3"
  },
  "language_info": {
   "codemirror_mode": {
    "name": "ipython",
    "version": 3
   },
   "file_extension": ".py",
   "mimetype": "text/x-python",
   "name": "python",
   "nbconvert_exporter": "python",
   "pygments_lexer": "ipython3",
   "version": "3.9.10"
  },
  "orig_nbformat": 4
 },
 "nbformat": 4,
 "nbformat_minor": 2
}
