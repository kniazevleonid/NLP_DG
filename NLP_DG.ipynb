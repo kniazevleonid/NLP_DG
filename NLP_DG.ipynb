{
 "cells": [
  {
   "cell_type": "markdown",
   "metadata": {},
   "source": [
    "## 0. Import all the libraries"
   ]
  },
  {
   "cell_type": "code",
   "execution_count": 143,
   "metadata": {},
   "outputs": [
    {
     "name": "stderr",
     "output_type": "stream",
     "text": [
      "[nltk_data] Downloading package stopwords to\n",
      "[nltk_data]     C:\\Users\\satt-\\AppData\\Roaming\\nltk_data...\n",
      "[nltk_data]   Package stopwords is already up-to-date!\n",
      "[nltk_data] Downloading package wordnet to\n",
      "[nltk_data]     C:\\Users\\satt-\\AppData\\Roaming\\nltk_data...\n",
      "[nltk_data]   Package wordnet is already up-to-date!\n",
      "[nltk_data] Downloading package omw-1.4 to\n",
      "[nltk_data]     C:\\Users\\satt-\\AppData\\Roaming\\nltk_data...\n",
      "[nltk_data]   Package omw-1.4 is already up-to-date!\n"
     ]
    },
    {
     "data": {
      "text/plain": [
       "True"
      ]
     },
     "execution_count": 143,
     "metadata": {},
     "output_type": "execute_result"
    }
   ],
   "source": [
    "import numpy as np\n",
    "import numpy.linalg as la\n",
    "import nltk\n",
    "from nltk.corpus import stopwords\n",
    "from nltk.corpus import wordnet\n",
    "from nltk.stem import WordNetLemmatizer\n",
    "import string\n",
    "import tqdm\n",
    "import numba\n",
    "import matplotlib.pyplot as plt\n",
    "import scipy.spatial.distance as dist\n",
    "import spacy\n",
    "import sklearn\n",
    "from sklearn.metrics.pairwise import cosine_similarity\n",
    "nltk.download('stopwords')\n",
    "nltk.download('wordnet')\n",
    "nltk.download('omw-1.4')"
   ]
  },
  {
   "cell_type": "markdown",
   "metadata": {},
   "source": [
    "## 1. Print all the sentences"
   ]
  },
  {
   "cell_type": "code",
   "execution_count": 144,
   "metadata": {},
   "outputs": [
    {
     "name": "stdout",
     "output_type": "stream",
     "text": [
      "250\n"
     ]
    }
   ],
   "source": [
    "USE_TRAIN = True\n",
    "with open('input.txt') as f:\n",
    "    lines_test = [line.strip() for line in f]\n",
    "with open('movies_text.txt') as f:\n",
    "    lines_train = [line.strip() for line in f]\n",
    "\n",
    "print(len(lines_test))\n",
    "#lines_train = lines_train[:30]\n",
    "#print(lines_movies[:10])"
   ]
  },
  {
   "cell_type": "markdown",
   "metadata": {},
   "source": [
    "## 2. Preprocessing : remove punctuation, stopwords and lemmatize"
   ]
  },
  {
   "cell_type": "code",
   "execution_count": 145,
   "metadata": {},
   "outputs": [],
   "source": [
    "stopwords_en = stopwords.words('english')\n",
    "translation_table = str.maketrans('', '', string.punctuation)\n",
    "lemmatizer = WordNetLemmatizer()\n",
    "lemmas = set(wordnet.all_lemma_names())\n",
    "\n",
    "words = dict()\n",
    "test_words = dict()\n",
    "sentences_test = list()\n",
    "\n",
    "for line in lines_test:\n",
    "    s1, s2 = line.split('\\t')\n",
    "\n",
    "    v1 = []\n",
    "    v2 = []\n",
    "\n",
    "    for s, v in [(s1, v1), (s2, v2)]:\n",
    "        for w in s.split():\n",
    "            w = w.lower().translate(translation_table)\n",
    "            if w in stopwords_en:\n",
    "                continue\n",
    "            w = lemmatizer.lemmatize(w)\n",
    "            if w not in lemmas:\n",
    "                continue\n",
    "            words.setdefault(w, len(words))\n",
    "            test_words.setdefault(w, len(test_words))\n",
    "            v.append(words[w])\n",
    "\n",
    "    sentences_test.append((v1, v2))\n",
    "\n",
    "sentences_train = list()\n",
    "if USE_TRAIN:\n",
    "    for s in lines_train:\n",
    "        #s1, s2 = line.split('\\t')\n",
    "        \n",
    "        v = []\n",
    "        \n",
    "\n",
    "        for w in s.split():\n",
    "            w = w.lower().translate(translation_table)\n",
    "            if w in stopwords_en:\n",
    "                continue\n",
    "            w = lemmatizer.lemmatize(w)\n",
    "            if w not in lemmas:\n",
    "                continue\n",
    "            \n",
    "            words.setdefault(w, len(words))\n",
    "            v.append(words[w])\n",
    "\n",
    "        sentences_train.append(v)\n",
    "    \n"
   ]
  },
  {
   "cell_type": "code",
   "execution_count": 147,
   "metadata": {},
   "outputs": [
    {
     "name": "stdout",
     "output_type": "stream",
     "text": [
      "18669\n",
      "687\n"
     ]
    }
   ],
   "source": [
    "print(len(words.keys()))\n",
    "print(len(test_words.keys()))\n"
   ]
  },
  {
   "cell_type": "markdown",
   "metadata": {},
   "source": [
    "## 3. Make synonyms graph"
   ]
  },
  {
   "cell_type": "code",
   "execution_count": 153,
   "metadata": {},
   "outputs": [],
   "source": [
    "synonym_graph = np.zeros((len(words), len(words)))\n",
    "\n",
    "def set_of_synonyms(word):\n",
    "    synonyms = []\n",
    "    for syn in wordnet.synsets(word):\n",
    "        for l in syn.lemmas():\n",
    "            syn_word = l.name()\n",
    "            if syn_word in stopwords_en:\n",
    "                continue\n",
    "            syn_word = lemmatizer.lemmatize(syn_word)\n",
    "            synonyms.append(syn_word)\n",
    "    return set(synonyms)\n",
    "\n",
    "for word, idx in words.items():\n",
    "    for syn in set_of_synonyms(word):\n",
    "        if syn not in words:\n",
    "            continue\n",
    "        syn_idx = words[syn]\n",
    "        synonym_graph[idx][syn_idx] = 1\n",
    "        synonym_graph[syn_idx][idx] = 1\n",
    "if USE_TRAIN:\n",
    "    synonym_graph = synonym_graph[:len(test_words), :len(test_words)]\n"
   ]
  },
  {
   "cell_type": "markdown",
   "metadata": {},
   "source": []
  },
  {
   "cell_type": "code",
   "execution_count": 149,
   "metadata": {},
   "outputs": [
    {
     "name": "stdout",
     "output_type": "stream",
     "text": [
      "{'person', 'mortal', 'someone', 'soul', 'somebody', 'individual'}\n",
      "6.0\n"
     ]
    }
   ],
   "source": [
    "print(set_of_synonyms(list(words.keys())[0]))\n",
    "print(sum(synonym_graph[0]))\n"
   ]
  },
  {
   "cell_type": "markdown",
   "metadata": {},
   "source": [
    "## 4. Make sliding window graph"
   ]
  },
  {
   "cell_type": "code",
   "execution_count": 150,
   "metadata": {},
   "outputs": [],
   "source": [
    "window_size = 3\n",
    "\n",
    "window_graph_train = np.zeros((len(words), len(words)))\n",
    "\n",
    "for ss in sentences_test:\n",
    "    for s in ss:\n",
    "        window = []\n",
    "        for i in range(len(s)):\n",
    "            window = window[-(window_size - 1):]\n",
    "            v1 = s[i]\n",
    "            for v2 in window:\n",
    "                window_graph_train[v1][v2] += 1\n",
    "                window_graph_train[v2][v1] += 1\n",
    "            window.append(v1)\n",
    "if USE_TRAIN:\n",
    "    for s in sentences_train:\n",
    "        window = []\n",
    "        for i in range(len(s)):\n",
    "            window = window[-(window_size - 1):]\n",
    "            v1 = s[i]\n",
    "            for v2 in window:\n",
    "                window_graph_train[v1][v2] += 1\n",
    "                window_graph_train[v2][v1] += 1\n",
    "            window.append(v1)\n",
    "if USE_TRAIN:\n",
    "    window_graph = window_graph_train[:len(test_words), :len(test_words)]\n",
    "else:\n",
    "    window_graph = window_graph_train"
   ]
  },
  {
   "cell_type": "code",
   "execution_count": 151,
   "metadata": {},
   "outputs": [
    {
     "name": "stdout",
     "output_type": "stream",
     "text": [
      "(687, 687)\n"
     ]
    }
   ],
   "source": [
    "print(window_graph.shape)"
   ]
  },
  {
   "cell_type": "markdown",
   "metadata": {},
   "source": [
    "## 5. Combine synonym and window graphs\n",
    "Complete distance matrix with shortest path lengths"
   ]
  },
  {
   "cell_type": "code",
   "execution_count": 154,
   "metadata": {},
   "outputs": [
    {
     "name": "stderr",
     "output_type": "stream",
     "text": [
      "C:\\Users\\satt-\\AppData\\Local\\Temp\\ipykernel_29976\\1289070141.py:1: RuntimeWarning: divide by zero encountered in true_divide\n",
      "  distances = 1 / (synonym_graph + window_graph)\n",
      "100%|██████████| 687/687 [00:00<00:00, 1252.46it/s]\n"
     ]
    }
   ],
   "source": [
    "distances = 1 / (synonym_graph + window_graph)\n",
    "np.fill_diagonal(distances, 0)\n",
    "\n",
    "def shortest(dist):\n",
    "    N = dist.shape[0]\n",
    "    \n",
    "    @numba.jit\n",
    "    def helper(dist, N, k):\n",
    "        for i in range(N):\n",
    "            for j in range(N):\n",
    "                dist[i][j] = min(dist[i][j], dist[i][k] + dist[k][j])\n",
    "\n",
    "    for k in tqdm.trange(N):\n",
    "        helper(dist, N, k)\n",
    "\n",
    "shortest(distances)"
   ]
  },
  {
   "cell_type": "markdown",
   "metadata": {},
   "source": [
    "## 6. MDS"
   ]
  },
  {
   "cell_type": "code",
   "execution_count": 155,
   "metadata": {},
   "outputs": [],
   "source": [
    "@numba.jit\n",
    "def mds(matD, k):\n",
    "    N = matD.shape[0]\n",
    "    matJ = np.eye(N) - np.ones((N, N)) / N\n",
    "    matG = -0.5 * matJ @ (matD ** 2) @ matJ\n",
    "    vecL, matP = la.eigh(matG)\n",
    "    vecL[vecL < 0] = 0\n",
    "    return matP[:,-k:], vecL[-k:]\n",
    "\n",
    "def embed_graph(distances, k):\n",
    "    p, l = mds(distances, k)\n",
    "    result = p @ np.diag(np.sqrt(l))\n",
    "    result -= np.mean(result, axis=0)\n",
    "    return result"
   ]
  },
  {
   "cell_type": "markdown",
   "metadata": {},
   "source": [
    "Порядок слов."
   ]
  },
  {
   "cell_type": "markdown",
   "metadata": {},
   "source": []
  },
  {
   "cell_type": "code",
   "execution_count": 157,
   "metadata": {},
   "outputs": [
    {
     "data": {
      "image/png": "[encoded data removed]",
      "text/plain": [
       "<Figure size 864x576 with 1 Axes>"
      ]
     },
     "metadata": {
      "needs_background": "light"
     },
     "output_type": "display_data"
    }
   ],
   "source": [
    "k=20\n",
    "word_to_vec = embed_graph(distances, k)\n",
    "\n",
    "plt.figure(figsize=(12,8))\n",
    "plt.scatter(*embed_graph(distances, 2).transpose())\n",
    "plt.show()"
   ]
  },
  {
   "cell_type": "code",
   "execution_count": 158,
   "metadata": {},
   "outputs": [
    {
     "name": "stdout",
     "output_type": "stream",
     "text": [
      "0\t0.48000000 0.96348787 0.92373690\tA person is on a baseball team.\tA person is playing basketball on a team.\n",
      "1\t0.04000000 0.33965157 0.63757388\tOur current vehicles will be in museums when everyone has their own aircraft.\tThe car needs to some work\n",
      "2\t0.20000000 0.55735866 0.83476240\tA woman supervisor is instructing the male workers.\tA woman is working as a nurse.\n",
      "3\t0.40000000 0.88529445 0.81605440\tA bike is next to a couple women.\tA child next to a bike.\n",
      "4\t0.44000000 0.58378775 0.82062957\tThe group is eating while taking in a breathtaking view.\tA group of people take a look at an unusual tree.\n",
      "5\t0.68000000 0.90954946 0.95368330\tThe boy is raising his hand.\tThe man is raising his hand.\n",
      "6\t0.16000000 0.82931528 0.81375333\tA man with a gray beard is being shaved in front of a lecture hall\tA man with a beard is sitting in the grass.\n",
      "7\t0.08000000 0.54155012 0.79174104\tThe sky has very little to no clouds.\tThis Lady might be ready for Rock Climbing, or just watching the Clouds, above.\n",
      "8\t0.08000000 0.45687939 0.82175876\tThe young boy jumps barefoot outside in the front yard.\tThe teen rode his bike around the people walking in the courtyard.\n",
      "9\t0.80000000 0.94101010 1.00000000\tThere are dogs in the forest.\tThe dogs are alone in the forest.\n",
      "10\t0.68000000 0.51053679 0.89715342\tSome cyclists stop near a sign.\tTwo men stop to talk near a sign outside.\n",
      "11\t0.60000000 0.87741202 0.89762799\tThese cooks in the white are busy in the kitchen making dinner for their customers.\tThe women are preparing dinner in their kitchen.\n"
     ]
    }
   ],
   "source": [
    "nlp = spacy.load('en_core_web_lg')\n",
    "\n",
    "with open('train.txt') as f:\n",
    "    train = np.array([float(line.strip()) for line in f])\n",
    "\n",
    "for i, (s1, s2) in enumerate(sentences_test):\n",
    "    v1 = np.mean(word_to_vec[s1,:], axis=0)\n",
    "    v2 = np.mean(word_to_vec[s2,:], axis=0)\n",
    "    d = (cosine_similarity([v1], [v2])[0,0]+1)/2.\n",
    "    #print(d.shape)\n",
    "    sent1, sent2 = lines_test[i].split('\\t')\n",
    "    sent1 = nlp(sent1)\n",
    "    sent1 = nlp(' '.join([str(t) for t in sent1 if not t.is_stop]))\n",
    "    sent2 = nlp(sent2)\n",
    "    sent2 = nlp(' '.join([str(t) for t in sent2 if not t.is_stop]))\n",
    "    #sent1 = nlp(' '.join([word for word in sent1 if word not in english_stopwords]))\n",
    "    #sent2 = nlp(' '.join([word for word in sent2 if word not in english_stopwords]))\n",
    "    similarity = sent1.similarity(sent2)\n",
    "    #if similarity < 0.4:\n",
    "    print(i, \"{:1.8f} {:1.8f} {:1.8f}\".format(train[i] / 5, d, similarity), lines_test[i], sep='\\t')\n",
    "    if i > 10:\n",
    "        break"
   ]
  },
  {
   "cell_type": "code",
   "execution_count": 159,
   "metadata": {},
   "outputs": [
    {
     "name": "stdout",
     "output_type": "stream",
     "text": [
      "[0.9237369  0.63757388 0.8347624  0.8160544  0.82062957 0.9536833\n",
      " 0.81375333 0.79174104 0.82175876 1.        ]\n",
      "[0.96348787 0.33965157 0.55735866 0.88529445 0.58378775 0.90954946\n",
      " 0.82931528 0.54155012 0.45687939 0.9410101 ]\n"
     ]
    }
   ],
   "source": [
    "our_simlarity_n = 1-np.array([dist.cosine(np.mean(word_to_vec[s1,:], axis=0), np.mean(word_to_vec[s2,:], axis=0)) for (s1, s2) in sentences_test])/2\n",
    "spacy_similarity_n = np.array([nlp(' '.join([str(t) for t in nlp(sent2) if not t.is_stop])).similarity(nlp(' '.join([str(t) for t in nlp(sent1) if not t.is_stop]))) for (sent1, sent2) in [s.split('\\t') for s in lines_test]])\n",
    "print(spacy_similarity_n[:10])\n",
    "\n",
    "print(our_simlarity_n[:10])\n"
   ]
  },
  {
   "cell_type": "code",
   "execution_count": 79,
   "metadata": {},
   "outputs": [
    {
     "name": "stdout",
     "output_type": "stream",
     "text": [
      "0.16965264574028385\n",
      "0.007678251653702461\n",
      "0.7751361274991766\n"
     ]
    }
   ],
   "source": [
    "train_n = train/5  \n",
    "spacy_similarity_scaled = (spacy_similarity_n-0.35)/0.65\n",
    "print(np.mean(((spacy_similarity_scaled-train_n)**2)))\n",
    "\n",
    "print(np.mean(((spacy_similarity_n-np.mean(spacy_similarity_n))**2)))\n",
    "print(np.mean(spacy_similarity_n**2))"
   ]
  },
  {
   "cell_type": "code",
   "execution_count": 160,
   "metadata": {},
   "outputs": [
    {
     "name": "stdout",
     "output_type": "stream",
     "text": [
      "0.16965264574028385\n",
      "0.007678251653702461\n",
      "0.7751361274991766\n",
      "n\n",
      "0.10003585551639792\n",
      "0.2299975111999682\n",
      "0.06236852391124974\n",
      "0.0389909913319897\n",
      "0.08105832959999999\n"
     ]
    }
   ],
   "source": [
    "train_n = train/5  \n",
    "spacy_similarity_scaled = (spacy_similarity_n-0.35)/0.65\n",
    "print(np.mean(((spacy_similarity_scaled-train_n)**2)))\n",
    "\n",
    "print(np.mean(((spacy_similarity_n-np.mean(spacy_similarity_n))**2)))\n",
    "print(np.mean(spacy_similarity_n**2))\n",
    "\n",
    "print('n')\n",
    "print(np.mean(((our_simlarity_n**4-train_n)**2)))\n",
    "print(np.mean(((spacy_similarity_n-train_n)**2)))\n",
    "print(np.mean(((spacy_similarity_n**4-train_n)**2)))\n",
    "print(np.mean(((spacy_similarity_n-our_simlarity_n)**2)))\n",
    "t = np.mean(train_n)\n",
    "print(np.mean(((train_n-t)**2)))"
   ]
  },
  {
   "cell_type": "code",
   "execution_count": 77,
   "metadata": {},
   "outputs": [
    {
     "name": "stdout",
     "output_type": "stream",
     "text": [
      "0.12356045019689534\n",
      "0.2299975111999682\n",
      "0.06236852391124974\n",
      "0.040218339193988074\n",
      "0.08105832959999999\n"
     ]
    }
   ],
   "source": [
    " # _n for normalized\n",
    "print(np.mean(((our_simlarity_n**4-train_n)**2)))\n",
    "print(np.mean(((spacy_similarity_n-train_n)**2)))\n",
    "print(np.mean(((spacy_similarity_n**4-train_n)**2)))\n",
    "print(np.mean(((spacy_similarity_n-our_simlarity_n)**2)))\n",
    "t = np.mean(train_n)\n",
    "print(np.mean(((train_n-t)**2)))"
   ]
  },
  {
   "cell_type": "code",
   "execution_count": null,
   "metadata": {},
   "outputs": [],
   "source": []
  },
  {
   "cell_type": "code",
   "execution_count": null,
   "metadata": {},
   "outputs": [],
   "source": []
  }
 ],
 "metadata": {
  "interpreter": {
   "hash": "f07a3c1acea75c2d4c353e9cd3dd42ec72fb863baf9770b89be62cf6c327390c"
  },
  "kernelspec": {
   "display_name": "Python 3.8.5 ('base')",
   "language": "python",
   "name": "python3"
  },
  "language_info": {
   "codemirror_mode": {
    "name": "ipython",
    "version": 3
   },
   "file_extension": ".py",
   "mimetype": "text/x-python",
   "name": "python",
   "nbconvert_exporter": "python",
   "pygments_lexer": "ipython3",
   "version": "3.9.10"
  },
  "orig_nbformat": 4
 },
 "nbformat": 4,
 "nbformat_minor": 2
}
