{
 "cells": [
  {
   "cell_type": "markdown",
   "metadata": {},
   "source": [
    "## 0. Import all the libraries"
   ]
  },
  {
   "cell_type": "code",
   "execution_count": 2,
   "metadata": {},
   "outputs": [
    {
     "name": "stderr",
     "output_type": "stream",
     "text": [
      "[nltk_data] Downloading package stopwords to /home/leonid/nltk_data...\n",
      "[nltk_data]   Package stopwords is already up-to-date!\n",
      "[nltk_data] Downloading package wordnet to /home/leonid/nltk_data...\n",
      "[nltk_data]   Package wordnet is already up-to-date!\n",
      "[nltk_data] Downloading package omw-1.4 to /home/leonid/nltk_data...\n",
      "[nltk_data]   Package omw-1.4 is already up-to-date!\n"
     ]
    },
    {
     "data": {
      "text/plain": [
       "True"
      ]
     },
     "execution_count": 2,
     "metadata": {},
     "output_type": "execute_result"
    }
   ],
   "source": [
    "import numpy as np\n",
    "import numpy.linalg as la\n",
    "import nltk\n",
    "from nltk.corpus import stopwords\n",
    "from nltk.corpus import wordnet\n",
    "from nltk.stem import WordNetLemmatizer\n",
    "import string\n",
    "import tqdm\n",
    "import numba\n",
    "import matplotlib.pyplot as plt\n",
    "import scipy.spatial.distance as dist\n",
    "import spacy\n",
    "import sklearn\n",
    "from sklearn.metrics.pairwise import cosine_similarity\n",
    "nltk.download('stopwords')\n",
    "nltk.download('wordnet')\n",
    "nltk.download('omw-1.4')"
   ]
  },
  {
   "cell_type": "markdown",
   "metadata": {},
   "source": [
    "## 1. DATA PREPARATION"
   ]
  },
  {
   "cell_type": "markdown",
   "metadata": {},
   "source": [
    "### 1.1 Datasets loading\n",
    "USE_TRAIN is used to \"train\" our graph on some adiitional data.\n",
    "We print first 10 pairs to give you an example."
   ]
  },
  {
   "cell_type": "code",
   "execution_count": 3,
   "metadata": {},
   "outputs": [
    {
     "name": "stdout",
     "output_type": "stream",
     "text": [
      "250\n"
     ]
    }
   ],
   "source": [
    "USE_TRAIN = True\n",
    "with open('input.txt') as f:\n",
    "    lines_test = [line.strip() for line in f]\n",
    "with open('movies_text.txt') as f:\n",
    "    lines_train = [line.strip() for line in f]\n",
    "\n",
    "print(len(lines_test))\n",
    "#lines_train = lines_train[:30]\n",
    "#print(lines_movies[:10])"
   ]
  },
  {
   "cell_type": "markdown",
   "metadata": {},
   "source": [
    "### 1.2 Preprocessing : remove punctuation, stopwords and lemmatize\n",
    "We will work with sentences without punctuation marks. We also remove stopwords and lemmatize all the words."
   ]
  },
  {
   "cell_type": "code",
   "execution_count": 4,
   "metadata": {},
   "outputs": [],
   "source": [
    "stopwords_en = stopwords.words('english')\n",
    "translation_table = str.maketrans('', '', string.punctuation)\n",
    "lemmatizer = WordNetLemmatizer()\n",
    "lemmas = set(wordnet.all_lemma_names())\n",
    "\n",
    "words = dict()\n",
    "test_words = dict()\n",
    "sentences_test = list()\n",
    "\n",
    "for line in lines_test:\n",
    "    s1, s2 = line.split('\\t')\n",
    "\n",
    "    v1 = []\n",
    "    v2 = []\n",
    "\n",
    "    for s, v in [(s1, v1), (s2, v2)]:\n",
    "        for w in s.split():\n",
    "            w = w.lower().translate(translation_table)\n",
    "            if w in stopwords_en:\n",
    "                continue\n",
    "            w = lemmatizer.lemmatize(w)\n",
    "            if w not in lemmas:\n",
    "                continue\n",
    "            words.setdefault(w, len(words))\n",
    "            test_words.setdefault(w, len(test_words))\n",
    "            v.append(words[w])\n",
    "\n",
    "    sentences_test.append((v1, v2))\n",
    "\n",
    "sentences_train = list()\n",
    "if USE_TRAIN:\n",
    "    for s in lines_train:\n",
    "        #s1, s2 = line.split('\\t')\n",
    "        \n",
    "        v = []\n",
    "        \n",
    "\n",
    "        for w in s.split():\n",
    "            w = w.lower().translate(translation_table)\n",
    "            if w in stopwords_en:\n",
    "                continue\n",
    "            w = lemmatizer.lemmatize(w)\n",
    "            if w not in lemmas:\n",
    "                continue\n",
    "            \n",
    "            words.setdefault(w, len(words))\n",
    "            v.append(words[w])\n",
    "\n",
    "        sentences_train.append(v)\n",
    "    \n"
   ]
  },
  {
   "cell_type": "code",
   "execution_count": 5,
   "metadata": {},
   "outputs": [
    {
     "name": "stdout",
     "output_type": "stream",
     "text": [
      "18669\n",
      "687\n"
     ]
    }
   ],
   "source": [
    "print(len(words.keys()))\n",
    "print(len(test_words.keys()))\n"
   ]
  },
  {
   "cell_type": "markdown",
   "metadata": {},
   "source": [
    "## 2. Main Algorithm"
   ]
  },
  {
   "cell_type": "markdown",
   "metadata": {},
   "source": [
    "### 2.1 Make synonyms graph\n",
    "First, we create a graph representing synonyms. For that, we use **wordnet** synonyms.\n",
    "\n",
    "In **synonym_graph**, synonym_graph[i][j] is 1, iff the word words[i] and the word words[j] are synonyms."
   ]
  },
  {
   "cell_type": "code",
   "execution_count": 6,
   "metadata": {},
   "outputs": [],
   "source": [
    "synonym_graph = np.zeros((len(words), len(words)))\n",
    "\n",
    "def set_of_synonyms(word):\n",
    "    synonyms = []\n",
    "    for syn in wordnet.synsets(word):\n",
    "        for l in syn.lemmas():\n",
    "            syn_word = l.name()\n",
    "            if syn_word in stopwords_en:\n",
    "                continue\n",
    "            syn_word = lemmatizer.lemmatize(syn_word)\n",
    "            synonyms.append(syn_word)\n",
    "    return set(synonyms)\n",
    "\n",
    "for word, idx in words.items():\n",
    "    for syn in set_of_synonyms(word):\n",
    "        if syn not in words:\n",
    "            continue\n",
    "        syn_idx = words[syn]\n",
    "        synonym_graph[idx][syn_idx] = 1\n",
    "        synonym_graph[syn_idx][idx] = 1\n",
    "if USE_TRAIN:\n",
    "    synonym_graph = synonym_graph[:len(test_words), :len(test_words)]\n"
   ]
  },
  {
   "cell_type": "markdown",
   "metadata": {},
   "source": [
    "We give you an example of a set of synonyms for the first word in the dictionary.\n",
    "\n",
    "We see that there are 3 synonyms for \"person\" in the corpus."
   ]
  },
  {
   "cell_type": "code",
   "execution_count": 7,
   "metadata": {},
   "outputs": [
    {
     "name": "stdout",
     "output_type": "stream",
     "text": [
      "person\n",
      "{'soul', 'someone', 'person', 'somebody', 'mortal', 'individual'}\n",
      "3.0\n"
     ]
    }
   ],
   "source": [
    "print(list(words.keys())[0])\n",
    "print(set_of_synonyms(list(words.keys())[0]))\n",
    "print(sum(synonym_graph[0]))"
   ]
  },
  {
   "cell_type": "markdown",
   "metadata": {},
   "source": [
    "### 2.2 Make sliding window graph\n",
    "Now, we create a sliding window graph.\n",
    "\n",
    "**window_size** is a parameter. Each time two words words[i] and words[j] are in sliding window, we add 1 to window_graph[i][j]."
   ]
  },
  {
   "cell_type": "code",
   "execution_count": 8,
   "metadata": {},
   "outputs": [],
   "source": [
    "window_size = 3\n",
    "\n",
    "window_graph_train = np.zeros((len(words), len(words)))\n",
    "\n",
    "for ss in sentences_test:\n",
    "    for s in ss:\n",
    "        window = []\n",
    "        for i in range(len(s)):\n",
    "            window = window[-(window_size - 1):]\n",
    "            v1 = s[i]\n",
    "            for v2 in window:\n",
    "                window_graph_train[v1][v2] += 1\n",
    "                window_graph_train[v2][v1] += 1\n",
    "            window.append(v1)\n",
    "if USE_TRAIN:\n",
    "    for s in sentences_train:\n",
    "        window = []\n",
    "        for i in range(len(s)):\n",
    "            window = window[-(window_size - 1):]\n",
    "            v1 = s[i]\n",
    "            for v2 in window:\n",
    "                window_graph_train[v1][v2] += 1\n",
    "                window_graph_train[v2][v1] += 1\n",
    "            window.append(v1)\n",
    "if USE_TRAIN:\n",
    "    window_graph = window_graph_train[:len(test_words), :len(test_words)]\n",
    "else:\n",
    "    window_graph = window_graph_train"
   ]
  },
  {
   "cell_type": "code",
   "execution_count": 9,
   "metadata": {},
   "outputs": [
    {
     "name": "stdout",
     "output_type": "stream",
     "text": [
      "(687, 687)\n"
     ]
    }
   ],
   "source": [
    "print(window_graph.shape)"
   ]
  },
  {
   "cell_type": "markdown",
   "metadata": {},
   "source": [
    "### 2.3 Make Spacy dependency tree graph"
   ]
  },
  {
   "cell_type": "markdown",
   "metadata": {},
   "source": [
    "Here we create a graph representing sentence syntactic.\n",
    "\n",
    "We work with **spaCy** dependency trees. **spaCy** uses the terms head and child to describe the words connected by a single arc in the dependency tree. Because the syntactic relations form a tree, every word has exactly one head. We can therefore iterate over the arcs in the tree by iterating over the words in the sentence."
   ]
  },
  {
   "cell_type": "code",
   "execution_count": 10,
   "metadata": {},
   "outputs": [],
   "source": [
    "dependency_graph = np.zeros((len(test_words), len(test_words)))\n",
    "translation_table = str.maketrans('', '', string.punctuation)\n",
    "\n",
    "nlp = spacy.load(\"en_core_web_lg\")\n",
    "\n",
    "for i in range(len(lines_test)):\n",
    "    sent1, sent2 = lines_test[i].split('\\t')\n",
    "    sent1 = ' '.join([w for w in sent1.split()])\n",
    "    sent2 = ' '.join([w for w in sent2.split()])\n",
    "    sent1 = nlp(sent1)\n",
    "    sent2 = nlp(sent2)\n",
    "\n",
    "    for s in [sent1, sent2]:\n",
    "        for w in s: #iteration over the words in the sentence\n",
    "            w1 = w.text.lower().translate(translation_table)\n",
    "            w2 = w.head.text.lower().translate(translation_table)\n",
    "\n",
    "            if (not w1 in stopwords_en) & (not w2 in stopwords_en) & (w.dep_ != \"ROOT\") & (w.dep_ != \"punct\"):\n",
    "                w1 = lemmatizer.lemmatize(w1)\n",
    "                w2 = lemmatizer.lemmatize(w2)\n",
    "                if (w1 in test_words) & (w2 in test_words):\n",
    "                    dependency_graph[test_words[w1]][test_words[w2]] += 1\n",
    "                    dependency_graph[test_words[w2]][test_words[w2]] += 1"
   ]
  },
  {
   "cell_type": "markdown",
   "metadata": {},
   "source": [
    "We show you the number of words in syntactic dependacies with \"person\" in the corpus."
   ]
  },
  {
   "cell_type": "code",
   "execution_count": 11,
   "metadata": {},
   "outputs": [
    {
     "name": "stdout",
     "output_type": "stream",
     "text": [
      "19.0\n"
     ]
    }
   ],
   "source": [
    "print(sum(dependency_graph[0]))"
   ]
  },
  {
   "cell_type": "markdown",
   "metadata": {},
   "source": [
    "### 2.4 Combine synonym, window graphs and dependency graph\n",
    "\n",
    "Now, in order to use the information on synonyms, word order in sentences and syntactic dependencies, we put 3 graps together.\n",
    "\n",
    "Then we complete distance matrix with shortest path lengths."
   ]
  },
  {
   "cell_type": "code",
   "execution_count": 16,
   "metadata": {},
   "outputs": [
    {
     "name": "stdout",
     "output_type": "stream",
     "text": [
      "(687, 687) (687, 687) (687, 687)\n"
     ]
    },
    {
     "name": "stderr",
     "output_type": "stream",
     "text": [
      "100%|██████████| 687/687 [00:00<00:00, 2573.73it/s]\n",
      "100%|██████████| 687/687 [00:00<00:00, 1772.90it/s]"
     ]
    },
    {
     "name": "stdout",
     "output_type": "stream",
     "text": [
      "Distances graph is connected\n"
     ]
    },
    {
     "name": "stderr",
     "output_type": "stream",
     "text": [
      "C:\\Users\\satt-\\AppData\\Local\\Temp\\ipykernel_15804\\3216489757.py:2: RuntimeWarning: divide by zero encountered in true_divide\n",
      "  distances = 1 / (synonym_graph + window_graph + dependency_graph)\n",
      "100%|██████████| 687/687 [00:01<00:00, 388.22it/s]\n"
     ]
    }
   ],
   "source": [
    "print(synonym_graph.shape, window_graph.shape, dependency_graph.shape)\n",
    "distances = 1 / (synonym_graph + window_graph + dependency_graph + 1)\n",
    "#gr_max = np.max(synonym_graph + window_graph + dependency_graph)\n",
    "#distances = gr_max - (synonym_graph + window_graph + dependency_graph) + 1\n",
    "for i in range(distances.shape[0]):\n",
    "    for j in range(distances.shape[0]):\n",
    "        if distances[i][j] == 1:\n",
    "            distances[i][j] = -1.0\n",
    "\n",
    "np.fill_diagonal(distances, 0)\n",
    "\n",
    "def floyd_warshall(dist):\n",
    "    n = dist.shape[0]\n",
    "    for u in tqdm.trange(n):\n",
    "        for v in range(n):\n",
    "            if dist[u][v] == -1.0:\n",
    "                dist[u][v] = 10e6\n",
    "\n",
    "    @numba.jit\n",
    "    def h(dist, n, z):\n",
    "        for u in range(n):\n",
    "            for v in range(n):\n",
    "                if (dist[u][v] > dist[u][z] + dist[z][v]):\n",
    "                    dist[u][v] = dist[u][z] + dist[z][v]\n",
    "\n",
    "    for z in tqdm.trange(n):\n",
    "        h(dist, n, z)\n",
    "        \n",
    "    \n",
    "floyd_warshall(distances)\n",
    "\n",
    "if np.max(distances) == 10e6:\n",
    "    print(\"Distances graph is not connected\")\n",
    "else:\n",
    "    print(\"Distances graph is connected\")"
   ]
  },
  {
   "cell_type": "markdown",
   "metadata": {},
   "source": [
    "### 2.5 Distance Geometry\n",
    "\n",
    "In this part we produce an approximate realisation of $x$.\n",
    "\n",
    "We have an approximate EDMs $\\tilde{D}$ from raw data. Then we compute an approximate Gram matrix:\n",
    "\n",
    "$$ \\tilde{G} = - \\frac{1}{2} J \\tilde{D}^2 J, $$\n",
    "\n",
    "where $J = I_n - \\frac{1}{n}\\mathbb{1}\\mathbb{1}^{T}$.\n",
    "\n",
    "Having spectral decomposition of $\\tilde{G} = P \\tilde{\\Lambda} P^{T}$, we find $\\Lambda$ the PSD diagonal matrix closest to $\\tilde{\\Lambda}$.\n",
    "\n",
    "$\\Lambda$ is obtained from $\\tilde{\\Lambda}$ by zeroing negative components.\n",
    "\n",
    "So, finally, $x = P \\sqrt{\\Lambda}$.\n",
    "\n",
    "To move $x$ to $0$, we reduce it by its mean. "
   ]
  },
  {
   "cell_type": "code",
   "execution_count": 13,
   "metadata": {},
   "outputs": [],
   "source": [
    "@numba.jit\n",
    "def mds(matD, k):\n",
    "    N = matD.shape[0]\n",
    "    matJ = np.eye(N) - np.ones((N, N)) / N\n",
    "    matG = -0.5 * matJ @ (matD ** 2) @ matJ\n",
    "    vecL, matP = la.eigh(matG)\n",
    "    vecL[vecL < 0] = 0\n",
    "    return matP[:,-k:], vecL[-k:]\n",
    "\n",
    "def embed_graph(distances, k):\n",
    "    p, l = mds(distances, k)\n",
    "    result = p @ np.diag(np.sqrt(l))\n",
    "    result -= np.mean(result, axis=0)\n",
    "    return result"
   ]
  },
  {
   "cell_type": "code",
   "execution_count": 21,
   "metadata": {},
   "outputs": [
    {
     "name": "stderr",
     "output_type": "stream",
     "text": [
      "100%|██████████| 687/687 [00:01<00:00, 473.84it/s]\n"
     ]
    }
   ],
   "source": [
    "import sys\n",
    "\n",
    "with open('dist_graph.dat', 'w') as f:\n",
    "    #sys.stdout = f # Change the standard output to the file we created.\n",
    "    f.write(\"param Kdim := 3;\\nparam n := {};\\nparam : E : c I :=\\n\".format(distances.shape[0]))\n",
    "    for i in tqdm.trange(distances.shape[0]):\n",
    "        for j in range(distances.shape[0]):\n",
    "            if i-j==0:\n",
    "                continue\n",
    "            f.write(\"{} {} {} 1\\n\".format(i+1, j+1, distances[i, j]))\n",
    "    f.write(\";\")\n",
    "    f.close()"
   ]
  },
  {
   "cell_type": "code",
   "execution_count": 18,
   "metadata": {},
   "outputs": [
    {
     "name": "stderr",
     "output_type": "stream",
     "text": [
      "*******************************************************************************\n",
      "* Please make sure that the AMPL folder is in the system search path, or      *\n",
      "* specify the path via:                                                       *\n",
      "*     AMPL(Environment('full path to the AMPL installation directory'))       *\n",
      "*******************************************************************************\n"
     ]
    },
    {
     "ename": "RuntimeError",
     "evalue": "AMPL could not be started. Message from process thread:\ncannot execute ampl: No such file or directory\n\n",
     "output_type": "error",
     "traceback": [
      "\u001b[0;31m---------------------------------------------------------------------------\u001b[0m",
      "\u001b[0;31mRuntimeError\u001b[0m                              Traceback (most recent call last)",
      "\u001b[0;32m<ipython-input-18-e6722be12b23>\u001b[0m in \u001b[0;36m<module>\u001b[0;34m\u001b[0m\n\u001b[1;32m      1\u001b[0m \u001b[0;32mfrom\u001b[0m \u001b[0mamplpy\u001b[0m \u001b[0;32mimport\u001b[0m \u001b[0mAMPL\u001b[0m\u001b[0;34m\u001b[0m\u001b[0;34m\u001b[0m\u001b[0m\n\u001b[1;32m      2\u001b[0m \u001b[0;32mimport\u001b[0m \u001b[0mnumpy\u001b[0m \u001b[0;32mas\u001b[0m \u001b[0mnp\u001b[0m\u001b[0;34m\u001b[0m\u001b[0;34m\u001b[0m\u001b[0m\n\u001b[0;32m----> 3\u001b[0;31m \u001b[0mlp\u001b[0m \u001b[0;34m=\u001b[0m \u001b[0mAMPL\u001b[0m\u001b[0;34m(\u001b[0m\u001b[0;34m)\u001b[0m\u001b[0;34m\u001b[0m\u001b[0;34m\u001b[0m\u001b[0m\n\u001b[0m\u001b[1;32m      4\u001b[0m \u001b[0mlp\u001b[0m\u001b[0;34m.\u001b[0m\u001b[0mread\u001b[0m\u001b[0;34m(\u001b[0m\u001b[0;34m\"dgp1.mod\"\u001b[0m\u001b[0;34m)\u001b[0m\u001b[0;34m\u001b[0m\u001b[0;34m\u001b[0m\u001b[0m\n\u001b[1;32m      5\u001b[0m \u001b[0mlp\u001b[0m\u001b[0;34m.\u001b[0m\u001b[0mreadData\u001b[0m\u001b[0;34m(\u001b[0m\u001b[0;34m\"dist_graph.dat\"\u001b[0m\u001b[0;34m)\u001b[0m\u001b[0;34m\u001b[0m\u001b[0;34m\u001b[0m\u001b[0m\n",
      "\u001b[0;32m~/anaconda3/lib/python3.8/site-packages/amplpy/ampl.py\u001b[0m in \u001b[0;36m__init__\u001b[0;34m(self, environment, langext)\u001b[0m\n\u001b[1;32m     90\u001b[0m         \u001b[0;32mif\u001b[0m \u001b[0menvironment\u001b[0m \u001b[0;32mis\u001b[0m \u001b[0;32mNone\u001b[0m\u001b[0;34m:\u001b[0m\u001b[0;34m\u001b[0m\u001b[0;34m\u001b[0m\u001b[0m\n\u001b[1;32m     91\u001b[0m             \u001b[0;32mtry\u001b[0m\u001b[0;34m:\u001b[0m\u001b[0;34m\u001b[0m\u001b[0;34m\u001b[0m\u001b[0m\n\u001b[0;32m---> 92\u001b[0;31m                 \u001b[0mself\u001b[0m\u001b[0;34m.\u001b[0m\u001b[0m_impl\u001b[0m \u001b[0;34m=\u001b[0m \u001b[0mamplpython\u001b[0m\u001b[0;34m.\u001b[0m\u001b[0mAMPL\u001b[0m\u001b[0;34m(\u001b[0m\u001b[0;34m)\u001b[0m\u001b[0;34m\u001b[0m\u001b[0;34m\u001b[0m\u001b[0m\n\u001b[0m\u001b[1;32m     93\u001b[0m             \u001b[0;32mexcept\u001b[0m \u001b[0mRuntimeError\u001b[0m \u001b[0;32mas\u001b[0m \u001b[0mexp\u001b[0m\u001b[0;34m:\u001b[0m\u001b[0;34m\u001b[0m\u001b[0;34m\u001b[0m\u001b[0m\n\u001b[1;32m     94\u001b[0m                 \u001b[0;32mif\u001b[0m \u001b[0mstr\u001b[0m\u001b[0;34m(\u001b[0m\u001b[0mexp\u001b[0m\u001b[0;34m)\u001b[0m\u001b[0;34m.\u001b[0m\u001b[0mstartswith\u001b[0m\u001b[0;34m(\u001b[0m\u001b[0;34m'AMPL could not be started'\u001b[0m\u001b[0;34m)\u001b[0m\u001b[0;34m:\u001b[0m\u001b[0;34m\u001b[0m\u001b[0;34m\u001b[0m\u001b[0m\n",
      "\u001b[0;31mRuntimeError\u001b[0m: AMPL could not be started. Message from process thread:\ncannot execute ampl: No such file or directory\n\n"
     ]
    }
   ],
   "source": [
    "from amplpy import AMPL\n",
    "import numpy as np\n",
    "lp = AMPL()\n",
    "lp.read(\"dgp1.mod\")\n",
    "lp.readData(\"dist_graph.dat\")\n",
    "lp.setOption(\"solver\", \"baron\")\n",
    "lp.setOption(\"baron_options\", \"outlev=1 epsr=1e-3 prfreq=1e3 maxtime=30\")\n",
    "lp.solve()\n",
    "ndata = lp.getData(\"n\")\n",
    "n = int(ndata.getRowByIndex(0)[0])\n",
    "solveres = lp.getData(\"solve_result\")\n",
    "solve_result = solveres.getRowByIndex(0)[0]\n",
    "objfun = lp.getObjective(\"objfun\")\n",
    "objfunval = objfun.value()\n",
    "xvar = lp.getVariable(\"x\")\n",
    "x = np.zeros(n)\n",
    "for j in range(n):\n",
    "    x[j] = xvar[j+1].value()"
   ]
  },
  {
   "cell_type": "markdown",
   "metadata": {},
   "source": [
    "## 3. Results"
   ]
  },
  {
   "cell_type": "markdown",
   "metadata": {},
   "source": [
    "Next plot gives us a visualisation of the result on 2D. Then we will use k = 20 dimensions."
   ]
  },
  {
   "cell_type": "code",
   "execution_count": null,
   "metadata": {},
   "outputs": [
    {
     "data": {
      "image/png": "[encoded data removed]",
      "text/plain": [
       "<Figure size 864x576 with 1 Axes>"
      ]
     },
     "metadata": {
      "needs_background": "light"
     },
     "output_type": "display_data"
    }
   ],
   "source": [
    "k=20\n",
    "word_to_vec = embed_graph(distances, k)\n",
    "\n",
    "plt.figure(figsize=(12,8))\n",
    "plt.scatter(*embed_graph(distances, 2).transpose())\n",
    "plt.show()"
   ]
  },
  {
   "cell_type": "code",
   "execution_count": null,
   "metadata": {},
   "outputs": [
    {
     "name": "stdout",
     "output_type": "stream",
     "text": [
      "0\t0.48000000 0.94156624 0.92373690\tA person is on a baseball team.\tA person is playing basketball on a team.\n",
      "1\t0.04000000 0.25670171 0.63757388\tOur current vehicles will be in museums when everyone has their own aircraft.\tThe car needs to some work\n",
      "2\t0.20000000 0.80244938 0.83476240\tA woman supervisor is instructing the male workers.\tA woman is working as a nurse.\n",
      "3\t0.40000000 0.99061102 0.81605440\tA bike is next to a couple women.\tA child next to a bike.\n",
      "4\t0.44000000 0.21022356 0.82062957\tThe group is eating while taking in a breathtaking view.\tA group of people take a look at an unusual tree.\n",
      "5\t0.68000000 0.99962773 0.95368330\tThe boy is raising his hand.\tThe man is raising his hand.\n",
      "6\t0.16000000 0.54547521 0.81375333\tA man with a gray beard is being shaved in front of a lecture hall\tA man with a beard is sitting in the grass.\n",
      "7\t0.08000000 0.80556245 0.79174104\tThe sky has very little to no clouds.\tThis Lady might be ready for Rock Climbing, or just watching the Clouds, above.\n",
      "8\t0.08000000 0.48166869 0.82175876\tThe young boy jumps barefoot outside in the front yard.\tThe teen rode his bike around the people walking in the courtyard.\n",
      "9\t0.80000000 0.99879543 1.00000000\tThere are dogs in the forest.\tThe dogs are alone in the forest.\n",
      "10\t0.68000000 0.28158828 0.89715342\tSome cyclists stop near a sign.\tTwo men stop to talk near a sign outside.\n",
      "11\t0.60000000 0.98608793 0.89762799\tThese cooks in the white are busy in the kitchen making dinner for their customers.\tThe women are preparing dinner in their kitchen.\n",
      "12\t0.92000000 0.99868841 0.96076984\tA young person  deep in thought.\tA young man deep in thought.\n",
      "13\t0.36000000 1.00000000 0.99999995\tA man is carrying a canoe with a dog.\tA dog is carrying a man in a canoe.\n",
      "14\t0.56000000 0.99860145 0.88919104\tA man is performing labor.\tA man is performing today.\n",
      "15\t0.40000000 0.85930767 0.90401770\tTwo men wearing traditional clothing is standing outside.\tThree women wearing black vests and gray shirts are talking outside of a building.\n",
      "16\t0.44000000 0.94205601 0.81789478\ta woman watches a rap group live\tAn audience watches a girl dance.\n",
      "17\t0.72000000 0.99702997 0.96524848\tA girl dancing on a sandy beach.\tA girl is on a sandy beach.\n",
      "18\t0.52000000 0.79728138 0.90722572\ta man wearing a gray hat fishing out of a fishing boat.\tA man wearing a straw hat and fishing vest in a stream.\n",
      "19\t0.04000000 0.55409273 0.81878744\tA little girl in an orange striped outfit is airborne whilst bouncing on a bed.\tA dog in a red shirt is chasing a squirrel through the glass.\n",
      "20\t0.28000000 0.97826730 0.86201471\tA person is watching people ski down the hill.\tThe woman is jumping a long distance while people watch.\n",
      "21\t0.32000000 0.98246304 0.87245755\tThe yard has a dog.\tThe dog is running after another dog.\n"
     ]
    }
   ],
   "source": [
    "N_printed_sents = 20\n",
    "nlp = spacy.load('en_core_web_lg')\n",
    "\n",
    "with open('train.txt') as f:\n",
    "    train = np.array([float(line.strip()) for line in f])\n",
    "\n",
    "for i, (s1, s2) in enumerate(sentences_test):\n",
    "    v1 = np.mean(word_to_vec[s1,:], axis=0)\n",
    "    v2 = np.mean(word_to_vec[s2,:], axis=0)\n",
    "    d = (cosine_similarity([v1], [v2])[0,0]+1)/2.\n",
    "    #print(d.shape)\n",
    "    sent1, sent2 = lines_test[i].split('\\t')\n",
    "    sent1 = nlp(sent1)\n",
    "    sent1 = nlp(' '.join([str(t) for t in sent1 if not t.is_stop]))\n",
    "    sent2 = nlp(sent2)\n",
    "    sent2 = nlp(' '.join([str(t) for t in sent2 if not t.is_stop]))\n",
    "    #sent1 = nlp(' '.join([word for word in sent1 if word not in english_stopwords]))\n",
    "    #sent2 = nlp(' '.join([word for word in sent2 if word not in english_stopwords]))\n",
    "    similarity = sent1.similarity(sent2)\n",
    "    #if similarity < 0.4:\n",
    "    print(i, \"{:1.8f} {:1.8f} {:1.8f}\".format(train[i] / 5, d, similarity), lines_test[i], sep='\\t')\n",
    "    if i > N_printed_sents:\n",
    "        break"
   ]
  },
  {
   "cell_type": "code",
   "execution_count": null,
   "metadata": {},
   "outputs": [
    {
     "name": "stdout",
     "output_type": "stream",
     "text": [
      "[0.9237369  0.63757388 0.8347624  0.8160544  0.82062957 0.9536833\n",
      " 0.81375333 0.79174104 0.82175876 1.        ]\n",
      "[0.94156624 0.25670171 0.80244938 0.99061102 0.21022356 0.99962773\n",
      " 0.54547521 0.80556245 0.48166869 0.99879543]\n"
     ]
    }
   ],
   "source": [
    "our_simlarity_n = 1-np.array([dist.cosine(np.mean(word_to_vec[s1,:], axis=0), np.mean(word_to_vec[s2,:], axis=0)) for (s1, s2) in sentences_test])/2\n",
    "spacy_similarity_n = np.array([nlp(' '.join([str(t) for t in nlp(sent2) if not t.is_stop])).similarity(nlp(' '.join([str(t) for t in nlp(sent1) if not t.is_stop]))) for (sent1, sent2) in [s.split('\\t') for s in lines_test]])\n",
    "print(spacy_similarity_n[:10])\n",
    "\n",
    "print(our_simlarity_n[:10])\n",
    "\n"
   ]
  },
  {
   "cell_type": "markdown",
   "metadata": {},
   "source": [
    "## 3.2 Pearson correlation coefficient\n",
    "To estimate the quality of models we will use this coefficient, which is calculated as follows:\n",
    "$$p_{XY} = \\frac{\\sigma_{XY}}{\\sigma_X \\cdot \\sigma_Y}$$\n",
    "where $p_{XY}$ is the Pearson correlation coefficient, $\\sigma_Y, \\sigma_X$ are standart deviations of $Y$ and $X$, and $\\sigma_{XY}$ is the covariance between $X$ and $Y$ \n"
   ]
  },
  {
   "cell_type": "code",
   "execution_count": null,
   "metadata": {},
   "outputs": [
    {
     "name": "stdout",
     "output_type": "stream",
     "text": [
      "p_xy spacy train =  0.7131287525074839\n",
      "p_xy spacy our_simlarity_n =  0.4945056862125576\n",
      "p_xy our_simlarity_n train =  0.3792281157237955\n"
     ]
    }
   ],
   "source": [
    "#we normalize all the \n",
    "p_xy = np.corrcoef(train, spacy_similarity_n)\n",
    "print(\"p_xy spacy train = \", p_xy[1, 0])\n",
    "p_xy = np.corrcoef(our_simlarity_n, spacy_similarity_n)\n",
    "print(\"p_xy spacy our_simlarity_n = \", p_xy[1, 0])\n",
    "p_xy = np.corrcoef(train, our_simlarity_n)\n",
    "print(\"p_xy our_simlarity_n train = \", p_xy[1, 0])\n"
   ]
  },
  {
   "cell_type": "code",
   "execution_count": null,
   "metadata": {},
   "outputs": [
    {
     "name": "stdout",
     "output_type": "stream",
     "text": [
      "0.16965264574028385\n",
      "0.007678251653702461\n",
      "0.7751361274991766\n"
     ]
    }
   ],
   "source": [
    "train_n = train/5  \n",
    "spacy_similarity_scaled = (spacy_similarity_n-0.35)/0.65\n",
    "print(np.mean(((spacy_similarity_scaled-train_n)**2)))\n",
    "\n",
    "print(np.mean(((spacy_similarity_n-np.mean(spacy_similarity_n))**2)))\n",
    "print(np.mean(spacy_similarity_n**2))"
   ]
  },
  {
   "cell_type": "code",
   "execution_count": null,
   "metadata": {},
   "outputs": [
    {
     "name": "stdout",
     "output_type": "stream",
     "text": [
      "0.16965264574028385\n",
      "0.007678251653702461\n",
      "0.7751361274991766\n",
      "n\n",
      "0.12481882595720994\n",
      "0.2299975111999682\n",
      "0.06236852391124974\n",
      "0.033125609683416726\n",
      "0.08105832959999999\n"
     ]
    }
   ],
   "source": [
    "train_n = train/5  \n",
    "spacy_similarity_scaled = (spacy_similarity_n-0.35)/0.65\n",
    "print(np.mean(((spacy_similarity_scaled-train_n)**2)))\n",
    "\n",
    "print(np.mean(((spacy_similarity_n-np.mean(spacy_similarity_n))**2)))\n",
    "print(np.mean(spacy_similarity_n**2))\n",
    "\n",
    "print('n')\n",
    "print(np.mean(((our_simlarity_n**4-train_n)**2)))\n",
    "print(np.mean(((spacy_similarity_n-train_n)**2)))\n",
    "print(np.mean(((spacy_similarity_n**4-train_n)**2)))\n",
    "print(np.mean(((spacy_similarity_n-our_simlarity_n)**2)))\n",
    "t = np.mean(train_n)\n",
    "print(np.mean(((train_n-t)**2)))"
   ]
  },
  {
   "cell_type": "code",
   "execution_count": null,
   "metadata": {},
   "outputs": [
    {
     "name": "stdout",
     "output_type": "stream",
     "text": [
      "0.12481882595720994\n",
      "0.2299975111999682\n",
      "0.06236852391124974\n",
      "0.033125609683416726\n",
      "0.08105832959999999\n"
     ]
    }
   ],
   "source": [
    " # _n for normalized\n",
    "print(np.mean(((our_simlarity_n**4-train_n)**2)))\n",
    "print(np.mean(((spacy_similarity_n-train_n)**2)))\n",
    "print(np.mean(((spacy_similarity_n**4-train_n)**2)))\n",
    "print(np.mean(((spacy_similarity_n-our_simlarity_n)**2)))\n",
    "t = np.mean(train_n)\n",
    "print(np.mean(((train_n-t)**2)))"
   ]
  },
  {
   "cell_type": "code",
   "execution_count": null,
   "metadata": {},
   "outputs": [],
   "source": []
  },
  {
   "cell_type": "code",
   "execution_count": null,
   "metadata": {},
   "outputs": [],
   "source": []
  }
 ],
 "metadata": {
  "interpreter": {
   "hash": "f07a3c1acea75c2d4c353e9cd3dd42ec72fb863baf9770b89be62cf6c327390c"
  },
  "kernelspec": {
   "display_name": "Python 3.8.5 ('base')",
   "language": "python",
   "name": "python3"
  },
  "language_info": {
   "codemirror_mode": {
    "name": "ipython",
    "version": 3
   },
   "file_extension": ".py",
   "mimetype": "text/x-python",
   "name": "python",
   "nbconvert_exporter": "python",
   "pygments_lexer": "ipython3",
   "version": "3.8.5"
  },
  "orig_nbformat": 4
 },
 "nbformat": 4,
 "nbformat_minor": 2
}
