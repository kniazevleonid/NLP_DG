{
 "cells": [
  {
   "cell_type": "code",
   "execution_count": null,
   "metadata": {
    "colab": {
     "base_uri": "https://localhost:8080/"
    },
    "id": "zMEuPgtKmE_E",
    "outputId": "7be5c94b-d62d-41da-8218-ea40196974ba"
   },
   "outputs": [],
   "source": [
    "# Download data\n",
    "!rm -rf sts2017.eval.v1.1.zip* STS2017.eval.v1.1\n",
    "!wget http://alt.qcri.org/semeval2017/task1/data/uploads/sts2017.eval.v1.1.zip\n",
    "!unzip sts2017.eval.v1.1.zip\n",
    "!cp STS2017.eval.v1.1/STS.input.track5.en-en.txt input.txt"
   ]
  },
  {
   "cell_type": "code",
   "execution_count": 2,
   "metadata": {
    "colab": {
     "base_uri": "https://localhost:8080/"
    },
    "id": "RwfaT1zituW0",
    "outputId": "cd429f55-dc53-4c22-f26a-192c99679c83"
   },
   "outputs": [
    {
     "name": "stdout",
     "output_type": "stream",
     "text": [
      "['A person is on a baseball team.\\tA person is playing basketball on a team.', 'Our current vehicles will be in museums when everyone has their own aircraft.\\tThe car needs to some work', 'A woman supervisor is instructing the male workers.\\tA woman is working as a nurse.', 'A bike is next to a couple women.\\tA child next to a bike.', 'The group is eating while taking in a breathtaking view.\\tA group of people take a look at an unusual tree.', 'The boy is raising his hand.\\tThe man is raising his hand.', 'A man with a gray beard is being shaved in front of a lecture hall\\tA man with a beard is sitting in the grass.', 'The sky has very little to no clouds.\\tThis Lady might be ready for Rock Climbing, or just watching the Clouds, above.', 'The young boy jumps barefoot outside in the front yard.\\tThe teen rode his bike around the people walking in the courtyard.', 'There are dogs in the forest.\\tThe dogs are alone in the forest.']\n"
     ]
    }
   ],
   "source": [
    "# Step 1. Preprocessing\n",
    "## 1.1 Read data\n",
    "\n",
    "with open('input.txt') as f:\n",
    "    lines = [line.strip() for line in f]\n",
    "\n",
    "print(lines[:10])"
   ]
  },
  {
   "cell_type": "code",
   "execution_count": 4,
   "metadata": {
    "colab": {
     "base_uri": "https://localhost:8080/"
    },
    "id": "0hNNqk_6uLtE",
    "outputId": "2de5c0f3-04ac-480a-9d79-56e5b869e0ec"
   },
   "outputs": [
    {
     "name": "stderr",
     "output_type": "stream",
     "text": [
      "[nltk_data] Downloading package stopwords to\n",
      "[nltk_data]     C:\\Users\\satt-\\AppData\\Roaming\\nltk_data...\n",
      "[nltk_data]   Package stopwords is already up-to-date!\n",
      "[nltk_data] Downloading package wordnet to\n",
      "[nltk_data]     C:\\Users\\satt-\\AppData\\Roaming\\nltk_data...\n",
      "[nltk_data]   Unzipping corpora\\wordnet.zip.\n",
      "[nltk_data] Downloading package omw-1.4 to\n",
      "[nltk_data]     C:\\Users\\satt-\\AppData\\Roaming\\nltk_data...\n",
      "[nltk_data]   Unzipping corpora\\omw-1.4.zip.\n"
     ]
    },
    {
     "data": {
      "text/plain": [
       "True"
      ]
     },
     "execution_count": 4,
     "metadata": {},
     "output_type": "execute_result"
    }
   ],
   "source": [
    "# 1.2 Preparing words\n",
    "import nltk\n",
    "nltk.download('stopwords')\n",
    "nltk.download('wordnet')\n",
    "nltk.download('omw-1.4')"
   ]
  },
  {
   "cell_type": "code",
   "execution_count": 5,
   "metadata": {
    "id": "EB4YjOILveEI"
   },
   "outputs": [],
   "source": [
    "from nltk.corpus import stopwords\n",
    "from nltk.stem import WordNetLemmatizer\n",
    "import string\n",
    "\n",
    "english_stopwords = stopwords.words('english')\n",
    "translation_table = str.maketrans('', '', string.punctuation)\n",
    "lemmatizer = WordNetLemmatizer()\n",
    "\n",
    "words = dict()\n",
    "sentences = list()\n",
    "\n",
    "for line in lines:\n",
    "    s1, s2 = line.split('\\t')\n",
    "\n",
    "    v1 = []\n",
    "    v2 = []\n",
    "\n",
    "    for s, v in [(s1, v1), (s2, v2)]:\n",
    "        for w in s.split():\n",
    "            w = w.lower().translate(translation_table)\n",
    "            if w in english_stopwords:\n",
    "                continue\n",
    "            w = lemmatizer.lemmatize(w)\n",
    "            words.setdefault(w, len(words))\n",
    "            v.append(words[w])\n",
    "\n",
    "    sentences.append((v1, v2))"
   ]
  },
  {
   "cell_type": "code",
   "execution_count": 17,
   "metadata": {
    "colab": {
     "base_uri": "https://localhost:8080/"
    },
    "id": "jRSSk47Vw5oP",
    "outputId": "a9b04707-a841-47aa-f4d8-0c5b86765b36"
   },
   "outputs": [
    {
     "name": "stdout",
     "output_type": "stream",
     "text": [
      "[('person', 0), ('baseball', 1), ('team', 2), ('playing', 3), ('basketball', 4), ('current', 5), ('vehicle', 6), ('museum', 7), ('everyone', 8), ('aircraft', 9)]\n",
      "[([0, 1, 2], [0, 3, 4, 2]), ([5, 6, 7, 8, 9], [10, 11, 12]), ([13, 14, 15, 16, 17], [13, 18, 19]), ([20, 21, 22, 13], [23, 21, 20]), ([24, 25, 26, 27, 28], [24, 29, 30, 31, 32, 33]), ([34, 35, 36], [37, 35, 36]), ([37, 38, 39, 40, 41, 42, 43], [37, 39, 44, 45]), ([46, 47, 48], [49, 50, 51, 52, 53, 54, 48]), ([55, 34, 56, 57, 58, 41, 59], [60, 61, 20, 62, 29, 63, 64]), ([65, 66], [65, 67, 66])]\n"
     ]
    }
   ],
   "source": [
    "print(list(words.items())[:10])\n",
    "print(sentences[:10])"
   ]
  },
  {
   "cell_type": "code",
   "execution_count": 7,
   "metadata": {
    "id": "_0F_2N6hw_BL"
   },
   "outputs": [],
   "source": [
    "# Step 2. Graph construction\n",
    "import numpy as np\n"
   ]
  },
  {
   "cell_type": "code",
   "execution_count": 18,
   "metadata": {
    "id": "mydnT6msxxn-"
   },
   "outputs": [],
   "source": [
    "# 2.1 Synonyms\n",
    "from nltk.corpus import wordnet\n",
    "\n",
    "synonym_graph = np.zeros((len(words), len(words)))\n",
    "\n",
    "def set_of_synonyms(word):\n",
    "    synonyms = []\n",
    "    for syn in wordnet.synsets(word):\n",
    "        for l in syn.lemmas():\n",
    "            syn_word = l.name()\n",
    "            if syn_word in english_stopwords:\n",
    "                continue\n",
    "            syn_word = lemmatizer.lemmatize(syn_word)\n",
    "            synonyms.append(syn_word)\n",
    "    return set(synonyms)\n",
    "\n",
    "for word, idx in words.items():\n",
    "    for syn in set_of_synonyms(word):\n",
    "        if syn not in words:\n",
    "            continue\n",
    "        syn_idx = words[syn]\n",
    "        synonym_graph[idx][syn_idx] = 1\n",
    "        synonym_graph[syn_idx][idx] = 1"
   ]
  },
  {
   "cell_type": "code",
   "execution_count": 19,
   "metadata": {
    "id": "90Zg2Tsrz4oz"
   },
   "outputs": [],
   "source": [
    "# 2.2 GoW(no)\n",
    "\n",
    "window_graph = np.zeros((len(words), len(words)))\n",
    "\n",
    "window_size = 3 # Parameter\n",
    "\n",
    "for ss in sentences:\n",
    "    for s in ss:\n",
    "        window = []\n",
    "        for i in range(len(s)):\n",
    "            window = window[-(window_size - 1):]\n",
    "            v1 = s[i]\n",
    "            for v2 in window:\n",
    "                window_graph[v1][v2] += 1\n",
    "                window_graph[v2][v1] += 1\n",
    "            window.append(v1)"
   ]
  },
  {
   "cell_type": "code",
   "execution_count": 20,
   "metadata": {
    "colab": {
     "base_uri": "https://localhost:8080/"
    },
    "id": "xm_QavyA1O-9",
    "outputId": "9b3c7205-8daa-4a66-a71c-6060b70b9801"
   },
   "outputs": [
    {
     "name": "stderr",
     "output_type": "stream",
     "text": [
      "C:\\Users\\satt-\\AppData\\Local\\Temp\\ipykernel_21476\\4183238919.py:6: RuntimeWarning: divide by zero encountered in true_divide\n",
      "  distances = 1 / (synonym_graph + window_graph)\n",
      "100%|██████████| 762/762 [00:01<00:00, 693.76it/s]\n"
     ]
    }
   ],
   "source": [
    "# 2.3 Merge graphs\n",
    "\n",
    "import tqdm\n",
    "import numba\n",
    "\n",
    "distances = 1 / (synonym_graph + window_graph)\n",
    "np.fill_diagonal(distances, 0)\n",
    "\n",
    "def floyd(dist):\n",
    "    N = dist.shape[0]\n",
    "    \n",
    "    @numba.jit\n",
    "    def helper(dist, N, k):\n",
    "        for i in range(N):\n",
    "            for j in range(N):\n",
    "                dist[i][j] = min(dist[i][j], dist[i][k] + dist[k][j])\n",
    "\n",
    "    for k in tqdm.trange(N):\n",
    "        helper(dist, N, k)\n",
    "\n",
    "floyd(distances)"
   ]
  },
  {
   "cell_type": "code",
   "execution_count": 24,
   "metadata": {
    "id": "mjDK4bKx3PtQ"
   },
   "outputs": [],
   "source": [
    "# Step 3. Main part of this project (MDS)\n",
    "\n",
    "import numpy.linalg as la\n",
    "\n",
    "@numba.jit\n",
    "def mds(matD, k):\n",
    "    N = matD.shape[0]\n",
    "    matJ = np.eye(N) - np.ones((N, N)) / N\n",
    "    matG = -0.5 * matJ @ (matD ** 2) @ matJ\n",
    "    vecL, matP = la.eigh(matG)\n",
    "    vecL[vecL < 0] = 0\n",
    "    return matP[:,-k:], vecL[-k:]\n",
    "\n",
    "def embed_graph(distances, k):\n",
    "    p, l = mds(distances, k)\n",
    "    result = p @ np.diag(np.sqrt(l))\n",
    "    result -= np.mean(result, axis=0)\n",
    "    return result"
   ]
  },
  {
   "cell_type": "code",
   "execution_count": 25,
   "metadata": {
    "colab": {
     "base_uri": "https://localhost:8080/",
     "height": 483
    },
    "id": "sL1Vpn_w3vEr",
    "outputId": "c6dfd22e-ce45-42ca-c830-22ff4f8ba733"
   },
   "outputs": [
    {
     "data": {
      "image/png": "[encoded data removed]",
      "text/plain": [
       "<Figure size 864x576 with 1 Axes>"
      ]
     },
     "metadata": {
      "needs_background": "light"
     },
     "output_type": "display_data"
    }
   ],
   "source": [
    "import matplotlib.pyplot as plt\n",
    "\n",
    "word_to_vec = embed_graph(distances, 10)\n",
    "\n",
    "plt.figure(figsize=(12,8))\n",
    "plt.scatter(*embed_graph(distances, 2).transpose())\n",
    "plt.show()"
   ]
  },
  {
   "cell_type": "code",
   "execution_count": 26,
   "metadata": {
    "colab": {
     "base_uri": "https://localhost:8080/"
    },
    "id": "AL5vUvhX-hsf",
    "outputId": "9643b6af-b021-4031-c620-da8555012938"
   },
   "outputs": [
    {
     "name": "stdout",
     "output_type": "stream",
     "text": [
      "0\t0.01728555\tA person is on a baseball team.\tA person is playing basketball on a team.\n",
      "1\t1.02594549\tOur current vehicles will be in museums when everyone has their own aircraft.\tThe car needs to some work\n",
      "2\t0.42185389\tA woman supervisor is instructing the male workers.\tA woman is working as a nurse.\n",
      "3\t0.12899719\tA bike is next to a couple women.\tA child next to a bike.\n",
      "4\t0.94829794\tThe group is eating while taking in a breathtaking view.\tA group of people take a look at an unusual tree.\n",
      "5\t0.19338828\tThe boy is raising his hand.\tThe man is raising his hand.\n",
      "6\t0.57466354\tA man with a gray beard is being shaved in front of a lecture hall\tA man with a beard is sitting in the grass.\n",
      "7\t0.67690305\tThe sky has very little to no clouds.\tThis Lady might be ready for Rock Climbing, or just watching the Clouds, above.\n",
      "8\t1.44741783\tThe young boy jumps barefoot outside in the front yard.\tThe teen rode his bike around the people walking in the courtyard.\n",
      "9\t0.00322628\tThere are dogs in the forest.\tThe dogs are alone in the forest.\n",
      "10\t0.05108338\tSome cyclists stop near a sign.\tTwo men stop to talk near a sign outside.\n",
      "11\t0.14660972\tThese cooks in the white are busy in the kitchen making dinner for their customers.\tThe women are preparing dinner in their kitchen.\n",
      "12\t0.14362221\tA young person  deep in thought.\tA young man deep in thought.\n",
      "13\t0.00000000\tA man is carrying a canoe with a dog.\tA dog is carrying a man in a canoe.\n",
      "14\t0.05989996\tA man is performing labor.\tA man is performing today.\n",
      "15\t0.44489650\tTwo men wearing traditional clothing is standing outside.\tThree women wearing black vests and gray shirts are talking outside of a building.\n",
      "16\t0.89465108\ta woman watches a rap group live\tAn audience watches a girl dance.\n",
      "17\t0.01151755\tA girl dancing on a sandy beach.\tA girl is on a sandy beach.\n",
      "18\t0.10147704\ta man wearing a gray hat fishing out of a fishing boat.\tA man wearing a straw hat and fishing vest in a stream.\n",
      "19\t1.00951028\tA little girl in an orange striped outfit is airborne whilst bouncing on a bed.\tA dog in a red shirt is chasing a squirrel through the glass.\n",
      "20\t0.83934461\tA person is watching people ski down the hill.\tThe woman is jumping a long distance while people watch.\n",
      "21\t0.17958845\tThe yard has a dog.\tThe dog is running after another dog.\n",
      "22\t0.36241694\tThe woman is drinking lemonade and watching T.V.\tThe man is sitting drinking coffee.\n",
      "23\t0.13821092\tThree women cook.\tTwo women cooking.\n",
      "24\t0.84848612\tThe woman is kneeling next to a cat.\tA girl is standing next to a man.\n",
      "25\t1.45136571\tThe young adult are cold\tAsian children are playing with a dog.\n",
      "26\t0.02063598\tThree guys playing a pro game of basketball.\ttwo guys playing a game of baseball.\n",
      "27\t0.04958327\tA sad man is jumping over a small stream to meet his companion on the other side.\tA man is jumping over a stream to meet his companion on the other side.\n",
      "28\t1.12100892\tThe boys are earning their next belt in karate.\tFive girls and one boy are in their swimsuits all in the middle of jumping into the pool.\n",
      "29\t0.38334801\tA woman is digging in the sand.\tA man is buried in the sand.\n",
      "30\t0.75856813\tA woman drives a golf cart.\tA man riding a cart.\n",
      "31\t0.39215319\tA woman is bungee jumping.\tA girl is bungee jumping.\n",
      "32\t0.34270616\tA clown performs for brother and sister as the rest of the party watches.\tA blond-haired child performing on the trumpet in front of a house while his younger brother watches.\n",
      "33\t0.68756936\tA person filming the outdoors.\tThere is a couple outdoors.\n",
      "34\t0.63591029\tA human riding a skateboard.\tA child is riding a skateboard.\n",
      "35\t0.57647147\tA woman in a plaid outfit is looking through a bag of produce.\tThis is the picture of a woman in a flowered dress, toting something in a bucket.\n",
      "36\t0.09884750\tFour girls happily walk down a sidewalk.\tThree young girls walk down a sidewalk.\n",
      "37\t0.13306863\tThe tennis player hit the ball into outer space and broke the death star.\tA female tennis player is leaping into the air to hit the ball.\n",
      "38\t0.06424391\tA boy climbs a forest hill.\tA boy is climbing a hill.\n",
      "39\t0.44670989\ta group of navy seals are singing\tA group of military personnel are playing in a brass quintet.\n",
      "40\t0.40037802\tBlond boy jumping onto deck.\tA boy jumping down a wet inflatable slide.\n",
      "41\t0.02533728\tA man uses a chainsaw to sculpt a phallic ice sculpture.\tA man is using a chainsaw to carve a wooden sculpture.\n",
      "42\t0.45741336\tA group of male construction workers repair railroad tracks on a cloudy day\tA crew of workers working on a railroad track.\n",
      "43\t0.05807743\tA man playing the violin in the rain.\tA man playing the guitar in the rain.\n",
      "44\t0.03650311\tThe people are leaving the airplane.\tThe people are entering the plane.\n",
      "45\t0.01655361\tThe dogs are chasing a cat.\tThe dogs are chasing a black cat.\n",
      "46\t0.23962797\tThe girl has something on her head.\tThe woman has something with her.\n",
      "47\t0.08729719\tthe tan dog is playing with the red dog out in the snow\tA yellow dog is playing in the snow.\n",
      "48\t1.02999552\tPeople making a structure out of cards.\tTwo people are together and one is using a piece of clothing in a different way than intended.\n",
      "49\t0.55263740\ta girl with vases in the background inside her house\tThe girl is standing as the other girl with glasses works on her hand painting.\n",
      "50\t0.18461182\tThere are four people outside.\tFive people are outside.\n",
      "51\t0.79118191\tA person sitting in an office takes a picture.\tA woman is sitting in an office.\n",
      "52\t0.21339090\tGirls are holding hands in blue clothes\tThe young people are wearing jeans with their red and green shirts.\n",
      "53\t0.17543084\tPeople rock jumping into water while people fish in the background.\tTwo people watching the water.\n",
      "54\t0.44667192\tA man is demonstrating how to work with clay while at least two people observe.\tAt least one of the three women is talking to the others.\n",
      "55\t0.28832798\tA dog has a sweater on.\tA man in a suit jacket is sitting on a red couch with a cat.\n",
      "56\t0.04276244\tA blonde woman looks for medical supplies for work in a suitcase.\tThe blond woman is searching for medical supplies in a suitcase.\n",
      "57\t0.00000000\tA boy is at school taking a test.\tThe boy is taking a test at school.\n",
      "58\t0.20987820\tAn old man wearing a hat stands outside a shop door.\ta man in an oversized shirt sits at a shop\n",
      "59\t0.37307789\tSculptor applying concrete to large statue of human figure standing with no head.\tA person is standing in front of a building holding aloft some plywood\n",
      "60\t1.19677358\tA boy with dark hair is in water and is looking up.\tThe man is short hair.\n",
      "61\t0.49919742\tA pole is behind a person that is playing peekaboo with a child.\tThere is a child with a ball\n",
      "62\t0.75629035\tA woman is about to paint.\tA boy is about to take a picture.\n",
      "63\t1.05499007\tThe carriage is drawn by a horse.\tA man riding on a bicycle by side of building.\n",
      "64\t0.00346733\ta man working at the steel mill\tA man working in a foundry.\n",
      "65\t0.03479640\tThe young woman is flirting with the young boy.\tThe girl is young and cheery.\n",
      "66\t0.28084653\tA woman looks at a duck as she walks behind it.\tA woman is going on a walk with her dog.\n",
      "67\t0.50604361\tthe men are about to score in a water polo tournament\tThe two men are about to compete in a match.\n",
      "68\t0.81173207\tMan sitting on a bench drink from a mug surrounded by rugs.\tA man is sitting on one of two red benches and staring into a kiosk.\n",
      "69\t0.61673877\tA man eats popcorn while watching cartoons late one night.\tA man and a girl are watching cartoons at home\n",
      "70\t0.02646923\tThree men sit on a bench.\ttwo men sit on a bench.\n",
      "71\t0.01894719\tThe road is long.\tThere is nothing on the side of the road.\n",
      "72\t0.13216863\tA small blond boy slides head first down a blue playground slide toward another blond youth.\tA young boy with his hair standing up, is sliding down a blue slide\n",
      "73\t0.64243781\tThe four women are practicing for a upcoming match.\tThe women are in a play\n",
      "74\t0.17473740\ta young man wearing a white t-shirt and green and black shorts standing on a stump.\tA man wearing a white shirt and red and black shorts is running on the sidewalk.\n",
      "75\t0.06074281\tman on steps\tA man sits on steps.\n",
      "76\t0.10076416\tA dog under the stairs\tA dog is resting on the stairs.\n",
      "77\t0.05087777\tThere is a young girl.\tThere is a young boy with the woman.\n",
      "78\t0.06979246\tTwo women give a demonstration at a Renaissance Fair.\tTwo people are doing a demonstration at a renaissance fair.\n",
      "79\t0.01583403\tA woman paints a picture of a large building which can be seen in the background.\tA person paints a picture of a large building which can be seen in the background.\n",
      "80\t0.00109936\tSome guy sitting on a couch watching television.\tA guy is sitting on the couch watching TV\n",
      "81\t1.32430769\tA woman is posing for a Christmas card.\tA girl is taking a photo.\n",
      "82\t0.00263167\tTwo kids are playing a game of Foosball.\tThe kids are playing a game with each other.\n",
      "83\t0.09505302\tThe man is in a deserted field.\tThe man is outside in the field.\n",
      "84\t0.00148784\tA little boy is drinking from a juice packet.\tA boy is drinking from a juice packet.\n",
      "85\t0.50733697\tA man has his skis ready for the field to get iced out\tA man on a boat getting ready to pull in his net to see what he caught.\n",
      "86\t0.00150115\tThe biker is doing dangerous stunts.\tA biker is doing stunts.\n",
      "87\t0.55808072\tA musician is smearing jam on his white guitar at a concert.\tTrombonist playing the her instrument in a band for a parade.\n",
      "88\t0.14609345\tA man is working on his farm.\tAn old guy is working on his farm and a cow kicks him.\n",
      "89\t0.72870073\tA pair of young boys in t-shirts are hiding in the woods with one looking aghast.\tTwo smiling little girls playing in a fountain with other people.\n",
      "90\t0.27674725\tA group of people playing soccer on a soccer field in front of a crowd.\tA group of men playing soccer in a stadium full of people.\n",
      "91\t0.04698902\tA man is enjoying watching three asian children dance.\tA man is watching three asian kids dance.\n",
      "92\t0.01407355\tA girl is talking to her dad on a cellphone.\ta girl is talking on her phone.\n",
      "93\t0.00589431\tOne person wields an umbrella.\tOne person is holding an umbrella.\n",
      "94\t1.06522902\tA woman walking down the side of a highway.\tA man is standing on one feet on a bridge.\n",
      "95\t0.03777908\tA group of teenagers jumping and having a good time.\tA group of kids having a good time.\n",
      "96\t0.07436863\tA man calling for a taxi at the airport on a sunny day.\tA man is outside on a July day.\n",
      "97\t0.05580595\tA man is playing his guitar at Joe's Cafe.\tThe man is playing the drums for his mom.\n",
      "98\t0.14891026\tA young boy has a red fishing pole.\tA young boy stands over a bridge with a fishing pole.\n",
      "99\t0.01570235\tA player bounces a ball.\tA player catching a ball.\n",
      "100\t0.07574282\tSomeone is on a blanket.\tThe person is making a blanket.\n",
      "101\t0.02391269\tMen competing in a contest.\tTwo women compete in a contest.\n",
      "102\t0.63606242\tThe puppy is outdoor.\tA man in printed board shorts is doing a yoga pose on the beach.\n",
      "103\t0.07428404\tThe man has a orange shirt.\tThe woman has a orange shirt.\n",
      "104\t0.83520845\tThe two kids look at the products sold inside the subway shop.\tThe kids are stealing from a store.\n",
      "105\t0.07650532\tThe baby boy wants his mother.\tA baby boy is happy to see his mother.\n",
      "106\t0.07440555\tA young girl in a pink jacket is playing a board game.\tA boy in a jacket playing.\n",
      "107\t0.27557761\tA smiling Caucasian male wearing a blue and black striped shirt it about to take a photograph.\tA man in a white shirt and black pants is smiling.\n",
      "108\t0.24641036\tA person is scaling a rock wall.\tA person and a horse are above a fence.\n",
      "109\t0.03285989\tA boy is very close to a girl.\tA girl is close to a boy whose face is not shown.\n",
      "110\t0.12358054\tTwo men are playing a game of Scrabble together.\tThe two women are playing a game.\n",
      "111\t0.19566073\tSix children are cleaning a room.\tTwo male children cleaning up leaves in a parking lot.\n",
      "112\t0.38517735\tThe girl is very skilled and practices a lot.\tThe man is very skilled.\n",
      "113\t0.83970461\tMany guards are standing in front of the starting line of a race.\tTwo men in business dress are standing by the side of a road.\n",
      "114\t0.03390828\tThere is a cook preparing food.\tA cook is making food.\n",
      "115\t0.18471989\tTwo men are helping a boy.\tTwo men are with a young child.\n",
      "116\t0.00000000\tA man at a farmers market.\tA man is at a farmers market.\n",
      "117\t0.38908337\tfour people walk toward a tower\tTwo men walk toward a dome-shaped building.\n",
      "118\t1.43434488\tA little girl and boy are reading books.\tAn older child is playing with a doll while gazing out the window.\n",
      "119\t0.08616144\tThe child would like to swim.\tThe children want to swim.\n",
      "120\t0.00483424\tTwo skiing people are doing cross country skiing.\tPeople skiing cross country.\n",
      "121\t0.87382301\tA dog taking a poop in the street.\tA man making balloon animals for two children on a street corner.\n",
      "122\t0.02235202\tMen are fighting after a basketball game.\tThe men are playing a game of basketball.\n",
      "123\t0.06516118\tA kid is talking in class.\tA girl is going to class.\n",
      "124\t0.67470939\tThe women are trying to sell something to the individual.\tThe men are trying to make some money.\n",
      "125\t0.40616945\tPeople are waiting for the fireworks to start.\tThree people are waiting for the rain to stop.\n",
      "126\t0.43357966\tA dog prepares to herd three sheep with horns.\tA dog and sheep run together.\n",
      "127\t0.08163325\tPeople are sitting around dimly lit tables while smiling and laughing.\tPeople are sitting on benches.\n",
      "128\t0.01351550\tA dog is chasing cows.\tA white dog is chasing cows.\n",
      "129\t0.00606166\tOne football player tries to tackle a player on the opposing team.\tA football player attempts a tackle.\n",
      "130\t0.24091769\tThree men are drying to pull a Subaru out of a ditch along a mountain road.\tTwo men are waiting for a ride on the side of a dirt road.\n",
      "131\t1.09974223\tA woman doesn't have her arms up because she's paralyzed from the neck down\tA woman is sitting on the steps because she tripped and hurt her ankle.\n",
      "132\t0.02717833\tPeople gathered in a room.\tPeople gathered together in a room.\n",
      "133\t0.11019535\tThe woman in overalls paints a picture for her wall.\tA woman is painting her wall white.\n",
      "134\t0.14556262\tAdding aspirin to the water could kill the plant.\tMen are trying to remove oil from a body of water.\n",
      "135\t0.35602755\tFive kids are standing in front of a tent.\tPeople are out sitting in front of a garden.\n",
      "136\t1.18364577\tFemale in a maroon shirt engaged in conversation with another female in a tan blazer.\tA girl in a blue dress and another girl in a purple dress, both smiling.\n",
      "137\t0.03533582\tBaseball players playing a game at the park.\tA basketball player, playing in the home coming game.\n",
      "138\t0.80672550\tThey are preparing for a performance at school.\tTwo medical professionals in green look on at something.\n",
      "139\t0.50778078\tThe woman is wearing yellow.\tThe woman is wearing red.\n",
      "140\t1.08199308\tSome smiling children are standing in front of an ocean sunset.\tPeople walking in the dark.\n",
      "141\t0.42402934\tA man is doing a stunt on his bicycle.\tA man is doing a wheelie on his motorcycle.\n",
      "142\t0.08325403\tTen people riding ATVs.\t4 people are riding bikes\n",
      "143\t0.18611125\tTwo fishermen try to untangle their large fishing net on the side of the road on a cloudy day.\tSeveral men pull a fishing net up on to the beach.\n",
      "144\t0.15754149\tA yellow vested person is doing road work.\tA person is doing very well on their skateboard.\n",
      "145\t0.14966779\tThe woman had brown hair.\tThe woman has gray hair.\n",
      "146\t0.35376383\tBlack and white image of a wave crashing in the ocean.\ta small black dog in the ocean with some rocks in the background\n",
      "147\t0.05816615\tA lady and her daughter look through a microscope.\tA girl and a lady both looking through a microscope.\n",
      "148\t0.08440458\tTwo workers are sitting next to pipes eating lunch\tThe construction workers are sitting down to eat lunch.\n",
      "149\t0.76235543\tA boy does a skateboard trick on the stairs downtown.\ta boy is running on the sidewalk\n",
      "150\t0.12991553\tA group of people living in the desert\tA group of people in the middle of the desert.\n",
      "151\t0.16811414\tTwo kids are swimming.\tSix kids are going swimming.\n",
      "152\t0.33245024\tThree humans are walking a dog.\tThree people are walking a dog.\n",
      "153\t0.00000000\tThere are people out on the street.\tPeople are out on the street.\n",
      "154\t0.01919324\tpeople getting their dirty clothes cleaned\tPeople are getting their clothes cleaned.\n",
      "155\t1.12457143\tTwo women are lost and calling for help.\tTwo Asian men are gathering materials for their business and their child had to come with them.\n",
      "156\t1.06284500\tA man is throwing a penny into a fountain.\tA little boy is throwing a man in water.\n",
      "157\t0.23597462\tThe children are holding musical instruments.\tA group of children are singing and playing instruments\n",
      "158\t0.88962431\tTwo girls are playing Doctor inside their house.\tThe two girls are walking with their father.\n",
      "159\t0.39071675\tA crowd of men wearing paper numbers on their shirts run in a race.\tSeveral men running down a grass field wearing numbers on the front of their shirts.\n",
      "160\t0.57541827\tA group of people are wearing police uniforms conducting an arrest.\tA group of police officers are wearing protection.\n",
      "161\t1.33855431\tThe fruits should be eaten with lemon juice in order to prevent oxidation in your stomach.\tthree dogs growling On one another\n",
      "162\t0.00051214\tA doctor prescribes medicine to a patient.\tA doctor prescribes a medicine.\n",
      "163\t0.00000000\tA woman is in the bathroom.\tThe woman is in a bathroom.\n",
      "164\t0.56788130\tSpectators taking pictures of a rally car.\tA crowd of people watching cars race down the track.\n",
      "165\t0.01400063\tThe man and woman are resting on a couch.\tA man and woman are asleep on the couch.\n",
      "166\t0.63170614\tthe man is planning to shoot a wedding\tthe woman is going to a wedding.\n",
      "167\t0.29462855\tThe boy in the green jersey plays goalie on the soccer team.\tThe team in blue is playing a game against the team in white\n",
      "168\t0.31362447\tThe child's bike got wet.\tShe is putting away the bike.\n",
      "169\t0.04085950\tA soldier walks a dog.\tA man walks a dog.\n",
      "170\t0.44144564\tA shirtless woman is operating a lawn mower.\tA girl is mowing the grass with a lawn mower.\n",
      "171\t0.00000000\tPeople are near water\tPeople are near water.\n",
      "172\t0.10736755\tThe two officers are driving\tTwo officers are on horses.\n",
      "173\t0.43638855\tFriends walk into a building\ta man walks along walkway to the store\n",
      "174\t0.39893514\tThe lady looks sad because no one is buying her wares.\tThe lady is selling things.\n",
      "175\t0.68168189\tThe rollerblades are moving.\tTwo vehicles are going towards the camera.\n",
      "176\t1.08163159\tThere is a older man near a window.\tA boy is near some stairs.\n",
      "177\t0.52780787\tA guy and a girl are rock climbing with backpacks on.\tTwo boys are riding on a toy with a blonde girl running long side of them.\n",
      "178\t1.05604965\tIn Abu Dhabi the Golden Market is one of the premier public outdoor shopping areas.\tA busy city square in an asian country.\n",
      "179\t0.75333461\tA pregnant woman is in labor\ta woman has a child.\n",
      "180\t0.05505198\tA flock of birds hovered over the sandy beach.\tBirds are flying at a beach.\n",
      "181\t0.41355151\tpeople walk home\tPeople waiting.\n",
      "182\t0.00166250\tThe religious people are enjoying the outdoors.\tThe group of people are enjoying the outdoors.\n",
      "183\t0.01704202\tA girl in water without goggles or a swimming cap.\tA girl in water, with goggles and swimming cap.\n",
      "184\t0.51764561\tA man is performing a stunt outdoors.\tA young man on a beach is performing skateboard stunts.\n",
      "185\t0.00000000\tA man is laughing with a woman\tA man and a woman laughing.\n",
      "186\t0.67219396\tHe is about to run into the boat\tThe man is getting his boat clean to take it out on the water.\n",
      "187\t0.56824522\t2 Cows are in a field.\tTwo sheep are in a field.\n",
      "188\t0.90420099\tA wet child enjoys the summer.\tA woman is enjoying the summer weather.\n",
      "189\t1.31623871\tThere was girl stranded on the roof.\tThe couple was on the bed.\n",
      "190\t0.34626893\tThere are four snowboarders going off a jump and that are in the air.\tTwo racers are coming to a turn.\n",
      "191\t0.06131098\tThe girl has a driver's license\tA man has a driver's license.\n",
      "192\t0.06012718\tPeople on motorcycles wearing racing gear ride around a racetrack\tPeople on motorcycles ride around a racetrack\n",
      "193\t0.20923430\tA man is standing on the ground with a paintbrush\tA man with a crutch lying on the ground.\n",
      "194\t1.46072941\tThe kids are at the theater watching a movie.\tit is picture day for the boys\n",
      "195\t0.01355508\tTwo women walk down the sidewalk to the store.\tTwo women walk down the sidewalk in the afternoon.\n",
      "196\t0.10567063\tA man has his son on his back\tA man spent his time with his son.\n",
      "197\t0.88835064\tA group of dark-skinned people are walking past barbed wire.\tTwo women are gossiping by a fence.\n",
      "198\t0.03401084\tZombies parading around eating brains.\tThe zombies are eating flesh together.\n",
      "199\t0.00298602\tA group of people are sitting at at a beach on towels watching the Blue Angels.\tA group of people are sitting at a beach watching the Blue Angels.\n",
      "200\t0.35445077\tA basketball player makes the 5th rebound of the night,\tA tennis player in the middle of a game.\n",
      "201\t0.25967048\tThree people are meeting for coffee.\tTwo people make coffee.\n",
      "202\t1.11566416\tA young girl with dirt on her face and a red child's bike is in the background.\tThe old woman in shorts and a white t-shirt is standing on a path watching children play.\n",
      "203\t0.02459190\tA helicopter is getting ready to take off.\tThe plane is getting ready to take off.\n",
      "204\t0.08202053\tA line of scooters are parking in the middle of a street.\tA line of motor bikes are parked in the middle of a street.\n",
      "205\t0.01321455\tA man holding a cat.\tA man holding a dog.\n",
      "206\t0.31057145\tA man doing a jumping bike trick surrounded by trees.\tA boy riding a green trick bike over some steps outdoors.\n",
      "207\t1.31171883\tThree guys in speedos have their feet up on the railing of a boat getting a tan.\tA few men on the deck are dropping another man into the water\n",
      "208\t0.13044843\tA group wading across a witch\tA group wading across a ditch\n",
      "209\t0.04512604\tA woman jumps and poses for the camera.\tA woman poses for the camera.\n",
      "210\t0.07780979\tA man is on a rooftop\tA man is holding a microphone in a room.\n",
      "211\t0.08498801\tThere are two men near a wall.\tThree women are sitting near a wall.\n",
      "212\t0.25684436\tThe cats are running through the grass.\tSome dogs running through the park.\n",
      "213\t0.02633772\tThe two boys are playing kick ball back and forth to each other.\tThe players are kicking each other while attempting to kick the ball.\n",
      "214\t0.05594934\tTwo girls are running.\tThree boys are running.\n",
      "215\t0.26959353\tThe two men are wearing jeans.\tThe two men are wearing pants.\n",
      "216\t0.34229389\tA little girl in a white blouse and blue pants frolics on the grass.\tA woman in a green shirt and white pants golfs on the green.\n",
      "217\t0.07191952\tThe man without a shirt is jumping.\tThe man jumping is not wearing a shirt.\n",
      "218\t0.10707935\tThe woman is holding the hands of the man.\tThe woman is checking the eyes of the man.\n",
      "219\t0.02253811\tA man walks his dog on the beach.\tA man with his dog on the beach.\n",
      "220\t1.02373271\tThe child is the woman's kid.\tThere is a boy and a girl.\n",
      "221\t0.02333333\tA soccer player is kicking the ball.\tThe soccer player gave the ball a high kick.\n",
      "222\t0.24091985\tTwo boys in black swimming trunks are holding another boy by his arms and legs on a beach.\tMan in white shirt flipping young boy in the water with four other boys surrounding them.\n",
      "223\t0.08704568\tThe player shoots the winning points.\tThe basketball player is about to score points for his team.\n",
      "224\t0.04490559\tA man in a white shirt and hat playing a guitar.\tA man in a green shirt and black hat playing a guitar on stage.\n",
      "225\t0.01039742\tA black hooded man is using a large magnifying glass to look at a booklet.\tA white hooded woman is using a magnifying glass to look at a booklet.\n",
      "226\t0.00000000\tthe people are running a marathon\tPeople are running a marathon\n",
      "227\t0.08448356\tA motorcross driver going by during a race\tA race car driver performs in the race of his life.\n",
      "228\t0.00737142\tA group of people are nervous about crossing the water.\tA group of people are on the water.\n",
      "229\t0.18680298\tA group of kids are having a jumping contest.\tA group of kids are having a sleepover.\n",
      "230\t0.29790100\tThe gate is blue.\tThe gate is yellow.\n",
      "231\t0.78248025\tThe person is wearing a fedora.\tA man is wearing a uniform.\n",
      "232\t0.42489108\tA woman and a man embrace while watching a horror movie.\tA man and a woman watch a movie together.\n",
      "233\t0.21979264\tA man in a blue dress shirt.\tA man in a white shirt and blue pants is talking with a woman in a pink shirt.\n",
      "234\t0.07556523\tA couple is playing the game of Life.\tThe family is playing a game together.\n",
      "235\t0.54802788\tThe head of a child with dark glasses is in focus.\tThere is a woman with a full head of hair.\n",
      "236\t0.32362231\tA dog walks along a beach with breaking waves.\tA boy with an oar walks out of the surf and onto a beach.\n",
      "237\t0.17930559\tA pair of men walk along the beach.\tTwo men standing in the surf on a beach.\n",
      "238\t0.13848621\tBlond woman in a tunnel.\tThe couple kissing is near a blond woman.\n",
      "239\t0.14653634\tA maintenance guy is repairing a net on a tennis court.\tA man removing a tennis net.\n",
      "240\t0.14495643\tA kid sits on a soccer ball outside.\tA kid sitting on a soccer ball at the park.\n",
      "241\t0.31610277\tThe raven droned as is hopped along the grass.\tThe skinny dog with the long tail is traveling through the field.\n",
      "242\t0.56753652\tA man in a brown coat rubs his nose.\tA bald man with a red beard holds his hand near his mouth.\n",
      "243\t0.11446723\tThe dog is chasing the geese.\tOne dog is chasing the other.\n",
      "244\t1.40040355\tSmall child playing with letter P\t2 young girls are sitting in front of a bookcase and 1 is reading a book.\n",
      "245\t0.00000000\tA brown dog is jumping.\tA brown dog is jumping\n",
      "246\t0.02507081\tthe man is catching a ball\tA man is kicking a ball.\n",
      "247\t0.17320916\tTwo men are sitting in the room.\tTwo men are standing in a room.\n",
      "248\t0.31294037\tA group of teenagers in red shirts are smiling.\tA group of people are wearing orange shirts.\n",
      "249\t0.17232414\tThe woman is waiting for her date.\tThe woman is on her way to a date.\n"
     ]
    }
   ],
   "source": [
    "import scipy.spatial.distance as dist\n",
    "\n",
    "for i, (s1, s2) in enumerate(sentences):\n",
    "    v1 = np.mean(word_to_vec[s1,:], axis=0)\n",
    "    v2 = np.mean(word_to_vec[s2,:], axis=0)\n",
    "    d = dist.cosine(v1, v2)\n",
    "    print(i, \"{:1.8f}\".format(d), lines[i], sep='\\t')"
   ]
  },
  {
   "cell_type": "code",
   "execution_count": 28,
   "metadata": {},
   "outputs": [],
   "source": [
    "import pandas as pd\n",
    "#reading csv files\n",
    "train = pd.read_csv('Train.csv')\n",
    "valid = pd.read_csv('Valid.csv')             \n",
    "\n",
    "#train_test split\n",
    "x_tr, y_tr = train['text'].values, train['label'].values\n",
    "x_val, y_val = valid['text'].values, valid['label'].values"
   ]
  },
  {
   "cell_type": "code",
   "execution_count": 29,
   "metadata": {
    "id": "zlnbLnnw_64E"
   },
   "outputs": [
    {
     "ename": "OSError",
     "evalue": "No file or directory found at best_model.h5",
     "output_type": "error",
     "traceback": [
      "\u001b[1;31m---------------------------------------------------------------------------\u001b[0m",
      "\u001b[1;31mOSError\u001b[0m                                   Traceback (most recent call last)",
      "\u001b[1;32mc:\\Users\\satt-\\OneDrive\\Рабочий стол\\NLP_DG\\distance_geometry.ipynb Cell 14'\u001b[0m in \u001b[0;36m<cell line: 3>\u001b[1;34m()\u001b[0m\n\u001b[0;32m      <a href='vscode-notebook-cell:/c%3A/Users/satt-/OneDrive/%D0%A0%D0%B0%D0%B1%D0%BE%D1%87%D0%B8%D0%B9%20%D1%81%D1%82%D0%BE%D0%BB/NLP_DG/distance_geometry.ipynb#ch0000012?line=0'>1</a>\u001b[0m \u001b[39m#loading best model\u001b[39;00m\n\u001b[0;32m      <a href='vscode-notebook-cell:/c%3A/Users/satt-/OneDrive/%D0%A0%D0%B0%D0%B1%D0%BE%D1%87%D0%B8%D0%B9%20%D1%81%D1%82%D0%BE%D0%BB/NLP_DG/distance_geometry.ipynb#ch0000012?line=1'>2</a>\u001b[0m \u001b[39mfrom\u001b[39;00m \u001b[39mkeras\u001b[39;00m\u001b[39m.\u001b[39;00m\u001b[39mmodels\u001b[39;00m \u001b[39mimport\u001b[39;00m load_model\n\u001b[1;32m----> <a href='vscode-notebook-cell:/c%3A/Users/satt-/OneDrive/%D0%A0%D0%B0%D0%B1%D0%BE%D1%87%D0%B8%D0%B9%20%D1%81%D1%82%D0%BE%D0%BB/NLP_DG/distance_geometry.ipynb#ch0000012?line=2'>3</a>\u001b[0m model \u001b[39m=\u001b[39m load_model(\u001b[39m'\u001b[39;49m\u001b[39mbest_model.h5\u001b[39;49m\u001b[39m'\u001b[39;49m)\n\u001b[0;32m      <a href='vscode-notebook-cell:/c%3A/Users/satt-/OneDrive/%D0%A0%D0%B0%D0%B1%D0%BE%D1%87%D0%B8%D0%B9%20%D1%81%D1%82%D0%BE%D0%BB/NLP_DG/distance_geometry.ipynb#ch0000012?line=4'>5</a>\u001b[0m \u001b[39m#evaluation \u001b[39;00m\n\u001b[0;32m      <a href='vscode-notebook-cell:/c%3A/Users/satt-/OneDrive/%D0%A0%D0%B0%D0%B1%D0%BE%D1%87%D0%B8%D0%B9%20%D1%81%D1%82%D0%BE%D0%BB/NLP_DG/distance_geometry.ipynb#ch0000012?line=5'>6</a>\u001b[0m _,val_acc \u001b[39m=\u001b[39m model\u001b[39m.\u001b[39mevaluate(x_val_seq,y_val, batch_size\u001b[39m=\u001b[39m\u001b[39m128\u001b[39m)\n",
      "File \u001b[1;32m~\\AppData\\Local\\Packages\\PythonSoftwareFoundation.Python.3.9_qbz5n2kfra8p0\\LocalCache\\local-packages\\Python39\\site-packages\\keras\\utils\\traceback_utils.py:67\u001b[0m, in \u001b[0;36mfilter_traceback.<locals>.error_handler\u001b[1;34m(*args, **kwargs)\u001b[0m\n\u001b[0;32m     <a href='file:///~/AppData/Local/Packages/PythonSoftwareFoundation.Python.3.9_qbz5n2kfra8p0/LocalCache/local-packages/Python39/site-packages/keras/utils/traceback_utils.py?line=64'>65</a>\u001b[0m \u001b[39mexcept\u001b[39;00m \u001b[39mException\u001b[39;00m \u001b[39mas\u001b[39;00m e:  \u001b[39m# pylint: disable=broad-except\u001b[39;00m\n\u001b[0;32m     <a href='file:///~/AppData/Local/Packages/PythonSoftwareFoundation.Python.3.9_qbz5n2kfra8p0/LocalCache/local-packages/Python39/site-packages/keras/utils/traceback_utils.py?line=65'>66</a>\u001b[0m   filtered_tb \u001b[39m=\u001b[39m _process_traceback_frames(e\u001b[39m.\u001b[39m__traceback__)\n\u001b[1;32m---> <a href='file:///~/AppData/Local/Packages/PythonSoftwareFoundation.Python.3.9_qbz5n2kfra8p0/LocalCache/local-packages/Python39/site-packages/keras/utils/traceback_utils.py?line=66'>67</a>\u001b[0m   \u001b[39mraise\u001b[39;00m e\u001b[39m.\u001b[39mwith_traceback(filtered_tb) \u001b[39mfrom\u001b[39;00m \u001b[39mNone\u001b[39m\n\u001b[0;32m     <a href='file:///~/AppData/Local/Packages/PythonSoftwareFoundation.Python.3.9_qbz5n2kfra8p0/LocalCache/local-packages/Python39/site-packages/keras/utils/traceback_utils.py?line=67'>68</a>\u001b[0m \u001b[39mfinally\u001b[39;00m:\n\u001b[0;32m     <a href='file:///~/AppData/Local/Packages/PythonSoftwareFoundation.Python.3.9_qbz5n2kfra8p0/LocalCache/local-packages/Python39/site-packages/keras/utils/traceback_utils.py?line=68'>69</a>\u001b[0m   \u001b[39mdel\u001b[39;00m filtered_tb\n",
      "File \u001b[1;32m~\\AppData\\Local\\Packages\\PythonSoftwareFoundation.Python.3.9_qbz5n2kfra8p0\\LocalCache\\local-packages\\Python39\\site-packages\\keras\\saving\\save.py:204\u001b[0m, in \u001b[0;36mload_model\u001b[1;34m(filepath, custom_objects, compile, options)\u001b[0m\n\u001b[0;32m    <a href='file:///~/AppData/Local/Packages/PythonSoftwareFoundation.Python.3.9_qbz5n2kfra8p0/LocalCache/local-packages/Python39/site-packages/keras/saving/save.py?line=201'>202</a>\u001b[0m \u001b[39mif\u001b[39;00m \u001b[39misinstance\u001b[39m(filepath_str, \u001b[39mstr\u001b[39m):\n\u001b[0;32m    <a href='file:///~/AppData/Local/Packages/PythonSoftwareFoundation.Python.3.9_qbz5n2kfra8p0/LocalCache/local-packages/Python39/site-packages/keras/saving/save.py?line=202'>203</a>\u001b[0m   \u001b[39mif\u001b[39;00m \u001b[39mnot\u001b[39;00m tf\u001b[39m.\u001b[39mio\u001b[39m.\u001b[39mgfile\u001b[39m.\u001b[39mexists(filepath_str):\n\u001b[1;32m--> <a href='file:///~/AppData/Local/Packages/PythonSoftwareFoundation.Python.3.9_qbz5n2kfra8p0/LocalCache/local-packages/Python39/site-packages/keras/saving/save.py?line=203'>204</a>\u001b[0m     \u001b[39mraise\u001b[39;00m \u001b[39mIOError\u001b[39;00m(\u001b[39mf\u001b[39m\u001b[39m'\u001b[39m\u001b[39mNo file or directory found at \u001b[39m\u001b[39m{\u001b[39;00mfilepath_str\u001b[39m}\u001b[39;00m\u001b[39m'\u001b[39m)\n\u001b[0;32m    <a href='file:///~/AppData/Local/Packages/PythonSoftwareFoundation.Python.3.9_qbz5n2kfra8p0/LocalCache/local-packages/Python39/site-packages/keras/saving/save.py?line=205'>206</a>\u001b[0m   \u001b[39mif\u001b[39;00m tf\u001b[39m.\u001b[39mio\u001b[39m.\u001b[39mgfile\u001b[39m.\u001b[39misdir(filepath_str):\n\u001b[0;32m    <a href='file:///~/AppData/Local/Packages/PythonSoftwareFoundation.Python.3.9_qbz5n2kfra8p0/LocalCache/local-packages/Python39/site-packages/keras/saving/save.py?line=206'>207</a>\u001b[0m     \u001b[39mreturn\u001b[39;00m saved_model_load\u001b[39m.\u001b[39mload(filepath_str, \u001b[39mcompile\u001b[39m, options)\n",
      "\u001b[1;31mOSError\u001b[0m: No file or directory found at best_model.h5"
     ]
    }
   ],
   "source": [
    "#loading best model\n",
    "from keras.models import load_model\n",
    "model = load_model('best_model.h5')\n",
    "\n",
    "#evaluation \n",
    "_,val_acc = model.evaluate(x_val_seq,y_val, batch_size=128)\n",
    "print(val_acc)"
   ]
  },
  {
   "cell_type": "code",
   "execution_count": null,
   "metadata": {},
   "outputs": [],
   "source": []
  }
 ],
 "metadata": {
  "colab": {
   "name": "distance_geometry.ipynb",
   "provenance": []
  },
  "kernelspec": {
   "display_name": "Python 3",
   "language": "python",
   "name": "python3"
  },
  "language_info": {
   "codemirror_mode": {
    "name": "ipython",
    "version": 3
   },
   "file_extension": ".py",
   "mimetype": "text/x-python",
   "name": "python",
   "nbconvert_exporter": "python",
   "pygments_lexer": "ipython3",
   "version": "3.9.10"
  },
  "latex_envs": {
   "LaTeX_envs_menu_present": true,
   "autoclose": false,
   "autocomplete": true,
   "bibliofile": "biblio.bib",
   "cite_by": "apalike",
   "current_citInitial": 1,
   "eqLabelWithNumbers": true,
   "eqNumInitial": 1,
   "hotkeys": {
    "equation": "Ctrl-E",
    "itemize": "Ctrl-I"
   },
   "labels_anchors": false,
   "latex_user_defs": false,
   "report_style_numbering": false,
   "user_envs_cfg": false
  }
 },
 "nbformat": 4,
 "nbformat_minor": 1
}
